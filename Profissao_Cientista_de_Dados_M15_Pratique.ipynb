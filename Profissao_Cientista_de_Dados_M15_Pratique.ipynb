{
  "nbformat": 4,
  "nbformat_minor": 0,
  "metadata": {
    "colab": {
      "provenance": []
    },
    "kernelspec": {
      "name": "python3",
      "display_name": "Python 3"
    },
    "language_info": {
      "name": "python"
    }
  },
  "cells": [
    {
      "cell_type": "markdown",
      "source": [
        "# **MÓDULO 15 - Exercício**\n",
        "# Análise  - A segunda etapa da Pré Modelagem"
      ],
      "metadata": {
        "id": "cJdp3B_SGk7T"
      }
    },
    {
      "cell_type": "markdown",
      "source": [
        "# 1) O primeiro exercício é o de salvar a base que criaram na atividade do módulo anterior em csv e abrir ela neste arquivo.\n",
        "Igual fizemos no início do módulo atual no início da primeira aula."
      ],
      "metadata": {
        "id": "1OirkvkeGuGg"
      }
    },
    {
      "cell_type": "code",
      "source": [
        "import seaborn as sns\n",
        "import matplotlib.pyplot as plt\n",
        "import pandas as pd\n",
        "import numpy as np\n",
        "import plotly.express as px"
      ],
      "metadata": {
        "id": "5ejO5WSgnhFs"
      },
      "execution_count": 1,
      "outputs": []
    },
    {
      "cell_type": "code",
      "source": [
        "#Seu código de importação aqui\n",
        "\n",
        "df = pd.read_csv('CHURN_PART2.csv')\n",
        "df.head(10)"
      ],
      "metadata": {
        "id": "UD3a_pq7py5G",
        "colab": {
          "base_uri": "https://localhost:8080/",
          "height": 556
        },
        "outputId": "e8d31bb2-fea1-4849-c74a-7d9d88e90af2"
      },
      "execution_count": 2,
      "outputs": [
        {
          "output_type": "execute_result",
          "data": {
            "text/plain": [
              "   customerID  genero  Idoso Casado Dependents  tempo_cliente  PhoneService  \\\n",
              "0  7590-VHVEG  Female      0    Yes         No              1             0   \n",
              "1  5575-GNVDE    Male      0     No         No             34             1   \n",
              "2  3668-QPYBK    Male      0     No         No              2             1   \n",
              "3  7795-CFOCW    Male      0     No         No             45             0   \n",
              "4  8191-XWSZG       F      0     No         No             52             1   \n",
              "5  9959-WOFKT    Male      0     No        Yes             71             1   \n",
              "6  4190-MFLUW       F      0    Yes        Yes             10             1   \n",
              "7  4183-MYFRB       F      0     No         No             21             1   \n",
              "8  8779-QRDMV    Male      1     No         No              1             0   \n",
              "9  1680-VDCWW    Male      0    Yes         No             12             1   \n",
              "\n",
              "  Servico_Internet    Servico_Seguranca      Suporte_Tecnico  \\\n",
              "0              DSL                   No                   No   \n",
              "1              DSL                  Yes                   No   \n",
              "2              DSL                  Yes                   No   \n",
              "3              DSL                  Yes                  Yes   \n",
              "4               No  No internet service  No internet service   \n",
              "5      Fiber optic                  Yes                   No   \n",
              "6              DSL                   No                  Yes   \n",
              "7      Fiber optic                   No                   No   \n",
              "8              DSL                   No                   No   \n",
              "9               No  No internet service  No internet service   \n",
              "\n",
              "           StreamingTV   Tipo_Contrato              PaymentMethod  \\\n",
              "0                   No  Month-to-month           Electronic check   \n",
              "1                   No        One year               Mailed check   \n",
              "2                   No  Month-to-month               Mailed check   \n",
              "3                   No        One year  Bank transfer (automatic)   \n",
              "4  No internet service        One year               Mailed check   \n",
              "5                  Yes        Two year  Bank transfer (automatic)   \n",
              "6                   No  Month-to-month    Credit card (automatic)   \n",
              "7                   No  Month-to-month           Electronic check   \n",
              "8                   No  Month-to-month           Electronic check   \n",
              "9  No internet service        One year  Bank transfer (automatic)   \n",
              "\n",
              "   pagamento_mensal  total_pago  churn  \n",
              "0         29.850000       29.85      0  \n",
              "1         56.950000     1889.50      0  \n",
              "2         53.850000      108.15      1  \n",
              "3         65.607563     1840.75      0  \n",
              "4         65.607563     1022.95      0  \n",
              "5         65.607563     7382.25      0  \n",
              "6         65.607563      528.35      1  \n",
              "7         65.607563     1862.90      0  \n",
              "8         65.607563       39.65      1  \n",
              "9         65.607563      202.25      0  "
            ],
            "text/html": [
              "\n",
              "  <div id=\"df-693ec121-b658-4c20-b632-8e3f050b8864\" class=\"colab-df-container\">\n",
              "    <div>\n",
              "<style scoped>\n",
              "    .dataframe tbody tr th:only-of-type {\n",
              "        vertical-align: middle;\n",
              "    }\n",
              "\n",
              "    .dataframe tbody tr th {\n",
              "        vertical-align: top;\n",
              "    }\n",
              "\n",
              "    .dataframe thead th {\n",
              "        text-align: right;\n",
              "    }\n",
              "</style>\n",
              "<table border=\"1\" class=\"dataframe\">\n",
              "  <thead>\n",
              "    <tr style=\"text-align: right;\">\n",
              "      <th></th>\n",
              "      <th>customerID</th>\n",
              "      <th>genero</th>\n",
              "      <th>Idoso</th>\n",
              "      <th>Casado</th>\n",
              "      <th>Dependents</th>\n",
              "      <th>tempo_cliente</th>\n",
              "      <th>PhoneService</th>\n",
              "      <th>Servico_Internet</th>\n",
              "      <th>Servico_Seguranca</th>\n",
              "      <th>Suporte_Tecnico</th>\n",
              "      <th>StreamingTV</th>\n",
              "      <th>Tipo_Contrato</th>\n",
              "      <th>PaymentMethod</th>\n",
              "      <th>pagamento_mensal</th>\n",
              "      <th>total_pago</th>\n",
              "      <th>churn</th>\n",
              "    </tr>\n",
              "  </thead>\n",
              "  <tbody>\n",
              "    <tr>\n",
              "      <th>0</th>\n",
              "      <td>7590-VHVEG</td>\n",
              "      <td>Female</td>\n",
              "      <td>0</td>\n",
              "      <td>Yes</td>\n",
              "      <td>No</td>\n",
              "      <td>1</td>\n",
              "      <td>0</td>\n",
              "      <td>DSL</td>\n",
              "      <td>No</td>\n",
              "      <td>No</td>\n",
              "      <td>No</td>\n",
              "      <td>Month-to-month</td>\n",
              "      <td>Electronic check</td>\n",
              "      <td>29.850000</td>\n",
              "      <td>29.85</td>\n",
              "      <td>0</td>\n",
              "    </tr>\n",
              "    <tr>\n",
              "      <th>1</th>\n",
              "      <td>5575-GNVDE</td>\n",
              "      <td>Male</td>\n",
              "      <td>0</td>\n",
              "      <td>No</td>\n",
              "      <td>No</td>\n",
              "      <td>34</td>\n",
              "      <td>1</td>\n",
              "      <td>DSL</td>\n",
              "      <td>Yes</td>\n",
              "      <td>No</td>\n",
              "      <td>No</td>\n",
              "      <td>One year</td>\n",
              "      <td>Mailed check</td>\n",
              "      <td>56.950000</td>\n",
              "      <td>1889.50</td>\n",
              "      <td>0</td>\n",
              "    </tr>\n",
              "    <tr>\n",
              "      <th>2</th>\n",
              "      <td>3668-QPYBK</td>\n",
              "      <td>Male</td>\n",
              "      <td>0</td>\n",
              "      <td>No</td>\n",
              "      <td>No</td>\n",
              "      <td>2</td>\n",
              "      <td>1</td>\n",
              "      <td>DSL</td>\n",
              "      <td>Yes</td>\n",
              "      <td>No</td>\n",
              "      <td>No</td>\n",
              "      <td>Month-to-month</td>\n",
              "      <td>Mailed check</td>\n",
              "      <td>53.850000</td>\n",
              "      <td>108.15</td>\n",
              "      <td>1</td>\n",
              "    </tr>\n",
              "    <tr>\n",
              "      <th>3</th>\n",
              "      <td>7795-CFOCW</td>\n",
              "      <td>Male</td>\n",
              "      <td>0</td>\n",
              "      <td>No</td>\n",
              "      <td>No</td>\n",
              "      <td>45</td>\n",
              "      <td>0</td>\n",
              "      <td>DSL</td>\n",
              "      <td>Yes</td>\n",
              "      <td>Yes</td>\n",
              "      <td>No</td>\n",
              "      <td>One year</td>\n",
              "      <td>Bank transfer (automatic)</td>\n",
              "      <td>65.607563</td>\n",
              "      <td>1840.75</td>\n",
              "      <td>0</td>\n",
              "    </tr>\n",
              "    <tr>\n",
              "      <th>4</th>\n",
              "      <td>8191-XWSZG</td>\n",
              "      <td>F</td>\n",
              "      <td>0</td>\n",
              "      <td>No</td>\n",
              "      <td>No</td>\n",
              "      <td>52</td>\n",
              "      <td>1</td>\n",
              "      <td>No</td>\n",
              "      <td>No internet service</td>\n",
              "      <td>No internet service</td>\n",
              "      <td>No internet service</td>\n",
              "      <td>One year</td>\n",
              "      <td>Mailed check</td>\n",
              "      <td>65.607563</td>\n",
              "      <td>1022.95</td>\n",
              "      <td>0</td>\n",
              "    </tr>\n",
              "    <tr>\n",
              "      <th>5</th>\n",
              "      <td>9959-WOFKT</td>\n",
              "      <td>Male</td>\n",
              "      <td>0</td>\n",
              "      <td>No</td>\n",
              "      <td>Yes</td>\n",
              "      <td>71</td>\n",
              "      <td>1</td>\n",
              "      <td>Fiber optic</td>\n",
              "      <td>Yes</td>\n",
              "      <td>No</td>\n",
              "      <td>Yes</td>\n",
              "      <td>Two year</td>\n",
              "      <td>Bank transfer (automatic)</td>\n",
              "      <td>65.607563</td>\n",
              "      <td>7382.25</td>\n",
              "      <td>0</td>\n",
              "    </tr>\n",
              "    <tr>\n",
              "      <th>6</th>\n",
              "      <td>4190-MFLUW</td>\n",
              "      <td>F</td>\n",
              "      <td>0</td>\n",
              "      <td>Yes</td>\n",
              "      <td>Yes</td>\n",
              "      <td>10</td>\n",
              "      <td>1</td>\n",
              "      <td>DSL</td>\n",
              "      <td>No</td>\n",
              "      <td>Yes</td>\n",
              "      <td>No</td>\n",
              "      <td>Month-to-month</td>\n",
              "      <td>Credit card (automatic)</td>\n",
              "      <td>65.607563</td>\n",
              "      <td>528.35</td>\n",
              "      <td>1</td>\n",
              "    </tr>\n",
              "    <tr>\n",
              "      <th>7</th>\n",
              "      <td>4183-MYFRB</td>\n",
              "      <td>F</td>\n",
              "      <td>0</td>\n",
              "      <td>No</td>\n",
              "      <td>No</td>\n",
              "      <td>21</td>\n",
              "      <td>1</td>\n",
              "      <td>Fiber optic</td>\n",
              "      <td>No</td>\n",
              "      <td>No</td>\n",
              "      <td>No</td>\n",
              "      <td>Month-to-month</td>\n",
              "      <td>Electronic check</td>\n",
              "      <td>65.607563</td>\n",
              "      <td>1862.90</td>\n",
              "      <td>0</td>\n",
              "    </tr>\n",
              "    <tr>\n",
              "      <th>8</th>\n",
              "      <td>8779-QRDMV</td>\n",
              "      <td>Male</td>\n",
              "      <td>1</td>\n",
              "      <td>No</td>\n",
              "      <td>No</td>\n",
              "      <td>1</td>\n",
              "      <td>0</td>\n",
              "      <td>DSL</td>\n",
              "      <td>No</td>\n",
              "      <td>No</td>\n",
              "      <td>No</td>\n",
              "      <td>Month-to-month</td>\n",
              "      <td>Electronic check</td>\n",
              "      <td>65.607563</td>\n",
              "      <td>39.65</td>\n",
              "      <td>1</td>\n",
              "    </tr>\n",
              "    <tr>\n",
              "      <th>9</th>\n",
              "      <td>1680-VDCWW</td>\n",
              "      <td>Male</td>\n",
              "      <td>0</td>\n",
              "      <td>Yes</td>\n",
              "      <td>No</td>\n",
              "      <td>12</td>\n",
              "      <td>1</td>\n",
              "      <td>No</td>\n",
              "      <td>No internet service</td>\n",
              "      <td>No internet service</td>\n",
              "      <td>No internet service</td>\n",
              "      <td>One year</td>\n",
              "      <td>Bank transfer (automatic)</td>\n",
              "      <td>65.607563</td>\n",
              "      <td>202.25</td>\n",
              "      <td>0</td>\n",
              "    </tr>\n",
              "  </tbody>\n",
              "</table>\n",
              "</div>\n",
              "    <div class=\"colab-df-buttons\">\n",
              "\n",
              "  <div class=\"colab-df-container\">\n",
              "    <button class=\"colab-df-convert\" onclick=\"convertToInteractive('df-693ec121-b658-4c20-b632-8e3f050b8864')\"\n",
              "            title=\"Convert this dataframe to an interactive table.\"\n",
              "            style=\"display:none;\">\n",
              "\n",
              "  <svg xmlns=\"http://www.w3.org/2000/svg\" height=\"24px\" viewBox=\"0 -960 960 960\">\n",
              "    <path d=\"M120-120v-720h720v720H120Zm60-500h600v-160H180v160Zm220 220h160v-160H400v160Zm0 220h160v-160H400v160ZM180-400h160v-160H180v160Zm440 0h160v-160H620v160ZM180-180h160v-160H180v160Zm440 0h160v-160H620v160Z\"/>\n",
              "  </svg>\n",
              "    </button>\n",
              "\n",
              "  <style>\n",
              "    .colab-df-container {\n",
              "      display:flex;\n",
              "      gap: 12px;\n",
              "    }\n",
              "\n",
              "    .colab-df-convert {\n",
              "      background-color: #E8F0FE;\n",
              "      border: none;\n",
              "      border-radius: 50%;\n",
              "      cursor: pointer;\n",
              "      display: none;\n",
              "      fill: #1967D2;\n",
              "      height: 32px;\n",
              "      padding: 0 0 0 0;\n",
              "      width: 32px;\n",
              "    }\n",
              "\n",
              "    .colab-df-convert:hover {\n",
              "      background-color: #E2EBFA;\n",
              "      box-shadow: 0px 1px 2px rgba(60, 64, 67, 0.3), 0px 1px 3px 1px rgba(60, 64, 67, 0.15);\n",
              "      fill: #174EA6;\n",
              "    }\n",
              "\n",
              "    .colab-df-buttons div {\n",
              "      margin-bottom: 4px;\n",
              "    }\n",
              "\n",
              "    [theme=dark] .colab-df-convert {\n",
              "      background-color: #3B4455;\n",
              "      fill: #D2E3FC;\n",
              "    }\n",
              "\n",
              "    [theme=dark] .colab-df-convert:hover {\n",
              "      background-color: #434B5C;\n",
              "      box-shadow: 0px 1px 3px 1px rgba(0, 0, 0, 0.15);\n",
              "      filter: drop-shadow(0px 1px 2px rgba(0, 0, 0, 0.3));\n",
              "      fill: #FFFFFF;\n",
              "    }\n",
              "  </style>\n",
              "\n",
              "    <script>\n",
              "      const buttonEl =\n",
              "        document.querySelector('#df-693ec121-b658-4c20-b632-8e3f050b8864 button.colab-df-convert');\n",
              "      buttonEl.style.display =\n",
              "        google.colab.kernel.accessAllowed ? 'block' : 'none';\n",
              "\n",
              "      async function convertToInteractive(key) {\n",
              "        const element = document.querySelector('#df-693ec121-b658-4c20-b632-8e3f050b8864');\n",
              "        const dataTable =\n",
              "          await google.colab.kernel.invokeFunction('convertToInteractive',\n",
              "                                                    [key], {});\n",
              "        if (!dataTable) return;\n",
              "\n",
              "        const docLinkHtml = 'Like what you see? Visit the ' +\n",
              "          '<a target=\"_blank\" href=https://colab.research.google.com/notebooks/data_table.ipynb>data table notebook</a>'\n",
              "          + ' to learn more about interactive tables.';\n",
              "        element.innerHTML = '';\n",
              "        dataTable['output_type'] = 'display_data';\n",
              "        await google.colab.output.renderOutput(dataTable, element);\n",
              "        const docLink = document.createElement('div');\n",
              "        docLink.innerHTML = docLinkHtml;\n",
              "        element.appendChild(docLink);\n",
              "      }\n",
              "    </script>\n",
              "  </div>\n",
              "\n",
              "\n",
              "    <div id=\"df-76600eae-d143-45ce-a1e4-d39f2a48e4f6\">\n",
              "      <button class=\"colab-df-quickchart\" onclick=\"quickchart('df-76600eae-d143-45ce-a1e4-d39f2a48e4f6')\"\n",
              "                title=\"Suggest charts\"\n",
              "                style=\"display:none;\">\n",
              "\n",
              "<svg xmlns=\"http://www.w3.org/2000/svg\" height=\"24px\"viewBox=\"0 0 24 24\"\n",
              "     width=\"24px\">\n",
              "    <g>\n",
              "        <path d=\"M19 3H5c-1.1 0-2 .9-2 2v14c0 1.1.9 2 2 2h14c1.1 0 2-.9 2-2V5c0-1.1-.9-2-2-2zM9 17H7v-7h2v7zm4 0h-2V7h2v10zm4 0h-2v-4h2v4z\"/>\n",
              "    </g>\n",
              "</svg>\n",
              "      </button>\n",
              "\n",
              "<style>\n",
              "  .colab-df-quickchart {\n",
              "      --bg-color: #E8F0FE;\n",
              "      --fill-color: #1967D2;\n",
              "      --hover-bg-color: #E2EBFA;\n",
              "      --hover-fill-color: #174EA6;\n",
              "      --disabled-fill-color: #AAA;\n",
              "      --disabled-bg-color: #DDD;\n",
              "  }\n",
              "\n",
              "  [theme=dark] .colab-df-quickchart {\n",
              "      --bg-color: #3B4455;\n",
              "      --fill-color: #D2E3FC;\n",
              "      --hover-bg-color: #434B5C;\n",
              "      --hover-fill-color: #FFFFFF;\n",
              "      --disabled-bg-color: #3B4455;\n",
              "      --disabled-fill-color: #666;\n",
              "  }\n",
              "\n",
              "  .colab-df-quickchart {\n",
              "    background-color: var(--bg-color);\n",
              "    border: none;\n",
              "    border-radius: 50%;\n",
              "    cursor: pointer;\n",
              "    display: none;\n",
              "    fill: var(--fill-color);\n",
              "    height: 32px;\n",
              "    padding: 0;\n",
              "    width: 32px;\n",
              "  }\n",
              "\n",
              "  .colab-df-quickchart:hover {\n",
              "    background-color: var(--hover-bg-color);\n",
              "    box-shadow: 0 1px 2px rgba(60, 64, 67, 0.3), 0 1px 3px 1px rgba(60, 64, 67, 0.15);\n",
              "    fill: var(--button-hover-fill-color);\n",
              "  }\n",
              "\n",
              "  .colab-df-quickchart-complete:disabled,\n",
              "  .colab-df-quickchart-complete:disabled:hover {\n",
              "    background-color: var(--disabled-bg-color);\n",
              "    fill: var(--disabled-fill-color);\n",
              "    box-shadow: none;\n",
              "  }\n",
              "\n",
              "  .colab-df-spinner {\n",
              "    border: 2px solid var(--fill-color);\n",
              "    border-color: transparent;\n",
              "    border-bottom-color: var(--fill-color);\n",
              "    animation:\n",
              "      spin 1s steps(1) infinite;\n",
              "  }\n",
              "\n",
              "  @keyframes spin {\n",
              "    0% {\n",
              "      border-color: transparent;\n",
              "      border-bottom-color: var(--fill-color);\n",
              "      border-left-color: var(--fill-color);\n",
              "    }\n",
              "    20% {\n",
              "      border-color: transparent;\n",
              "      border-left-color: var(--fill-color);\n",
              "      border-top-color: var(--fill-color);\n",
              "    }\n",
              "    30% {\n",
              "      border-color: transparent;\n",
              "      border-left-color: var(--fill-color);\n",
              "      border-top-color: var(--fill-color);\n",
              "      border-right-color: var(--fill-color);\n",
              "    }\n",
              "    40% {\n",
              "      border-color: transparent;\n",
              "      border-right-color: var(--fill-color);\n",
              "      border-top-color: var(--fill-color);\n",
              "    }\n",
              "    60% {\n",
              "      border-color: transparent;\n",
              "      border-right-color: var(--fill-color);\n",
              "    }\n",
              "    80% {\n",
              "      border-color: transparent;\n",
              "      border-right-color: var(--fill-color);\n",
              "      border-bottom-color: var(--fill-color);\n",
              "    }\n",
              "    90% {\n",
              "      border-color: transparent;\n",
              "      border-bottom-color: var(--fill-color);\n",
              "    }\n",
              "  }\n",
              "</style>\n",
              "\n",
              "      <script>\n",
              "        async function quickchart(key) {\n",
              "          const quickchartButtonEl =\n",
              "            document.querySelector('#' + key + ' button');\n",
              "          quickchartButtonEl.disabled = true;  // To prevent multiple clicks.\n",
              "          quickchartButtonEl.classList.add('colab-df-spinner');\n",
              "          try {\n",
              "            const charts = await google.colab.kernel.invokeFunction(\n",
              "                'suggestCharts', [key], {});\n",
              "          } catch (error) {\n",
              "            console.error('Error during call to suggestCharts:', error);\n",
              "          }\n",
              "          quickchartButtonEl.classList.remove('colab-df-spinner');\n",
              "          quickchartButtonEl.classList.add('colab-df-quickchart-complete');\n",
              "        }\n",
              "        (() => {\n",
              "          let quickchartButtonEl =\n",
              "            document.querySelector('#df-76600eae-d143-45ce-a1e4-d39f2a48e4f6 button');\n",
              "          quickchartButtonEl.style.display =\n",
              "            google.colab.kernel.accessAllowed ? 'block' : 'none';\n",
              "        })();\n",
              "      </script>\n",
              "    </div>\n",
              "\n",
              "    </div>\n",
              "  </div>\n"
            ],
            "application/vnd.google.colaboratory.intrinsic+json": {
              "type": "dataframe",
              "variable_name": "df",
              "summary": "{\n  \"name\": \"df\",\n  \"rows\": 2488,\n  \"fields\": [\n    {\n      \"column\": \"customerID\",\n      \"properties\": {\n        \"dtype\": \"string\",\n        \"num_unique_values\": 2488,\n        \"samples\": [\n          \"9948-YPTDG\",\n          \"7206-GZCDC\",\n          \"0925-VYDLG\"\n        ],\n        \"semantic_type\": \"\",\n        \"description\": \"\"\n      }\n    },\n    {\n      \"column\": \"genero\",\n      \"properties\": {\n        \"dtype\": \"category\",\n        \"num_unique_values\": 5,\n        \"samples\": [\n          \"Male\",\n          \"f\",\n          \"F\"\n        ],\n        \"semantic_type\": \"\",\n        \"description\": \"\"\n      }\n    },\n    {\n      \"column\": \"Idoso\",\n      \"properties\": {\n        \"dtype\": \"number\",\n        \"std\": 0,\n        \"min\": 0,\n        \"max\": 1,\n        \"num_unique_values\": 2,\n        \"samples\": [\n          1,\n          0\n        ],\n        \"semantic_type\": \"\",\n        \"description\": \"\"\n      }\n    },\n    {\n      \"column\": \"Casado\",\n      \"properties\": {\n        \"dtype\": \"category\",\n        \"num_unique_values\": 2,\n        \"samples\": [\n          \"No\",\n          \"Yes\"\n        ],\n        \"semantic_type\": \"\",\n        \"description\": \"\"\n      }\n    },\n    {\n      \"column\": \"Dependents\",\n      \"properties\": {\n        \"dtype\": \"category\",\n        \"num_unique_values\": 2,\n        \"samples\": [\n          \"Yes\",\n          \"No\"\n        ],\n        \"semantic_type\": \"\",\n        \"description\": \"\"\n      }\n    },\n    {\n      \"column\": \"tempo_cliente\",\n      \"properties\": {\n        \"dtype\": \"number\",\n        \"std\": 24,\n        \"min\": 0,\n        \"max\": 72,\n        \"num_unique_values\": 73,\n        \"samples\": [\n          52,\n          59\n        ],\n        \"semantic_type\": \"\",\n        \"description\": \"\"\n      }\n    },\n    {\n      \"column\": \"PhoneService\",\n      \"properties\": {\n        \"dtype\": \"number\",\n        \"std\": 0,\n        \"min\": 0,\n        \"max\": 1,\n        \"num_unique_values\": 2,\n        \"samples\": [\n          1,\n          0\n        ],\n        \"semantic_type\": \"\",\n        \"description\": \"\"\n      }\n    },\n    {\n      \"column\": \"Servico_Internet\",\n      \"properties\": {\n        \"dtype\": \"category\",\n        \"num_unique_values\": 4,\n        \"samples\": [\n          \"No\",\n          \"dsl\"\n        ],\n        \"semantic_type\": \"\",\n        \"description\": \"\"\n      }\n    },\n    {\n      \"column\": \"Servico_Seguranca\",\n      \"properties\": {\n        \"dtype\": \"category\",\n        \"num_unique_values\": 3,\n        \"samples\": [\n          \"No\",\n          \"Yes\"\n        ],\n        \"semantic_type\": \"\",\n        \"description\": \"\"\n      }\n    },\n    {\n      \"column\": \"Suporte_Tecnico\",\n      \"properties\": {\n        \"dtype\": \"category\",\n        \"num_unique_values\": 3,\n        \"samples\": [\n          \"No\",\n          \"Yes\"\n        ],\n        \"semantic_type\": \"\",\n        \"description\": \"\"\n      }\n    },\n    {\n      \"column\": \"StreamingTV\",\n      \"properties\": {\n        \"dtype\": \"category\",\n        \"num_unique_values\": 3,\n        \"samples\": [\n          \"No\",\n          \"No internet service\"\n        ],\n        \"semantic_type\": \"\",\n        \"description\": \"\"\n      }\n    },\n    {\n      \"column\": \"Tipo_Contrato\",\n      \"properties\": {\n        \"dtype\": \"category\",\n        \"num_unique_values\": 3,\n        \"samples\": [\n          \"Month-to-month\",\n          \"One year\"\n        ],\n        \"semantic_type\": \"\",\n        \"description\": \"\"\n      }\n    },\n    {\n      \"column\": \"PaymentMethod\",\n      \"properties\": {\n        \"dtype\": \"category\",\n        \"num_unique_values\": 4,\n        \"samples\": [\n          \"Mailed check\",\n          \"Credit card (automatic)\"\n        ],\n        \"semantic_type\": \"\",\n        \"description\": \"\"\n      }\n    },\n    {\n      \"column\": \"pagamento_mensal\",\n      \"properties\": {\n        \"dtype\": \"number\",\n        \"std\": 27.984699694698094,\n        \"min\": 18.4,\n        \"max\": 118.65,\n        \"num_unique_values\": 1022,\n        \"samples\": [\n          72.75,\n          81.75\n        ],\n        \"semantic_type\": \"\",\n        \"description\": \"\"\n      }\n    },\n    {\n      \"column\": \"total_pago\",\n      \"properties\": {\n        \"dtype\": \"number\",\n        \"std\": 2264.5856430075405,\n        \"min\": 18.8,\n        \"max\": 8564.75,\n        \"num_unique_values\": 2416,\n        \"samples\": [\n          2838.55,\n          1124.2\n        ],\n        \"semantic_type\": \"\",\n        \"description\": \"\"\n      }\n    },\n    {\n      \"column\": \"churn\",\n      \"properties\": {\n        \"dtype\": \"number\",\n        \"std\": 0,\n        \"min\": 0,\n        \"max\": 1,\n        \"num_unique_values\": 2,\n        \"samples\": [\n          1,\n          0\n        ],\n        \"semantic_type\": \"\",\n        \"description\": \"\"\n      }\n    }\n  ]\n}"
            }
          },
          "metadata": {},
          "execution_count": 2
        }
      ]
    },
    {
      "cell_type": "markdown",
      "source": [
        "# 2) Comece pela análise univariada:\n",
        "\n",
        "A) Utilize a função describe no seu dataframe, veja os insights que consegue retirar.\n",
        "\n",
        "B) Já é possível identificar variáveis com possíveis outliers? Se sim, quais?\n",
        "\n",
        "C) Plot gráficos que considerar importante para completar sua análise univariada. (Lembrando que sua variável preditora é o churn). Não se esqueça de trazer insights de cada gráfico plotado. Utilize pelo menos 4 variáveis distintas.\n",
        "\n",
        "D) Verifique se os dados das variáveis Booleanas são balanceados ou não."
      ],
      "metadata": {
        "id": "3O70nJb2HNP2"
      }
    },
    {
      "cell_type": "code",
      "source": [
        "df.describe()"
      ],
      "metadata": {
        "id": "unW8WDrlGBFE",
        "colab": {
          "base_uri": "https://localhost:8080/",
          "height": 300
        },
        "outputId": "daaee331-6d32-44b6-8f07-a8744b5d64be"
      },
      "execution_count": 3,
      "outputs": [
        {
          "output_type": "execute_result",
          "data": {
            "text/plain": [
              "             Idoso  tempo_cliente  PhoneService  pagamento_mensal  \\\n",
              "count  2488.000000    2488.000000   2488.000000       2488.000000   \n",
              "mean      0.161576      32.352090      0.369775         65.607563   \n",
              "std       0.368135      24.636885      0.482841         27.984700   \n",
              "min       0.000000       0.000000      0.000000         18.400000   \n",
              "25%       0.000000       8.000000      0.000000         45.400000   \n",
              "50%       0.000000      29.000000      0.000000         65.607563   \n",
              "75%       0.000000      56.000000      1.000000         87.712500   \n",
              "max       1.000000      72.000000      1.000000        118.650000   \n",
              "\n",
              "        total_pago        churn  \n",
              "count  2488.000000  2488.000000  \n",
              "mean   2290.087178     0.260048  \n",
              "std    2264.585643     0.438749  \n",
              "min      18.800000     0.000000  \n",
              "25%     402.337500     0.000000  \n",
              "50%    1402.900000     0.000000  \n",
              "75%    3867.162500     1.000000  \n",
              "max    8564.750000     1.000000  "
            ],
            "text/html": [
              "\n",
              "  <div id=\"df-0ab5dda0-dcab-4e79-81a1-1a45cf858ddd\" class=\"colab-df-container\">\n",
              "    <div>\n",
              "<style scoped>\n",
              "    .dataframe tbody tr th:only-of-type {\n",
              "        vertical-align: middle;\n",
              "    }\n",
              "\n",
              "    .dataframe tbody tr th {\n",
              "        vertical-align: top;\n",
              "    }\n",
              "\n",
              "    .dataframe thead th {\n",
              "        text-align: right;\n",
              "    }\n",
              "</style>\n",
              "<table border=\"1\" class=\"dataframe\">\n",
              "  <thead>\n",
              "    <tr style=\"text-align: right;\">\n",
              "      <th></th>\n",
              "      <th>Idoso</th>\n",
              "      <th>tempo_cliente</th>\n",
              "      <th>PhoneService</th>\n",
              "      <th>pagamento_mensal</th>\n",
              "      <th>total_pago</th>\n",
              "      <th>churn</th>\n",
              "    </tr>\n",
              "  </thead>\n",
              "  <tbody>\n",
              "    <tr>\n",
              "      <th>count</th>\n",
              "      <td>2488.000000</td>\n",
              "      <td>2488.000000</td>\n",
              "      <td>2488.000000</td>\n",
              "      <td>2488.000000</td>\n",
              "      <td>2488.000000</td>\n",
              "      <td>2488.000000</td>\n",
              "    </tr>\n",
              "    <tr>\n",
              "      <th>mean</th>\n",
              "      <td>0.161576</td>\n",
              "      <td>32.352090</td>\n",
              "      <td>0.369775</td>\n",
              "      <td>65.607563</td>\n",
              "      <td>2290.087178</td>\n",
              "      <td>0.260048</td>\n",
              "    </tr>\n",
              "    <tr>\n",
              "      <th>std</th>\n",
              "      <td>0.368135</td>\n",
              "      <td>24.636885</td>\n",
              "      <td>0.482841</td>\n",
              "      <td>27.984700</td>\n",
              "      <td>2264.585643</td>\n",
              "      <td>0.438749</td>\n",
              "    </tr>\n",
              "    <tr>\n",
              "      <th>min</th>\n",
              "      <td>0.000000</td>\n",
              "      <td>0.000000</td>\n",
              "      <td>0.000000</td>\n",
              "      <td>18.400000</td>\n",
              "      <td>18.800000</td>\n",
              "      <td>0.000000</td>\n",
              "    </tr>\n",
              "    <tr>\n",
              "      <th>25%</th>\n",
              "      <td>0.000000</td>\n",
              "      <td>8.000000</td>\n",
              "      <td>0.000000</td>\n",
              "      <td>45.400000</td>\n",
              "      <td>402.337500</td>\n",
              "      <td>0.000000</td>\n",
              "    </tr>\n",
              "    <tr>\n",
              "      <th>50%</th>\n",
              "      <td>0.000000</td>\n",
              "      <td>29.000000</td>\n",
              "      <td>0.000000</td>\n",
              "      <td>65.607563</td>\n",
              "      <td>1402.900000</td>\n",
              "      <td>0.000000</td>\n",
              "    </tr>\n",
              "    <tr>\n",
              "      <th>75%</th>\n",
              "      <td>0.000000</td>\n",
              "      <td>56.000000</td>\n",
              "      <td>1.000000</td>\n",
              "      <td>87.712500</td>\n",
              "      <td>3867.162500</td>\n",
              "      <td>1.000000</td>\n",
              "    </tr>\n",
              "    <tr>\n",
              "      <th>max</th>\n",
              "      <td>1.000000</td>\n",
              "      <td>72.000000</td>\n",
              "      <td>1.000000</td>\n",
              "      <td>118.650000</td>\n",
              "      <td>8564.750000</td>\n",
              "      <td>1.000000</td>\n",
              "    </tr>\n",
              "  </tbody>\n",
              "</table>\n",
              "</div>\n",
              "    <div class=\"colab-df-buttons\">\n",
              "\n",
              "  <div class=\"colab-df-container\">\n",
              "    <button class=\"colab-df-convert\" onclick=\"convertToInteractive('df-0ab5dda0-dcab-4e79-81a1-1a45cf858ddd')\"\n",
              "            title=\"Convert this dataframe to an interactive table.\"\n",
              "            style=\"display:none;\">\n",
              "\n",
              "  <svg xmlns=\"http://www.w3.org/2000/svg\" height=\"24px\" viewBox=\"0 -960 960 960\">\n",
              "    <path d=\"M120-120v-720h720v720H120Zm60-500h600v-160H180v160Zm220 220h160v-160H400v160Zm0 220h160v-160H400v160ZM180-400h160v-160H180v160Zm440 0h160v-160H620v160ZM180-180h160v-160H180v160Zm440 0h160v-160H620v160Z\"/>\n",
              "  </svg>\n",
              "    </button>\n",
              "\n",
              "  <style>\n",
              "    .colab-df-container {\n",
              "      display:flex;\n",
              "      gap: 12px;\n",
              "    }\n",
              "\n",
              "    .colab-df-convert {\n",
              "      background-color: #E8F0FE;\n",
              "      border: none;\n",
              "      border-radius: 50%;\n",
              "      cursor: pointer;\n",
              "      display: none;\n",
              "      fill: #1967D2;\n",
              "      height: 32px;\n",
              "      padding: 0 0 0 0;\n",
              "      width: 32px;\n",
              "    }\n",
              "\n",
              "    .colab-df-convert:hover {\n",
              "      background-color: #E2EBFA;\n",
              "      box-shadow: 0px 1px 2px rgba(60, 64, 67, 0.3), 0px 1px 3px 1px rgba(60, 64, 67, 0.15);\n",
              "      fill: #174EA6;\n",
              "    }\n",
              "\n",
              "    .colab-df-buttons div {\n",
              "      margin-bottom: 4px;\n",
              "    }\n",
              "\n",
              "    [theme=dark] .colab-df-convert {\n",
              "      background-color: #3B4455;\n",
              "      fill: #D2E3FC;\n",
              "    }\n",
              "\n",
              "    [theme=dark] .colab-df-convert:hover {\n",
              "      background-color: #434B5C;\n",
              "      box-shadow: 0px 1px 3px 1px rgba(0, 0, 0, 0.15);\n",
              "      filter: drop-shadow(0px 1px 2px rgba(0, 0, 0, 0.3));\n",
              "      fill: #FFFFFF;\n",
              "    }\n",
              "  </style>\n",
              "\n",
              "    <script>\n",
              "      const buttonEl =\n",
              "        document.querySelector('#df-0ab5dda0-dcab-4e79-81a1-1a45cf858ddd button.colab-df-convert');\n",
              "      buttonEl.style.display =\n",
              "        google.colab.kernel.accessAllowed ? 'block' : 'none';\n",
              "\n",
              "      async function convertToInteractive(key) {\n",
              "        const element = document.querySelector('#df-0ab5dda0-dcab-4e79-81a1-1a45cf858ddd');\n",
              "        const dataTable =\n",
              "          await google.colab.kernel.invokeFunction('convertToInteractive',\n",
              "                                                    [key], {});\n",
              "        if (!dataTable) return;\n",
              "\n",
              "        const docLinkHtml = 'Like what you see? Visit the ' +\n",
              "          '<a target=\"_blank\" href=https://colab.research.google.com/notebooks/data_table.ipynb>data table notebook</a>'\n",
              "          + ' to learn more about interactive tables.';\n",
              "        element.innerHTML = '';\n",
              "        dataTable['output_type'] = 'display_data';\n",
              "        await google.colab.output.renderOutput(dataTable, element);\n",
              "        const docLink = document.createElement('div');\n",
              "        docLink.innerHTML = docLinkHtml;\n",
              "        element.appendChild(docLink);\n",
              "      }\n",
              "    </script>\n",
              "  </div>\n",
              "\n",
              "\n",
              "    <div id=\"df-cef4f7da-d2bc-4da0-acca-10aec6892e0e\">\n",
              "      <button class=\"colab-df-quickchart\" onclick=\"quickchart('df-cef4f7da-d2bc-4da0-acca-10aec6892e0e')\"\n",
              "                title=\"Suggest charts\"\n",
              "                style=\"display:none;\">\n",
              "\n",
              "<svg xmlns=\"http://www.w3.org/2000/svg\" height=\"24px\"viewBox=\"0 0 24 24\"\n",
              "     width=\"24px\">\n",
              "    <g>\n",
              "        <path d=\"M19 3H5c-1.1 0-2 .9-2 2v14c0 1.1.9 2 2 2h14c1.1 0 2-.9 2-2V5c0-1.1-.9-2-2-2zM9 17H7v-7h2v7zm4 0h-2V7h2v10zm4 0h-2v-4h2v4z\"/>\n",
              "    </g>\n",
              "</svg>\n",
              "      </button>\n",
              "\n",
              "<style>\n",
              "  .colab-df-quickchart {\n",
              "      --bg-color: #E8F0FE;\n",
              "      --fill-color: #1967D2;\n",
              "      --hover-bg-color: #E2EBFA;\n",
              "      --hover-fill-color: #174EA6;\n",
              "      --disabled-fill-color: #AAA;\n",
              "      --disabled-bg-color: #DDD;\n",
              "  }\n",
              "\n",
              "  [theme=dark] .colab-df-quickchart {\n",
              "      --bg-color: #3B4455;\n",
              "      --fill-color: #D2E3FC;\n",
              "      --hover-bg-color: #434B5C;\n",
              "      --hover-fill-color: #FFFFFF;\n",
              "      --disabled-bg-color: #3B4455;\n",
              "      --disabled-fill-color: #666;\n",
              "  }\n",
              "\n",
              "  .colab-df-quickchart {\n",
              "    background-color: var(--bg-color);\n",
              "    border: none;\n",
              "    border-radius: 50%;\n",
              "    cursor: pointer;\n",
              "    display: none;\n",
              "    fill: var(--fill-color);\n",
              "    height: 32px;\n",
              "    padding: 0;\n",
              "    width: 32px;\n",
              "  }\n",
              "\n",
              "  .colab-df-quickchart:hover {\n",
              "    background-color: var(--hover-bg-color);\n",
              "    box-shadow: 0 1px 2px rgba(60, 64, 67, 0.3), 0 1px 3px 1px rgba(60, 64, 67, 0.15);\n",
              "    fill: var(--button-hover-fill-color);\n",
              "  }\n",
              "\n",
              "  .colab-df-quickchart-complete:disabled,\n",
              "  .colab-df-quickchart-complete:disabled:hover {\n",
              "    background-color: var(--disabled-bg-color);\n",
              "    fill: var(--disabled-fill-color);\n",
              "    box-shadow: none;\n",
              "  }\n",
              "\n",
              "  .colab-df-spinner {\n",
              "    border: 2px solid var(--fill-color);\n",
              "    border-color: transparent;\n",
              "    border-bottom-color: var(--fill-color);\n",
              "    animation:\n",
              "      spin 1s steps(1) infinite;\n",
              "  }\n",
              "\n",
              "  @keyframes spin {\n",
              "    0% {\n",
              "      border-color: transparent;\n",
              "      border-bottom-color: var(--fill-color);\n",
              "      border-left-color: var(--fill-color);\n",
              "    }\n",
              "    20% {\n",
              "      border-color: transparent;\n",
              "      border-left-color: var(--fill-color);\n",
              "      border-top-color: var(--fill-color);\n",
              "    }\n",
              "    30% {\n",
              "      border-color: transparent;\n",
              "      border-left-color: var(--fill-color);\n",
              "      border-top-color: var(--fill-color);\n",
              "      border-right-color: var(--fill-color);\n",
              "    }\n",
              "    40% {\n",
              "      border-color: transparent;\n",
              "      border-right-color: var(--fill-color);\n",
              "      border-top-color: var(--fill-color);\n",
              "    }\n",
              "    60% {\n",
              "      border-color: transparent;\n",
              "      border-right-color: var(--fill-color);\n",
              "    }\n",
              "    80% {\n",
              "      border-color: transparent;\n",
              "      border-right-color: var(--fill-color);\n",
              "      border-bottom-color: var(--fill-color);\n",
              "    }\n",
              "    90% {\n",
              "      border-color: transparent;\n",
              "      border-bottom-color: var(--fill-color);\n",
              "    }\n",
              "  }\n",
              "</style>\n",
              "\n",
              "      <script>\n",
              "        async function quickchart(key) {\n",
              "          const quickchartButtonEl =\n",
              "            document.querySelector('#' + key + ' button');\n",
              "          quickchartButtonEl.disabled = true;  // To prevent multiple clicks.\n",
              "          quickchartButtonEl.classList.add('colab-df-spinner');\n",
              "          try {\n",
              "            const charts = await google.colab.kernel.invokeFunction(\n",
              "                'suggestCharts', [key], {});\n",
              "          } catch (error) {\n",
              "            console.error('Error during call to suggestCharts:', error);\n",
              "          }\n",
              "          quickchartButtonEl.classList.remove('colab-df-spinner');\n",
              "          quickchartButtonEl.classList.add('colab-df-quickchart-complete');\n",
              "        }\n",
              "        (() => {\n",
              "          let quickchartButtonEl =\n",
              "            document.querySelector('#df-cef4f7da-d2bc-4da0-acca-10aec6892e0e button');\n",
              "          quickchartButtonEl.style.display =\n",
              "            google.colab.kernel.accessAllowed ? 'block' : 'none';\n",
              "        })();\n",
              "      </script>\n",
              "    </div>\n",
              "\n",
              "    </div>\n",
              "  </div>\n"
            ],
            "application/vnd.google.colaboratory.intrinsic+json": {
              "type": "dataframe",
              "summary": "{\n  \"name\": \"df\",\n  \"rows\": 8,\n  \"fields\": [\n    {\n      \"column\": \"Idoso\",\n      \"properties\": {\n        \"dtype\": \"number\",\n        \"std\": 879.5636409334137,\n        \"min\": 0.0,\n        \"max\": 2488.0,\n        \"num_unique_values\": 5,\n        \"samples\": [\n          0.16157556270096463,\n          1.0,\n          0.36813499025103585\n        ],\n        \"semantic_type\": \"\",\n        \"description\": \"\"\n      }\n    },\n    {\n      \"column\": \"tempo_cliente\",\n      \"properties\": {\n        \"dtype\": \"number\",\n        \"std\": 868.7443815416397,\n        \"min\": 0.0,\n        \"max\": 2488.0,\n        \"num_unique_values\": 8,\n        \"samples\": [\n          32.352090032154344,\n          29.0,\n          2488.0\n        ],\n        \"semantic_type\": \"\",\n        \"description\": \"\"\n      }\n    },\n    {\n      \"column\": \"PhoneService\",\n      \"properties\": {\n        \"dtype\": \"number\",\n        \"std\": 879.4968550079594,\n        \"min\": 0.0,\n        \"max\": 2488.0,\n        \"num_unique_values\": 5,\n        \"samples\": [\n          0.36977491961414793,\n          1.0,\n          0.4828406903625543\n        ],\n        \"semantic_type\": \"\",\n        \"description\": \"\"\n      }\n    },\n    {\n      \"column\": \"pagamento_mensal\",\n      \"properties\": {\n        \"dtype\": \"number\",\n        \"std\": 858.5562220990333,\n        \"min\": 18.4,\n        \"max\": 2488.0,\n        \"num_unique_values\": 7,\n        \"samples\": [\n          2488.0,\n          65.60756321839081,\n          87.7125\n        ],\n        \"semantic_type\": \"\",\n        \"description\": \"\"\n      }\n    },\n    {\n      \"column\": \"total_pago\",\n      \"properties\": {\n        \"dtype\": \"number\",\n        \"std\": 2680.600154972911,\n        \"min\": 18.8,\n        \"max\": 8564.75,\n        \"num_unique_values\": 8,\n        \"samples\": [\n          2290.0871784565916,\n          1402.9,\n          2488.0\n        ],\n        \"semantic_type\": \"\",\n        \"description\": \"\"\n      }\n    },\n    {\n      \"column\": \"churn\",\n      \"properties\": {\n        \"dtype\": \"number\",\n        \"std\": 879.5046250122928,\n        \"min\": 0.0,\n        \"max\": 2488.0,\n        \"num_unique_values\": 5,\n        \"samples\": [\n          0.260048231511254,\n          1.0,\n          0.4387488124097021\n        ],\n        \"semantic_type\": \"\",\n        \"description\": \"\"\n      }\n    }\n  ]\n}"
            }
          },
          "metadata": {},
          "execution_count": 3
        }
      ]
    },
    {
      "cell_type": "code",
      "source": [
        "df.dtypes"
      ],
      "metadata": {
        "colab": {
          "base_uri": "https://localhost:8080/",
          "height": 585
        },
        "id": "KoASh-9EC1wi",
        "outputId": "9e09a94f-2dd5-4d41-dacd-80445f41682d"
      },
      "execution_count": 4,
      "outputs": [
        {
          "output_type": "execute_result",
          "data": {
            "text/plain": [
              "customerID            object\n",
              "genero                object\n",
              "Idoso                  int64\n",
              "Casado                object\n",
              "Dependents            object\n",
              "tempo_cliente          int64\n",
              "PhoneService           int64\n",
              "Servico_Internet      object\n",
              "Servico_Seguranca     object\n",
              "Suporte_Tecnico       object\n",
              "StreamingTV           object\n",
              "Tipo_Contrato         object\n",
              "PaymentMethod         object\n",
              "pagamento_mensal     float64\n",
              "total_pago           float64\n",
              "churn                  int64\n",
              "dtype: object"
            ],
            "text/html": [
              "<div>\n",
              "<style scoped>\n",
              "    .dataframe tbody tr th:only-of-type {\n",
              "        vertical-align: middle;\n",
              "    }\n",
              "\n",
              "    .dataframe tbody tr th {\n",
              "        vertical-align: top;\n",
              "    }\n",
              "\n",
              "    .dataframe thead th {\n",
              "        text-align: right;\n",
              "    }\n",
              "</style>\n",
              "<table border=\"1\" class=\"dataframe\">\n",
              "  <thead>\n",
              "    <tr style=\"text-align: right;\">\n",
              "      <th></th>\n",
              "      <th>0</th>\n",
              "    </tr>\n",
              "  </thead>\n",
              "  <tbody>\n",
              "    <tr>\n",
              "      <th>customerID</th>\n",
              "      <td>object</td>\n",
              "    </tr>\n",
              "    <tr>\n",
              "      <th>genero</th>\n",
              "      <td>object</td>\n",
              "    </tr>\n",
              "    <tr>\n",
              "      <th>Idoso</th>\n",
              "      <td>int64</td>\n",
              "    </tr>\n",
              "    <tr>\n",
              "      <th>Casado</th>\n",
              "      <td>object</td>\n",
              "    </tr>\n",
              "    <tr>\n",
              "      <th>Dependents</th>\n",
              "      <td>object</td>\n",
              "    </tr>\n",
              "    <tr>\n",
              "      <th>tempo_cliente</th>\n",
              "      <td>int64</td>\n",
              "    </tr>\n",
              "    <tr>\n",
              "      <th>PhoneService</th>\n",
              "      <td>int64</td>\n",
              "    </tr>\n",
              "    <tr>\n",
              "      <th>Servico_Internet</th>\n",
              "      <td>object</td>\n",
              "    </tr>\n",
              "    <tr>\n",
              "      <th>Servico_Seguranca</th>\n",
              "      <td>object</td>\n",
              "    </tr>\n",
              "    <tr>\n",
              "      <th>Suporte_Tecnico</th>\n",
              "      <td>object</td>\n",
              "    </tr>\n",
              "    <tr>\n",
              "      <th>StreamingTV</th>\n",
              "      <td>object</td>\n",
              "    </tr>\n",
              "    <tr>\n",
              "      <th>Tipo_Contrato</th>\n",
              "      <td>object</td>\n",
              "    </tr>\n",
              "    <tr>\n",
              "      <th>PaymentMethod</th>\n",
              "      <td>object</td>\n",
              "    </tr>\n",
              "    <tr>\n",
              "      <th>pagamento_mensal</th>\n",
              "      <td>float64</td>\n",
              "    </tr>\n",
              "    <tr>\n",
              "      <th>total_pago</th>\n",
              "      <td>float64</td>\n",
              "    </tr>\n",
              "    <tr>\n",
              "      <th>churn</th>\n",
              "      <td>int64</td>\n",
              "    </tr>\n",
              "  </tbody>\n",
              "</table>\n",
              "</div><br><label><b>dtype:</b> object</label>"
            ]
          },
          "metadata": {},
          "execution_count": 4
        }
      ]
    },
    {
      "cell_type": "code",
      "source": [
        "df.isnull().sum()"
      ],
      "metadata": {
        "colab": {
          "base_uri": "https://localhost:8080/",
          "height": 585
        },
        "id": "fp1CeLP_DIGa",
        "outputId": "181d5fd0-e22a-4f26-e0e0-eb15102a0b00"
      },
      "execution_count": 5,
      "outputs": [
        {
          "output_type": "execute_result",
          "data": {
            "text/plain": [
              "customerID           0\n",
              "genero               0\n",
              "Idoso                0\n",
              "Casado               0\n",
              "Dependents           0\n",
              "tempo_cliente        0\n",
              "PhoneService         0\n",
              "Servico_Internet     0\n",
              "Servico_Seguranca    0\n",
              "Suporte_Tecnico      0\n",
              "StreamingTV          0\n",
              "Tipo_Contrato        0\n",
              "PaymentMethod        0\n",
              "pagamento_mensal     0\n",
              "total_pago           0\n",
              "churn                0\n",
              "dtype: int64"
            ],
            "text/html": [
              "<div>\n",
              "<style scoped>\n",
              "    .dataframe tbody tr th:only-of-type {\n",
              "        vertical-align: middle;\n",
              "    }\n",
              "\n",
              "    .dataframe tbody tr th {\n",
              "        vertical-align: top;\n",
              "    }\n",
              "\n",
              "    .dataframe thead th {\n",
              "        text-align: right;\n",
              "    }\n",
              "</style>\n",
              "<table border=\"1\" class=\"dataframe\">\n",
              "  <thead>\n",
              "    <tr style=\"text-align: right;\">\n",
              "      <th></th>\n",
              "      <th>0</th>\n",
              "    </tr>\n",
              "  </thead>\n",
              "  <tbody>\n",
              "    <tr>\n",
              "      <th>customerID</th>\n",
              "      <td>0</td>\n",
              "    </tr>\n",
              "    <tr>\n",
              "      <th>genero</th>\n",
              "      <td>0</td>\n",
              "    </tr>\n",
              "    <tr>\n",
              "      <th>Idoso</th>\n",
              "      <td>0</td>\n",
              "    </tr>\n",
              "    <tr>\n",
              "      <th>Casado</th>\n",
              "      <td>0</td>\n",
              "    </tr>\n",
              "    <tr>\n",
              "      <th>Dependents</th>\n",
              "      <td>0</td>\n",
              "    </tr>\n",
              "    <tr>\n",
              "      <th>tempo_cliente</th>\n",
              "      <td>0</td>\n",
              "    </tr>\n",
              "    <tr>\n",
              "      <th>PhoneService</th>\n",
              "      <td>0</td>\n",
              "    </tr>\n",
              "    <tr>\n",
              "      <th>Servico_Internet</th>\n",
              "      <td>0</td>\n",
              "    </tr>\n",
              "    <tr>\n",
              "      <th>Servico_Seguranca</th>\n",
              "      <td>0</td>\n",
              "    </tr>\n",
              "    <tr>\n",
              "      <th>Suporte_Tecnico</th>\n",
              "      <td>0</td>\n",
              "    </tr>\n",
              "    <tr>\n",
              "      <th>StreamingTV</th>\n",
              "      <td>0</td>\n",
              "    </tr>\n",
              "    <tr>\n",
              "      <th>Tipo_Contrato</th>\n",
              "      <td>0</td>\n",
              "    </tr>\n",
              "    <tr>\n",
              "      <th>PaymentMethod</th>\n",
              "      <td>0</td>\n",
              "    </tr>\n",
              "    <tr>\n",
              "      <th>pagamento_mensal</th>\n",
              "      <td>0</td>\n",
              "    </tr>\n",
              "    <tr>\n",
              "      <th>total_pago</th>\n",
              "      <td>0</td>\n",
              "    </tr>\n",
              "    <tr>\n",
              "      <th>churn</th>\n",
              "      <td>0</td>\n",
              "    </tr>\n",
              "  </tbody>\n",
              "</table>\n",
              "</div><br><label><b>dtype:</b> int64</label>"
            ]
          },
          "metadata": {},
          "execution_count": 5
        }
      ]
    },
    {
      "cell_type": "markdown",
      "source": [
        "B: Já é possivel analisar Outliers nas variaveis acima, principalmente no 'Total_pago' onde a média é bem diferente dos 50%."
      ],
      "metadata": {
        "id": "G6P6KvbXFmAm"
      }
    },
    {
      "cell_type": "code",
      "source": [
        "# c\n",
        "#verificando quantidade de linhas com o dado igual a 0\n",
        "(df['Idoso'] == 0).sum()"
      ],
      "metadata": {
        "colab": {
          "base_uri": "https://localhost:8080/"
        },
        "id": "rZ34oSFhNpgp",
        "outputId": "d0e328f5-d9d0-40ed-f9bc-b81cd8a16b0f"
      },
      "execution_count": 6,
      "outputs": [
        {
          "output_type": "execute_result",
          "data": {
            "text/plain": [
              "np.int64(2086)"
            ]
          },
          "metadata": {},
          "execution_count": 6
        }
      ]
    },
    {
      "cell_type": "code",
      "source": [
        "(df['Idoso'] == 0).mean() * 100"
      ],
      "metadata": {
        "colab": {
          "base_uri": "https://localhost:8080/"
        },
        "id": "Z3BjXhwnOHOd",
        "outputId": "7957d9ab-9cd8-4908-b573-1cdf1d40043a"
      },
      "execution_count": 7,
      "outputs": [
        {
          "output_type": "execute_result",
          "data": {
            "text/plain": [
              "np.float64(83.84244372990354)"
            ]
          },
          "metadata": {},
          "execution_count": 7
        }
      ]
    },
    {
      "cell_type": "code",
      "source": [
        "df.boxplot(column='Idoso')\n",
        "plt.title('Box Plot da Variavel Idoso')\n",
        "plt.ylabel('Valores')\n",
        "plt.show()"
      ],
      "metadata": {
        "colab": {
          "base_uri": "https://localhost:8080/",
          "height": 452
        },
        "id": "OxODgqRUOWjZ",
        "outputId": "d04f0bc7-ca94-4bab-b4ed-e40415a3b11f"
      },
      "execution_count": 8,
      "outputs": [
        {
          "output_type": "display_data",
          "data": {
            "text/plain": [
              "<Figure size 640x480 with 1 Axes>"
            ],
            "image/png": "[encoded data removed]"
          },
          "metadata": {}
        }
      ]
    },
    {
      "cell_type": "code",
      "source": [
        "#nesse trecho do nosso código iremos selecionar os valores da coluna balanco que são diferentes de 0\n",
        "df_nao_zero = df[df['Idoso'] != 0]\n",
        "df_nao_zero.boxplot(column='Idoso')\n",
        "plt.title('Box Plot da variavel Idoso (Valores Diferentes de Zero)')\n",
        "plt.ylabel('Valores')\n",
        "plt.show()"
      ],
      "metadata": {
        "colab": {
          "base_uri": "https://localhost:8080/",
          "height": 452
        },
        "id": "bSCgwUApOlnT",
        "outputId": "17546cef-a586-43ef-9780-65280552c41d"
      },
      "execution_count": 9,
      "outputs": [
        {
          "output_type": "display_data",
          "data": {
            "text/plain": [
              "<Figure size 640x480 with 1 Axes>"
            ],
            "image/png": "[encoded data removed]"
          },
          "metadata": {}
        }
      ]
    },
    {
      "cell_type": "markdown",
      "source": [
        "Notamos que temos um valor fora da normalidade dos dados, mas quando anulamos o 0 os dados ficam balanceados."
      ],
      "metadata": {
        "id": "qF_AGr3nGS2e"
      }
    },
    {
      "cell_type": "code",
      "source": [
        "(df['tempo_cliente'] == 0).sum()"
      ],
      "metadata": {
        "colab": {
          "base_uri": "https://localhost:8080/"
        },
        "id": "wykPSyvgPEYq",
        "outputId": "45dafc07-40ef-4750-de23-6e8645fca54c"
      },
      "execution_count": 10,
      "outputs": [
        {
          "output_type": "execute_result",
          "data": {
            "text/plain": [
              "np.int64(5)"
            ]
          },
          "metadata": {},
          "execution_count": 10
        }
      ]
    },
    {
      "cell_type": "code",
      "source": [
        "(df['tempo_cliente'] == 0).mean() * 100"
      ],
      "metadata": {
        "colab": {
          "base_uri": "https://localhost:8080/"
        },
        "id": "01C_PGqPPNel",
        "outputId": "4f465990-26f5-4548-81bb-2a8d7c31b16f"
      },
      "execution_count": 11,
      "outputs": [
        {
          "output_type": "execute_result",
          "data": {
            "text/plain": [
              "np.float64(0.20096463022508038)"
            ]
          },
          "metadata": {},
          "execution_count": 11
        }
      ]
    },
    {
      "cell_type": "code",
      "source": [
        "df.boxplot(column='tempo_cliente')\n",
        "plt.title('Box Plot da Variavel tempo_cliente')\n",
        "plt.ylabel('Valores')\n",
        "plt.show()"
      ],
      "metadata": {
        "colab": {
          "base_uri": "https://localhost:8080/",
          "height": 452
        },
        "id": "34pYnaqiPS6l",
        "outputId": "20693220-a8dd-437b-dc46-cbbff68e2e71"
      },
      "execution_count": 12,
      "outputs": [
        {
          "output_type": "display_data",
          "data": {
            "text/plain": [
              "<Figure size 640x480 with 1 Axes>"
            ],
            "image/png": "[encoded data removed]"
          },
          "metadata": {}
        }
      ]
    },
    {
      "cell_type": "markdown",
      "source": [
        "Notem como o boxplot tem um comportamento esperado, existe proporcionalidade entre a distribuição dos dados, sem presença de outliers."
      ],
      "metadata": {
        "id": "CbihYxWEG-KO"
      }
    },
    {
      "cell_type": "code",
      "source": [
        "(df['PhoneService'] == 0).sum()"
      ],
      "metadata": {
        "colab": {
          "base_uri": "https://localhost:8080/"
        },
        "id": "h3mEt-XuPoXt",
        "outputId": "14ca3182-f8e0-4274-9e36-8da37729be69"
      },
      "execution_count": 13,
      "outputs": [
        {
          "output_type": "execute_result",
          "data": {
            "text/plain": [
              "np.int64(1568)"
            ]
          },
          "metadata": {},
          "execution_count": 13
        }
      ]
    },
    {
      "cell_type": "code",
      "source": [
        "(df['PhoneService'] == 0).mean() * 100"
      ],
      "metadata": {
        "colab": {
          "base_uri": "https://localhost:8080/"
        },
        "id": "0q94YZPcP1wE",
        "outputId": "cee015a2-285f-410b-e572-da949177df69"
      },
      "execution_count": 14,
      "outputs": [
        {
          "output_type": "execute_result",
          "data": {
            "text/plain": [
              "np.float64(63.022508038585215)"
            ]
          },
          "metadata": {},
          "execution_count": 14
        }
      ]
    },
    {
      "cell_type": "code",
      "source": [
        "df.boxplot(column='PhoneService')\n",
        "plt.title('Box Plot da Variavel PhoneService')\n",
        "plt.ylabel('Valores')\n",
        "plt.show()"
      ],
      "metadata": {
        "colab": {
          "base_uri": "https://localhost:8080/",
          "height": 452
        },
        "id": "tXU7JBUqP5Yv",
        "outputId": "c0796458-9615-4b6c-9572-424f77439ee7"
      },
      "execution_count": 15,
      "outputs": [
        {
          "output_type": "display_data",
          "data": {
            "text/plain": [
              "<Figure size 640x480 with 1 Axes>"
            ],
            "image/png": "[encoded data removed]"
          },
          "metadata": {}
        }
      ]
    },
    {
      "cell_type": "code",
      "source": [
        "#nesse trecho do nosso código iremos selecionar os valores da coluna balanco que são diferentes de 0\n",
        "df_nao_zero = df[df['PhoneService'] != 0]\n",
        "df_nao_zero.boxplot(column='PhoneService')\n",
        "plt.title('Box Plot da variavel PhoneService (Valores Diferentes de Zero)')\n",
        "plt.ylabel('Valores')\n",
        "plt.show()"
      ],
      "metadata": {
        "colab": {
          "base_uri": "https://localhost:8080/",
          "height": 452
        },
        "id": "lPGZHs8rQE-G",
        "outputId": "fe7620a7-c734-4668-c0e4-6884b61bd9ac"
      },
      "execution_count": 16,
      "outputs": [
        {
          "output_type": "display_data",
          "data": {
            "text/plain": [
              "<Figure size 640x480 with 1 Axes>"
            ],
            "image/png": "[encoded data removed]"
          },
          "metadata": {}
        }
      ]
    },
    {
      "cell_type": "markdown",
      "source": [
        "Notamos que não temos presença de valores fora da normalidade dos dados."
      ],
      "metadata": {
        "id": "YsVsFegQHJ6x"
      }
    },
    {
      "cell_type": "code",
      "source": [
        "(df['total_pago'] == 0).sum()"
      ],
      "metadata": {
        "colab": {
          "base_uri": "https://localhost:8080/"
        },
        "id": "HPpq_mHnQaRi",
        "outputId": "1aeec05d-7e77-425c-c902-2588765ac689"
      },
      "execution_count": 17,
      "outputs": [
        {
          "output_type": "execute_result",
          "data": {
            "text/plain": [
              "np.int64(0)"
            ]
          },
          "metadata": {},
          "execution_count": 17
        }
      ]
    },
    {
      "cell_type": "code",
      "source": [
        "(df['total_pago'] == 0).mean() * 100"
      ],
      "metadata": {
        "colab": {
          "base_uri": "https://localhost:8080/"
        },
        "id": "Izm8usUGHb4C",
        "outputId": "d951356f-6ee1-4af0-b641-3f0f74ce25c0"
      },
      "execution_count": 18,
      "outputs": [
        {
          "output_type": "execute_result",
          "data": {
            "text/plain": [
              "np.float64(0.0)"
            ]
          },
          "metadata": {},
          "execution_count": 18
        }
      ]
    },
    {
      "cell_type": "code",
      "source": [
        "df.boxplot(column='total_pago')\n",
        "plt.title('Box Plot da Variavel total_pago')\n",
        "plt.ylabel('Valores')\n",
        "plt.show()"
      ],
      "metadata": {
        "colab": {
          "base_uri": "https://localhost:8080/",
          "height": 452
        },
        "id": "1lnAzgjDQrcA",
        "outputId": "5c1525e0-dde5-47ff-b8ca-61083a069c0f"
      },
      "execution_count": 19,
      "outputs": [
        {
          "output_type": "display_data",
          "data": {
            "text/plain": [
              "<Figure size 640x480 with 1 Axes>"
            ],
            "image/png": "[encoded data removed]"
          },
          "metadata": {}
        }
      ]
    },
    {
      "cell_type": "markdown",
      "source": [
        "Notem como o boxplot tem um comportamento indiferente, existe proporcionalidade entre a distribuição dos dados, e existe um valor acima da distribuição dos dados, que é a presença de Outliers."
      ],
      "metadata": {
        "id": "Gn_ukEQKIeDY"
      }
    },
    {
      "cell_type": "code",
      "source": [
        "(df['pagamento_mensal']).sum()"
      ],
      "metadata": {
        "colab": {
          "base_uri": "https://localhost:8080/"
        },
        "id": "hTz4ffDeAIz5",
        "outputId": "0ea1708d-7681-45c8-a4cb-d07609459513"
      },
      "execution_count": 20,
      "outputs": [
        {
          "output_type": "execute_result",
          "data": {
            "text/plain": [
              "np.float64(163231.61728735632)"
            ]
          },
          "metadata": {},
          "execution_count": 20
        }
      ]
    },
    {
      "cell_type": "code",
      "source": [
        "(df['pagamento_mensal'] == 0).mean() * 100"
      ],
      "metadata": {
        "colab": {
          "base_uri": "https://localhost:8080/"
        },
        "id": "8qhLhCh8AJXV",
        "outputId": "b7d20e60-747c-45a1-dff1-4bbd59f05750"
      },
      "execution_count": 21,
      "outputs": [
        {
          "output_type": "execute_result",
          "data": {
            "text/plain": [
              "np.float64(0.0)"
            ]
          },
          "metadata": {},
          "execution_count": 21
        }
      ]
    },
    {
      "cell_type": "code",
      "source": [
        "df.boxplot(column='pagamento_mensal')\n",
        "plt.title('Box Plot da Variavel Pagamento_Mensal')\n",
        "plt.ylabel('Valores')\n",
        "plt.show()"
      ],
      "metadata": {
        "colab": {
          "base_uri": "https://localhost:8080/",
          "height": 452
        },
        "id": "37ZDkYfXAj_f",
        "outputId": "8b155faf-04b6-4ab3-dc0a-f1ac74e0b760"
      },
      "execution_count": 22,
      "outputs": [
        {
          "output_type": "display_data",
          "data": {
            "text/plain": [
              "<Figure size 640x480 with 1 Axes>"
            ],
            "image/png": "[encoded data removed]"
          },
          "metadata": {}
        }
      ]
    },
    {
      "cell_type": "markdown",
      "source": [
        "Notem como o boxplot tem um comportamento esperado, existe proporcionalidade entre a distribuição dos dados, sem presença de outliers."
      ],
      "metadata": {
        "id": "1dJWykjTJczB"
      }
    },
    {
      "cell_type": "code",
      "source": [
        "# Contagem dos valores da coluna de Genero\n",
        "contagem_seguranca = df['Servico_Seguranca'].value_counts()\n",
        "\n",
        "# Calculando a porcentagem para que apareça no gráfico\n",
        "porcentagem_seguranca = (contagem_seguranca / contagem_seguranca.sum()) * 100\n",
        "ax = contagem_seguranca.plot(kind='bar')\n",
        "plt.title('Gráfico de Barras para a Variável Servico_Seguranca')\n",
        "plt.xlabel('Servico_Seguranca')\n",
        "plt.ylabel('Frequência')"
      ],
      "metadata": {
        "colab": {
          "base_uri": "https://localhost:8080/",
          "height": 607
        },
        "id": "SWXJeu8ZwWmX",
        "outputId": "88512897-3c8a-4609-d7c9-30e80f9a9e5e"
      },
      "execution_count": 23,
      "outputs": [
        {
          "output_type": "execute_result",
          "data": {
            "text/plain": [
              "Text(0, 0.5, 'Frequência')"
            ]
          },
          "metadata": {},
          "execution_count": 23
        },
        {
          "output_type": "display_data",
          "data": {
            "text/plain": [
              "<Figure size 640x480 with 1 Axes>"
            ],
            "image/png": "[encoded data removed]"
          },
          "metadata": {}
        }
      ]
    },
    {
      "cell_type": "code",
      "source": [
        "# Contando as ocorrências\n",
        "contagem_seguranca = df['Servico_Seguranca'].value_counts()\n",
        "\n",
        "# Calculando a porcentagem\n",
        "(contagem_seguranca / contagem_seguranca.sum()) * 100"
      ],
      "metadata": {
        "colab": {
          "base_uri": "https://localhost:8080/",
          "height": 209
        },
        "id": "ReatlUZs2z6m",
        "outputId": "d52e11a7-53f0-4a58-feba-6fb420e439dd"
      },
      "execution_count": 24,
      "outputs": [
        {
          "output_type": "execute_result",
          "data": {
            "text/plain": [
              "Servico_Seguranca\n",
              "No                     50.401929\n",
              "Yes                    28.416399\n",
              "No internet service    21.181672\n",
              "Name: count, dtype: float64"
            ],
            "text/html": [
              "<div>\n",
              "<style scoped>\n",
              "    .dataframe tbody tr th:only-of-type {\n",
              "        vertical-align: middle;\n",
              "    }\n",
              "\n",
              "    .dataframe tbody tr th {\n",
              "        vertical-align: top;\n",
              "    }\n",
              "\n",
              "    .dataframe thead th {\n",
              "        text-align: right;\n",
              "    }\n",
              "</style>\n",
              "<table border=\"1\" class=\"dataframe\">\n",
              "  <thead>\n",
              "    <tr style=\"text-align: right;\">\n",
              "      <th></th>\n",
              "      <th>count</th>\n",
              "    </tr>\n",
              "    <tr>\n",
              "      <th>Servico_Seguranca</th>\n",
              "      <th></th>\n",
              "    </tr>\n",
              "  </thead>\n",
              "  <tbody>\n",
              "    <tr>\n",
              "      <th>No</th>\n",
              "      <td>50.401929</td>\n",
              "    </tr>\n",
              "    <tr>\n",
              "      <th>Yes</th>\n",
              "      <td>28.416399</td>\n",
              "    </tr>\n",
              "    <tr>\n",
              "      <th>No internet service</th>\n",
              "      <td>21.181672</td>\n",
              "    </tr>\n",
              "  </tbody>\n",
              "</table>\n",
              "</div><br><label><b>dtype:</b> float64</label>"
            ]
          },
          "metadata": {},
          "execution_count": 24
        }
      ]
    },
    {
      "cell_type": "markdown",
      "source": [
        "Pode se analisar que 50% dos clientes não tem um serviço de segurança e a outra metade está distribuida com clientes que nem possuem serviço de internet.\n",
        "\n",
        "Bom insight. Pode gerar estratégias de propaganda, para oferecer serviço de internet e segurança ao cliente."
      ],
      "metadata": {
        "id": "NowYZGfsKfSS"
      }
    },
    {
      "cell_type": "code",
      "source": [
        "# contagem dos valores da coluna de Casado\n",
        "contagem_casado = df['Casado'].value_counts()\n",
        "\n",
        "# Calculando a porcentagem para que apareça no gráfico\n",
        "porcentagem_casado = (contagem_casado / contagem_casado.sum()) * 100\n",
        "ax = contagem_casado.plot(kind='bar')\n",
        "plt.title('Gráfico de Barras para a Variável Casado')\n",
        "plt.xlabel('Casado')\n",
        "plt.ylabel('Frequência')"
      ],
      "metadata": {
        "colab": {
          "base_uri": "https://localhost:8080/",
          "height": 497
        },
        "id": "nYyt-UCuyLet",
        "outputId": "60080212-bc8e-4ff6-927c-0f08622bc505"
      },
      "execution_count": 25,
      "outputs": [
        {
          "output_type": "execute_result",
          "data": {
            "text/plain": [
              "Text(0, 0.5, 'Frequência')"
            ]
          },
          "metadata": {},
          "execution_count": 25
        },
        {
          "output_type": "display_data",
          "data": {
            "text/plain": [
              "<Figure size 640x480 with 1 Axes>"
            ],
            "image/png": "[encoded data removed]"
          },
          "metadata": {}
        }
      ]
    },
    {
      "cell_type": "code",
      "source": [
        "# contando as ocorrencias\n",
        "contagem_casado = df['Casado'].value_counts()\n",
        "\n",
        "# Calculando a porcentagem\n",
        "(contagem_casado / contagem_casado.sum()) * 100"
      ],
      "metadata": {
        "colab": {
          "base_uri": "https://localhost:8080/",
          "height": 178
        },
        "id": "F1eGgLUI3csY",
        "outputId": "d0b02f06-20e8-4e58-e427-c10b63ca8a18"
      },
      "execution_count": 26,
      "outputs": [
        {
          "output_type": "execute_result",
          "data": {
            "text/plain": [
              "Casado\n",
              "No     50.723473\n",
              "Yes    49.276527\n",
              "Name: count, dtype: float64"
            ],
            "text/html": [
              "<div>\n",
              "<style scoped>\n",
              "    .dataframe tbody tr th:only-of-type {\n",
              "        vertical-align: middle;\n",
              "    }\n",
              "\n",
              "    .dataframe tbody tr th {\n",
              "        vertical-align: top;\n",
              "    }\n",
              "\n",
              "    .dataframe thead th {\n",
              "        text-align: right;\n",
              "    }\n",
              "</style>\n",
              "<table border=\"1\" class=\"dataframe\">\n",
              "  <thead>\n",
              "    <tr style=\"text-align: right;\">\n",
              "      <th></th>\n",
              "      <th>count</th>\n",
              "    </tr>\n",
              "    <tr>\n",
              "      <th>Casado</th>\n",
              "      <th></th>\n",
              "    </tr>\n",
              "  </thead>\n",
              "  <tbody>\n",
              "    <tr>\n",
              "      <th>No</th>\n",
              "      <td>50.723473</td>\n",
              "    </tr>\n",
              "    <tr>\n",
              "      <th>Yes</th>\n",
              "      <td>49.276527</td>\n",
              "    </tr>\n",
              "  </tbody>\n",
              "</table>\n",
              "</div><br><label><b>dtype:</b> float64</label>"
            ]
          },
          "metadata": {},
          "execution_count": 26
        }
      ]
    },
    {
      "cell_type": "markdown",
      "source": [
        "Na variável 'Casado' notamos um balanceamento entre as duas classes. Onde pode ser bom para o aprendizado do modelo em relação ao 'churn'."
      ],
      "metadata": {
        "id": "iBsaasiLLuB6"
      }
    },
    {
      "cell_type": "code",
      "source": [
        "# contagem dos valores da coluna de Dependents\n",
        "contagem_dependents = df['Dependents'].value_counts()\n",
        "\n",
        "# Calculando a porcentagem para que apareça no gráfico\n",
        "porcentagem_dependents = (contagem_dependents / contagem_dependents.sum()) * 100\n",
        "ax = contagem_dependents.plot(kind='bar')\n",
        "plt.title('Gráfico de Barras para a Variável Dependents')\n",
        "plt.xlabel('Dependents')\n",
        "plt.ylabel('Frequência')"
      ],
      "metadata": {
        "colab": {
          "base_uri": "https://localhost:8080/",
          "height": 497
        },
        "id": "lzfo-H-Ryuzu",
        "outputId": "a72d21e8-352a-4d1e-a05a-339613c76bc0"
      },
      "execution_count": 27,
      "outputs": [
        {
          "output_type": "execute_result",
          "data": {
            "text/plain": [
              "Text(0, 0.5, 'Frequência')"
            ]
          },
          "metadata": {},
          "execution_count": 27
        },
        {
          "output_type": "display_data",
          "data": {
            "text/plain": [
              "<Figure size 640x480 with 1 Axes>"
            ],
            "image/png": "[encoded data removed]"
          },
          "metadata": {}
        }
      ]
    },
    {
      "cell_type": "code",
      "source": [
        "# contando as ocorrencias\n",
        "contagem_dependents = df['Dependents'].value_counts()\n",
        "\n",
        "# Calculando a porcentagem\n",
        "(contagem_dependents / contagem_dependents.sum()) * 100"
      ],
      "metadata": {
        "colab": {
          "base_uri": "https://localhost:8080/",
          "height": 178
        },
        "id": "HCONP3tJ3fen",
        "outputId": "f0dda18c-ac93-4e52-8fdd-74542a6345cd"
      },
      "execution_count": 28,
      "outputs": [
        {
          "output_type": "execute_result",
          "data": {
            "text/plain": [
              "Dependents\n",
              "No     68.528939\n",
              "Yes    31.471061\n",
              "Name: count, dtype: float64"
            ],
            "text/html": [
              "<div>\n",
              "<style scoped>\n",
              "    .dataframe tbody tr th:only-of-type {\n",
              "        vertical-align: middle;\n",
              "    }\n",
              "\n",
              "    .dataframe tbody tr th {\n",
              "        vertical-align: top;\n",
              "    }\n",
              "\n",
              "    .dataframe thead th {\n",
              "        text-align: right;\n",
              "    }\n",
              "</style>\n",
              "<table border=\"1\" class=\"dataframe\">\n",
              "  <thead>\n",
              "    <tr style=\"text-align: right;\">\n",
              "      <th></th>\n",
              "      <th>count</th>\n",
              "    </tr>\n",
              "    <tr>\n",
              "      <th>Dependents</th>\n",
              "      <th></th>\n",
              "    </tr>\n",
              "  </thead>\n",
              "  <tbody>\n",
              "    <tr>\n",
              "      <th>No</th>\n",
              "      <td>68.528939</td>\n",
              "    </tr>\n",
              "    <tr>\n",
              "      <th>Yes</th>\n",
              "      <td>31.471061</td>\n",
              "    </tr>\n",
              "  </tbody>\n",
              "</table>\n",
              "</div><br><label><b>dtype:</b> float64</label>"
            ]
          },
          "metadata": {},
          "execution_count": 28
        }
      ]
    },
    {
      "cell_type": "markdown",
      "source": [
        "Na variável 'Dependents' notamos um desbalanceamento entre as duas classes. Onde 70% dos dados não possuem dependentes e isso pode tendenciar mais em direção a essa classe em relação ao 'churn'.\n",
        "\n",
        "Bom insght para futuras estratégias."
      ],
      "metadata": {
        "id": "KFTuEIUVMITr"
      }
    },
    {
      "cell_type": "code",
      "source": [
        "# contagem dos valores da coluna de churn\n",
        "contagem_churn = df['churn'].value_counts()\n",
        "\n",
        "# Calculando a porcentagem para que apareça no gráfico\n",
        "porcentagem_churn = (contagem_churn / contagem_churn.sum()) * 100\n",
        "ax = contagem_churn.plot(kind='bar')\n",
        "plt.title('Gráfico de Barras para a Variável churn')\n",
        "plt.xlabel('churn')\n",
        "plt.ylabel('Frequência')"
      ],
      "metadata": {
        "colab": {
          "base_uri": "https://localhost:8080/",
          "height": 484
        },
        "id": "vkwCxaLRyamM",
        "outputId": "5d253d74-5251-4576-b13f-5dee0e063876"
      },
      "execution_count": 29,
      "outputs": [
        {
          "output_type": "execute_result",
          "data": {
            "text/plain": [
              "Text(0, 0.5, 'Frequência')"
            ]
          },
          "metadata": {},
          "execution_count": 29
        },
        {
          "output_type": "display_data",
          "data": {
            "text/plain": [
              "<Figure size 640x480 with 1 Axes>"
            ],
            "image/png": "[encoded data removed]"
          },
          "metadata": {}
        }
      ]
    },
    {
      "cell_type": "code",
      "source": [
        "# contando as ocorrencias\n",
        "contagem_churn = df['churn'].value_counts()\n",
        "\n",
        "# Calculando a porcentagem\n",
        "(contagem_churn / contagem_churn.sum()) * 100"
      ],
      "metadata": {
        "colab": {
          "base_uri": "https://localhost:8080/",
          "height": 178
        },
        "id": "Bhju-kT43jo-",
        "outputId": "2947c837-bc2c-43f6-8adf-f592889b7475"
      },
      "execution_count": 30,
      "outputs": [
        {
          "output_type": "execute_result",
          "data": {
            "text/plain": [
              "churn\n",
              "0    73.995177\n",
              "1    26.004823\n",
              "Name: count, dtype: float64"
            ],
            "text/html": [
              "<div>\n",
              "<style scoped>\n",
              "    .dataframe tbody tr th:only-of-type {\n",
              "        vertical-align: middle;\n",
              "    }\n",
              "\n",
              "    .dataframe tbody tr th {\n",
              "        vertical-align: top;\n",
              "    }\n",
              "\n",
              "    .dataframe thead th {\n",
              "        text-align: right;\n",
              "    }\n",
              "</style>\n",
              "<table border=\"1\" class=\"dataframe\">\n",
              "  <thead>\n",
              "    <tr style=\"text-align: right;\">\n",
              "      <th></th>\n",
              "      <th>count</th>\n",
              "    </tr>\n",
              "    <tr>\n",
              "      <th>churn</th>\n",
              "      <th></th>\n",
              "    </tr>\n",
              "  </thead>\n",
              "  <tbody>\n",
              "    <tr>\n",
              "      <th>0</th>\n",
              "      <td>73.995177</td>\n",
              "    </tr>\n",
              "    <tr>\n",
              "      <th>1</th>\n",
              "      <td>26.004823</td>\n",
              "    </tr>\n",
              "  </tbody>\n",
              "</table>\n",
              "</div><br><label><b>dtype:</b> float64</label>"
            ]
          },
          "metadata": {},
          "execution_count": 30
        }
      ]
    },
    {
      "cell_type": "markdown",
      "source": [
        "Identificamos que essa Variavel principal 'churn' tem um desbalanceamento. Onde a grande maioria são clientes que não deram 'churn'.\n",
        "\n"
      ],
      "metadata": {
        "id": "0GdgXdDe63vq"
      }
    },
    {
      "cell_type": "code",
      "source": [
        "# Calculando as porcentagens\n",
        "contagem = df['PaymentMethod'].value_counts()\n",
        "porcentagem = (contagem / contagem.sum()) * 100\n",
        "\n",
        "\n",
        "ax = contagem.plot(kind='bar')\n",
        "\n",
        "# Adicionando pora procentagem nas barras\n",
        "for i, v in enumerate(contagem):\n",
        "    ax.text(i, v + 1, f'{porcentagem[i]:.2f}%', ha='center')\n",
        "plt.title('Gráfico de Barras para a Variável PaymentMethod')\n",
        "plt.xlabel('PaymentMethod')\n",
        "plt.ylabel('Frequência')\n",
        "\n",
        "plt.show()"
      ],
      "metadata": {
        "colab": {
          "base_uri": "https://localhost:8080/",
          "height": 693
        },
        "id": "7OGIc1Xz-m0H",
        "outputId": "3777faaa-c0f4-4453-ad01-20a60ff7d69f"
      },
      "execution_count": 31,
      "outputs": [
        {
          "output_type": "stream",
          "name": "stderr",
          "text": [
            "/tmp/ipython-input-31-1745929954.py:10: FutureWarning: Series.__getitem__ treating keys as positions is deprecated. In a future version, integer keys will always be treated as labels (consistent with DataFrame behavior). To access a value by position, use `ser.iloc[pos]`\n",
            "  ax.text(i, v + 1, f'{porcentagem[i]:.2f}%', ha='center')\n"
          ]
        },
        {
          "output_type": "display_data",
          "data": {
            "text/plain": [
              "<Figure size 640x480 with 1 Axes>"
            ],
            "image/png": "[encoded data removed]"
          },
          "metadata": {}
        }
      ]
    },
    {
      "cell_type": "markdown",
      "source": [
        "Pode se avaliar que a variavel metodo de pagamento tem um balanceamento normal entre os dados."
      ],
      "metadata": {
        "id": "EdMJuDlBQWOB"
      }
    },
    {
      "cell_type": "code",
      "source": [
        "# Calculando as porcentagens\n",
        "contagem = df['Tipo_Contrato'].value_counts()\n",
        "porcentagem = (contagem / contagem.sum()) * 100\n",
        "\n",
        "ax = contagem.plot(kind='bar')\n",
        "\n",
        "# Adicionando pora procentagem nas barras\n",
        "for i, v in enumerate(contagem):\n",
        "    ax.text(i, v + 1, f'{porcentagem[i]:.2f}%', ha='center')\n",
        "plt.title('Gráfico de Barras para a Variável Tipo_Contrato')\n",
        "plt.xlabel('Tipo_Contrato')\n",
        "plt.ylabel('Frequência')\n",
        "\n",
        "plt.show()"
      ],
      "metadata": {
        "colab": {
          "base_uri": "https://localhost:8080/",
          "height": 626
        },
        "id": "mXxKEme9_hKs",
        "outputId": "eddd1f6b-da54-4bfe-f027-008c0e3e46db"
      },
      "execution_count": 32,
      "outputs": [
        {
          "output_type": "stream",
          "name": "stderr",
          "text": [
            "/tmp/ipython-input-32-3402813760.py:9: FutureWarning: Series.__getitem__ treating keys as positions is deprecated. In a future version, integer keys will always be treated as labels (consistent with DataFrame behavior). To access a value by position, use `ser.iloc[pos]`\n",
            "  ax.text(i, v + 1, f'{porcentagem[i]:.2f}%', ha='center')\n"
          ]
        },
        {
          "output_type": "display_data",
          "data": {
            "text/plain": [
              "<Figure size 640x480 with 1 Axes>"
            ],
            "image/png": "[encoded data removed]"
          },
          "metadata": {}
        }
      ]
    },
    {
      "cell_type": "markdown",
      "source": [
        "Pode se avaliar que 50% dos clientes realizam pagamento mês a mês. Otimo Insght para futuras estratégias promocionais em planos anuais."
      ],
      "metadata": {
        "id": "LL_Tk59oQQKR"
      }
    },
    {
      "cell_type": "code",
      "source": [
        "# Calculando as porcentagens\n",
        "contagem = df['Suporte_Tecnico'].value_counts()\n",
        "porcentagem = (contagem / contagem.sum()) * 100\n",
        "\n",
        "ax = contagem.plot(kind='bar')\n",
        "\n",
        "# Adicionando pora procentagem nas barras\n",
        "for i, v in enumerate(contagem):\n",
        "    ax.text(i, v + 1, f'{porcentagem[i]:.2f}%', ha='center')\n",
        "plt.title('Gráfico de Barras para a Variável Suporte_Tecnico')\n",
        "plt.xlabel('Suporte_Tecnico')\n",
        "plt.ylabel('Frequência')\n",
        "\n",
        "plt.show()"
      ],
      "metadata": {
        "colab": {
          "base_uri": "https://localhost:8080/",
          "height": 645
        },
        "id": "W-iMZgsl-7aN",
        "outputId": "941acb5c-dbb1-4315-a48e-2d00759a8999"
      },
      "execution_count": 33,
      "outputs": [
        {
          "output_type": "stream",
          "name": "stderr",
          "text": [
            "/tmp/ipython-input-33-1647253856.py:9: FutureWarning: Series.__getitem__ treating keys as positions is deprecated. In a future version, integer keys will always be treated as labels (consistent with DataFrame behavior). To access a value by position, use `ser.iloc[pos]`\n",
            "  ax.text(i, v + 1, f'{porcentagem[i]:.2f}%', ha='center')\n"
          ]
        },
        {
          "output_type": "display_data",
          "data": {
            "text/plain": [
              "<Figure size 640x480 with 1 Axes>"
            ],
            "image/png": "[encoded data removed]"
          },
          "metadata": {}
        }
      ]
    },
    {
      "cell_type": "markdown",
      "source": [
        "Pode se avaliar que 50% dos clientes não possuem um suporte tecnico. Otimo Insght para futuras estratégias."
      ],
      "metadata": {
        "id": "NhWZ5LPEPf1p"
      }
    },
    {
      "cell_type": "code",
      "source": [
        "# Calculando as porcentagens\n",
        "contagem = df['genero'].value_counts()\n",
        "porcentagem = (contagem / contagem.sum()) * 100\n",
        "\n",
        "ax = contagem.plot(kind='bar')\n",
        "\n",
        "# Adicionando pora procentagem nas barras\n",
        "for i, v in enumerate(contagem):\n",
        "    ax.text(i, v + 1, f'{porcentagem[i]:.2f}%', ha='center')\n",
        "plt.title('Gráfico de Barras para a Variável genero')\n",
        "plt.xlabel('Genero')\n",
        "plt.ylabel('Frequência')\n",
        "\n",
        "plt.show()"
      ],
      "metadata": {
        "colab": {
          "base_uri": "https://localhost:8080/",
          "height": 563
        },
        "id": "9ETQRw7D_Pl4",
        "outputId": "f9d0dc8d-19d5-4156-f283-b9fcabea67c4"
      },
      "execution_count": 34,
      "outputs": [
        {
          "output_type": "stream",
          "name": "stderr",
          "text": [
            "/tmp/ipython-input-34-140281362.py:9: FutureWarning: Series.__getitem__ treating keys as positions is deprecated. In a future version, integer keys will always be treated as labels (consistent with DataFrame behavior). To access a value by position, use `ser.iloc[pos]`\n",
            "  ax.text(i, v + 1, f'{porcentagem[i]:.2f}%', ha='center')\n"
          ]
        },
        {
          "output_type": "display_data",
          "data": {
            "text/plain": [
              "<Figure size 640x480 with 1 Axes>"
            ],
            "image/png": "[encoded data removed]"
          },
          "metadata": {}
        }
      ]
    },
    {
      "cell_type": "markdown",
      "source": [
        "Nós identificamos então que a variável 'Genero' tem um balanceamento de dados."
      ],
      "metadata": {
        "id": "q27ijJkoPOda"
      }
    },
    {
      "cell_type": "markdown",
      "source": [
        "# 3) Identifique e trate as colunas que contém outliers.\n",
        "Caso opte por mante-los ou altera-los justifique sua escolha.\n"
      ],
      "metadata": {
        "id": "kQ8r3_LVH_EJ"
      }
    },
    {
      "cell_type": "code",
      "source": [
        "# BoxPlot da variavel total_pago\n",
        "df_nao_zero = df[df['total_pago'] != 0]\n",
        "\n",
        "fig = px.box(df_nao_zero, y='total_pago', title='Box Plot da total_pago (Valores Diferentes de Zero)', labels={'total_pago': 'Valores'})\n",
        "fig.show()"
      ],
      "metadata": {
        "id": "hL9I5plcGEAA",
        "colab": {
          "base_uri": "https://localhost:8080/",
          "height": 542
        },
        "outputId": "f56fd979-bf77-4c1b-cf88-fe43c368b6e7"
      },
      "execution_count": 35,
      "outputs": [
        {
          "output_type": "display_data",
          "data": {
            "text/html": [
              "<html>\n",
              "<head><meta charset=\"utf-8\" /></head>\n",
              "<body>\n",
              "    <div>            <script src=\"https://cdnjs.cloudflare.com/ajax/libs/mathjax/2.7.5/MathJax.js?config=TeX-AMS-MML_SVG\"></script><script type=\"text/javascript\">if (window.MathJax && window.MathJax.Hub && window.MathJax.Hub.Config) {window.MathJax.Hub.Config({SVG: {font: \"STIX-Web\"}});}</script>                <script type=\"text/javascript\">window.PlotlyConfig = {MathJaxConfig: 'local'};</script>\n",
              "        <script charset=\"utf-8\" src=\"https://cdn.plot.ly/plotly-2.35.2.min.js\"></script>                <div id=\"e2d2a3c2-fee6-46a8-a9f6-a419af2e40e6\" class=\"plotly-graph-div\" style=\"height:525px; width:100%;\"></div>            <script type=\"text/javascript\">                                    window.PLOTLYENV=window.PLOTLYENV || {};                                    if (document.getElementById(\"e2d2a3c2-fee6-46a8-a9f6-a419af2e40e6\")) {                    Plotly.newPlot(                        \"e2d2a3c2-fee6-46a8-a9f6-a419af2e40e6\",                        [{\"alignmentgroup\":\"True\",\"hovertemplate\":\"Valores=%{y}\\u003cextra\\u003e\\u003c\\u002fextra\\u003e\",\"legendgroup\":\"\",\"marker\":{\"color\":\"#636efa\"},\"name\":\"\",\"notched\":false,\"offsetgroup\":\"\",\"orientation\":\"v\",\"showlegend\":false,\"x0\":\" \",\"xaxis\":\"x\",\"y\":[29.85,1889.5,108.15,1840.75,1022.95,7382.25,528.35,1862.9,39.65,202.25,20.15,3505.1,2970.3,1530.6,4749.15,30.2,6369.45,1093.1,6766.95,181.65,1874.45,20.2,45.25,7251.7,316.9,3548.3,3549.25,1105.4,475.7,4872.35,418.25,4861.45,981.45,3906.7,97.0,144.15,4217.8,4254.1,3838.75,1426.4,1752.65,633.3,4456.35,1752.55,6311.2,7076.35,894.3,7853.7,4707.1,5450.7,2962.0,957.1,857.25,244.1,3650.35,2497.2,930.9,887.35,49.05,1090.65,7099.0,1424.6,177.4,6139.5,2688.85,482.25,2111.3,1216.6,79.35,565.35,496.9,4327.5,973.35,918.75,2215.45,1057.0,927.1,1009.25,2570.2,74.7,5714.25,7107.0,7459.05,927.35,4748.7,113.85,1107.2,2514.5,20.2,19.45,3605.6,3027.25,7611.85,100.2,7303.05,927.65,3921.3,1363.25,5238.9,3042.25,3954.1,2868.15,3423.5,248.4,1126.35,1064.65,835.15,2151.6,5515.45,112.75,229.55,350.35,62.9,3027.65,2135.5,1723.95,19.75,3985.35,1215.65,1502.65,3260.1,35.45,81.25,1188.2,1778.5,1277.75,1170.55,70.45,6425.65,563.65,5971.25,5289.05,1756.2,6416.7,61.35,45.65,1929.95,1071.4,564.35,655.5,7930.55,5215.25,113.5,1152.8,1821.95,419.9,1024.0,251.6,764.55,1592.35,135.2,3958.25,233.9,1363.45,273.0,6254.45,2651.2,321.4,3539.25,242.8,1181.75,5000.2,654.55,780.2,1145.7,503.6,1559.25,1252.0,29.95,45.3,662.65,2453.3,1111.65,24.8,1023.85,82.15,244.8,2379.1,3173.35,531.0,1375.4,8129.3,1192.7,1901.65,587.4,6519.75,8041.65,20.75,2681.15,1112.3,7405.5,1033.95,2958.95,2684.85,4179.2,79.9,1934.45,6654.1,84.5,25.25,1124.2,540.05,1975.85,3437.45,3139.8,3789.2,5324.5,624.6,268.35,1836.9,20.2,179.35,219.35,1288.75,2545.75,55.2,2723.15,4107.25,5760.65,4747.5,84.6,1566.9,702.0,114.1,299.05,1305.95,1120.3,284.35,6350.5,7878.3,3187.65,6126.15,731.3,273.4,2531.8,1074.3,48.55,4298.45,4619.55,147.15,40.2,2633.3,193.05,4103.9,7008.15,5791.1,80.55,1228.65,132.2,1364.3,4925.35,1520.1,5032.25,5526.75,1195.25,2007.25,1099.6,1732.95,1511.2,3450.15,24.8,2172.05,70.6,401.1,5624.85,1339.8,771.95,244.75,322.9,498.25,25.4,3687.75,1779.95,1783.6,927.15,70.0,606.55,435.4,1712.7,2021.2,1940.8,567.8,220.35,20.25,5436.45,3437.5,3015.75,73.6,1509.8,396.1,356.65,4109.0,3141.7,1229.1,2303.35,2054.4,3741.85,3682.45,19.25,1886.25,4895.1,341.6,415.55,5686.4,1355.1,3058.65,2231.05,3236.35,4350.1,4264.0,44.8,422.3,4176.7,5138.1,880.05,139.05,973.65,1470.05,739.35,161.95,4422.95,511.25,155.8,5293.95,4759.85,6148.45,3565.65,6603.0,1830.1,6223.8,4508.65,1328.15,865.0,72.1,168.2,1303.5,996.85,6430.9,2278.75,681.4,574.35,371.9,840.1,846.0,889.0,6823.4,805.1,4016.75,83.75,3959.15,2878.55,945.7,1373.05,492.55,1406.0,19.15,6962.85,8126.65,690.25,181.5,830.8,5608.4,3646.8,3662.25,25.35,2566.5,5308.7,1410.25,3339.05,50.65,4732.35,90.85,5067.45,214.75,4874.7,2348.45,4063.0,44.0,2595.25,2309.55,89.3,367.55,3944.5,5965.95,3694.7,2524.45,1803.7,415.1,624.15,237.7,7007.6,3848.8,419.4,1468.75,5812.0,2861.45,19.9,19.6,233.7,1066.15,2149.05,4473.0,3545.05,1195.75,6858.9,1024.7,1845.9,75.3,132.25,515.45,2830.45,1110.5,449.3,2838.55,5376.4,858.6,1395.05,3975.7,1182.55,4784.45,119.5,518.9,899.45,1183.8,720.05,8468.2,3161.2,55.05,1882.55,5070.4,6049.5,1166.7,2937.65,6396.45,69.55,1270.25,759.55,7611.55,1642.75,1545.4,3582.4,2227.1,1417.9,2494.65,2768.35,2369.3,38.0,75.1,100.9,1614.05,385.9,673.25,8404.9,2799.75,6538.45,6588.95,868.1,734.35,330.6,55.0,564.4,1315.35,74.7,1861.5,2747.2,554.05,453.4,994.8,225.75,2145.0,1671.6,8003.8,680.05,6130.85,1415.0,6201.95,52.55,20.25,80.85,25.75,56.05,3902.6,20.4,903.6,1785.65,1397.65,131.05,1238.45,3899.05,5676.0,4543.15,4326.8,5502.55,1782.4,851.8,167.5,502.85,19.85,1818.3,6300.15,334.8,5916.95,2852.4,4131.95,1546.3,302.6,1929.35,265.45,6989.45,1442.0,4713.4,1758.6,3480.0,4738.3,8399.15,5430.35,686.95,5706.3,490.65,1360.25,174.45,7379.8,85.0,1021.75,5029.05,1955.4,6744.2,4946.7,8248.5,601.6,19.55,834.1,597.0,2647.2,3266.0,6744.25,5265.5,311.6,7966.9,8220.4,1153.25,514.75,2596.15,3808.0,19.9,2708.2,760.05,49.3,6033.3,89.05,516.15,5861.75,445.95,4973.4,1667.25,5357.75,3527.6,422.6,1103.25,2754.0,697.25,5614.45,3204.4,4747.65,3082.1,597.9,3365.4,38.8,233.55,75.3,346.2,19.0,61.7,85.7,3342.45,85.1,7422.1,6668.05,8071.05,1174.8,5435.0,2438.6,45.6,713.75,916.15,237.2,4614.55,1414.45,1170.5,47.7,4859.25,4903.2,3608.0,6094.25,3084.9,2356.75,8306.05,6786.4,248.95,663.05,1357.1,4860.35,3418.2,631.4,186.3,6976.75,4884.85,522.95,362.6,5755.8,3355.65,406.95,137.6,2395.7,1968.1,6819.45,7943.45,4547.25,4687.9,2473.95,6562.9,176.3,2236.2,6985.65,3109.9,4911.35,5794.65,855.3,1620.2,2499.3,89.55,4287.2,394.85,1899.65,45.7,3442.15,161.5,1732.6,222.3,74.6,655.3,475.25,164.3,865.1,6132.7,3597.5,35.9,697.65,96.05,428.7,20.05,4459.15,1167.6,238.1,145.15,1453.1,191.05,4039.3,1039.45,1336.1,75.05,493.4,2550.9,7246.15,1203.95,62.25,313.6,3775.85,80.0,4616.05,195.65,4188.4,71.1,49.9,1266.4,91.1,1623.4,4149.45,20.45,2344.5,1013.05,270.7,417.0,20.65,6316.2,168.15,4018.05,4811.6,4189.7,2848.45,2516.2,33.6,208.45,2015.35,3739.8,2964.0,2263.4,2211.8,19.55,1683.7,1519.0,1164.05,1710.9,4245.55,4145.9,2664.3,1277.5,5589.3,34.75,1305.95,381.3,141.5,3105.55,204.55,605.9,356.1,2758.15,4805.65,3941.7,92.75,1901.05,5730.7,2423.4,1653.45,3327.05,7085.5,3344.1,6697.35,2879.9,137.1,1008.55,1551.6,202.15,7882.25,8196.4,202.9,855.1,5817.0,1652.95,5600.15,515.75,40.5,190.5,1842.8,1253.8,57.2,1269.55,6563.4,20.8,1907.85,208.85,4758.8,1292.6,363.15,1600.25,275.7,3089.1,1175.6,237.3,1444.65,19.9,454.15,3036.75,8065.65,92.5,184.65,6152.3,89.5,5154.5,220.45,1510.3,52.2,2588.95,4874.8,3983.6,2003.6,1832.4,4908.25,3590.2,5023.0,146.6,2339.3,298.7,143.65,2548.65,507.4,20.0,6125.4,5411.4,1058.25,903.8,3009.5,489.45,5468.45,1058.1,7616.0,4113.1,69.55,6017.65,7250.15,1108.2,938.65,94.15,2088.05,178.7,5656.75,2317.1,5986.45,6751.35,3566.6,4889.3,318.1,1563.95,1430.25,644.35,372.45,5453.4,1442.6,5610.7,963.95,5222.3,3340.55,292.8,5774.55,4487.3,44.4,2854.95,905.55,5509.3,7589.8,229.6,394.1,89.9,295.95,5459.2,444.75,6782.15,6510.45,8476.5,4461.85,62.0,352.65,1424.9,6413.65,6309.65,50.8,5898.6,4719.75,457.3,5822.3,1463.5,307.4,2104.55,319.15,2337.45,104.3,5084.65,121.25,7015.9,5598.0,1269.1,3027.4,4634.35,113.95,1582.75,3077.0,4039.5,1665.2,1043.3,504.2,497.55,7511.65,1782.0,20.05,609.65,2857.6,3247.55,6215.35,2823.0,5017.9,2619.25,24.6,4965.1,2679.7,8310.55,5682.25,1120.95,4914.9,27.55,923.5,1625.65,6068.65,5398.6,918.6,234.85,1231.85,170.9,7984.15,688.65,1288.3,7848.5,267.0,1798.9,73.55,1643.55,4807.45,2193.0,2239.4,1505.9,255.35,1189.4,4786.15,1820.9,2404.15,205.05,952.3,7039.45,2538.05,1212.85,2651.1,1304.8,360.1,435.45,308.05,80.85,434.5,7118.9,320.45,531.55,382.2,2001.0,4919.7,5645.8,215.8,77.6,2896.55,3395.8,759.35,85.15,535.55,1253.15,955.15,2162.6,44.7,1813.35,245.15,2028.8,2723.75,220.45,365.8,551.95,4054.2,45.7,832.35,112.3,60.65,5550.1,174.8,90.55,4733.1,4048.95,1359.7,4542.35,7532.15,69.9,888.65,6383.35,1916.0,413.0,808.95,1886.4,86.6,1679.25,2656.5,540.95,19.75,537.35,678.8,4513.65,1423.85,555.4,225.55,268.45,2917.5,2416.1,424.45,1492.1,132.4,660.9,1893.95,284.9,784.25,417.7,5016.25,1612.75,119.75,3204.65,485.2,160.85,4145.25,827.45,49.5,990.85,696.35,5585.4,1601.2,162.45,470.2,2066.0,1426.45,392.5,3861.45,2552.9,6668.35,819.4,4615.25,2070.6,273.75,3557.7,1957.1,729.95,1416.75,5924.4,1697.7,7849.85,649.4,4557.5,3013.05,1266.1,360.35,1046.5,2347.9,447.75,4209.95,3877.65,152.3,572.2,19.65,526.95,552.7,3208.65,210.75,3706.95,620.75,412.5,832.05,185.55,1943.2,505.9,8046.85,1815.3,612.95,795.15,2169.8,973.1,2210.2,4853.75,1055.9,144.55,91.1,1304.85,713.0,21.1,5580.8,1497.9,4527.45,4590.35,200.2,614.45,4564.9,25.75,171.15,1012.4,940.35,1047.7,2766.4,1622.45,1129.35,5680.9,2243.9,4523.25,7159.7,2839.95,80.55,580.1,2178.6,6038.55,259.4,324.15,417.65,168.15,5637.85,839.4,769.1,6253.0,1641.8,1678.05,2058.5,2424.5,387.2,6293.45,2839.65,3145.9,2200.7,914.4,4577.75,4997.5,4144.8,1493.55,4179.1,893.55,1611.0,593.05,4284.8,544.55,1533.8,529.8,3865.6,515.75,941.0,1133.65,48.35,2070.05,8333.95,1209.25,1396.25,723.35,228.65,1161.75,98.35,775.3,1074.65,35.55,2324.7,1072.6,170.5,196.9,1162.85,1677.85,18.85,370.4,3410.6,1138.8,5264.25,1005.7,5936.55,5475.9,224.05,2326.05,31.35,4991.5,1052.4,5831.2,510.8,283.95,1295.4,19.65,3011.65,8093.15,5610.25,3217.65,19.85,773.2,1029.35,669.45,3593.8,1553.95,3953.15,1971.15,1236.15,3196.0,4872.2,1500.5,60.15,3478.75,7413.55,3532.0,256.75,3887.25,2490.15,593.45,3510.3,765.45,1259.35,5538.35,340.85,844.45,1348.95,3778.0,611.65,4867.95,1505.05,467.85,74.9,194.2,571.45,80.25,5253.95,1149.65,740.8,521.35,1412.65,1532.45,250.05,1090.6,1446.8,2282.55,4300.45,1111.2,190.1,4447.75,143.35,45.85,810.2,1830.05,2820.65,4847.35,4729.3,4017.45,1398.6,2564.3,1685.9,5826.65,6066.55,228.4,270.2,1529.2,168.6,536.35,1888.45,629.35,45.3,289.3,2117.25,4730.9,2033.05,987.95,45.05,5744.35,75.8,19.45,523.15,4805.3,59.05,6110.75,1596.6,1046.2,4424.2,92.75,194.55,612.1,6127.6,6671.7,5264.3,303.7,4818.8,6448.05,7159.05,1574.5,2879.2,86.05,4159.45,6638.35,3112.05,7168.25,1326.25,2234.55,495.15,8317.95,679.8,62.8,7544.0,1188.25,676.7,74.1,3242.5,1240.15,4111.35,5899.85,632.95,5193.2,7530.8,270.95,5460.2,1614.2,402.5,1367.75,483.7,7962.2,3810.8,3533.6,1396.9,1345.55,1646.45,8127.6,2680.15,1281.0,1553.9,3207.55,2049.05,3629.2,5124.55,3474.45,202.3,147.5,86.35,579.0,19.45,3131.55,3928.3,187.75,1710.15,76.35,69.25,2151.6,5961.1,1221.55,1496.45,1292.2,25.15,1713.1,1748.9,25.2,96.45,1114.55,609.1,20.15,7133.25,56.05,169.45,141.6,4688.65,563.05,5985.0,1258.6,373.5,857.2,2553.35,4322.85,250.8,4549.05,1359.5,1639.3,178.85,633.85,5315.1,735.5,889.9,1290.0,330.05,237.95,6474.4,4421.95,2452.7,813.85,4904.85,4484.05,2033.85,538.2,79.2,2192.9,19.85,3858.05,854.8,347.4,5815.15,3970.4,3058.15,6145.2,129.2,1165.9,49.95,1554.0,4904.25,5632.55,1643.25,740.55,3217.55,4888.2,2440.25,620.55,20.35,6840.95,3001.2,6254.2,319.6,1938.05,294.5,58.3,442.85,553.0,546.45,797.1,76.0,1673.8,343.45,7412.25,4039.0,170.85,2948.6,1308.4,6078.75,3418.2,6603.8,3166.9,865.75,6373.1,1177.05,5985.75,732.5,7869.05,1504.05,936.7,741.4,6585.2,3122.4,50.45,1088.25,615.35,2908.2,739.9,593.85,1132.75,7227.45,193.6,1291.35,2023.55,349.65,153.95,5458.8,5244.45,154.55,4507.15,2031.95,50.05,332.45,473.9,106.8,152.6,1199.4,2555.05,2979.2,654.85,3834.4,1534.75,4586.15,20.55,5941.05,424.15,2234.95,666.75,281.0,547.8,74.6,571.15,1756.6,5731.45,3475.55,156.85,2683.2,896.75,2407.3,4456.65,6998.95,36.8,6547.7,4346.4,2265.0,1309.15,4754.3,1235.55,3562.5,7213.75,2082.95,102.75,5914.4,51.25,1282.85,4738.85,19.55,1775.8,795.65,145.0,4993.4,61.45,4018.55,1146.65,6081.4,1478.85,243.65,2633.95,4735.35,1247.75,74.7,3794.5,1008.7,2130.55,1313.55,5727.15,1372.9,1203.9,25.8,1215.1,2877.05,1579.7,5514.95,96.1,72.4,55.25,2443.3,1970.5,335.4,7002.95,158.95,293.15,1493.75,1093.4,1057.85,190.05,882.55,300.4,1025.95,1436.95,475.0,5388.15,5730.15,819.55,217.1,4896.35,1434.1,937.1,330.15,1474.9,6536.5,1128.1,6873.75,2199.05,45.85,457.1,566.5,2471.6,3107.3,518.3,5769.75,91.7,832.3,1555.65,45.3,1790.6,74.95,246.6,261.65,898.35,4509.5,5480.25,653.15,1183.05,639.45,478.75,20.05,127.1,4391.45,270.6,6710.5,3975.9,1704.95,415.95,950.2,1497.05,780.15,3512.15,273.25,3517.9,3375.9,7508.55,1245.05,5347.95,493.65,1263.85,385.55,3384.0,84.2,1638.7,165.4,120.25,4473.45,520.55,5717.85,88.8,4312.5,2755.35,994.55,6511.25,1218.65,7447.7,1169.35,279.5,5720.35,3121.45,6468.6,5918.8,675.6,3521.7,923.1,1110.35,1611.65,2293.6,5553.25,44.75,3029.1,3231.05,5129.45,5508.35,655.9,1191.2,866.4,2627.2,4741.45,4009.2,1463.45,5082.8,43.8,3707.6,220.45,1133.7,1983.15,5746.75,770.6,134.05,6230.1,573.05,3419.3,3587.25,3541.35,3801.3,868.5,4859.1,1439.35,85.8,79.1,592.75,1185.95,18.8,134.5,4921.2,901.25,5341.8,4859.95,1139.2,7082.45,324.6,4812.75,4399.5,663.55,174.65,321.7,5125.5,548.9,50.15,7031.3,5016.65,4594.95,611.45,2384.15,319.85,153.3,7035.6,344.2,1431.65,1849.2,6083.1,426.65,1655.35,1943.9,1616.15,314.95,804.85,465.7,6669.05,1161.75,947.75,8375.05,34.7,3770.0,264.8,4707.85,6152.4,958.1,943.0,6615.15,2200.25,425.1,99.75,5044.8,6743.55,196.4,299.7,2093.9,417.75,1725.4,1620.2,3169.55,5233.25,967.85,438.05,1421.9,323.15,318.6,163.7,639.65,2928.5,100.35,273.2,1608.15,1441.95,2168.15,3618.7,5692.65,59.85,69.6,5969.3,19.05,418.8,8100.55,19.5,313.45,6130.95,69.9,745.3,1212.1,183.75,1583.5,4162.05,1119.9,8013.55,264.85,1102.4,5832.0,4304.5,1178.4,1421.75,6827.5,4698.05,654.5,3268.05,4362.05,1386.9,415.4,2614.1,1513.6,3161.6,80.95,4676.7,6526.65,583.3,8078.1,3503.5,6669.45,4689.5,1201.15,143.65,1292.65,48.75,7108.2,1802.55,1505.15,1859.1,168.5,390.85,6339.45,1652.4,71.65,77.5,6392.85,3264.5,4599.15,1134.25,1621.35,947.3,2722.2,3058.3,1769.6,6293.75,1761.05,1642.75,578.5,954.9,973.25,43.85,1490.4,280.0,1901.25,716.4,4720.0,930.95,76.35,1676.95,2642.05,6770.85,1835.3,1588.25,75.5,258.35,1502.25,19.2,6929.4,4453.3,3244.4,323.45,2661.1,2697.4,1424.5,1401.15,1739.6,5931.0,2333.85,949.85,572.45,696.8,1381.8,2572.95,47.95,45.1,45.0,2122.45,20.05,4931.8,116.95,6937.95,1261.7,3273.8,1415.85,3958.2,2492.25,279.2,1083.0,755.5,402.6,3252.0,68.75,46.2,45.15,43.3,936.85,2250.65,3857.1,1441.1,4338.6,1378.45,45.95,2566.3,171.0,1597.4,4744.35,6721.6,247.25,44.05,1734.65,45.55,4539.35,804.25,5011.15,3574.5,8086.4,4563.0,6362.35,67.1,70.05,165.45,1156.55,1834.15,3653.35,1477.65,1706.45,3953.7,1194.3,1327.85,419.7,21.0,45.1,207.35,1083.7,2007.85,5882.75,2657.55,1527.5,378.4,1612.2,76.65,260.7,6441.85,266.8,5124.6,962.25,1382.9,571.05,1399.35,150.0,167.2,7657.4,865.05,6153.85,174.2,1269.6,3862.55,6352.4,1348.5,50.9,471.55,5931.75,1404.65,726.1,1961.6,4194.85,4872.45,5118.95,658.95,81.05,76.95,5809.75,20.2,415.9,246.5,996.95,3145.15,265.3,20.9,21.05,4576.3,189.1,908.15,49.8,215.2,1500.95,5099.15,6385.95,159.45,6885.75,5940.85,668.85,1916.2,75.35,75.45,4613.95,7261.25,2459.8,2048.8,163.55,2888.7,2421.6,2292.75,553.4,3465.7,1210.4,1291.3,5356.45,5200.8,3237.05,576.65,433.75,1868.4,5728.55,825.7,390.4,93.55,2845.15,3894.4,886.4,1021.55,5885.4,268.4,2204.35,1259.0,309.1,6398.05,2257.75,6287.25,1662.05,1350.15,3600.65,1329.15,45.7,422.5,69.95,4627.65,6717.9,97.1,1710.45,637.4,117.95,2460.55,5464.65,2165.05,4941.8,223.15,181.1,341.45,5731.85,357.75,4616.1,4533.7,589.25,750.1,1410.25,830.85,743.5,45.3,7040.85,3865.45,6825.65,1340.1,371.65,1184.0,8477.7,7382.85,456.85,331.6,6056.15,134.6,125.5,1390.6,20.2,2511.3,2737.05,74.3,70.6,2361.8,1730.35,6404.0,165.35,1867.6,1043.3,128.6,7455.45,24.7,206.15,2030.3,5869.4,3377.8,1346.2,4946.05,4065.0,106.55,4964.7,4085.75,1742.75,6224.8,3415.25,6325.25,340.25,1683.6,3966.3,608.5,2896.6,1514.85,6792.45,4669.2,95.6,2934.3,6302.8,779.2,283.75,4600.7,5594.0,772.85,71.35,857.8,7554.05,5981.65,1702.9,467.15,20.15,69.75,2931.0,1400.85,137.85,1941.5,1932.75,1423.05,970.85,5810.9,223.9,391.7,79.95,19.3,811.65,174.75,3126.85,6841.45,3754.6,1406.65,834.7,627.4,242.0,3157.0,3092.0,2168.9,980.35,65.95,711.9,1952.8,4368.85,2647.1,8477.6,54.35,4528.0,1790.65,845.6,1210.3,20.45,854.45,2429.1,100.4,5229.45,44.45,1716.45,3023.55,75.3,4837.6,2032.3,436.9,70.55,20.15,5893.95,1430.05,313.0,3871.85,458.1,2745.7,341.35,1336.8,2181.75,147.75,818.45,7133.45,348.8,128.6,4674.4,1737.45,1498.85,50.1,1797.75,498.1,2624.25,184.1,5498.8,4845.4,369.1,6096.9,160.75,2684.35,3004.15,6994.8,273.25,5483.9,1233.65,527.9,4985.9,1258.35,111.4,43.95,308.1,383.65,2555.9,1284.2,7550.3,1110.05,99.6,6707.15,4164.4,5873.75,109.25,179.25,1338.15,862.4,8564.75,926.2,1718.2,5956.85,91.3,4824.45,1238.65,79.5,672.2,382.2,4264.6,1070.7,1345.85,1045.25,3003.55,467.55,7537.5,7482.1,3343.15,5427.05,587.1,100.8,161.15,7028.5,5232.9,225.85,274.7,1180.95,3370.2,7111.3,5958.85,5999.85,1648.45,5753.25,4492.9,3956.7,2625.55,1233.4,1309.0,813.45,1108.8,7349.35,294.2,929.2,740.0,754.5,3883.3,1414.2,3211.2,371.6,1246.4,95.85,2545.7,6448.85,1468.9,1013.6,6690.75,2088.75,7240.65,102.45,830.25,1588.7,829.3,302.45,712.25,1336.65,5360.75,6735.05,51.2,1010.0,4847.05,3019.7,161.65,217.55,2583.75,146.05,567.45,7711.25,1384.75,5481.25,8124.2,827.3,70.9,220.95,3673.6,49.85,576.65,2331.3,74.5,4495.65,6941.2,340.35,1789.9,908.55,1043.35,6822.15,71.55,157.55,5029.2,581.7,7318.2,420.45,7576.7,633.4,321.65,4965.0,6151.9,1253.9,25.15,45.2,5893.15,5420.65,2627.35,5037.55,743.75,6589.6,92.45,6733.15,3410.0,199.85,593.3,7288.4,5229.8,4464.8,5068.05,401.85,4451.85,6688.95,2661.1,73.05,1211.65,7030.65,1020.2,5597.65,6223.3,1024.65,2933.2,1258.3,82.9,7789.6,2067.0,3452.55,5468.95,1802.15,733.55,3021.45,3687.85,1391.15,274.35,1214.05,5510.65,1322.85,1973.75,2196.3,7843.55,3211.9,130.15,692.35,85.5,6849.4,203.95,2117.2,6565.85,424.75,3306.85,168.9,253.8,197.4,3838.2,2065.15,5064.45,1140.05,2447.45,1263.9,45.95,1838.15,44.75,1185.0,1743.9,70.15,85.55,8529.5,6549.45,7806.5,25.7,6287.3,3251.85,50.6,7904.25,729.95,2654.05,2416.55,3520.75,5969.95,226.8,1082.75,565.75,4370.75,90.05,2169.4,550.6,55.45,6300.85,160.05,436.6,1781.35,3467.0,5552.5,2835.5,3591.25,88.35,63.75,617.15,870.25,601.25,111.65,6046.1,3923.8,777.3,512.45,141.45,892.15,1682.05,3398.9,4984.85,1445.3,305.55,507.9,3640.45,2673.45,389.8,2401.05,651.55,156.1,2796.35,70.05,407.05,6465.0,511.25,646.05,35.9,3777.15,4903.15,1653.85,47.5,1306.3,463.6,60.65,824.85,2094.65,438.9,847.3,329.75,674.55,162.55,546.95,7887.25,3186.65,1972.35,1527.35,490.55,1531.4,683.25,8058.85,2847.4,1133.9,294.45,1719.15,461.7,1160.45,5199.8,5163.3,162.3,883.35,1341.5,70.45,659.45,77.15,35.25,1205.05,4917.9,201.0,599.3,1733.15,5149.5,4677.1,119.3,4849.1,5424.25,5878.9,244.85,220.75,4261.2,5574.75,1501.75,89.75,4541.2,255.5,1072.0,2509.25,1440.75,1715.65,5333.35,3895.35,869.9,706.85,512.25,2636.05,814.75,388.6,93.45,1389.85,2894.55],\"y0\":\" \",\"yaxis\":\"y\",\"type\":\"box\"}],                        {\"template\":{\"data\":{\"histogram2dcontour\":[{\"type\":\"histogram2dcontour\",\"colorbar\":{\"outlinewidth\":0,\"ticks\":\"\"},\"colorscale\":[[0.0,\"#0d0887\"],[0.1111111111111111,\"#46039f\"],[0.2222222222222222,\"#7201a8\"],[0.3333333333333333,\"#9c179e\"],[0.4444444444444444,\"#bd3786\"],[0.5555555555555556,\"#d8576b\"],[0.6666666666666666,\"#ed7953\"],[0.7777777777777778,\"#fb9f3a\"],[0.8888888888888888,\"#fdca26\"],[1.0,\"#f0f921\"]]}],\"choropleth\":[{\"type\":\"choropleth\",\"colorbar\":{\"outlinewidth\":0,\"ticks\":\"\"}}],\"histogram2d\":[{\"type\":\"histogram2d\",\"colorbar\":{\"outlinewidth\":0,\"ticks\":\"\"},\"colorscale\":[[0.0,\"#0d0887\"],[0.1111111111111111,\"#46039f\"],[0.2222222222222222,\"#7201a8\"],[0.3333333333333333,\"#9c179e\"],[0.4444444444444444,\"#bd3786\"],[0.5555555555555556,\"#d8576b\"],[0.6666666666666666,\"#ed7953\"],[0.7777777777777778,\"#fb9f3a\"],[0.8888888888888888,\"#fdca26\"],[1.0,\"#f0f921\"]]}],\"heatmap\":[{\"type\":\"heatmap\",\"colorbar\":{\"outlinewidth\":0,\"ticks\":\"\"},\"colorscale\":[[0.0,\"#0d0887\"],[0.1111111111111111,\"#46039f\"],[0.2222222222222222,\"#7201a8\"],[0.3333333333333333,\"#9c179e\"],[0.4444444444444444,\"#bd3786\"],[0.5555555555555556,\"#d8576b\"],[0.6666666666666666,\"#ed7953\"],[0.7777777777777778,\"#fb9f3a\"],[0.8888888888888888,\"#fdca26\"],[1.0,\"#f0f921\"]]}],\"heatmapgl\":[{\"type\":\"heatmapgl\",\"colorbar\":{\"outlinewidth\":0,\"ticks\":\"\"},\"colorscale\":[[0.0,\"#0d0887\"],[0.1111111111111111,\"#46039f\"],[0.2222222222222222,\"#7201a8\"],[0.3333333333333333,\"#9c179e\"],[0.4444444444444444,\"#bd3786\"],[0.5555555555555556,\"#d8576b\"],[0.6666666666666666,\"#ed7953\"],[0.7777777777777778,\"#fb9f3a\"],[0.8888888888888888,\"#fdca26\"],[1.0,\"#f0f921\"]]}],\"contourcarpet\":[{\"type\":\"contourcarpet\",\"colorbar\":{\"outlinewidth\":0,\"ticks\":\"\"}}],\"contour\":[{\"type\":\"contour\",\"colorbar\":{\"outlinewidth\":0,\"ticks\":\"\"},\"colorscale\":[[0.0,\"#0d0887\"],[0.1111111111111111,\"#46039f\"],[0.2222222222222222,\"#7201a8\"],[0.3333333333333333,\"#9c179e\"],[0.4444444444444444,\"#bd3786\"],[0.5555555555555556,\"#d8576b\"],[0.6666666666666666,\"#ed7953\"],[0.7777777777777778,\"#fb9f3a\"],[0.8888888888888888,\"#fdca26\"],[1.0,\"#f0f921\"]]}],\"surface\":[{\"type\":\"surface\",\"colorbar\":{\"outlinewidth\":0,\"ticks\":\"\"},\"colorscale\":[[0.0,\"#0d0887\"],[0.1111111111111111,\"#46039f\"],[0.2222222222222222,\"#7201a8\"],[0.3333333333333333,\"#9c179e\"],[0.4444444444444444,\"#bd3786\"],[0.5555555555555556,\"#d8576b\"],[0.6666666666666666,\"#ed7953\"],[0.7777777777777778,\"#fb9f3a\"],[0.8888888888888888,\"#fdca26\"],[1.0,\"#f0f921\"]]}],\"mesh3d\":[{\"type\":\"mesh3d\",\"colorbar\":{\"outlinewidth\":0,\"ticks\":\"\"}}],\"scatter\":[{\"fillpattern\":{\"fillmode\":\"overlay\",\"size\":10,\"solidity\":0.2},\"type\":\"scatter\"}],\"parcoords\":[{\"type\":\"parcoords\",\"line\":{\"colorbar\":{\"outlinewidth\":0,\"ticks\":\"\"}}}],\"scatterpolargl\":[{\"type\":\"scatterpolargl\",\"marker\":{\"colorbar\":{\"outlinewidth\":0,\"ticks\":\"\"}}}],\"bar\":[{\"error_x\":{\"color\":\"#2a3f5f\"},\"error_y\":{\"color\":\"#2a3f5f\"},\"marker\":{\"line\":{\"color\":\"#E5ECF6\",\"width\":0.5},\"pattern\":{\"fillmode\":\"overlay\",\"size\":10,\"solidity\":0.2}},\"type\":\"bar\"}],\"scattergeo\":[{\"type\":\"scattergeo\",\"marker\":{\"colorbar\":{\"outlinewidth\":0,\"ticks\":\"\"}}}],\"scatterpolar\":[{\"type\":\"scatterpolar\",\"marker\":{\"colorbar\":{\"outlinewidth\":0,\"ticks\":\"\"}}}],\"histogram\":[{\"marker\":{\"pattern\":{\"fillmode\":\"overlay\",\"size\":10,\"solidity\":0.2}},\"type\":\"histogram\"}],\"scattergl\":[{\"type\":\"scattergl\",\"marker\":{\"colorbar\":{\"outlinewidth\":0,\"ticks\":\"\"}}}],\"scatter3d\":[{\"type\":\"scatter3d\",\"line\":{\"colorbar\":{\"outlinewidth\":0,\"ticks\":\"\"}},\"marker\":{\"colorbar\":{\"outlinewidth\":0,\"ticks\":\"\"}}}],\"scattermapbox\":[{\"type\":\"scattermapbox\",\"marker\":{\"colorbar\":{\"outlinewidth\":0,\"ticks\":\"\"}}}],\"scatterternary\":[{\"type\":\"scatterternary\",\"marker\":{\"colorbar\":{\"outlinewidth\":0,\"ticks\":\"\"}}}],\"scattercarpet\":[{\"type\":\"scattercarpet\",\"marker\":{\"colorbar\":{\"outlinewidth\":0,\"ticks\":\"\"}}}],\"carpet\":[{\"aaxis\":{\"endlinecolor\":\"#2a3f5f\",\"gridcolor\":\"white\",\"linecolor\":\"white\",\"minorgridcolor\":\"white\",\"startlinecolor\":\"#2a3f5f\"},\"baxis\":{\"endlinecolor\":\"#2a3f5f\",\"gridcolor\":\"white\",\"linecolor\":\"white\",\"minorgridcolor\":\"white\",\"startlinecolor\":\"#2a3f5f\"},\"type\":\"carpet\"}],\"table\":[{\"cells\":{\"fill\":{\"color\":\"#EBF0F8\"},\"line\":{\"color\":\"white\"}},\"header\":{\"fill\":{\"color\":\"#C8D4E3\"},\"line\":{\"color\":\"white\"}},\"type\":\"table\"}],\"barpolar\":[{\"marker\":{\"line\":{\"color\":\"#E5ECF6\",\"width\":0.5},\"pattern\":{\"fillmode\":\"overlay\",\"size\":10,\"solidity\":0.2}},\"type\":\"barpolar\"}],\"pie\":[{\"automargin\":true,\"type\":\"pie\"}]},\"layout\":{\"autotypenumbers\":\"strict\",\"colorway\":[\"#636efa\",\"#EF553B\",\"#00cc96\",\"#ab63fa\",\"#FFA15A\",\"#19d3f3\",\"#FF6692\",\"#B6E880\",\"#FF97FF\",\"#FECB52\"],\"font\":{\"color\":\"#2a3f5f\"},\"hovermode\":\"closest\",\"hoverlabel\":{\"align\":\"left\"},\"paper_bgcolor\":\"white\",\"plot_bgcolor\":\"#E5ECF6\",\"polar\":{\"bgcolor\":\"#E5ECF6\",\"angularaxis\":{\"gridcolor\":\"white\",\"linecolor\":\"white\",\"ticks\":\"\"},\"radialaxis\":{\"gridcolor\":\"white\",\"linecolor\":\"white\",\"ticks\":\"\"}},\"ternary\":{\"bgcolor\":\"#E5ECF6\",\"aaxis\":{\"gridcolor\":\"white\",\"linecolor\":\"white\",\"ticks\":\"\"},\"baxis\":{\"gridcolor\":\"white\",\"linecolor\":\"white\",\"ticks\":\"\"},\"caxis\":{\"gridcolor\":\"white\",\"linecolor\":\"white\",\"ticks\":\"\"}},\"coloraxis\":{\"colorbar\":{\"outlinewidth\":0,\"ticks\":\"\"}},\"colorscale\":{\"sequential\":[[0.0,\"#0d0887\"],[0.1111111111111111,\"#46039f\"],[0.2222222222222222,\"#7201a8\"],[0.3333333333333333,\"#9c179e\"],[0.4444444444444444,\"#bd3786\"],[0.5555555555555556,\"#d8576b\"],[0.6666666666666666,\"#ed7953\"],[0.7777777777777778,\"#fb9f3a\"],[0.8888888888888888,\"#fdca26\"],[1.0,\"#f0f921\"]],\"sequentialminus\":[[0.0,\"#0d0887\"],[0.1111111111111111,\"#46039f\"],[0.2222222222222222,\"#7201a8\"],[0.3333333333333333,\"#9c179e\"],[0.4444444444444444,\"#bd3786\"],[0.5555555555555556,\"#d8576b\"],[0.6666666666666666,\"#ed7953\"],[0.7777777777777778,\"#fb9f3a\"],[0.8888888888888888,\"#fdca26\"],[1.0,\"#f0f921\"]],\"diverging\":[[0,\"#8e0152\"],[0.1,\"#c51b7d\"],[0.2,\"#de77ae\"],[0.3,\"#f1b6da\"],[0.4,\"#fde0ef\"],[0.5,\"#f7f7f7\"],[0.6,\"#e6f5d0\"],[0.7,\"#b8e186\"],[0.8,\"#7fbc41\"],[0.9,\"#4d9221\"],[1,\"#276419\"]]},\"xaxis\":{\"gridcolor\":\"white\",\"linecolor\":\"white\",\"ticks\":\"\",\"title\":{\"standoff\":15},\"zerolinecolor\":\"white\",\"automargin\":true,\"zerolinewidth\":2},\"yaxis\":{\"gridcolor\":\"white\",\"linecolor\":\"white\",\"ticks\":\"\",\"title\":{\"standoff\":15},\"zerolinecolor\":\"white\",\"automargin\":true,\"zerolinewidth\":2},\"scene\":{\"xaxis\":{\"backgroundcolor\":\"#E5ECF6\",\"gridcolor\":\"white\",\"linecolor\":\"white\",\"showbackground\":true,\"ticks\":\"\",\"zerolinecolor\":\"white\",\"gridwidth\":2},\"yaxis\":{\"backgroundcolor\":\"#E5ECF6\",\"gridcolor\":\"white\",\"linecolor\":\"white\",\"showbackground\":true,\"ticks\":\"\",\"zerolinecolor\":\"white\",\"gridwidth\":2},\"zaxis\":{\"backgroundcolor\":\"#E5ECF6\",\"gridcolor\":\"white\",\"linecolor\":\"white\",\"showbackground\":true,\"ticks\":\"\",\"zerolinecolor\":\"white\",\"gridwidth\":2}},\"shapedefaults\":{\"line\":{\"color\":\"#2a3f5f\"}},\"annotationdefaults\":{\"arrowcolor\":\"#2a3f5f\",\"arrowhead\":0,\"arrowwidth\":1},\"geo\":{\"bgcolor\":\"white\",\"landcolor\":\"#E5ECF6\",\"subunitcolor\":\"white\",\"showland\":true,\"showlakes\":true,\"lakecolor\":\"white\"},\"title\":{\"x\":0.05},\"mapbox\":{\"style\":\"light\"}}},\"xaxis\":{\"anchor\":\"y\",\"domain\":[0.0,1.0]},\"yaxis\":{\"anchor\":\"x\",\"domain\":[0.0,1.0],\"title\":{\"text\":\"Valores\"}},\"legend\":{\"tracegroupgap\":0},\"title\":{\"text\":\"Box Plot da total_pago (Valores Diferentes de Zero)\"},\"boxmode\":\"group\"},                        {\"responsive\": true}                    ).then(function(){\n",
              "                            \n",
              "var gd = document.getElementById('e2d2a3c2-fee6-46a8-a9f6-a419af2e40e6');\n",
              "var x = new MutationObserver(function (mutations, observer) {{\n",
              "        var display = window.getComputedStyle(gd).display;\n",
              "        if (!display || display === 'none') {{\n",
              "            console.log([gd, 'removed!']);\n",
              "            Plotly.purge(gd);\n",
              "            observer.disconnect();\n",
              "        }}\n",
              "}});\n",
              "\n",
              "// Listen for the removal of the full notebook cells\n",
              "var notebookContainer = gd.closest('#notebook-container');\n",
              "if (notebookContainer) {{\n",
              "    x.observe(notebookContainer, {childList: true});\n",
              "}}\n",
              "\n",
              "// Listen for the clearing of the current output cell\n",
              "var outputEl = gd.closest('.output');\n",
              "if (outputEl) {{\n",
              "    x.observe(outputEl, {childList: true});\n",
              "}}\n",
              "\n",
              "                        })                };                            </script>        </div>\n",
              "</body>\n",
              "</html>"
            ]
          },
          "metadata": {}
        }
      ]
    },
    {
      "cell_type": "code",
      "source": [
        "#visualizando as ocorrencias onde total_pago > 8000\n",
        "df[df['total_pago'] > 8500]"
      ],
      "metadata": {
        "colab": {
          "base_uri": "https://localhost:8080/",
          "height": 167
        },
        "id": "4dfnWmoCqYt2",
        "outputId": "23e7df6c-1ce8-46e4-abc3-e62da291ac8a"
      },
      "execution_count": 36,
      "outputs": [
        {
          "output_type": "execute_result",
          "data": {
            "text/plain": [
              "      customerID  genero  Idoso Casado Dependents  tempo_cliente  \\\n",
              "2175  8879-XUAHX    Male      0    Yes         No             71   \n",
              "2356  6650-BWFRT  Female      0    Yes         No             72   \n",
              "\n",
              "      PhoneService Servico_Internet Servico_Seguranca Suporte_Tecnico  \\\n",
              "2175             1      Fiber optic               Yes             Yes   \n",
              "2356             1      Fiber optic               Yes             Yes   \n",
              "\n",
              "     StreamingTV Tipo_Contrato            PaymentMethod  pagamento_mensal  \\\n",
              "2175         Yes      Two year         Electronic check            116.25   \n",
              "2356         Yes      Two year  Credit card (automatic)            117.15   \n",
              "\n",
              "      total_pago  churn  \n",
              "2175     8564.75      0  \n",
              "2356     8529.50      0  "
            ],
            "text/html": [
              "\n",
              "  <div id=\"df-8f7a2006-9d56-43b2-a87f-230486d5c5dd\" class=\"colab-df-container\">\n",
              "    <div>\n",
              "<style scoped>\n",
              "    .dataframe tbody tr th:only-of-type {\n",
              "        vertical-align: middle;\n",
              "    }\n",
              "\n",
              "    .dataframe tbody tr th {\n",
              "        vertical-align: top;\n",
              "    }\n",
              "\n",
              "    .dataframe thead th {\n",
              "        text-align: right;\n",
              "    }\n",
              "</style>\n",
              "<table border=\"1\" class=\"dataframe\">\n",
              "  <thead>\n",
              "    <tr style=\"text-align: right;\">\n",
              "      <th></th>\n",
              "      <th>customerID</th>\n",
              "      <th>genero</th>\n",
              "      <th>Idoso</th>\n",
              "      <th>Casado</th>\n",
              "      <th>Dependents</th>\n",
              "      <th>tempo_cliente</th>\n",
              "      <th>PhoneService</th>\n",
              "      <th>Servico_Internet</th>\n",
              "      <th>Servico_Seguranca</th>\n",
              "      <th>Suporte_Tecnico</th>\n",
              "      <th>StreamingTV</th>\n",
              "      <th>Tipo_Contrato</th>\n",
              "      <th>PaymentMethod</th>\n",
              "      <th>pagamento_mensal</th>\n",
              "      <th>total_pago</th>\n",
              "      <th>churn</th>\n",
              "    </tr>\n",
              "  </thead>\n",
              "  <tbody>\n",
              "    <tr>\n",
              "      <th>2175</th>\n",
              "      <td>8879-XUAHX</td>\n",
              "      <td>Male</td>\n",
              "      <td>0</td>\n",
              "      <td>Yes</td>\n",
              "      <td>No</td>\n",
              "      <td>71</td>\n",
              "      <td>1</td>\n",
              "      <td>Fiber optic</td>\n",
              "      <td>Yes</td>\n",
              "      <td>Yes</td>\n",
              "      <td>Yes</td>\n",
              "      <td>Two year</td>\n",
              "      <td>Electronic check</td>\n",
              "      <td>116.25</td>\n",
              "      <td>8564.75</td>\n",
              "      <td>0</td>\n",
              "    </tr>\n",
              "    <tr>\n",
              "      <th>2356</th>\n",
              "      <td>6650-BWFRT</td>\n",
              "      <td>Female</td>\n",
              "      <td>0</td>\n",
              "      <td>Yes</td>\n",
              "      <td>No</td>\n",
              "      <td>72</td>\n",
              "      <td>1</td>\n",
              "      <td>Fiber optic</td>\n",
              "      <td>Yes</td>\n",
              "      <td>Yes</td>\n",
              "      <td>Yes</td>\n",
              "      <td>Two year</td>\n",
              "      <td>Credit card (automatic)</td>\n",
              "      <td>117.15</td>\n",
              "      <td>8529.50</td>\n",
              "      <td>0</td>\n",
              "    </tr>\n",
              "  </tbody>\n",
              "</table>\n",
              "</div>\n",
              "    <div class=\"colab-df-buttons\">\n",
              "\n",
              "  <div class=\"colab-df-container\">\n",
              "    <button class=\"colab-df-convert\" onclick=\"convertToInteractive('df-8f7a2006-9d56-43b2-a87f-230486d5c5dd')\"\n",
              "            title=\"Convert this dataframe to an interactive table.\"\n",
              "            style=\"display:none;\">\n",
              "\n",
              "  <svg xmlns=\"http://www.w3.org/2000/svg\" height=\"24px\" viewBox=\"0 -960 960 960\">\n",
              "    <path d=\"M120-120v-720h720v720H120Zm60-500h600v-160H180v160Zm220 220h160v-160H400v160Zm0 220h160v-160H400v160ZM180-400h160v-160H180v160Zm440 0h160v-160H620v160ZM180-180h160v-160H180v160Zm440 0h160v-160H620v160Z\"/>\n",
              "  </svg>\n",
              "    </button>\n",
              "\n",
              "  <style>\n",
              "    .colab-df-container {\n",
              "      display:flex;\n",
              "      gap: 12px;\n",
              "    }\n",
              "\n",
              "    .colab-df-convert {\n",
              "      background-color: #E8F0FE;\n",
              "      border: none;\n",
              "      border-radius: 50%;\n",
              "      cursor: pointer;\n",
              "      display: none;\n",
              "      fill: #1967D2;\n",
              "      height: 32px;\n",
              "      padding: 0 0 0 0;\n",
              "      width: 32px;\n",
              "    }\n",
              "\n",
              "    .colab-df-convert:hover {\n",
              "      background-color: #E2EBFA;\n",
              "      box-shadow: 0px 1px 2px rgba(60, 64, 67, 0.3), 0px 1px 3px 1px rgba(60, 64, 67, 0.15);\n",
              "      fill: #174EA6;\n",
              "    }\n",
              "\n",
              "    .colab-df-buttons div {\n",
              "      margin-bottom: 4px;\n",
              "    }\n",
              "\n",
              "    [theme=dark] .colab-df-convert {\n",
              "      background-color: #3B4455;\n",
              "      fill: #D2E3FC;\n",
              "    }\n",
              "\n",
              "    [theme=dark] .colab-df-convert:hover {\n",
              "      background-color: #434B5C;\n",
              "      box-shadow: 0px 1px 3px 1px rgba(0, 0, 0, 0.15);\n",
              "      filter: drop-shadow(0px 1px 2px rgba(0, 0, 0, 0.3));\n",
              "      fill: #FFFFFF;\n",
              "    }\n",
              "  </style>\n",
              "\n",
              "    <script>\n",
              "      const buttonEl =\n",
              "        document.querySelector('#df-8f7a2006-9d56-43b2-a87f-230486d5c5dd button.colab-df-convert');\n",
              "      buttonEl.style.display =\n",
              "        google.colab.kernel.accessAllowed ? 'block' : 'none';\n",
              "\n",
              "      async function convertToInteractive(key) {\n",
              "        const element = document.querySelector('#df-8f7a2006-9d56-43b2-a87f-230486d5c5dd');\n",
              "        const dataTable =\n",
              "          await google.colab.kernel.invokeFunction('convertToInteractive',\n",
              "                                                    [key], {});\n",
              "        if (!dataTable) return;\n",
              "\n",
              "        const docLinkHtml = 'Like what you see? Visit the ' +\n",
              "          '<a target=\"_blank\" href=https://colab.research.google.com/notebooks/data_table.ipynb>data table notebook</a>'\n",
              "          + ' to learn more about interactive tables.';\n",
              "        element.innerHTML = '';\n",
              "        dataTable['output_type'] = 'display_data';\n",
              "        await google.colab.output.renderOutput(dataTable, element);\n",
              "        const docLink = document.createElement('div');\n",
              "        docLink.innerHTML = docLinkHtml;\n",
              "        element.appendChild(docLink);\n",
              "      }\n",
              "    </script>\n",
              "  </div>\n",
              "\n",
              "\n",
              "    <div id=\"df-f87cc397-0514-4d61-9526-b68a080bc0e9\">\n",
              "      <button class=\"colab-df-quickchart\" onclick=\"quickchart('df-f87cc397-0514-4d61-9526-b68a080bc0e9')\"\n",
              "                title=\"Suggest charts\"\n",
              "                style=\"display:none;\">\n",
              "\n",
              "<svg xmlns=\"http://www.w3.org/2000/svg\" height=\"24px\"viewBox=\"0 0 24 24\"\n",
              "     width=\"24px\">\n",
              "    <g>\n",
              "        <path d=\"M19 3H5c-1.1 0-2 .9-2 2v14c0 1.1.9 2 2 2h14c1.1 0 2-.9 2-2V5c0-1.1-.9-2-2-2zM9 17H7v-7h2v7zm4 0h-2V7h2v10zm4 0h-2v-4h2v4z\"/>\n",
              "    </g>\n",
              "</svg>\n",
              "      </button>\n",
              "\n",
              "<style>\n",
              "  .colab-df-quickchart {\n",
              "      --bg-color: #E8F0FE;\n",
              "      --fill-color: #1967D2;\n",
              "      --hover-bg-color: #E2EBFA;\n",
              "      --hover-fill-color: #174EA6;\n",
              "      --disabled-fill-color: #AAA;\n",
              "      --disabled-bg-color: #DDD;\n",
              "  }\n",
              "\n",
              "  [theme=dark] .colab-df-quickchart {\n",
              "      --bg-color: #3B4455;\n",
              "      --fill-color: #D2E3FC;\n",
              "      --hover-bg-color: #434B5C;\n",
              "      --hover-fill-color: #FFFFFF;\n",
              "      --disabled-bg-color: #3B4455;\n",
              "      --disabled-fill-color: #666;\n",
              "  }\n",
              "\n",
              "  .colab-df-quickchart {\n",
              "    background-color: var(--bg-color);\n",
              "    border: none;\n",
              "    border-radius: 50%;\n",
              "    cursor: pointer;\n",
              "    display: none;\n",
              "    fill: var(--fill-color);\n",
              "    height: 32px;\n",
              "    padding: 0;\n",
              "    width: 32px;\n",
              "  }\n",
              "\n",
              "  .colab-df-quickchart:hover {\n",
              "    background-color: var(--hover-bg-color);\n",
              "    box-shadow: 0 1px 2px rgba(60, 64, 67, 0.3), 0 1px 3px 1px rgba(60, 64, 67, 0.15);\n",
              "    fill: var(--button-hover-fill-color);\n",
              "  }\n",
              "\n",
              "  .colab-df-quickchart-complete:disabled,\n",
              "  .colab-df-quickchart-complete:disabled:hover {\n",
              "    background-color: var(--disabled-bg-color);\n",
              "    fill: var(--disabled-fill-color);\n",
              "    box-shadow: none;\n",
              "  }\n",
              "\n",
              "  .colab-df-spinner {\n",
              "    border: 2px solid var(--fill-color);\n",
              "    border-color: transparent;\n",
              "    border-bottom-color: var(--fill-color);\n",
              "    animation:\n",
              "      spin 1s steps(1) infinite;\n",
              "  }\n",
              "\n",
              "  @keyframes spin {\n",
              "    0% {\n",
              "      border-color: transparent;\n",
              "      border-bottom-color: var(--fill-color);\n",
              "      border-left-color: var(--fill-color);\n",
              "    }\n",
              "    20% {\n",
              "      border-color: transparent;\n",
              "      border-left-color: var(--fill-color);\n",
              "      border-top-color: var(--fill-color);\n",
              "    }\n",
              "    30% {\n",
              "      border-color: transparent;\n",
              "      border-left-color: var(--fill-color);\n",
              "      border-top-color: var(--fill-color);\n",
              "      border-right-color: var(--fill-color);\n",
              "    }\n",
              "    40% {\n",
              "      border-color: transparent;\n",
              "      border-right-color: var(--fill-color);\n",
              "      border-top-color: var(--fill-color);\n",
              "    }\n",
              "    60% {\n",
              "      border-color: transparent;\n",
              "      border-right-color: var(--fill-color);\n",
              "    }\n",
              "    80% {\n",
              "      border-color: transparent;\n",
              "      border-right-color: var(--fill-color);\n",
              "      border-bottom-color: var(--fill-color);\n",
              "    }\n",
              "    90% {\n",
              "      border-color: transparent;\n",
              "      border-bottom-color: var(--fill-color);\n",
              "    }\n",
              "  }\n",
              "</style>\n",
              "\n",
              "      <script>\n",
              "        async function quickchart(key) {\n",
              "          const quickchartButtonEl =\n",
              "            document.querySelector('#' + key + ' button');\n",
              "          quickchartButtonEl.disabled = true;  // To prevent multiple clicks.\n",
              "          quickchartButtonEl.classList.add('colab-df-spinner');\n",
              "          try {\n",
              "            const charts = await google.colab.kernel.invokeFunction(\n",
              "                'suggestCharts', [key], {});\n",
              "          } catch (error) {\n",
              "            console.error('Error during call to suggestCharts:', error);\n",
              "          }\n",
              "          quickchartButtonEl.classList.remove('colab-df-spinner');\n",
              "          quickchartButtonEl.classList.add('colab-df-quickchart-complete');\n",
              "        }\n",
              "        (() => {\n",
              "          let quickchartButtonEl =\n",
              "            document.querySelector('#df-f87cc397-0514-4d61-9526-b68a080bc0e9 button');\n",
              "          quickchartButtonEl.style.display =\n",
              "            google.colab.kernel.accessAllowed ? 'block' : 'none';\n",
              "        })();\n",
              "      </script>\n",
              "    </div>\n",
              "\n",
              "    </div>\n",
              "  </div>\n"
            ],
            "application/vnd.google.colaboratory.intrinsic+json": {
              "type": "dataframe",
              "summary": "{\n  \"name\": \"df[df['total_pago'] > 8500]\",\n  \"rows\": 2,\n  \"fields\": [\n    {\n      \"column\": \"customerID\",\n      \"properties\": {\n        \"dtype\": \"string\",\n        \"num_unique_values\": 2,\n        \"samples\": [\n          \"6650-BWFRT\",\n          \"8879-XUAHX\"\n        ],\n        \"semantic_type\": \"\",\n        \"description\": \"\"\n      }\n    },\n    {\n      \"column\": \"genero\",\n      \"properties\": {\n        \"dtype\": \"string\",\n        \"num_unique_values\": 2,\n        \"samples\": [\n          \"Female\",\n          \"Male\"\n        ],\n        \"semantic_type\": \"\",\n        \"description\": \"\"\n      }\n    },\n    {\n      \"column\": \"Idoso\",\n      \"properties\": {\n        \"dtype\": \"number\",\n        \"std\": 0,\n        \"min\": 0,\n        \"max\": 0,\n        \"num_unique_values\": 1,\n        \"samples\": [\n          0\n        ],\n        \"semantic_type\": \"\",\n        \"description\": \"\"\n      }\n    },\n    {\n      \"column\": \"Casado\",\n      \"properties\": {\n        \"dtype\": \"string\",\n        \"num_unique_values\": 1,\n        \"samples\": [\n          \"Yes\"\n        ],\n        \"semantic_type\": \"\",\n        \"description\": \"\"\n      }\n    },\n    {\n      \"column\": \"Dependents\",\n      \"properties\": {\n        \"dtype\": \"string\",\n        \"num_unique_values\": 1,\n        \"samples\": [\n          \"No\"\n        ],\n        \"semantic_type\": \"\",\n        \"description\": \"\"\n      }\n    },\n    {\n      \"column\": \"tempo_cliente\",\n      \"properties\": {\n        \"dtype\": \"number\",\n        \"std\": 0,\n        \"min\": 71,\n        \"max\": 72,\n        \"num_unique_values\": 2,\n        \"samples\": [\n          72\n        ],\n        \"semantic_type\": \"\",\n        \"description\": \"\"\n      }\n    },\n    {\n      \"column\": \"PhoneService\",\n      \"properties\": {\n        \"dtype\": \"number\",\n        \"std\": 0,\n        \"min\": 1,\n        \"max\": 1,\n        \"num_unique_values\": 1,\n        \"samples\": [\n          1\n        ],\n        \"semantic_type\": \"\",\n        \"description\": \"\"\n      }\n    },\n    {\n      \"column\": \"Servico_Internet\",\n      \"properties\": {\n        \"dtype\": \"string\",\n        \"num_unique_values\": 1,\n        \"samples\": [\n          \"Fiber optic\"\n        ],\n        \"semantic_type\": \"\",\n        \"description\": \"\"\n      }\n    },\n    {\n      \"column\": \"Servico_Seguranca\",\n      \"properties\": {\n        \"dtype\": \"string\",\n        \"num_unique_values\": 1,\n        \"samples\": [\n          \"Yes\"\n        ],\n        \"semantic_type\": \"\",\n        \"description\": \"\"\n      }\n    },\n    {\n      \"column\": \"Suporte_Tecnico\",\n      \"properties\": {\n        \"dtype\": \"string\",\n        \"num_unique_values\": 1,\n        \"samples\": [\n          \"Yes\"\n        ],\n        \"semantic_type\": \"\",\n        \"description\": \"\"\n      }\n    },\n    {\n      \"column\": \"StreamingTV\",\n      \"properties\": {\n        \"dtype\": \"string\",\n        \"num_unique_values\": 1,\n        \"samples\": [\n          \"Yes\"\n        ],\n        \"semantic_type\": \"\",\n        \"description\": \"\"\n      }\n    },\n    {\n      \"column\": \"Tipo_Contrato\",\n      \"properties\": {\n        \"dtype\": \"string\",\n        \"num_unique_values\": 1,\n        \"samples\": [\n          \"Two year\"\n        ],\n        \"semantic_type\": \"\",\n        \"description\": \"\"\n      }\n    },\n    {\n      \"column\": \"PaymentMethod\",\n      \"properties\": {\n        \"dtype\": \"string\",\n        \"num_unique_values\": 2,\n        \"samples\": [\n          \"Credit card (automatic)\"\n        ],\n        \"semantic_type\": \"\",\n        \"description\": \"\"\n      }\n    },\n    {\n      \"column\": \"pagamento_mensal\",\n      \"properties\": {\n        \"dtype\": \"number\",\n        \"std\": 0.6363961030678968,\n        \"min\": 116.25,\n        \"max\": 117.15,\n        \"num_unique_values\": 2,\n        \"samples\": [\n          117.15\n        ],\n        \"semantic_type\": \"\",\n        \"description\": \"\"\n      }\n    },\n    {\n      \"column\": \"total_pago\",\n      \"properties\": {\n        \"dtype\": \"number\",\n        \"std\": 24.9255140368258,\n        \"min\": 8529.5,\n        \"max\": 8564.75,\n        \"num_unique_values\": 2,\n        \"samples\": [\n          8529.5\n        ],\n        \"semantic_type\": \"\",\n        \"description\": \"\"\n      }\n    },\n    {\n      \"column\": \"churn\",\n      \"properties\": {\n        \"dtype\": \"number\",\n        \"std\": 0,\n        \"min\": 0,\n        \"max\": 0,\n        \"num_unique_values\": 1,\n        \"samples\": [\n          0\n        ],\n        \"semantic_type\": \"\",\n        \"description\": \"\"\n      }\n    }\n  ]\n}"
            }
          },
          "metadata": {},
          "execution_count": 36
        }
      ]
    },
    {
      "cell_type": "code",
      "source": [
        "print(\"Porcentagem de registros onde 'total_pago' > 8000:\",\n",
        "      (len(df[df['total_pago'] > 8000]) / len(df)) * 100)"
      ],
      "metadata": {
        "colab": {
          "base_uri": "https://localhost:8080/"
        },
        "id": "CBe3eZR2rMmP",
        "outputId": "be6bc849-06cb-4a87-8669-856efbe6c145"
      },
      "execution_count": 37,
      "outputs": [
        {
          "output_type": "stream",
          "name": "stdout",
          "text": [
            "Porcentagem de registros onde 'total_pago' > 8000: 1.2459807073954985\n"
          ]
        }
      ]
    },
    {
      "cell_type": "markdown",
      "source": [
        "Melhor opção a ser feita é manter e analisar separadamente, pois os dados equivale a 1% do DataFrame."
      ],
      "metadata": {
        "id": "1Qo_p1UF0pEz"
      }
    },
    {
      "cell_type": "code",
      "source": [
        "# BoxPlot da variavel pagamento_mensal\n",
        "df_nao_zero = df[df['pagamento_mensal'] != 0]\n",
        "\n",
        "fig = px.box(df_nao_zero, y='pagamento_mensal', title='Box Plot da pagamento_mensal (Valores Diferentes de Zero)', labels={'pagamento_mensal': 'Valores'})\n",
        "fig.show()"
      ],
      "metadata": {
        "colab": {
          "base_uri": "https://localhost:8080/",
          "height": 542
        },
        "id": "Zvc1iU7407-j",
        "outputId": "cadc96da-3317-497b-a344-3668869214e3"
      },
      "execution_count": 38,
      "outputs": [
        {
          "output_type": "display_data",
          "data": {
            "text/html": [
              "<html>\n",
              "<head><meta charset=\"utf-8\" /></head>\n",
              "<body>\n",
              "    <div>            <script src=\"https://cdnjs.cloudflare.com/ajax/libs/mathjax/2.7.5/MathJax.js?config=TeX-AMS-MML_SVG\"></script><script type=\"text/javascript\">if (window.MathJax && window.MathJax.Hub && window.MathJax.Hub.Config) {window.MathJax.Hub.Config({SVG: {font: \"STIX-Web\"}});}</script>                <script type=\"text/javascript\">window.PlotlyConfig = {MathJaxConfig: 'local'};</script>\n",
              "        <script charset=\"utf-8\" src=\"https://cdn.plot.ly/plotly-2.35.2.min.js\"></script>                <div id=\"c7157ec6-72a2-4ad5-932e-77705875e810\" class=\"plotly-graph-div\" style=\"height:525px; width:100%;\"></div>            <script type=\"text/javascript\">                                    window.PLOTLYENV=window.PLOTLYENV || {};                                    if (document.getElementById(\"c7157ec6-72a2-4ad5-932e-77705875e810\")) {                    Plotly.newPlot(                        \"c7157ec6-72a2-4ad5-932e-77705875e810\",                        [{\"alignmentgroup\":\"True\",\"hovertemplate\":\"Valores=%{y}\\u003cextra\\u003e\\u003c\\u002fextra\\u003e\",\"legendgroup\":\"\",\"marker\":{\"color\":\"#636efa\"},\"name\":\"\",\"notched\":false,\"offsetgroup\":\"\",\"orientation\":\"v\",\"showlegend\":false,\"x0\":\" \",\"xaxis\":\"x\",\"y\":[29.85,56.95,53.85,65.60756321839081,65.60756321839081,65.60756321839081,65.60756321839081,65.60756321839081,65.60756321839081,65.60756321839081,65.60756321839081,65.60756321839081,65.60756321839081,65.60756321839081,65.60756321839081,65.60756321839081,65.60756321839081,65.60756321839081,65.60756321839081,65.60756321839081,65.60756321839081,65.60756321839081,65.60756321839081,65.60756321839081,65.60756321839081,65.60756321839081,65.60756321839081,65.60756321839081,65.60756321839081,65.60756321839081,65.60756321839081,65.60756321839081,65.60756321839081,65.60756321839081,65.60756321839081,65.60756321839081,65.60756321839081,65.60756321839081,65.60756321839081,65.60756321839081,65.60756321839081,65.60756321839081,65.60756321839081,65.60756321839081,65.60756321839081,65.60756321839081,65.60756321839081,65.60756321839081,65.60756321839081,65.60756321839081,65.60756321839081,65.60756321839081,65.60756321839081,65.60756321839081,65.60756321839081,65.60756321839081,65.60756321839081,65.60756321839081,65.60756321839081,65.60756321839081,65.60756321839081,65.60756321839081,65.60756321839081,65.60756321839081,65.60756321839081,65.60756321839081,65.60756321839081,65.60756321839081,65.60756321839081,65.60756321839081,65.60756321839081,65.60756321839081,65.60756321839081,65.60756321839081,65.60756321839081,65.60756321839081,65.60756321839081,65.60756321839081,65.60756321839081,65.60756321839081,65.60756321839081,65.60756321839081,65.60756321839081,65.60756321839081,65.60756321839081,65.60756321839081,65.60756321839081,65.60756321839081,65.60756321839081,65.60756321839081,65.60756321839081,65.60756321839081,65.60756321839081,65.60756321839081,65.60756321839081,65.60756321839081,65.60756321839081,65.60756321839081,65.60756321839081,65.60756321839081,65.60756321839081,65.60756321839081,65.60756321839081,65.60756321839081,65.60756321839081,65.60756321839081,65.60756321839081,65.60756321839081,65.60756321839081,65.60756321839081,65.60756321839081,65.60756321839081,65.60756321839081,65.60756321839081,65.60756321839081,65.60756321839081,65.60756321839081,65.60756321839081,65.60756321839081,65.60756321839081,65.60756321839081,65.60756321839081,65.60756321839081,65.60756321839081,65.60756321839081,65.60756321839081,65.60756321839081,65.60756321839081,65.60756321839081,65.60756321839081,65.60756321839081,65.60756321839081,65.60756321839081,65.60756321839081,65.60756321839081,65.60756321839081,65.60756321839081,65.60756321839081,65.60756321839081,65.60756321839081,65.60756321839081,65.60756321839081,65.60756321839081,65.60756321839081,65.60756321839081,65.60756321839081,65.60756321839081,65.60756321839081,65.60756321839081,65.60756321839081,65.60756321839081,65.60756321839081,65.60756321839081,65.60756321839081,65.60756321839081,65.60756321839081,65.60756321839081,65.60756321839081,65.60756321839081,65.60756321839081,65.60756321839081,65.60756321839081,65.60756321839081,65.60756321839081,65.60756321839081,65.60756321839081,65.60756321839081,65.60756321839081,65.60756321839081,65.60756321839081,65.60756321839081,65.60756321839081,65.60756321839081,65.60756321839081,65.60756321839081,65.60756321839081,65.60756321839081,65.60756321839081,65.60756321839081,65.60756321839081,65.60756321839081,65.60756321839081,65.60756321839081,65.60756321839081,65.60756321839081,65.60756321839081,65.60756321839081,65.60756321839081,65.60756321839081,65.60756321839081,65.60756321839081,65.60756321839081,65.60756321839081,65.60756321839081,65.60756321839081,65.60756321839081,65.60756321839081,65.60756321839081,65.60756321839081,65.60756321839081,65.60756321839081,65.60756321839081,65.60756321839081,65.60756321839081,65.60756321839081,65.60756321839081,65.60756321839081,65.60756321839081,65.60756321839081,65.60756321839081,65.60756321839081,65.60756321839081,65.60756321839081,65.60756321839081,65.60756321839081,65.60756321839081,65.60756321839081,65.60756321839081,65.60756321839081,65.60756321839081,65.60756321839081,65.60756321839081,65.60756321839081,65.60756321839081,65.60756321839081,65.60756321839081,65.60756321839081,65.60756321839081,65.60756321839081,65.60756321839081,65.60756321839081,65.60756321839081,65.60756321839081,65.60756321839081,65.60756321839081,65.60756321839081,65.60756321839081,65.60756321839081,65.60756321839081,65.60756321839081,65.60756321839081,65.60756321839081,65.60756321839081,65.60756321839081,65.60756321839081,65.60756321839081,65.60756321839081,65.60756321839081,65.60756321839081,65.60756321839081,65.60756321839081,65.60756321839081,65.60756321839081,65.60756321839081,65.60756321839081,65.60756321839081,65.60756321839081,65.60756321839081,65.60756321839081,65.60756321839081,65.60756321839081,65.60756321839081,65.60756321839081,65.60756321839081,65.60756321839081,65.60756321839081,65.60756321839081,65.60756321839081,65.60756321839081,65.60756321839081,65.60756321839081,65.60756321839081,65.60756321839081,65.60756321839081,65.60756321839081,65.60756321839081,65.60756321839081,65.60756321839081,65.60756321839081,65.60756321839081,65.60756321839081,65.60756321839081,65.60756321839081,65.60756321839081,65.60756321839081,65.60756321839081,65.60756321839081,65.60756321839081,64.9,95.45,90.4,60.3,81.85,24.8,74.9,75.55,101.15,78.75,19.25,89.05,115.05,69.35,80.6,110.05,19.9,80.3,93.15,91.5,82.45,60.0,44.8,48.6,60.05,102.7,82.9,70.35,35.9,82.65,19.85,19.2,94.9,73.85,80.6,75.8,104.6,88.15,94.8,103.4,54.65,85.75,67.45,20.5,20.25,72.1,90.4,19.45,44.95,97.0,62.8,44.6,89.15,84.8,41.9,80.25,54.1,105.25,30.75,97.1,20.2,98.8,50.3,20.55,75.9,96.5,59.95,19.15,98.65,112.6,20.6,85.65,35.75,99.75,96.1,85.1,25.35,104.95,89.65,86.75,86.2,50.65,64.8,90.85,108.1,19.95,85.45,54.75,90.4,44.0,95.6,84.8,44.3,19.9,95.05,90.05,109.9,73.95,54.6,20.05,19.75,20.05,99.45,55.9,19.7,19.8,95.4,93.95,19.9,19.6,81.35,24.45,74.95,87.35,70.65,73.25,98.7,24.8,83.3,75.3,24.3,69.85,100.55,25.7,40.7,51.65,105.1,85.95,75.6,58.25,19.4,65.2,53.45,45.4,19.75,44.45,20.85,114.05,89.85,55.05,112.95,101.55,114.65,64.8,80.4,105.9,69.55,25.05,94.75,105.5,24.7,69.75,60.2,81.05,24.4,104.15,92.9,80.8,20.0,75.1,19.65,69.45,101.15,99.8,116.05,40.05,102.1,89.7,19.9,55.95,20.65,55.0,70.05,53.6,74.7,80.25,76.05,75.7,96.1,69.0,19.65,45.3,81.45,108.5,83.55,84.5,100.15,88.6,52.55,74.35,104.8,59.0,74.4,64.05,20.4,43.75,60.9,19.8,28.45,99.7,116.25,80.7,65.2,84.05,79.45,94.1,78.0,94.2,80.5,19.85,94.3,106.45,74.35,105.45,95.0,104.8,54.3,70.05,75.2,20.05,105.4,51.6,85.5,75.6,100.05,91.25,115.75,94.7,19.6,99.9,21.1,20.05,79.95,107.15,85.0,89.55,81.55,58.45,95.65,80.6,113.1,58.95,19.55,86.05,45.55,78.95,86.3,105.05,101.9,19.75,110.3,115.6,19.35,25.6,80.35,68.75,19.9,70.6,70.2,49.3,107.25,23.6,69.7,99.5,64.3,70.85,101.9,73.5,100.25,40.4,19.25,59.6,64.9,100.3,110.85,81.05,98.05,70.5,94.55,19.65,19.0,75.3,89.2,19.0,20.0,85.7,63.25,20.1,99.15,90.4,111.9,24.9,83.5,84.3,45.6,61.65,54.85,65.55,90.35,20.4,74.55,19.95,74.25,108.65,109.55,86.65,81.0,47.85,114.55,105.25,29.95,65.0,20.55,109.8,69.5,48.85,65.60756321839081,65.60756321839081,65.60756321839081,65.60756321839081,65.60756321839081,65.60756321839081,65.60756321839081,65.60756321839081,65.60756321839081,65.60756321839081,65.60756321839081,65.60756321839081,65.60756321839081,65.60756321839081,65.60756321839081,65.60756321839081,65.60756321839081,65.60756321839081,65.60756321839081,65.60756321839081,99.45,70.9,104.55,85.25,25.4,56.15,89.55,89.85,25.25,94.55,45.7,69.65,89.5,70.0,69.55,74.6,20.1,24.8,19.65,95.1,88.85,78.8,19.85,20.35,24.25,45.25,20.05,69.55,19.5,74.75,69.65,30.2,45.65,57.8,19.85,25.55,75.05,24.85,49.15,110.35,24.55,34.7,107.95,81.4,80.0,65.60756321839081,65.60756321839081,65.60756321839081,65.60756321839081,65.60756321839081,65.60756321839081,65.60756321839081,65.60756321839081,83.4,20.45,75.25,20.55,75.1,20.05,20.65,85.15,50.15,84.95,66.5,63.3,83.15,84.9,20.55,49.25,79.85,59.6,104.65,75.3,80.1,19.55,81.0,24.7,86.0,25.4,89.15,58.25,85.65,50.35,80.35,20.2,20.55,85.95,45.35,94.5,21.25,26.25,80.85,91.7,74.2,87.25,20.35,75.5,79.05,90.15,50.6,110.45,101.0,79.35,89.85,65.0,80.45,98.55,24.1,44.05,110.8,114.95,75.05,19.25,90.05,56.7,80.15,71.35,20.25,90.35,98.55,19.7,19.85,85.9,90.35,20.8,89.25,70.3,66.85,19.9,35.8,78.85,20.4,74.25,64.8,20.45,93.35,19.9,88.9,95.8,110.65,40.3,82.0,107.0,45.35,73.35,44.8,54.75,52.2,40.6,110.0,55.3,60.85,78.4,69.65,59.85,76.9,19.85,67.65,45.0,64.2,81.7,25.55,20.0,96.75,75.65,98.5,23.8,64.2,85.35,76.8,55.2,108.55,101.3,69.55,103.25,104.0,25.25,30.4,20.05,84.6,86.2,103.7,111.2,88.0,106.35,79.15,103.1,63.95,25.8,89.45,95.6,25.55,90.95,44.85,108.55,25.05,74.1,88.8,78.85,93.25,71.4,44.4,79.2,20.4,100.0,105.0,19.8,30.85,89.9,20.55,84.85,33.15,92.0,89.8,115.8,85.15,24.85,64.35,20.5,100.15,86.05,50.8,89.0,64.8,19.8,93.4,73.65,95.1,94.65,80.6,39.0,20.5,85.55,26.4,98.2,97.55,19.95,50.8,99.7,34.8,105.1,60.15,64.75,54.65,110.1,19.3,83.9,111.25,35.8,20.05,84.35,110.5,91.2,100.55,89.3,103.85,81.1,24.6,81.2,94.3,116.1,105.55,98.9,94.4,19.5,98.3,93.85,105.6,81.35,100.5,56.4,65.35,19.95,111.25,72.85,89.0,106.1,20.05,25.2,73.55,75.4,65.55,80.7,104.55,24.15,20.45,75.4,79.7,81.7,76.3,79.4,81.15,103.75,86.45,75.1,80.6,19.3,84.6,33.6,83.25,80.85,79.05,108.05,19.9,21.05,30.15,79.85,65.5,104.1,74.4,20.5,91.35,99.05,20.5,44.95,75.6,55.1,58.95,95.1,44.7,25.45,56.75,81.75,86.1,29.8,20.5,60.9,73.25,45.7,100.3,19.25,20.85,77.35,96.0,90.55,93.85,70.1,30.35,75.95,108.05,69.9,75.25,103.75,54.95,19.5,19.6,47.85,86.6,23.75,80.6,43.8,19.75,19.15,19.6,80.3,24.35,25.25,26.1,20.0,85.3,70.0,94.3,20.7,70.3,95.35,75.5,69.55,19.85,20.0,95.85,90.1,68.95,99.55,20.75,50.15,58.65,95.9,49.5,57.45,53.65,80.1,24.4,40.05,19.5,51.05,54.35,84.7,86.1,70.35,110.0,100.6,94.9,83.75,88.3,69.75,71.6,92.1,23.65,81.85,25.1,114.7,49.15,80.9,79.45,90.45,19.3,70.2,69.75,54.25,99.3,74.0,50.25,19.8,19.65,43.65,35.5,80.75,39.5,97.1,19.55,80.0,84.7,89.55,90.6,20.05,112.4,50.2,62.25,55.7,90.05,19.65,89.25,99.05,54.0,69.75,49.05,56.75,98.05,21.1,96.65,24.5,114.5,79.2,69.55,20.05,98.85,25.75,80.95,19.6,74.3,89.7,87.65,100.45,74.75,107.45,75.35,64.95,100.45,68.5,80.55,81.25,90.4,89.55,55.7,24.8,20.0,56.15,105.2,19.55,79.75,97.45,24.25,24.6,50.15,39.6,94.4,89.85,78.95,98.85,53.85,24.25,89.45,105.25,59.5,70.55,82.5,44.85,61.6,49.05,105.65,74.65,66.25,19.4,86.05,19.15,64.7,104.05,19.25,81.95,114.65,20.0,19.8,65.15,19.65,88.95,20.2,75.2,56.8,35.55,75.5,35.6,60.25,95.15,96.65,40.35,18.85,54.85,64.3,24.65,76.1,18.7,97.95,94.1,80.4,95.1,31.35,72.35,89.75,82.7,19.9,53.8,51.55,19.65,44.05,114.0,94.4,100.4,19.85,54.25,80.0,109.9,79.2,101.35,94.3,49.8,60.05,53.75,93.45,87.9,60.15,61.05,104.05,99.25,85.7,104.85,69.15,90.45,74.45,50.45,60.0,85.25,19.45,20.75,78.9,104.5,49.4,94.25,25.0,25.55,74.9,70.15,69.4,80.25,93.15,69.0,66.35,69.55,20.2,86.0,80.3,20.4,23.75,90.55,70.45,65.75,24.6,69.25,75.9,45.85,49.95,24.65,90.4,100.85,75.35,87.2,64.4,78.3,24.7,105.85,98.3,76.95,19.45,96.15,58.7,20.15,64.5,28.5,45.3,19.4,90.45,105.15,83.15,90.15,45.05,103.2,75.8,19.45,79.3,88.8,30.9,85.9,34.2,20.15,95.25,50.3,80.15,51.25,89.6,95.2,94.8,80.25,76.1,110.15,115.55,24.65,53.6,19.45,88.2,101.15,56.8,99.4,20.1,60.7,20.95,114.85,19.25,62.8,105.5,19.85,89.5,74.1,107.5,19.55,68.8,84.45,75.0,84.5,111.2,44.75,80.6,80.7,75.6,57.6,44.05,110.6,58.2,81.0,19.7,85.6,59.55,115.55,75.55,86.6,85.2,97.65,45.1,70.95,109.55,89.55,20.9,19.95,24.6,66.7,19.45,94.8,65.85,19.95,24.65,20.35,69.25,51.25,99.5,54.25,19.4,56.25,25.15,23.95,35.4,25.2,45.0,75.35,20.4,20.15,105.0,56.05,54.7,20.0,73.05,20.5,100.75,87.25,19.95,79.95,49.65,65.65,20.45,60.95,20.35,88.35,19.5,75.2,111.45,70.15,94.75,95.05,78.45,70.2,92.0,85.5,41.05,85.6,82.15,84.4,60.9,20.25,79.2,95.3,19.85,84.35,19.85,70.0,82.3,66.8,44.6,98.45,70.7,24.95,49.95,69.25,102.5,86.55,24.3,58.35,94.25,68.75,85.8,20.1,20.35,110.8,73.0,100.05,82.85,84.35,19.55,19.95,99.8,35.0,66.25,23.3,76.0,25.3,44.55,104.1,92.55,93.85,101.45,84.3,94.55,95.5,100.3,55.5,49.85,89.55,19.15,99.8,84.4,113.05,101.1,19.95,74.15,92.0,73.85,50.45,24.45,24.8,64.85,20.75,68.95,99.95,109.4,91.4,49.0,50.25,75.55,19.9,97.8,100.3,55.8,111.15,98.55,50.05,80.8,20.85,19.5,19.35,69.5,48.8,94.5,20.65,106.05,100.0,108.3,20.55,99.65,85.3,95.9,20.0,70.4,64.95,74.6,49.2,73.75,92.3,98.8,19.2,88.65,74.4,98.75,95.95,105.4,20.25,106.0,104.7,49.05,35.55,65.1,96.85,69.75,99.2,96.7,55.05,106.8,51.25,57.75,70.85,19.55,88.2,79.5,19.75,98.15,20.25,79.15,75.65,94.25,40.2,19.95,55.35,102.15,71.1,74.7,54.1,19.65,88.45,76.65,80.4,19.25,84.8,25.8,19.5,68.6,92.6,100.55,20.55,42.6,19.6,67.45,68.85,43.55,109.85,20.65,95.4,21.0,56.2,18.4,90.0,25.75,19.6,75.35,19.8,64.2,75.75,78.95,100.85,50.3,80.3,19.85,21.1,69.95,50.0,104.75,19.85,107.5,85.9,45.85,80.8,25.25,80.55,81.5,20.9,106.1,91.7,67.25,95.6,20.35,45.05,74.95,34.65,69.35,95.35,81.55,75.4,67.8,111.4,46.3,20.4,20.05,45.0,96.1,19.65,99.5,60.65,98.6,59.5,80.45,71.7,36.0,65.2,48.95,53.5,80.45,109.05,26.3,106.8,64.95,19.35,21.1,77.95,18.85,26.0,74.7,70.35,96.9,19.55,80.4,88.8,94.65,90.25,64.65,95.75,19.55,104.1,89.05,20.1,111.55,60.5,90.95,87.4,19.7,50.95,20.05,19.4,59.45,94.75,81.5,29.05,86.45,70.6,97.2,98.25,75.75,59.2,75.9,90.05,70.95,102.6,85.35,106.1,43.8,59.0,69.95,24.35,29.45,84.4,45.05,20.65,87.1,19.85,90.35,109.8,84.65,65.5,79.5,80.95,56.15,85.8,79.1,34.4,20.75,18.8,44.3,90.8,25.6,105.95,70.8,25.4,108.8,69.75,94.65,96.05,76.85,20.25,24.8,115.65,74.6,50.15,103.15,72.1,113.6,25.1,78.9,80.15,25.4,105.4,45.75,24.45,25.0,85.25,19.6,50.15,70.55,60.05,26.4,20.15,58.85,97.55,19.65,25.25,114.45,34.7,70.7,85.3,75.55,84.8,20.65,20.45,102.45,104.4,35.65,99.75,90.45,97.65,73.85,74.4,69.1,82.75,24.4,55.25,61.35,76.75,19.4,54.75,19.7,19.9,107.95,83.8,74.25,56.4,20.1,94.9,94.2,49.9,71.05,81.65,89.45,59.85,69.6,99.0,19.05,45.4,114.45,19.5,44.25,90.55,69.9,20.4,71.4,87.15,24.85,104.45,19.8,116.45,84.75,20.05,110.75,89.7,89.95,48.7,96.6,74.3,54.3,74.85,79.95,20.05,19.4,54.9,24.45,89.65,45.4,75.7,110.65,20.55,115.15,58.55,93.25,113.2,90.5,79.0,19.35,48.75,109.05,25.0,54.9,24.75,91.15,20.15,104.35,66.05,71.65,20.35,92.2,84.25,105.2,19.6,30.4,78.1,61.5,69.4,24.75,91.05,89.65,73.65,19.4,26.2,98.7,43.85,69.7,38.55,53.1,20.65,64.45,25.1,76.35,79.15,85.0,95.15,79.35,96.65,75.5,19.7,20.5,19.2,98.35,74.35,51.35,45.65,85.3,86.55,73.85,20.3,54.2,90.65,50.9,25.05,74.85,20.5,63.55,44.85,47.95,45.1,45.0,96.0,20.05,90.05,25.3,108.65,24.3,75.95,19.7,66.4,35.75,18.8,19.4,19.3,45.55,67.45,35.1,46.2,45.15,43.3,20.1,57.15,58.9,73.2,85.35,19.45,45.95,50.5,25.1,60.7,99.0,104.4,83.75,44.05,24.1,45.55,93.8,19.7,70.65,86.45,114.1,95.2,88.55,20.75,70.05,86.0,44.65,60.2,100.5,55.45,70.3,60.4,72.65,55.8,31.1,21.0,45.1,50.95,69.1,43.95,86.5,69.95,50.4,78.95,90.95,19.9,20.15,90.6,92.0,94.45,24.85,36.0,78.5,19.95,20.65,30.5,106.1,20.5,95.5,64.6,51.1,84.8,89.1,54.95,50.9,20.45,85.95,60.35,19.8,85.35,72.1,99.8,107.35,19.55,81.05,20.5,111.8,20.2,19.7,79.1,19.85,60.5,19.55,20.9,21.05,71.5,54.65,19.2,49.8,25.5,20.5,90.4,90.25,80.75,104.6,91.85,50.2,95.5,75.35,75.45,95.4,101.3,53.1,84.85,34.25,88.6,60.15,99.95,70.7,54.8,49.55,54.8,78.6,100.3,53.6,81.1,19.35,85.6,80.8,74.95,19.6,93.55,90.7,69.75,20.0,95.25,102.1,19.95,80.85,90.9,29.2,93.3,89.15,108.85,46.35,84.75,78.75,83.55,45.7,19.6,69.95,67.85,105.65,44.6,74.95,75.5,20.15,45.2,95.25,89.85,100.45,47.15,80.2,87.1,79.25,75.9,85.7,98.75,20.1,61.8,49.9,86.45,20.4,45.3,104.1,75.4,108.15,86.25,81.0,95.7,116.85,105.75,20.15,19.6,90.6,60.95,25.05,88.15,20.2,60.3,63.95,74.3,70.6,90.8,79.35,90.55,19.45,64.45,69.65,19.5,110.5,24.7,77.4,96.8,85.4,47.6,19.4,103.85,83.35,49.4,108.45,81.0,79.2,86.65,92.95,90.35,48.7,25.15,76.4,19.55,85.35,24.8,103.15,100.75,95.6,59.75,94.1,19.35,19.9,108.15,101.05,59.1,71.35,55.85,106.05,84.1,75.3,24.7,20.15,69.75,93.2,80.85,33.65,55.8,39.7,29.5,20.15,79.55,24.8,19.65,79.95,19.3,94.05,90.75,78.85,99.5,99.2,80.55,70.2,85.2,75.25,59.45,93.35,44.95,26.1,20.2,21.25,59.4,95.0,61.9,118.65,54.35,64.45,80.15,20.2,21.0,20.45,75.85,80.45,24.95,75.5,44.45,42.35,74.55,75.3,94.8,48.15,19.65,70.55,20.15,106.6,91.0,25.4,69.95,66.85,86.15,20.15,64.85,74.85,50.5,72.9,115.05,19.0,19.55,101.1,84.1,24.15,50.1,74.6,19.75,85.0,80.55,106.8,84.5,25.05,83.7,75.8,96.6,98.5,101.1,20.2,94.05,95.25,74.4,81.0,60.25,60.85,43.95,86.05,20.25,85.15,19.4,102.65,19.9,19.55,95.5,84.15,103.2,50.2,88.55,54.75,19.95,116.25,31.2,24.45,84.2,91.3,85.65,21.2,79.5,25.55,20.2,63.85,61.95,25.75,58.2,85.85,70.1,104.9,111.3,99.85,95.25,86.25,100.8,19.55,104.0,104.4,19.5,25.25,86.3,49.85,108.95,89.9,82.0,89.95,79.35,64.05,101.15,89.95,76.45,39.1,34.6,19.55,104.45,70.5,20.35,70.0,19.45,69.9,59.7,78.35,71.45,45.85,95.85,35.7,89.55,24.95,24.85,100.8,64.4,105.35,102.45,19.65,54.45,70.5,20.1,69.35,19.8,74.4,93.05,51.2,65.6,80.55,52.7,20.85,80.1,52.15,80.2,98.15,114.95,112.95,104.45,113.65,20.6,70.9,86.85,91.55,49.85,19.8,99.85,74.5,104.15,109.15,48.2,25.1,100.15,65.2,99.5,71.55,55.9,93.9,64.4,108.4,85.3,107.45,48.75,85.65,91.3,85.95,106.7,25.15,45.2,110.35,79.2,55.5,103.25,90.25,91.25,47.8,100.9,97.7,69.85,65.6,104.65,90.45,63.7,104.5,20.1,104.3,93.25,73.45,20.7,25.25,100.5,90.6,89.4,95.45,20.45,98.6,83.05,19.95,109.15,85.7,102.05,94.7,64.4,26.8,66.05,65.2,85.05,55.8,70.4,104.75,19.95,94.25,45.0,114.9,106.4,46.1,39.7,20.05,95.75,24.4,33.6,90.45,84.0,67.4,19.7,80.35,19.6,54.2,45.2,75.1,19.7,72.75,20.05,45.95,39.2,44.75,82.65,93.9,70.15,85.55,117.15,99.25,112.55,25.7,90.3,49.4,19.4,109.7,61.25,55.3,70.3,106.35,103.75,19.5,39.5,26.05,91.05,29.65,50.2,105.3,55.45,85.45,19.8,59.25,90.7,103.7,79.05,90.7,95.0,88.35,30.25,49.85,93.0,54.55,19.7,84.8,94.45,94.2,96.25,70.7,20.85,60.0,80.45,84.95,33.55,49.65,20.2,94.55,100.5,35.75,86.45,53.8,38.55,39.9,70.05,20.1,112.95,20.3,35.65,35.9,99.25,82.95,55.65,24.45,25.2,50.8,19.65,59.8,73.55,61.4,103.35,19.9,19.45,81.5,84.8,109.55,99.95,74.4,90.0,74.9,104.85,59.65,110.45,106.1,74.2,74.45,24.55,89.35,24.55,90.65,105.05,20.45,19.55,19.7,70.45,85.65,77.15,35.25,20.55,97.95,48.55,20.0,25.25,98.4,70.9,19.85,106.35,99.5,84.7,86.05,44.55,75.85,93.85,25.0,45.0,100.7,20.5,80.45,90.45,60.45,55.25,78.45,100.55,20.35,54.45,90.75,75.35,20.25,20.05,19.6,53.8,70.2],\"y0\":\" \",\"yaxis\":\"y\",\"type\":\"box\"}],                        {\"template\":{\"data\":{\"histogram2dcontour\":[{\"type\":\"histogram2dcontour\",\"colorbar\":{\"outlinewidth\":0,\"ticks\":\"\"},\"colorscale\":[[0.0,\"#0d0887\"],[0.1111111111111111,\"#46039f\"],[0.2222222222222222,\"#7201a8\"],[0.3333333333333333,\"#9c179e\"],[0.4444444444444444,\"#bd3786\"],[0.5555555555555556,\"#d8576b\"],[0.6666666666666666,\"#ed7953\"],[0.7777777777777778,\"#fb9f3a\"],[0.8888888888888888,\"#fdca26\"],[1.0,\"#f0f921\"]]}],\"choropleth\":[{\"type\":\"choropleth\",\"colorbar\":{\"outlinewidth\":0,\"ticks\":\"\"}}],\"histogram2d\":[{\"type\":\"histogram2d\",\"colorbar\":{\"outlinewidth\":0,\"ticks\":\"\"},\"colorscale\":[[0.0,\"#0d0887\"],[0.1111111111111111,\"#46039f\"],[0.2222222222222222,\"#7201a8\"],[0.3333333333333333,\"#9c179e\"],[0.4444444444444444,\"#bd3786\"],[0.5555555555555556,\"#d8576b\"],[0.6666666666666666,\"#ed7953\"],[0.7777777777777778,\"#fb9f3a\"],[0.8888888888888888,\"#fdca26\"],[1.0,\"#f0f921\"]]}],\"heatmap\":[{\"type\":\"heatmap\",\"colorbar\":{\"outlinewidth\":0,\"ticks\":\"\"},\"colorscale\":[[0.0,\"#0d0887\"],[0.1111111111111111,\"#46039f\"],[0.2222222222222222,\"#7201a8\"],[0.3333333333333333,\"#9c179e\"],[0.4444444444444444,\"#bd3786\"],[0.5555555555555556,\"#d8576b\"],[0.6666666666666666,\"#ed7953\"],[0.7777777777777778,\"#fb9f3a\"],[0.8888888888888888,\"#fdca26\"],[1.0,\"#f0f921\"]]}],\"heatmapgl\":[{\"type\":\"heatmapgl\",\"colorbar\":{\"outlinewidth\":0,\"ticks\":\"\"},\"colorscale\":[[0.0,\"#0d0887\"],[0.1111111111111111,\"#46039f\"],[0.2222222222222222,\"#7201a8\"],[0.3333333333333333,\"#9c179e\"],[0.4444444444444444,\"#bd3786\"],[0.5555555555555556,\"#d8576b\"],[0.6666666666666666,\"#ed7953\"],[0.7777777777777778,\"#fb9f3a\"],[0.8888888888888888,\"#fdca26\"],[1.0,\"#f0f921\"]]}],\"contourcarpet\":[{\"type\":\"contourcarpet\",\"colorbar\":{\"outlinewidth\":0,\"ticks\":\"\"}}],\"contour\":[{\"type\":\"contour\",\"colorbar\":{\"outlinewidth\":0,\"ticks\":\"\"},\"colorscale\":[[0.0,\"#0d0887\"],[0.1111111111111111,\"#46039f\"],[0.2222222222222222,\"#7201a8\"],[0.3333333333333333,\"#9c179e\"],[0.4444444444444444,\"#bd3786\"],[0.5555555555555556,\"#d8576b\"],[0.6666666666666666,\"#ed7953\"],[0.7777777777777778,\"#fb9f3a\"],[0.8888888888888888,\"#fdca26\"],[1.0,\"#f0f921\"]]}],\"surface\":[{\"type\":\"surface\",\"colorbar\":{\"outlinewidth\":0,\"ticks\":\"\"},\"colorscale\":[[0.0,\"#0d0887\"],[0.1111111111111111,\"#46039f\"],[0.2222222222222222,\"#7201a8\"],[0.3333333333333333,\"#9c179e\"],[0.4444444444444444,\"#bd3786\"],[0.5555555555555556,\"#d8576b\"],[0.6666666666666666,\"#ed7953\"],[0.7777777777777778,\"#fb9f3a\"],[0.8888888888888888,\"#fdca26\"],[1.0,\"#f0f921\"]]}],\"mesh3d\":[{\"type\":\"mesh3d\",\"colorbar\":{\"outlinewidth\":0,\"ticks\":\"\"}}],\"scatter\":[{\"fillpattern\":{\"fillmode\":\"overlay\",\"size\":10,\"solidity\":0.2},\"type\":\"scatter\"}],\"parcoords\":[{\"type\":\"parcoords\",\"line\":{\"colorbar\":{\"outlinewidth\":0,\"ticks\":\"\"}}}],\"scatterpolargl\":[{\"type\":\"scatterpolargl\",\"marker\":{\"colorbar\":{\"outlinewidth\":0,\"ticks\":\"\"}}}],\"bar\":[{\"error_x\":{\"color\":\"#2a3f5f\"},\"error_y\":{\"color\":\"#2a3f5f\"},\"marker\":{\"line\":{\"color\":\"#E5ECF6\",\"width\":0.5},\"pattern\":{\"fillmode\":\"overlay\",\"size\":10,\"solidity\":0.2}},\"type\":\"bar\"}],\"scattergeo\":[{\"type\":\"scattergeo\",\"marker\":{\"colorbar\":{\"outlinewidth\":0,\"ticks\":\"\"}}}],\"scatterpolar\":[{\"type\":\"scatterpolar\",\"marker\":{\"colorbar\":{\"outlinewidth\":0,\"ticks\":\"\"}}}],\"histogram\":[{\"marker\":{\"pattern\":{\"fillmode\":\"overlay\",\"size\":10,\"solidity\":0.2}},\"type\":\"histogram\"}],\"scattergl\":[{\"type\":\"scattergl\",\"marker\":{\"colorbar\":{\"outlinewidth\":0,\"ticks\":\"\"}}}],\"scatter3d\":[{\"type\":\"scatter3d\",\"line\":{\"colorbar\":{\"outlinewidth\":0,\"ticks\":\"\"}},\"marker\":{\"colorbar\":{\"outlinewidth\":0,\"ticks\":\"\"}}}],\"scattermapbox\":[{\"type\":\"scattermapbox\",\"marker\":{\"colorbar\":{\"outlinewidth\":0,\"ticks\":\"\"}}}],\"scatterternary\":[{\"type\":\"scatterternary\",\"marker\":{\"colorbar\":{\"outlinewidth\":0,\"ticks\":\"\"}}}],\"scattercarpet\":[{\"type\":\"scattercarpet\",\"marker\":{\"colorbar\":{\"outlinewidth\":0,\"ticks\":\"\"}}}],\"carpet\":[{\"aaxis\":{\"endlinecolor\":\"#2a3f5f\",\"gridcolor\":\"white\",\"linecolor\":\"white\",\"minorgridcolor\":\"white\",\"startlinecolor\":\"#2a3f5f\"},\"baxis\":{\"endlinecolor\":\"#2a3f5f\",\"gridcolor\":\"white\",\"linecolor\":\"white\",\"minorgridcolor\":\"white\",\"startlinecolor\":\"#2a3f5f\"},\"type\":\"carpet\"}],\"table\":[{\"cells\":{\"fill\":{\"color\":\"#EBF0F8\"},\"line\":{\"color\":\"white\"}},\"header\":{\"fill\":{\"color\":\"#C8D4E3\"},\"line\":{\"color\":\"white\"}},\"type\":\"table\"}],\"barpolar\":[{\"marker\":{\"line\":{\"color\":\"#E5ECF6\",\"width\":0.5},\"pattern\":{\"fillmode\":\"overlay\",\"size\":10,\"solidity\":0.2}},\"type\":\"barpolar\"}],\"pie\":[{\"automargin\":true,\"type\":\"pie\"}]},\"layout\":{\"autotypenumbers\":\"strict\",\"colorway\":[\"#636efa\",\"#EF553B\",\"#00cc96\",\"#ab63fa\",\"#FFA15A\",\"#19d3f3\",\"#FF6692\",\"#B6E880\",\"#FF97FF\",\"#FECB52\"],\"font\":{\"color\":\"#2a3f5f\"},\"hovermode\":\"closest\",\"hoverlabel\":{\"align\":\"left\"},\"paper_bgcolor\":\"white\",\"plot_bgcolor\":\"#E5ECF6\",\"polar\":{\"bgcolor\":\"#E5ECF6\",\"angularaxis\":{\"gridcolor\":\"white\",\"linecolor\":\"white\",\"ticks\":\"\"},\"radialaxis\":{\"gridcolor\":\"white\",\"linecolor\":\"white\",\"ticks\":\"\"}},\"ternary\":{\"bgcolor\":\"#E5ECF6\",\"aaxis\":{\"gridcolor\":\"white\",\"linecolor\":\"white\",\"ticks\":\"\"},\"baxis\":{\"gridcolor\":\"white\",\"linecolor\":\"white\",\"ticks\":\"\"},\"caxis\":{\"gridcolor\":\"white\",\"linecolor\":\"white\",\"ticks\":\"\"}},\"coloraxis\":{\"colorbar\":{\"outlinewidth\":0,\"ticks\":\"\"}},\"colorscale\":{\"sequential\":[[0.0,\"#0d0887\"],[0.1111111111111111,\"#46039f\"],[0.2222222222222222,\"#7201a8\"],[0.3333333333333333,\"#9c179e\"],[0.4444444444444444,\"#bd3786\"],[0.5555555555555556,\"#d8576b\"],[0.6666666666666666,\"#ed7953\"],[0.7777777777777778,\"#fb9f3a\"],[0.8888888888888888,\"#fdca26\"],[1.0,\"#f0f921\"]],\"sequentialminus\":[[0.0,\"#0d0887\"],[0.1111111111111111,\"#46039f\"],[0.2222222222222222,\"#7201a8\"],[0.3333333333333333,\"#9c179e\"],[0.4444444444444444,\"#bd3786\"],[0.5555555555555556,\"#d8576b\"],[0.6666666666666666,\"#ed7953\"],[0.7777777777777778,\"#fb9f3a\"],[0.8888888888888888,\"#fdca26\"],[1.0,\"#f0f921\"]],\"diverging\":[[0,\"#8e0152\"],[0.1,\"#c51b7d\"],[0.2,\"#de77ae\"],[0.3,\"#f1b6da\"],[0.4,\"#fde0ef\"],[0.5,\"#f7f7f7\"],[0.6,\"#e6f5d0\"],[0.7,\"#b8e186\"],[0.8,\"#7fbc41\"],[0.9,\"#4d9221\"],[1,\"#276419\"]]},\"xaxis\":{\"gridcolor\":\"white\",\"linecolor\":\"white\",\"ticks\":\"\",\"title\":{\"standoff\":15},\"zerolinecolor\":\"white\",\"automargin\":true,\"zerolinewidth\":2},\"yaxis\":{\"gridcolor\":\"white\",\"linecolor\":\"white\",\"ticks\":\"\",\"title\":{\"standoff\":15},\"zerolinecolor\":\"white\",\"automargin\":true,\"zerolinewidth\":2},\"scene\":{\"xaxis\":{\"backgroundcolor\":\"#E5ECF6\",\"gridcolor\":\"white\",\"linecolor\":\"white\",\"showbackground\":true,\"ticks\":\"\",\"zerolinecolor\":\"white\",\"gridwidth\":2},\"yaxis\":{\"backgroundcolor\":\"#E5ECF6\",\"gridcolor\":\"white\",\"linecolor\":\"white\",\"showbackground\":true,\"ticks\":\"\",\"zerolinecolor\":\"white\",\"gridwidth\":2},\"zaxis\":{\"backgroundcolor\":\"#E5ECF6\",\"gridcolor\":\"white\",\"linecolor\":\"white\",\"showbackground\":true,\"ticks\":\"\",\"zerolinecolor\":\"white\",\"gridwidth\":2}},\"shapedefaults\":{\"line\":{\"color\":\"#2a3f5f\"}},\"annotationdefaults\":{\"arrowcolor\":\"#2a3f5f\",\"arrowhead\":0,\"arrowwidth\":1},\"geo\":{\"bgcolor\":\"white\",\"landcolor\":\"#E5ECF6\",\"subunitcolor\":\"white\",\"showland\":true,\"showlakes\":true,\"lakecolor\":\"white\"},\"title\":{\"x\":0.05},\"mapbox\":{\"style\":\"light\"}}},\"xaxis\":{\"anchor\":\"y\",\"domain\":[0.0,1.0]},\"yaxis\":{\"anchor\":\"x\",\"domain\":[0.0,1.0],\"title\":{\"text\":\"Valores\"}},\"legend\":{\"tracegroupgap\":0},\"title\":{\"text\":\"Box Plot da pagamento_mensal (Valores Diferentes de Zero)\"},\"boxmode\":\"group\"},                        {\"responsive\": true}                    ).then(function(){\n",
              "                            \n",
              "var gd = document.getElementById('c7157ec6-72a2-4ad5-932e-77705875e810');\n",
              "var x = new MutationObserver(function (mutations, observer) {{\n",
              "        var display = window.getComputedStyle(gd).display;\n",
              "        if (!display || display === 'none') {{\n",
              "            console.log([gd, 'removed!']);\n",
              "            Plotly.purge(gd);\n",
              "            observer.disconnect();\n",
              "        }}\n",
              "}});\n",
              "\n",
              "// Listen for the removal of the full notebook cells\n",
              "var notebookContainer = gd.closest('#notebook-container');\n",
              "if (notebookContainer) {{\n",
              "    x.observe(notebookContainer, {childList: true});\n",
              "}}\n",
              "\n",
              "// Listen for the clearing of the current output cell\n",
              "var outputEl = gd.closest('.output');\n",
              "if (outputEl) {{\n",
              "    x.observe(outputEl, {childList: true});\n",
              "}}\n",
              "\n",
              "                        })                };                            </script>        </div>\n",
              "</body>\n",
              "</html>"
            ]
          },
          "metadata": {}
        }
      ]
    },
    {
      "cell_type": "code",
      "source": [
        "#visualizando as ocorrencias onde pagamento_mensal > 100\n",
        "df[df['pagamento_mensal'] > 100]"
      ],
      "metadata": {
        "colab": {
          "base_uri": "https://localhost:8080/",
          "height": 617
        },
        "id": "xMPQGdH311c6",
        "outputId": "70022608-2720-4d18-ee1e-f394933d77af"
      },
      "execution_count": 39,
      "outputs": [
        {
          "output_type": "execute_result",
          "data": {
            "text/plain": [
              "      customerID  genero  Idoso Casado Dependents  tempo_cliente  \\\n",
              "296   3167-SNQPL    Male      1    Yes        Yes             38   \n",
              "300   1557-EMYVT  Female      0     No         No             43   \n",
              "303   5027-YOCXN    Male      0    Yes        Yes             51   \n",
              "313   4983-CLMLV  Female      0    Yes         No             52   \n",
              "324   6680-NENYN  Female      0     No         No             43   \n",
              "...          ...     ...    ...    ...        ...            ...   \n",
              "2439  3325-FUYCG    Male      0    Yes        Yes             28   \n",
              "2446  7516-GMHUV    Male      1    Yes         No             50   \n",
              "2462  5630-IXDXV  Female      0     No         No             47   \n",
              "2471  7641-EUYET    Male      1    Yes        Yes             46   \n",
              "2478  7641-TQFHN    Male      0     No        Yes             39   \n",
              "\n",
              "      PhoneService Servico_Internet Servico_Seguranca Suporte_Tecnico  \\\n",
              "296              0      Fiber optic                No              No   \n",
              "300              0      Fiber optic               Yes             Yes   \n",
              "303              0      Fiber optic               Yes             Yes   \n",
              "313              0      Fiber optic                No             Yes   \n",
              "324              0      Fiber optic                No              No   \n",
              "...            ...              ...               ...             ...   \n",
              "2439             1      Fiber optic               Yes              No   \n",
              "2446             1      Fiber optic               Yes              No   \n",
              "2462             1      Fiber optic                No              No   \n",
              "2471             1      Fiber optic               Yes              No   \n",
              "2478             1      Fiber optic                No             Yes   \n",
              "\n",
              "     StreamingTV   Tipo_Contrato            PaymentMethod  pagamento_mensal  \\\n",
              "296          Yes  Month-to-month         Electronic check            101.15   \n",
              "300          Yes        Two year  Credit card (automatic)            115.05   \n",
              "303          Yes        One year  Credit card (automatic)            110.05   \n",
              "313          Yes  Month-to-month  Credit card (automatic)            102.70   \n",
              "324          Yes        Two year         Electronic check            104.60   \n",
              "...          ...             ...                      ...               ...   \n",
              "2439         Yes        One year         Electronic check            106.10   \n",
              "2446         Yes        Two year  Credit card (automatic)            105.05   \n",
              "2462         Yes  Month-to-month         Electronic check            106.35   \n",
              "2471         Yes  Month-to-month         Electronic check            100.70   \n",
              "2478         Yes        Two year             Mailed check            100.55   \n",
              "\n",
              "      total_pago  churn  \n",
              "296      3741.85      0  \n",
              "300      4895.10      0  \n",
              "303      5686.40      0  \n",
              "313      5138.10      0  \n",
              "324      4759.85      1  \n",
              "...          ...    ...  \n",
              "2439     2847.40      1  \n",
              "2446     5163.30      0  \n",
              "2462     4849.10      0  \n",
              "2471     4541.20      1  \n",
              "2478     3895.35      0  \n",
              "\n",
              "[267 rows x 16 columns]"
            ],
            "text/html": [
              "\n",
              "  <div id=\"df-12a451f4-db3c-4864-ad60-5ed151482625\" class=\"colab-df-container\">\n",
              "    <div>\n",
              "<style scoped>\n",
              "    .dataframe tbody tr th:only-of-type {\n",
              "        vertical-align: middle;\n",
              "    }\n",
              "\n",
              "    .dataframe tbody tr th {\n",
              "        vertical-align: top;\n",
              "    }\n",
              "\n",
              "    .dataframe thead th {\n",
              "        text-align: right;\n",
              "    }\n",
              "</style>\n",
              "<table border=\"1\" class=\"dataframe\">\n",
              "  <thead>\n",
              "    <tr style=\"text-align: right;\">\n",
              "      <th></th>\n",
              "      <th>customerID</th>\n",
              "      <th>genero</th>\n",
              "      <th>Idoso</th>\n",
              "      <th>Casado</th>\n",
              "      <th>Dependents</th>\n",
              "      <th>tempo_cliente</th>\n",
              "      <th>PhoneService</th>\n",
              "      <th>Servico_Internet</th>\n",
              "      <th>Servico_Seguranca</th>\n",
              "      <th>Suporte_Tecnico</th>\n",
              "      <th>StreamingTV</th>\n",
              "      <th>Tipo_Contrato</th>\n",
              "      <th>PaymentMethod</th>\n",
              "      <th>pagamento_mensal</th>\n",
              "      <th>total_pago</th>\n",
              "      <th>churn</th>\n",
              "    </tr>\n",
              "  </thead>\n",
              "  <tbody>\n",
              "    <tr>\n",
              "      <th>296</th>\n",
              "      <td>3167-SNQPL</td>\n",
              "      <td>Male</td>\n",
              "      <td>1</td>\n",
              "      <td>Yes</td>\n",
              "      <td>Yes</td>\n",
              "      <td>38</td>\n",
              "      <td>0</td>\n",
              "      <td>Fiber optic</td>\n",
              "      <td>No</td>\n",
              "      <td>No</td>\n",
              "      <td>Yes</td>\n",
              "      <td>Month-to-month</td>\n",
              "      <td>Electronic check</td>\n",
              "      <td>101.15</td>\n",
              "      <td>3741.85</td>\n",
              "      <td>0</td>\n",
              "    </tr>\n",
              "    <tr>\n",
              "      <th>300</th>\n",
              "      <td>1557-EMYVT</td>\n",
              "      <td>Female</td>\n",
              "      <td>0</td>\n",
              "      <td>No</td>\n",
              "      <td>No</td>\n",
              "      <td>43</td>\n",
              "      <td>0</td>\n",
              "      <td>Fiber optic</td>\n",
              "      <td>Yes</td>\n",
              "      <td>Yes</td>\n",
              "      <td>Yes</td>\n",
              "      <td>Two year</td>\n",
              "      <td>Credit card (automatic)</td>\n",
              "      <td>115.05</td>\n",
              "      <td>4895.10</td>\n",
              "      <td>0</td>\n",
              "    </tr>\n",
              "    <tr>\n",
              "      <th>303</th>\n",
              "      <td>5027-YOCXN</td>\n",
              "      <td>Male</td>\n",
              "      <td>0</td>\n",
              "      <td>Yes</td>\n",
              "      <td>Yes</td>\n",
              "      <td>51</td>\n",
              "      <td>0</td>\n",
              "      <td>Fiber optic</td>\n",
              "      <td>Yes</td>\n",
              "      <td>Yes</td>\n",
              "      <td>Yes</td>\n",
              "      <td>One year</td>\n",
              "      <td>Credit card (automatic)</td>\n",
              "      <td>110.05</td>\n",
              "      <td>5686.40</td>\n",
              "      <td>0</td>\n",
              "    </tr>\n",
              "    <tr>\n",
              "      <th>313</th>\n",
              "      <td>4983-CLMLV</td>\n",
              "      <td>Female</td>\n",
              "      <td>0</td>\n",
              "      <td>Yes</td>\n",
              "      <td>No</td>\n",
              "      <td>52</td>\n",
              "      <td>0</td>\n",
              "      <td>Fiber optic</td>\n",
              "      <td>No</td>\n",
              "      <td>Yes</td>\n",
              "      <td>Yes</td>\n",
              "      <td>Month-to-month</td>\n",
              "      <td>Credit card (automatic)</td>\n",
              "      <td>102.70</td>\n",
              "      <td>5138.10</td>\n",
              "      <td>0</td>\n",
              "    </tr>\n",
              "    <tr>\n",
              "      <th>324</th>\n",
              "      <td>6680-NENYN</td>\n",
              "      <td>Female</td>\n",
              "      <td>0</td>\n",
              "      <td>No</td>\n",
              "      <td>No</td>\n",
              "      <td>43</td>\n",
              "      <td>0</td>\n",
              "      <td>Fiber optic</td>\n",
              "      <td>No</td>\n",
              "      <td>No</td>\n",
              "      <td>Yes</td>\n",
              "      <td>Two year</td>\n",
              "      <td>Electronic check</td>\n",
              "      <td>104.60</td>\n",
              "      <td>4759.85</td>\n",
              "      <td>1</td>\n",
              "    </tr>\n",
              "    <tr>\n",
              "      <th>...</th>\n",
              "      <td>...</td>\n",
              "      <td>...</td>\n",
              "      <td>...</td>\n",
              "      <td>...</td>\n",
              "      <td>...</td>\n",
              "      <td>...</td>\n",
              "      <td>...</td>\n",
              "      <td>...</td>\n",
              "      <td>...</td>\n",
              "      <td>...</td>\n",
              "      <td>...</td>\n",
              "      <td>...</td>\n",
              "      <td>...</td>\n",
              "      <td>...</td>\n",
              "      <td>...</td>\n",
              "      <td>...</td>\n",
              "    </tr>\n",
              "    <tr>\n",
              "      <th>2439</th>\n",
              "      <td>3325-FUYCG</td>\n",
              "      <td>Male</td>\n",
              "      <td>0</td>\n",
              "      <td>Yes</td>\n",
              "      <td>Yes</td>\n",
              "      <td>28</td>\n",
              "      <td>1</td>\n",
              "      <td>Fiber optic</td>\n",
              "      <td>Yes</td>\n",
              "      <td>No</td>\n",
              "      <td>Yes</td>\n",
              "      <td>One year</td>\n",
              "      <td>Electronic check</td>\n",
              "      <td>106.10</td>\n",
              "      <td>2847.40</td>\n",
              "      <td>1</td>\n",
              "    </tr>\n",
              "    <tr>\n",
              "      <th>2446</th>\n",
              "      <td>7516-GMHUV</td>\n",
              "      <td>Male</td>\n",
              "      <td>1</td>\n",
              "      <td>Yes</td>\n",
              "      <td>No</td>\n",
              "      <td>50</td>\n",
              "      <td>1</td>\n",
              "      <td>Fiber optic</td>\n",
              "      <td>Yes</td>\n",
              "      <td>No</td>\n",
              "      <td>Yes</td>\n",
              "      <td>Two year</td>\n",
              "      <td>Credit card (automatic)</td>\n",
              "      <td>105.05</td>\n",
              "      <td>5163.30</td>\n",
              "      <td>0</td>\n",
              "    </tr>\n",
              "    <tr>\n",
              "      <th>2462</th>\n",
              "      <td>5630-IXDXV</td>\n",
              "      <td>Female</td>\n",
              "      <td>0</td>\n",
              "      <td>No</td>\n",
              "      <td>No</td>\n",
              "      <td>47</td>\n",
              "      <td>1</td>\n",
              "      <td>Fiber optic</td>\n",
              "      <td>No</td>\n",
              "      <td>No</td>\n",
              "      <td>Yes</td>\n",
              "      <td>Month-to-month</td>\n",
              "      <td>Electronic check</td>\n",
              "      <td>106.35</td>\n",
              "      <td>4849.10</td>\n",
              "      <td>0</td>\n",
              "    </tr>\n",
              "    <tr>\n",
              "      <th>2471</th>\n",
              "      <td>7641-EUYET</td>\n",
              "      <td>Male</td>\n",
              "      <td>1</td>\n",
              "      <td>Yes</td>\n",
              "      <td>Yes</td>\n",
              "      <td>46</td>\n",
              "      <td>1</td>\n",
              "      <td>Fiber optic</td>\n",
              "      <td>Yes</td>\n",
              "      <td>No</td>\n",
              "      <td>Yes</td>\n",
              "      <td>Month-to-month</td>\n",
              "      <td>Electronic check</td>\n",
              "      <td>100.70</td>\n",
              "      <td>4541.20</td>\n",
              "      <td>1</td>\n",
              "    </tr>\n",
              "    <tr>\n",
              "      <th>2478</th>\n",
              "      <td>7641-TQFHN</td>\n",
              "      <td>Male</td>\n",
              "      <td>0</td>\n",
              "      <td>No</td>\n",
              "      <td>Yes</td>\n",
              "      <td>39</td>\n",
              "      <td>1</td>\n",
              "      <td>Fiber optic</td>\n",
              "      <td>No</td>\n",
              "      <td>Yes</td>\n",
              "      <td>Yes</td>\n",
              "      <td>Two year</td>\n",
              "      <td>Mailed check</td>\n",
              "      <td>100.55</td>\n",
              "      <td>3895.35</td>\n",
              "      <td>0</td>\n",
              "    </tr>\n",
              "  </tbody>\n",
              "</table>\n",
              "<p>267 rows × 16 columns</p>\n",
              "</div>\n",
              "    <div class=\"colab-df-buttons\">\n",
              "\n",
              "  <div class=\"colab-df-container\">\n",
              "    <button class=\"colab-df-convert\" onclick=\"convertToInteractive('df-12a451f4-db3c-4864-ad60-5ed151482625')\"\n",
              "            title=\"Convert this dataframe to an interactive table.\"\n",
              "            style=\"display:none;\">\n",
              "\n",
              "  <svg xmlns=\"http://www.w3.org/2000/svg\" height=\"24px\" viewBox=\"0 -960 960 960\">\n",
              "    <path d=\"M120-120v-720h720v720H120Zm60-500h600v-160H180v160Zm220 220h160v-160H400v160Zm0 220h160v-160H400v160ZM180-400h160v-160H180v160Zm440 0h160v-160H620v160ZM180-180h160v-160H180v160Zm440 0h160v-160H620v160Z\"/>\n",
              "  </svg>\n",
              "    </button>\n",
              "\n",
              "  <style>\n",
              "    .colab-df-container {\n",
              "      display:flex;\n",
              "      gap: 12px;\n",
              "    }\n",
              "\n",
              "    .colab-df-convert {\n",
              "      background-color: #E8F0FE;\n",
              "      border: none;\n",
              "      border-radius: 50%;\n",
              "      cursor: pointer;\n",
              "      display: none;\n",
              "      fill: #1967D2;\n",
              "      height: 32px;\n",
              "      padding: 0 0 0 0;\n",
              "      width: 32px;\n",
              "    }\n",
              "\n",
              "    .colab-df-convert:hover {\n",
              "      background-color: #E2EBFA;\n",
              "      box-shadow: 0px 1px 2px rgba(60, 64, 67, 0.3), 0px 1px 3px 1px rgba(60, 64, 67, 0.15);\n",
              "      fill: #174EA6;\n",
              "    }\n",
              "\n",
              "    .colab-df-buttons div {\n",
              "      margin-bottom: 4px;\n",
              "    }\n",
              "\n",
              "    [theme=dark] .colab-df-convert {\n",
              "      background-color: #3B4455;\n",
              "      fill: #D2E3FC;\n",
              "    }\n",
              "\n",
              "    [theme=dark] .colab-df-convert:hover {\n",
              "      background-color: #434B5C;\n",
              "      box-shadow: 0px 1px 3px 1px rgba(0, 0, 0, 0.15);\n",
              "      filter: drop-shadow(0px 1px 2px rgba(0, 0, 0, 0.3));\n",
              "      fill: #FFFFFF;\n",
              "    }\n",
              "  </style>\n",
              "\n",
              "    <script>\n",
              "      const buttonEl =\n",
              "        document.querySelector('#df-12a451f4-db3c-4864-ad60-5ed151482625 button.colab-df-convert');\n",
              "      buttonEl.style.display =\n",
              "        google.colab.kernel.accessAllowed ? 'block' : 'none';\n",
              "\n",
              "      async function convertToInteractive(key) {\n",
              "        const element = document.querySelector('#df-12a451f4-db3c-4864-ad60-5ed151482625');\n",
              "        const dataTable =\n",
              "          await google.colab.kernel.invokeFunction('convertToInteractive',\n",
              "                                                    [key], {});\n",
              "        if (!dataTable) return;\n",
              "\n",
              "        const docLinkHtml = 'Like what you see? Visit the ' +\n",
              "          '<a target=\"_blank\" href=https://colab.research.google.com/notebooks/data_table.ipynb>data table notebook</a>'\n",
              "          + ' to learn more about interactive tables.';\n",
              "        element.innerHTML = '';\n",
              "        dataTable['output_type'] = 'display_data';\n",
              "        await google.colab.output.renderOutput(dataTable, element);\n",
              "        const docLink = document.createElement('div');\n",
              "        docLink.innerHTML = docLinkHtml;\n",
              "        element.appendChild(docLink);\n",
              "      }\n",
              "    </script>\n",
              "  </div>\n",
              "\n",
              "\n",
              "    <div id=\"df-09bac86b-08b6-468f-aea7-44bc5572534d\">\n",
              "      <button class=\"colab-df-quickchart\" onclick=\"quickchart('df-09bac86b-08b6-468f-aea7-44bc5572534d')\"\n",
              "                title=\"Suggest charts\"\n",
              "                style=\"display:none;\">\n",
              "\n",
              "<svg xmlns=\"http://www.w3.org/2000/svg\" height=\"24px\"viewBox=\"0 0 24 24\"\n",
              "     width=\"24px\">\n",
              "    <g>\n",
              "        <path d=\"M19 3H5c-1.1 0-2 .9-2 2v14c0 1.1.9 2 2 2h14c1.1 0 2-.9 2-2V5c0-1.1-.9-2-2-2zM9 17H7v-7h2v7zm4 0h-2V7h2v10zm4 0h-2v-4h2v4z\"/>\n",
              "    </g>\n",
              "</svg>\n",
              "      </button>\n",
              "\n",
              "<style>\n",
              "  .colab-df-quickchart {\n",
              "      --bg-color: #E8F0FE;\n",
              "      --fill-color: #1967D2;\n",
              "      --hover-bg-color: #E2EBFA;\n",
              "      --hover-fill-color: #174EA6;\n",
              "      --disabled-fill-color: #AAA;\n",
              "      --disabled-bg-color: #DDD;\n",
              "  }\n",
              "\n",
              "  [theme=dark] .colab-df-quickchart {\n",
              "      --bg-color: #3B4455;\n",
              "      --fill-color: #D2E3FC;\n",
              "      --hover-bg-color: #434B5C;\n",
              "      --hover-fill-color: #FFFFFF;\n",
              "      --disabled-bg-color: #3B4455;\n",
              "      --disabled-fill-color: #666;\n",
              "  }\n",
              "\n",
              "  .colab-df-quickchart {\n",
              "    background-color: var(--bg-color);\n",
              "    border: none;\n",
              "    border-radius: 50%;\n",
              "    cursor: pointer;\n",
              "    display: none;\n",
              "    fill: var(--fill-color);\n",
              "    height: 32px;\n",
              "    padding: 0;\n",
              "    width: 32px;\n",
              "  }\n",
              "\n",
              "  .colab-df-quickchart:hover {\n",
              "    background-color: var(--hover-bg-color);\n",
              "    box-shadow: 0 1px 2px rgba(60, 64, 67, 0.3), 0 1px 3px 1px rgba(60, 64, 67, 0.15);\n",
              "    fill: var(--button-hover-fill-color);\n",
              "  }\n",
              "\n",
              "  .colab-df-quickchart-complete:disabled,\n",
              "  .colab-df-quickchart-complete:disabled:hover {\n",
              "    background-color: var(--disabled-bg-color);\n",
              "    fill: var(--disabled-fill-color);\n",
              "    box-shadow: none;\n",
              "  }\n",
              "\n",
              "  .colab-df-spinner {\n",
              "    border: 2px solid var(--fill-color);\n",
              "    border-color: transparent;\n",
              "    border-bottom-color: var(--fill-color);\n",
              "    animation:\n",
              "      spin 1s steps(1) infinite;\n",
              "  }\n",
              "\n",
              "  @keyframes spin {\n",
              "    0% {\n",
              "      border-color: transparent;\n",
              "      border-bottom-color: var(--fill-color);\n",
              "      border-left-color: var(--fill-color);\n",
              "    }\n",
              "    20% {\n",
              "      border-color: transparent;\n",
              "      border-left-color: var(--fill-color);\n",
              "      border-top-color: var(--fill-color);\n",
              "    }\n",
              "    30% {\n",
              "      border-color: transparent;\n",
              "      border-left-color: var(--fill-color);\n",
              "      border-top-color: var(--fill-color);\n",
              "      border-right-color: var(--fill-color);\n",
              "    }\n",
              "    40% {\n",
              "      border-color: transparent;\n",
              "      border-right-color: var(--fill-color);\n",
              "      border-top-color: var(--fill-color);\n",
              "    }\n",
              "    60% {\n",
              "      border-color: transparent;\n",
              "      border-right-color: var(--fill-color);\n",
              "    }\n",
              "    80% {\n",
              "      border-color: transparent;\n",
              "      border-right-color: var(--fill-color);\n",
              "      border-bottom-color: var(--fill-color);\n",
              "    }\n",
              "    90% {\n",
              "      border-color: transparent;\n",
              "      border-bottom-color: var(--fill-color);\n",
              "    }\n",
              "  }\n",
              "</style>\n",
              "\n",
              "      <script>\n",
              "        async function quickchart(key) {\n",
              "          const quickchartButtonEl =\n",
              "            document.querySelector('#' + key + ' button');\n",
              "          quickchartButtonEl.disabled = true;  // To prevent multiple clicks.\n",
              "          quickchartButtonEl.classList.add('colab-df-spinner');\n",
              "          try {\n",
              "            const charts = await google.colab.kernel.invokeFunction(\n",
              "                'suggestCharts', [key], {});\n",
              "          } catch (error) {\n",
              "            console.error('Error during call to suggestCharts:', error);\n",
              "          }\n",
              "          quickchartButtonEl.classList.remove('colab-df-spinner');\n",
              "          quickchartButtonEl.classList.add('colab-df-quickchart-complete');\n",
              "        }\n",
              "        (() => {\n",
              "          let quickchartButtonEl =\n",
              "            document.querySelector('#df-09bac86b-08b6-468f-aea7-44bc5572534d button');\n",
              "          quickchartButtonEl.style.display =\n",
              "            google.colab.kernel.accessAllowed ? 'block' : 'none';\n",
              "        })();\n",
              "      </script>\n",
              "    </div>\n",
              "\n",
              "    </div>\n",
              "  </div>\n"
            ],
            "application/vnd.google.colaboratory.intrinsic+json": {
              "type": "dataframe",
              "summary": "{\n  \"name\": \"df[df['pagamento_mensal'] > 100]\",\n  \"rows\": 267,\n  \"fields\": [\n    {\n      \"column\": \"customerID\",\n      \"properties\": {\n        \"dtype\": \"string\",\n        \"num_unique_values\": 267,\n        \"samples\": [\n          \"3865-YIOTT\",\n          \"2731-GJRDG\",\n          \"9637-CDTKZ\"\n        ],\n        \"semantic_type\": \"\",\n        \"description\": \"\"\n      }\n    },\n    {\n      \"column\": \"genero\",\n      \"properties\": {\n        \"dtype\": \"category\",\n        \"num_unique_values\": 2,\n        \"samples\": [\n          \"Female\",\n          \"Male\"\n        ],\n        \"semantic_type\": \"\",\n        \"description\": \"\"\n      }\n    },\n    {\n      \"column\": \"Idoso\",\n      \"properties\": {\n        \"dtype\": \"number\",\n        \"std\": 0,\n        \"min\": 0,\n        \"max\": 1,\n        \"num_unique_values\": 2,\n        \"samples\": [\n          0,\n          1\n        ],\n        \"semantic_type\": \"\",\n        \"description\": \"\"\n      }\n    },\n    {\n      \"column\": \"Casado\",\n      \"properties\": {\n        \"dtype\": \"category\",\n        \"num_unique_values\": 2,\n        \"samples\": [\n          \"No\",\n          \"Yes\"\n        ],\n        \"semantic_type\": \"\",\n        \"description\": \"\"\n      }\n    },\n    {\n      \"column\": \"Dependents\",\n      \"properties\": {\n        \"dtype\": \"category\",\n        \"num_unique_values\": 2,\n        \"samples\": [\n          \"No\",\n          \"Yes\"\n        ],\n        \"semantic_type\": \"\",\n        \"description\": \"\"\n      }\n    },\n    {\n      \"column\": \"tempo_cliente\",\n      \"properties\": {\n        \"dtype\": \"number\",\n        \"std\": 19,\n        \"min\": 1,\n        \"max\": 72,\n        \"num_unique_values\": 62,\n        \"samples\": [\n          6,\n          42\n        ],\n        \"semantic_type\": \"\",\n        \"description\": \"\"\n      }\n    },\n    {\n      \"column\": \"PhoneService\",\n      \"properties\": {\n        \"dtype\": \"number\",\n        \"std\": 0,\n        \"min\": 0,\n        \"max\": 1,\n        \"num_unique_values\": 2,\n        \"samples\": [\n          1,\n          0\n        ],\n        \"semantic_type\": \"\",\n        \"description\": \"\"\n      }\n    },\n    {\n      \"column\": \"Servico_Internet\",\n      \"properties\": {\n        \"dtype\": \"category\",\n        \"num_unique_values\": 1,\n        \"samples\": [\n          \"Fiber optic\"\n        ],\n        \"semantic_type\": \"\",\n        \"description\": \"\"\n      }\n    },\n    {\n      \"column\": \"Servico_Seguranca\",\n      \"properties\": {\n        \"dtype\": \"category\",\n        \"num_unique_values\": 2,\n        \"samples\": [\n          \"Yes\"\n        ],\n        \"semantic_type\": \"\",\n        \"description\": \"\"\n      }\n    },\n    {\n      \"column\": \"Suporte_Tecnico\",\n      \"properties\": {\n        \"dtype\": \"category\",\n        \"num_unique_values\": 2,\n        \"samples\": [\n          \"Yes\"\n        ],\n        \"semantic_type\": \"\",\n        \"description\": \"\"\n      }\n    },\n    {\n      \"column\": \"StreamingTV\",\n      \"properties\": {\n        \"dtype\": \"category\",\n        \"num_unique_values\": 2,\n        \"samples\": [\n          \"No\"\n        ],\n        \"semantic_type\": \"\",\n        \"description\": \"\"\n      }\n    },\n    {\n      \"column\": \"Tipo_Contrato\",\n      \"properties\": {\n        \"dtype\": \"category\",\n        \"num_unique_values\": 3,\n        \"samples\": [\n          \"Month-to-month\"\n        ],\n        \"semantic_type\": \"\",\n        \"description\": \"\"\n      }\n    },\n    {\n      \"column\": \"PaymentMethod\",\n      \"properties\": {\n        \"dtype\": \"category\",\n        \"num_unique_values\": 4,\n        \"samples\": [\n          \"Credit card (automatic)\"\n        ],\n        \"semantic_type\": \"\",\n        \"description\": \"\"\n      }\n    },\n    {\n      \"column\": \"pagamento_mensal\",\n      \"properties\": {\n        \"dtype\": \"number\",\n        \"std\": 4.661144213876839,\n        \"min\": 100.05,\n        \"max\": 118.65,\n        \"num_unique_values\": 168,\n        \"samples\": [\n          107.35\n        ],\n        \"semantic_type\": \"\",\n        \"description\": \"\"\n      }\n    },\n    {\n      \"column\": \"total_pago\",\n      \"properties\": {\n        \"dtype\": \"number\",\n        \"std\": 2168.400644575498,\n        \"min\": 80.85,\n        \"max\": 8564.75,\n        \"num_unique_values\": 267,\n        \"samples\": [\n          7848.5\n        ],\n        \"semantic_type\": \"\",\n        \"description\": \"\"\n      }\n    },\n    {\n      \"column\": \"churn\",\n      \"properties\": {\n        \"dtype\": \"number\",\n        \"std\": 0,\n        \"min\": 0,\n        \"max\": 1,\n        \"num_unique_values\": 2,\n        \"samples\": [\n          1\n        ],\n        \"semantic_type\": \"\",\n        \"description\": \"\"\n      }\n    }\n  ]\n}"
            }
          },
          "metadata": {},
          "execution_count": 39
        }
      ]
    },
    {
      "cell_type": "code",
      "source": [
        "print(\"Porcentagem de registros onde 'pagamento_mensal' > 100:\",\n",
        "      (len(df[df['pagamento_mensal'] > 100]) / len(df)) * 100)"
      ],
      "metadata": {
        "colab": {
          "base_uri": "https://localhost:8080/"
        },
        "id": "MLkvsz6E2bDM",
        "outputId": "9d4ae826-3ba7-49e9-8f4a-3cd869c0bca3"
      },
      "execution_count": 40,
      "outputs": [
        {
          "output_type": "stream",
          "name": "stdout",
          "text": [
            "Porcentagem de registros onde 'pagamento_mensal' > 100: 10.731511254019292\n"
          ]
        }
      ]
    },
    {
      "cell_type": "markdown",
      "source": [
        "Melhor opção a ser feita é manter os dados, pois os dados equivale a 10% do DataFrame. A media equivale o dobro do valor do Upper fence porque deve ter serviços extras dentro do pacote onde aumentam o valor do pagamento mensal."
      ],
      "metadata": {
        "id": "H0IdOoT32trA"
      }
    },
    {
      "cell_type": "code",
      "source": [
        "# BoxPlot da variavel tempo_cliente\n",
        "df_nao_zero = df[df['tempo_cliente'] != 0]\n",
        "\n",
        "fig = px.box(df_nao_zero, y='tempo_cliente', title='Box Plot da tempo_cliente (Valores Diferentes de Zero)', labels={'tempo_cliente': 'Valores'})\n",
        "fig.show()"
      ],
      "metadata": {
        "colab": {
          "base_uri": "https://localhost:8080/",
          "height": 542
        },
        "id": "m1dla7an3q8c",
        "outputId": "15e03c3d-d125-4438-e728-d122dc3cb0ad"
      },
      "execution_count": 41,
      "outputs": [
        {
          "output_type": "display_data",
          "data": {
            "text/html": [
              "<html>\n",
              "<head><meta charset=\"utf-8\" /></head>\n",
              "<body>\n",
              "    <div>            <script src=\"https://cdnjs.cloudflare.com/ajax/libs/mathjax/2.7.5/MathJax.js?config=TeX-AMS-MML_SVG\"></script><script type=\"text/javascript\">if (window.MathJax && window.MathJax.Hub && window.MathJax.Hub.Config) {window.MathJax.Hub.Config({SVG: {font: \"STIX-Web\"}});}</script>                <script type=\"text/javascript\">window.PlotlyConfig = {MathJaxConfig: 'local'};</script>\n",
              "        <script charset=\"utf-8\" src=\"https://cdn.plot.ly/plotly-2.35.2.min.js\"></script>                <div id=\"da09fd30-1685-41d8-bc67-3442b2f11b5e\" class=\"plotly-graph-div\" style=\"height:525px; width:100%;\"></div>            <script type=\"text/javascript\">                                    window.PLOTLYENV=window.PLOTLYENV || {};                                    if (document.getElementById(\"da09fd30-1685-41d8-bc67-3442b2f11b5e\")) {                    Plotly.newPlot(                        \"da09fd30-1685-41d8-bc67-3442b2f11b5e\",                        [{\"alignmentgroup\":\"True\",\"hovertemplate\":\"Valores=%{y}\\u003cextra\\u003e\\u003c\\u002fextra\\u003e\",\"legendgroup\":\"\",\"marker\":{\"color\":\"#636efa\"},\"name\":\"\",\"notched\":false,\"offsetgroup\":\"\",\"orientation\":\"v\",\"showlegend\":false,\"x0\":\" \",\"xaxis\":\"x\",\"y\":[1,34,2,45,52,71,10,21,1,12,1,58,49,30,47,1,72,17,71,2,27,1,1,72,5,46,34,11,10,70,17,63,13,49,2,2,52,69,43,15,25,8,60,18,63,66,34,72,47,60,72,18,9,3,47,31,50,10,1,52,64,62,3,56,46,8,30,45,1,11,7,42,49,9,35,48,46,29,30,1,66,65,72,12,71,5,52,25,1,1,38,66,68,5,72,32,43,72,55,52,43,37,64,3,36,10,41,27,56,6,3,7,4,33,27,72,1,71,13,25,67,1,2,43,23,64,57,1,72,8,61,64,71,65,3,1,30,15,8,7,70,62,6,14,22,22,16,10,13,20,2,53,11,69,4,72,58,16,43,2,14,53,32,34,15,7,15,61,1,1,8,33,13,1,20,3,13,40,43,6,69,72,59,20,24,59,72,1,27,14,71,13,44,33,72,1,19,64,2,1,61,29,23,57,72,66,65,8,4,71,1,4,12,24,31,1,30,47,54,50,1,72,29,2,10,18,11,16,72,72,41,65,13,4,41,15,1,42,51,2,1,32,10,67,61,50,2,29,3,13,57,31,45,61,50,19,59,71,16,57,1,20,1,5,52,21,14,5,6,10,1,68,18,22,20,1,8,10,24,35,23,6,12,1,71,35,40,1,23,4,4,68,38,52,32,29,38,48,1,22,43,5,5,51,71,38,24,35,54,72,1,9,69,52,11,2,28,17,35,8,46,7,2,68,43,68,36,63,32,71,66,63,41,1,2,70,23,64,37,17,7,4,21,10,16,64,27,42,5,41,58,47,18,5,23,1,71,72,33,2,24,56,37,43,1,25,61,17,41,1,72,1,48,11,55,42,44,1,27,27,2,19,42,66,33,34,33,23,32,11,69,68,20,72,60,32,1,1,3,46,29,51,48,16,70,40,22,1,5,7,29,44,10,55,52,10,18,68,61,72,2,12,41,26,36,72,35,1,16,49,54,18,36,60,1,52,8,72,64,22,60,28,61,24,28,30,2,1,6,24,4,7,72,70,64,72,44,13,17,1,9,24,1,24,35,7,5,15,11,48,20,72,8,72,15,72,1,63,2,2,61,1,22,28,70,5,12,34,71,70,52,69,20,11,2,6,1,20,61,5,56,30,40,28,5,27,12,67,29,55,23,34,52,72,58,35,56,24,70,2,68,1,12,63,33,69,60,72,11,1,10,13,34,39,65,50,15,72,72,55,23,32,56,1,38,11,1,56,3,7,59,7,71,15,71,35,11,60,47,11,56,28,61,31,9,35,2,12,1,4,1,3,1,52,5,72,71,72,46,63,30,1,12,16,4,51,65,16,2,66,46,32,72,38,51,72,65,9,9,66,44,50,15,8,66,57,7,10,62,40,20,7,25,23,66,72,49,43,46,72,10,40,65,31,68,56,10,68,43,1,49,15,20,1,50,2,24,3,1,35,17,8,10,68,45,2,37,4,10,1,65,57,3,2,49,4,70,53,53,1,22,52,65,48,2,3,45,1,61,3,40,1,1,51,2,52,51,1,31,47,3,22,1,72,3,47,72,66,35,29,2,4,25,65,27,29,29,1,20,58,14,72,46,71,32,26,68,2,61,4,3,33,9,22,5,30,65,45,5,25,72,27,32,30,70,42,72,47,2,10,61,5,72,72,3,48,63,27,70,7,2,20,66,3,15,72,1,22,3,72,65,11,22,14,41,17,11,15,1,5,33,72,3,2,59,2,71,5,27,1,63,46,72,34,24,72,60,68,8,34,6,2,31,20,1,62,70,10,39,46,6,72,18,71,40,1,58,70,42,34,5,25,2,55,21,70,61,43,47,5,62,16,7,14,60,34,50,38,70,37,4,60,62,1,36,44,55,72,12,13,1,15,65,12,72,72,72,52,2,5,68,62,72,1,66,72,26,64,20,3,22,4,62,5,59,3,72,57,66,60,45,3,15,51,60,33,10,26,6,67,49,1,7,27,37,63,31,50,32,1,63,30,71,53,12,50,2,9,17,56,67,9,4,19,8,71,10,15,72,12,72,1,23,72,26,21,60,12,16,63,22,32,3,13,68,30,16,33,72,4,12,4,6,65,15,24,13,24,72,54,3,4,32,35,35,2,8,22,15,22,1,71,4,25,32,7,17,8,56,1,8,7,3,71,2,1,49,58,44,59,71,1,11,62,35,20,40,39,1,72,33,12,1,27,34,56,58,22,10,13,35,34,4,72,2,7,27,4,37,21,53,18,2,32,23,3,71,9,1,18,12,71,64,4,23,39,28,5,45,37,60,8,47,26,3,50,27,8,62,71,66,68,13,56,38,14,16,14,32,8,43,52,3,29,1,12,16,40,5,40,36,5,10,2,23,26,72,34,10,14,23,47,24,49,20,2,2,22,7,1,59,58,41,59,3,32,46,2,52,13,11,32,17,16,51,29,70,71,41,1,7,25,67,5,15,20,3,54,42,9,63,69,69,40,60,4,71,37,32,39,38,52,48,70,20,50,19,25,12,39,7,23,27,47,26,14,11,2,26,72,63,71,11,14,13,6,11,18,1,32,29,3,2,13,41,1,7,52,45,70,53,62,60,3,23,1,67,12,71,25,5,26,1,70,72,60,32,1,14,13,6,46,15,43,39,21,57,53,18,1,58,71,35,3,38,35,7,47,14,20,66,15,42,17,37,12,53,60,18,1,3,9,1,56,17,11,7,69,19,3,54,62,24,62,17,9,64,2,1,16,72,30,49,61,47,20,34,70,54,61,3,13,16,3,25,30,21,1,15,23,45,24,11,1,56,1,1,7,55,2,72,45,47,46,2,2,12,68,69,56,4,64,59,62,63,53,5,49,62,55,71,72,36,25,72,36,1,72,59,7,1,30,64,63,72,8,62,67,6,70,20,5,24,11,72,66,45,69,15,28,70,36,16,18,34,42,48,47,39,11,7,3,8,1,32,60,10,71,4,1,43,59,23,72,22,1,69,50,1,2,15,31,1,66,3,8,64,28,57,14,19,10,51,67,11,72,66,18,9,9,48,10,9,13,4,4,72,51,59,10,61,54,33,27,1,23,1,45,39,5,72,58,70,61,2,46,1,22,48,64,72,12,34,72,29,33,1,62,41,64,4,24,14,3,4,18,8,35,1,66,8,71,43,2,29,15,65,35,64,58,18,67,63,60,9,70,15,48,12,71,44,1,45,23,43,35,9,12,65,2,27,40,5,8,58,52,3,41,20,1,4,23,6,8,18,52,31,29,36,16,42,1,60,5,22,36,4,9,1,12,23,62,37,8,31,13,24,45,69,2,61,41,44,39,72,13,51,71,22,2,56,1,23,66,1,19,11,8,52,3,51,15,64,37,13,49,45,18,1,68,54,23,17,71,67,14,1,63,41,17,56,5,2,3,37,29,8,63,7,3,72,19,59,2,35,14,14,69,7,69,72,8,4,63,72,46,5,30,63,60,63,25,1,6,22,31,39,26,53,1,12,16,2,39,1,7,4,10,55,72,10,11,15,23,1,3,47,15,66,68,17,7,12,21,21,56,6,65,42,68,48,50,7,63,17,42,4,62,2,2,48,27,70,1,46,30,15,69,65,72,13,17,51,51,72,67,34,67,49,53,27,23,69,2,35,46,54,56,9,20,11,30,68,38,17,48,1,63,3,48,66,68,17,7,72,29,37,34,42,59,11,60,27,1,1,17,58,1,3,53,35,50,68,47,65,5,51,46,9,8,14,45,8,1,66,72,41,23,29,4,6,67,7,56,72,72,23,35,27,26,12,40,7,70,60,39,72,1,54,3,63,71,42,47,66,21,11,1,55,69,3,4,30,5,71,29,52,68,46,8,72,17,3,2,9,51,6,3,17,30,31,45,64,1,1,61,1,9,72,1,7,66,1,40,16,2,67,41,56,72,3,54,52,50,14,27,72,62,12,44,54,68,20,50,58,35,2,63,58,27,71,63,71,41,13,2,68,1,65,72,28,72,2,18,60,26,1,4,68,38,42,57,54,12,44,42,72,71,19,23,30,35,10,1,22,7,36,34,72,36,1,23,32,71,23,17,1,12,72,1,72,60,61,6,32,31,19,72,32,65,45,42,8,32,22,57,1,1,1,24,1,54,4,65,56,45,71,59,69,19,55,38,10,47,2,1,1,1,46,38,65,19,52,71,1,52,6,26,48,64,3,1,72,1,51,41,72,43,72,47,72,3,1,2,26,29,35,27,24,67,16,23,14,1,1,4,16,46,68,38,30,5,17,4,12,72,3,56,41,40,7,69,7,5,72,44,65,3,24,44,72,24,1,22,70,25,37,22,59,49,47,31,1,3,53,1,20,3,51,51,13,1,1,63,3,46,1,8,71,55,70,2,67,65,14,20,1,1,49,72,46,24,5,33,42,23,8,66,24,24,69,53,60,7,20,23,72,11,21,1,31,57,45,10,58,14,27,14,12,69,25,58,35,16,45,17,1,22,1,67,67,2,23,9,5,54,57,24,49,5,2,4,70,5,53,47,31,13,28,10,38,1,67,52,62,16,5,12,72,71,24,15,67,2,5,15,1,41,43,1,1,26,22,71,7,28,16,7,69,1,3,21,69,71,69,48,47,2,45,51,22,72,37,71,7,66,51,30,34,64,65,47,1,49,67,39,14,43,56,14,1,16,70,72,23,21,1,1,32,17,4,36,50,48,50,72,10,18,1,1,9,2,40,69,37,18,11,8,3,55,33,46,34,3,30,33,45,40,71,1,72,22,46,55,1,12,31,5,67,1,40,41,1,51,42,23,1,1,56,15,12,54,7,33,16,21,30,3,11,62,18,6,46,21,68,1,25,24,30,2,51,57,15,72,2,28,29,70,13,59,13,7,62,21,2,1,4,19,30,67,72,53,5,71,50,56,2,2,24,46,71,29,69,71,1,56,56,1,28,19,66,17,52,19,36,7,72,67,34,57,7,1,8,69,50,10,12,14,70,64,66,71,20,72,71,38,28,17,33,23,58,70,4,45,10,36,54,23,41,5,27,1,67,72,56,44,66,34,69,1,40,30,11,15,11,64,72,72,1,15,60,56,8,3,49,2,6,70,12,52,72,40,1,3,40,1,30,23,1,44,65,7,72,8,16,66,1,3,53,8,69,5,72,13,4,54,72,12,1,1,54,69,48,48,8,71,2,67,34,3,9,71,57,72,48,18,43,72,35,4,49,71,11,63,65,49,29,15,4,72,26,35,57,28,25,47,57,16,5,17,56,72,21,48,68,30,3,14,4,71,8,61,72,5,49,8,3,9,67,46,67,55,33,62,1,49,1,14,18,1,1,72,64,69,1,71,66,2,71,11,47,35,32,60,11,29,21,48,3,43,5,1,71,8,8,20,33,71,31,38,1,2,12,9,11,6,71,42,8,5,2,45,28,43,60,42,7,25,40,27,10,27,11,4,68,1,18,57,26,17,1,38,59,30,2,50,9,3,14,31,7,8,17,32,2,7,72,31,27,18,7,14,11,72,28,15,4,71,5,47,57,50,8,48,70,1,8,1,1,60,49,4,29,67,53,67,6,47,53,69,3,4,56,59,61,2,46,12,14,28,24,31,68,39,42,13,6,35,38,18,4,27,41],\"y0\":\" \",\"yaxis\":\"y\",\"type\":\"box\"}],                        {\"template\":{\"data\":{\"histogram2dcontour\":[{\"type\":\"histogram2dcontour\",\"colorbar\":{\"outlinewidth\":0,\"ticks\":\"\"},\"colorscale\":[[0.0,\"#0d0887\"],[0.1111111111111111,\"#46039f\"],[0.2222222222222222,\"#7201a8\"],[0.3333333333333333,\"#9c179e\"],[0.4444444444444444,\"#bd3786\"],[0.5555555555555556,\"#d8576b\"],[0.6666666666666666,\"#ed7953\"],[0.7777777777777778,\"#fb9f3a\"],[0.8888888888888888,\"#fdca26\"],[1.0,\"#f0f921\"]]}],\"choropleth\":[{\"type\":\"choropleth\",\"colorbar\":{\"outlinewidth\":0,\"ticks\":\"\"}}],\"histogram2d\":[{\"type\":\"histogram2d\",\"colorbar\":{\"outlinewidth\":0,\"ticks\":\"\"},\"colorscale\":[[0.0,\"#0d0887\"],[0.1111111111111111,\"#46039f\"],[0.2222222222222222,\"#7201a8\"],[0.3333333333333333,\"#9c179e\"],[0.4444444444444444,\"#bd3786\"],[0.5555555555555556,\"#d8576b\"],[0.6666666666666666,\"#ed7953\"],[0.7777777777777778,\"#fb9f3a\"],[0.8888888888888888,\"#fdca26\"],[1.0,\"#f0f921\"]]}],\"heatmap\":[{\"type\":\"heatmap\",\"colorbar\":{\"outlinewidth\":0,\"ticks\":\"\"},\"colorscale\":[[0.0,\"#0d0887\"],[0.1111111111111111,\"#46039f\"],[0.2222222222222222,\"#7201a8\"],[0.3333333333333333,\"#9c179e\"],[0.4444444444444444,\"#bd3786\"],[0.5555555555555556,\"#d8576b\"],[0.6666666666666666,\"#ed7953\"],[0.7777777777777778,\"#fb9f3a\"],[0.8888888888888888,\"#fdca26\"],[1.0,\"#f0f921\"]]}],\"heatmapgl\":[{\"type\":\"heatmapgl\",\"colorbar\":{\"outlinewidth\":0,\"ticks\":\"\"},\"colorscale\":[[0.0,\"#0d0887\"],[0.1111111111111111,\"#46039f\"],[0.2222222222222222,\"#7201a8\"],[0.3333333333333333,\"#9c179e\"],[0.4444444444444444,\"#bd3786\"],[0.5555555555555556,\"#d8576b\"],[0.6666666666666666,\"#ed7953\"],[0.7777777777777778,\"#fb9f3a\"],[0.8888888888888888,\"#fdca26\"],[1.0,\"#f0f921\"]]}],\"contourcarpet\":[{\"type\":\"contourcarpet\",\"colorbar\":{\"outlinewidth\":0,\"ticks\":\"\"}}],\"contour\":[{\"type\":\"contour\",\"colorbar\":{\"outlinewidth\":0,\"ticks\":\"\"},\"colorscale\":[[0.0,\"#0d0887\"],[0.1111111111111111,\"#46039f\"],[0.2222222222222222,\"#7201a8\"],[0.3333333333333333,\"#9c179e\"],[0.4444444444444444,\"#bd3786\"],[0.5555555555555556,\"#d8576b\"],[0.6666666666666666,\"#ed7953\"],[0.7777777777777778,\"#fb9f3a\"],[0.8888888888888888,\"#fdca26\"],[1.0,\"#f0f921\"]]}],\"surface\":[{\"type\":\"surface\",\"colorbar\":{\"outlinewidth\":0,\"ticks\":\"\"},\"colorscale\":[[0.0,\"#0d0887\"],[0.1111111111111111,\"#46039f\"],[0.2222222222222222,\"#7201a8\"],[0.3333333333333333,\"#9c179e\"],[0.4444444444444444,\"#bd3786\"],[0.5555555555555556,\"#d8576b\"],[0.6666666666666666,\"#ed7953\"],[0.7777777777777778,\"#fb9f3a\"],[0.8888888888888888,\"#fdca26\"],[1.0,\"#f0f921\"]]}],\"mesh3d\":[{\"type\":\"mesh3d\",\"colorbar\":{\"outlinewidth\":0,\"ticks\":\"\"}}],\"scatter\":[{\"fillpattern\":{\"fillmode\":\"overlay\",\"size\":10,\"solidity\":0.2},\"type\":\"scatter\"}],\"parcoords\":[{\"type\":\"parcoords\",\"line\":{\"colorbar\":{\"outlinewidth\":0,\"ticks\":\"\"}}}],\"scatterpolargl\":[{\"type\":\"scatterpolargl\",\"marker\":{\"colorbar\":{\"outlinewidth\":0,\"ticks\":\"\"}}}],\"bar\":[{\"error_x\":{\"color\":\"#2a3f5f\"},\"error_y\":{\"color\":\"#2a3f5f\"},\"marker\":{\"line\":{\"color\":\"#E5ECF6\",\"width\":0.5},\"pattern\":{\"fillmode\":\"overlay\",\"size\":10,\"solidity\":0.2}},\"type\":\"bar\"}],\"scattergeo\":[{\"type\":\"scattergeo\",\"marker\":{\"colorbar\":{\"outlinewidth\":0,\"ticks\":\"\"}}}],\"scatterpolar\":[{\"type\":\"scatterpolar\",\"marker\":{\"colorbar\":{\"outlinewidth\":0,\"ticks\":\"\"}}}],\"histogram\":[{\"marker\":{\"pattern\":{\"fillmode\":\"overlay\",\"size\":10,\"solidity\":0.2}},\"type\":\"histogram\"}],\"scattergl\":[{\"type\":\"scattergl\",\"marker\":{\"colorbar\":{\"outlinewidth\":0,\"ticks\":\"\"}}}],\"scatter3d\":[{\"type\":\"scatter3d\",\"line\":{\"colorbar\":{\"outlinewidth\":0,\"ticks\":\"\"}},\"marker\":{\"colorbar\":{\"outlinewidth\":0,\"ticks\":\"\"}}}],\"scattermapbox\":[{\"type\":\"scattermapbox\",\"marker\":{\"colorbar\":{\"outlinewidth\":0,\"ticks\":\"\"}}}],\"scatterternary\":[{\"type\":\"scatterternary\",\"marker\":{\"colorbar\":{\"outlinewidth\":0,\"ticks\":\"\"}}}],\"scattercarpet\":[{\"type\":\"scattercarpet\",\"marker\":{\"colorbar\":{\"outlinewidth\":0,\"ticks\":\"\"}}}],\"carpet\":[{\"aaxis\":{\"endlinecolor\":\"#2a3f5f\",\"gridcolor\":\"white\",\"linecolor\":\"white\",\"minorgridcolor\":\"white\",\"startlinecolor\":\"#2a3f5f\"},\"baxis\":{\"endlinecolor\":\"#2a3f5f\",\"gridcolor\":\"white\",\"linecolor\":\"white\",\"minorgridcolor\":\"white\",\"startlinecolor\":\"#2a3f5f\"},\"type\":\"carpet\"}],\"table\":[{\"cells\":{\"fill\":{\"color\":\"#EBF0F8\"},\"line\":{\"color\":\"white\"}},\"header\":{\"fill\":{\"color\":\"#C8D4E3\"},\"line\":{\"color\":\"white\"}},\"type\":\"table\"}],\"barpolar\":[{\"marker\":{\"line\":{\"color\":\"#E5ECF6\",\"width\":0.5},\"pattern\":{\"fillmode\":\"overlay\",\"size\":10,\"solidity\":0.2}},\"type\":\"barpolar\"}],\"pie\":[{\"automargin\":true,\"type\":\"pie\"}]},\"layout\":{\"autotypenumbers\":\"strict\",\"colorway\":[\"#636efa\",\"#EF553B\",\"#00cc96\",\"#ab63fa\",\"#FFA15A\",\"#19d3f3\",\"#FF6692\",\"#B6E880\",\"#FF97FF\",\"#FECB52\"],\"font\":{\"color\":\"#2a3f5f\"},\"hovermode\":\"closest\",\"hoverlabel\":{\"align\":\"left\"},\"paper_bgcolor\":\"white\",\"plot_bgcolor\":\"#E5ECF6\",\"polar\":{\"bgcolor\":\"#E5ECF6\",\"angularaxis\":{\"gridcolor\":\"white\",\"linecolor\":\"white\",\"ticks\":\"\"},\"radialaxis\":{\"gridcolor\":\"white\",\"linecolor\":\"white\",\"ticks\":\"\"}},\"ternary\":{\"bgcolor\":\"#E5ECF6\",\"aaxis\":{\"gridcolor\":\"white\",\"linecolor\":\"white\",\"ticks\":\"\"},\"baxis\":{\"gridcolor\":\"white\",\"linecolor\":\"white\",\"ticks\":\"\"},\"caxis\":{\"gridcolor\":\"white\",\"linecolor\":\"white\",\"ticks\":\"\"}},\"coloraxis\":{\"colorbar\":{\"outlinewidth\":0,\"ticks\":\"\"}},\"colorscale\":{\"sequential\":[[0.0,\"#0d0887\"],[0.1111111111111111,\"#46039f\"],[0.2222222222222222,\"#7201a8\"],[0.3333333333333333,\"#9c179e\"],[0.4444444444444444,\"#bd3786\"],[0.5555555555555556,\"#d8576b\"],[0.6666666666666666,\"#ed7953\"],[0.7777777777777778,\"#fb9f3a\"],[0.8888888888888888,\"#fdca26\"],[1.0,\"#f0f921\"]],\"sequentialminus\":[[0.0,\"#0d0887\"],[0.1111111111111111,\"#46039f\"],[0.2222222222222222,\"#7201a8\"],[0.3333333333333333,\"#9c179e\"],[0.4444444444444444,\"#bd3786\"],[0.5555555555555556,\"#d8576b\"],[0.6666666666666666,\"#ed7953\"],[0.7777777777777778,\"#fb9f3a\"],[0.8888888888888888,\"#fdca26\"],[1.0,\"#f0f921\"]],\"diverging\":[[0,\"#8e0152\"],[0.1,\"#c51b7d\"],[0.2,\"#de77ae\"],[0.3,\"#f1b6da\"],[0.4,\"#fde0ef\"],[0.5,\"#f7f7f7\"],[0.6,\"#e6f5d0\"],[0.7,\"#b8e186\"],[0.8,\"#7fbc41\"],[0.9,\"#4d9221\"],[1,\"#276419\"]]},\"xaxis\":{\"gridcolor\":\"white\",\"linecolor\":\"white\",\"ticks\":\"\",\"title\":{\"standoff\":15},\"zerolinecolor\":\"white\",\"automargin\":true,\"zerolinewidth\":2},\"yaxis\":{\"gridcolor\":\"white\",\"linecolor\":\"white\",\"ticks\":\"\",\"title\":{\"standoff\":15},\"zerolinecolor\":\"white\",\"automargin\":true,\"zerolinewidth\":2},\"scene\":{\"xaxis\":{\"backgroundcolor\":\"#E5ECF6\",\"gridcolor\":\"white\",\"linecolor\":\"white\",\"showbackground\":true,\"ticks\":\"\",\"zerolinecolor\":\"white\",\"gridwidth\":2},\"yaxis\":{\"backgroundcolor\":\"#E5ECF6\",\"gridcolor\":\"white\",\"linecolor\":\"white\",\"showbackground\":true,\"ticks\":\"\",\"zerolinecolor\":\"white\",\"gridwidth\":2},\"zaxis\":{\"backgroundcolor\":\"#E5ECF6\",\"gridcolor\":\"white\",\"linecolor\":\"white\",\"showbackground\":true,\"ticks\":\"\",\"zerolinecolor\":\"white\",\"gridwidth\":2}},\"shapedefaults\":{\"line\":{\"color\":\"#2a3f5f\"}},\"annotationdefaults\":{\"arrowcolor\":\"#2a3f5f\",\"arrowhead\":0,\"arrowwidth\":1},\"geo\":{\"bgcolor\":\"white\",\"landcolor\":\"#E5ECF6\",\"subunitcolor\":\"white\",\"showland\":true,\"showlakes\":true,\"lakecolor\":\"white\"},\"title\":{\"x\":0.05},\"mapbox\":{\"style\":\"light\"}}},\"xaxis\":{\"anchor\":\"y\",\"domain\":[0.0,1.0]},\"yaxis\":{\"anchor\":\"x\",\"domain\":[0.0,1.0],\"title\":{\"text\":\"Valores\"}},\"legend\":{\"tracegroupgap\":0},\"title\":{\"text\":\"Box Plot da tempo_cliente (Valores Diferentes de Zero)\"},\"boxmode\":\"group\"},                        {\"responsive\": true}                    ).then(function(){\n",
              "                            \n",
              "var gd = document.getElementById('da09fd30-1685-41d8-bc67-3442b2f11b5e');\n",
              "var x = new MutationObserver(function (mutations, observer) {{\n",
              "        var display = window.getComputedStyle(gd).display;\n",
              "        if (!display || display === 'none') {{\n",
              "            console.log([gd, 'removed!']);\n",
              "            Plotly.purge(gd);\n",
              "            observer.disconnect();\n",
              "        }}\n",
              "}});\n",
              "\n",
              "// Listen for the removal of the full notebook cells\n",
              "var notebookContainer = gd.closest('#notebook-container');\n",
              "if (notebookContainer) {{\n",
              "    x.observe(notebookContainer, {childList: true});\n",
              "}}\n",
              "\n",
              "// Listen for the clearing of the current output cell\n",
              "var outputEl = gd.closest('.output');\n",
              "if (outputEl) {{\n",
              "    x.observe(outputEl, {childList: true});\n",
              "}}\n",
              "\n",
              "                        })                };                            </script>        </div>\n",
              "</body>\n",
              "</html>"
            ]
          },
          "metadata": {}
        }
      ]
    },
    {
      "cell_type": "code",
      "source": [
        "#visualizando as ocorrencias onde tempo_cliente > 70\n",
        "df[df['tempo_cliente'] > 70]"
      ],
      "metadata": {
        "colab": {
          "base_uri": "https://localhost:8080/",
          "height": 617
        },
        "id": "Np7FnP1X4WZh",
        "outputId": "9e322a09-7113-4095-d153-3cc7c1f7746f"
      },
      "execution_count": 42,
      "outputs": [
        {
          "output_type": "execute_result",
          "data": {
            "text/plain": [
              "      customerID  genero  Idoso Casado Dependents  tempo_cliente  \\\n",
              "5     9959-WOFKT    Male      0     No        Yes             71   \n",
              "16    5248-YGIJN       M      0    Yes         No             72   \n",
              "18    3841-NFECX  Female      1    Yes         No             71   \n",
              "23    6234-RAAPL  Female      0    Yes        Yes             72   \n",
              "47    5954-BDFSG  Female      0     No         No             72   \n",
              "...          ...     ...    ...    ...        ...            ...   \n",
              "2382  8231-BSWXX    Male      0     No         No             71   \n",
              "2391  0310-SUCIN  Female      0    Yes         No             71   \n",
              "2431  9802-CAQUT  Female      0    Yes        Yes             72   \n",
              "2438  7602-MVRMB  Female      0    Yes        Yes             72   \n",
              "2442  5406-KGRMX  Female      0     No         No             71   \n",
              "\n",
              "      PhoneService Servico_Internet    Servico_Seguranca      Suporte_Tecnico  \\\n",
              "5                1      Fiber optic                  Yes                   No   \n",
              "16               1              DSL                  Yes                  Yes   \n",
              "18               1      Fiber optic                  Yes                  Yes   \n",
              "23               1      Fiber optic                  Yes                  Yes   \n",
              "47               1      Fiber optic                   No                  Yes   \n",
              "...            ...              ...                  ...                  ...   \n",
              "2382             1      Fiber optic                   No                   No   \n",
              "2391             1              DSL                  Yes                  Yes   \n",
              "2431             1      Fiber optic                  Yes                   No   \n",
              "2438             1      Fiber optic                  Yes                  Yes   \n",
              "2442             1               No  No internet service  No internet service   \n",
              "\n",
              "              StreamingTV Tipo_Contrato              PaymentMethod  \\\n",
              "5                     Yes      Two year  Bank transfer (automatic)   \n",
              "16                    Yes      Two year    Credit card (automatic)   \n",
              "18                     No      Two year    Credit card (automatic)   \n",
              "23                    Yes      Two year  Bank transfer (automatic)   \n",
              "47                    Yes      Two year    Credit card (automatic)   \n",
              "...                   ...           ...                        ...   \n",
              "2382                   No      One year    Credit card (automatic)   \n",
              "2391                  Yes      One year  Bank transfer (automatic)   \n",
              "2431                  Yes      Two year    Credit card (automatic)   \n",
              "2438                  Yes      Two year  Bank transfer (automatic)   \n",
              "2442  No internet service      Two year           Electronic check   \n",
              "\n",
              "      pagamento_mensal  total_pago  churn  \n",
              "5            65.607563     7382.25      0  \n",
              "16           65.607563     6369.45      0  \n",
              "18           65.607563     6766.95      0  \n",
              "23           65.607563     7251.70      0  \n",
              "47           65.607563     7853.70      0  \n",
              "...                ...         ...    ...  \n",
              "2382         79.050000     5552.50      0  \n",
              "2391         84.800000     6046.10      0  \n",
              "2431        109.550000     7887.25      0  \n",
              "2438        110.450000     8058.85      0  \n",
              "2442         24.550000     1719.15      0  \n",
              "\n",
              "[205 rows x 16 columns]"
            ],
            "text/html": [
              "\n",
              "  <div id=\"df-f23cef55-06d9-4564-8227-8736f9dcf8b8\" class=\"colab-df-container\">\n",
              "    <div>\n",
              "<style scoped>\n",
              "    .dataframe tbody tr th:only-of-type {\n",
              "        vertical-align: middle;\n",
              "    }\n",
              "\n",
              "    .dataframe tbody tr th {\n",
              "        vertical-align: top;\n",
              "    }\n",
              "\n",
              "    .dataframe thead th {\n",
              "        text-align: right;\n",
              "    }\n",
              "</style>\n",
              "<table border=\"1\" class=\"dataframe\">\n",
              "  <thead>\n",
              "    <tr style=\"text-align: right;\">\n",
              "      <th></th>\n",
              "      <th>customerID</th>\n",
              "      <th>genero</th>\n",
              "      <th>Idoso</th>\n",
              "      <th>Casado</th>\n",
              "      <th>Dependents</th>\n",
              "      <th>tempo_cliente</th>\n",
              "      <th>PhoneService</th>\n",
              "      <th>Servico_Internet</th>\n",
              "      <th>Servico_Seguranca</th>\n",
              "      <th>Suporte_Tecnico</th>\n",
              "      <th>StreamingTV</th>\n",
              "      <th>Tipo_Contrato</th>\n",
              "      <th>PaymentMethod</th>\n",
              "      <th>pagamento_mensal</th>\n",
              "      <th>total_pago</th>\n",
              "      <th>churn</th>\n",
              "    </tr>\n",
              "  </thead>\n",
              "  <tbody>\n",
              "    <tr>\n",
              "      <th>5</th>\n",
              "      <td>9959-WOFKT</td>\n",
              "      <td>Male</td>\n",
              "      <td>0</td>\n",
              "      <td>No</td>\n",
              "      <td>Yes</td>\n",
              "      <td>71</td>\n",
              "      <td>1</td>\n",
              "      <td>Fiber optic</td>\n",
              "      <td>Yes</td>\n",
              "      <td>No</td>\n",
              "      <td>Yes</td>\n",
              "      <td>Two year</td>\n",
              "      <td>Bank transfer (automatic)</td>\n",
              "      <td>65.607563</td>\n",
              "      <td>7382.25</td>\n",
              "      <td>0</td>\n",
              "    </tr>\n",
              "    <tr>\n",
              "      <th>16</th>\n",
              "      <td>5248-YGIJN</td>\n",
              "      <td>M</td>\n",
              "      <td>0</td>\n",
              "      <td>Yes</td>\n",
              "      <td>No</td>\n",
              "      <td>72</td>\n",
              "      <td>1</td>\n",
              "      <td>DSL</td>\n",
              "      <td>Yes</td>\n",
              "      <td>Yes</td>\n",
              "      <td>Yes</td>\n",
              "      <td>Two year</td>\n",
              "      <td>Credit card (automatic)</td>\n",
              "      <td>65.607563</td>\n",
              "      <td>6369.45</td>\n",
              "      <td>0</td>\n",
              "    </tr>\n",
              "    <tr>\n",
              "      <th>18</th>\n",
              "      <td>3841-NFECX</td>\n",
              "      <td>Female</td>\n",
              "      <td>1</td>\n",
              "      <td>Yes</td>\n",
              "      <td>No</td>\n",
              "      <td>71</td>\n",
              "      <td>1</td>\n",
              "      <td>Fiber optic</td>\n",
              "      <td>Yes</td>\n",
              "      <td>Yes</td>\n",
              "      <td>No</td>\n",
              "      <td>Two year</td>\n",
              "      <td>Credit card (automatic)</td>\n",
              "      <td>65.607563</td>\n",
              "      <td>6766.95</td>\n",
              "      <td>0</td>\n",
              "    </tr>\n",
              "    <tr>\n",
              "      <th>23</th>\n",
              "      <td>6234-RAAPL</td>\n",
              "      <td>Female</td>\n",
              "      <td>0</td>\n",
              "      <td>Yes</td>\n",
              "      <td>Yes</td>\n",
              "      <td>72</td>\n",
              "      <td>1</td>\n",
              "      <td>Fiber optic</td>\n",
              "      <td>Yes</td>\n",
              "      <td>Yes</td>\n",
              "      <td>Yes</td>\n",
              "      <td>Two year</td>\n",
              "      <td>Bank transfer (automatic)</td>\n",
              "      <td>65.607563</td>\n",
              "      <td>7251.70</td>\n",
              "      <td>0</td>\n",
              "    </tr>\n",
              "    <tr>\n",
              "      <th>47</th>\n",
              "      <td>5954-BDFSG</td>\n",
              "      <td>Female</td>\n",
              "      <td>0</td>\n",
              "      <td>No</td>\n",
              "      <td>No</td>\n",
              "      <td>72</td>\n",
              "      <td>1</td>\n",
              "      <td>Fiber optic</td>\n",
              "      <td>No</td>\n",
              "      <td>Yes</td>\n",
              "      <td>Yes</td>\n",
              "      <td>Two year</td>\n",
              "      <td>Credit card (automatic)</td>\n",
              "      <td>65.607563</td>\n",
              "      <td>7853.70</td>\n",
              "      <td>0</td>\n",
              "    </tr>\n",
              "    <tr>\n",
              "      <th>...</th>\n",
              "      <td>...</td>\n",
              "      <td>...</td>\n",
              "      <td>...</td>\n",
              "      <td>...</td>\n",
              "      <td>...</td>\n",
              "      <td>...</td>\n",
              "      <td>...</td>\n",
              "      <td>...</td>\n",
              "      <td>...</td>\n",
              "      <td>...</td>\n",
              "      <td>...</td>\n",
              "      <td>...</td>\n",
              "      <td>...</td>\n",
              "      <td>...</td>\n",
              "      <td>...</td>\n",
              "      <td>...</td>\n",
              "    </tr>\n",
              "    <tr>\n",
              "      <th>2382</th>\n",
              "      <td>8231-BSWXX</td>\n",
              "      <td>Male</td>\n",
              "      <td>0</td>\n",
              "      <td>No</td>\n",
              "      <td>No</td>\n",
              "      <td>71</td>\n",
              "      <td>1</td>\n",
              "      <td>Fiber optic</td>\n",
              "      <td>No</td>\n",
              "      <td>No</td>\n",
              "      <td>No</td>\n",
              "      <td>One year</td>\n",
              "      <td>Credit card (automatic)</td>\n",
              "      <td>79.050000</td>\n",
              "      <td>5552.50</td>\n",
              "      <td>0</td>\n",
              "    </tr>\n",
              "    <tr>\n",
              "      <th>2391</th>\n",
              "      <td>0310-SUCIN</td>\n",
              "      <td>Female</td>\n",
              "      <td>0</td>\n",
              "      <td>Yes</td>\n",
              "      <td>No</td>\n",
              "      <td>71</td>\n",
              "      <td>1</td>\n",
              "      <td>DSL</td>\n",
              "      <td>Yes</td>\n",
              "      <td>Yes</td>\n",
              "      <td>Yes</td>\n",
              "      <td>One year</td>\n",
              "      <td>Bank transfer (automatic)</td>\n",
              "      <td>84.800000</td>\n",
              "      <td>6046.10</td>\n",
              "      <td>0</td>\n",
              "    </tr>\n",
              "    <tr>\n",
              "      <th>2431</th>\n",
              "      <td>9802-CAQUT</td>\n",
              "      <td>Female</td>\n",
              "      <td>0</td>\n",
              "      <td>Yes</td>\n",
              "      <td>Yes</td>\n",
              "      <td>72</td>\n",
              "      <td>1</td>\n",
              "      <td>Fiber optic</td>\n",
              "      <td>Yes</td>\n",
              "      <td>No</td>\n",
              "      <td>Yes</td>\n",
              "      <td>Two year</td>\n",
              "      <td>Credit card (automatic)</td>\n",
              "      <td>109.550000</td>\n",
              "      <td>7887.25</td>\n",
              "      <td>0</td>\n",
              "    </tr>\n",
              "    <tr>\n",
              "      <th>2438</th>\n",
              "      <td>7602-MVRMB</td>\n",
              "      <td>Female</td>\n",
              "      <td>0</td>\n",
              "      <td>Yes</td>\n",
              "      <td>Yes</td>\n",
              "      <td>72</td>\n",
              "      <td>1</td>\n",
              "      <td>Fiber optic</td>\n",
              "      <td>Yes</td>\n",
              "      <td>Yes</td>\n",
              "      <td>Yes</td>\n",
              "      <td>Two year</td>\n",
              "      <td>Bank transfer (automatic)</td>\n",
              "      <td>110.450000</td>\n",
              "      <td>8058.85</td>\n",
              "      <td>0</td>\n",
              "    </tr>\n",
              "    <tr>\n",
              "      <th>2442</th>\n",
              "      <td>5406-KGRMX</td>\n",
              "      <td>Female</td>\n",
              "      <td>0</td>\n",
              "      <td>No</td>\n",
              "      <td>No</td>\n",
              "      <td>71</td>\n",
              "      <td>1</td>\n",
              "      <td>No</td>\n",
              "      <td>No internet service</td>\n",
              "      <td>No internet service</td>\n",
              "      <td>No internet service</td>\n",
              "      <td>Two year</td>\n",
              "      <td>Electronic check</td>\n",
              "      <td>24.550000</td>\n",
              "      <td>1719.15</td>\n",
              "      <td>0</td>\n",
              "    </tr>\n",
              "  </tbody>\n",
              "</table>\n",
              "<p>205 rows × 16 columns</p>\n",
              "</div>\n",
              "    <div class=\"colab-df-buttons\">\n",
              "\n",
              "  <div class=\"colab-df-container\">\n",
              "    <button class=\"colab-df-convert\" onclick=\"convertToInteractive('df-f23cef55-06d9-4564-8227-8736f9dcf8b8')\"\n",
              "            title=\"Convert this dataframe to an interactive table.\"\n",
              "            style=\"display:none;\">\n",
              "\n",
              "  <svg xmlns=\"http://www.w3.org/2000/svg\" height=\"24px\" viewBox=\"0 -960 960 960\">\n",
              "    <path d=\"M120-120v-720h720v720H120Zm60-500h600v-160H180v160Zm220 220h160v-160H400v160Zm0 220h160v-160H400v160ZM180-400h160v-160H180v160Zm440 0h160v-160H620v160ZM180-180h160v-160H180v160Zm440 0h160v-160H620v160Z\"/>\n",
              "  </svg>\n",
              "    </button>\n",
              "\n",
              "  <style>\n",
              "    .colab-df-container {\n",
              "      display:flex;\n",
              "      gap: 12px;\n",
              "    }\n",
              "\n",
              "    .colab-df-convert {\n",
              "      background-color: #E8F0FE;\n",
              "      border: none;\n",
              "      border-radius: 50%;\n",
              "      cursor: pointer;\n",
              "      display: none;\n",
              "      fill: #1967D2;\n",
              "      height: 32px;\n",
              "      padding: 0 0 0 0;\n",
              "      width: 32px;\n",
              "    }\n",
              "\n",
              "    .colab-df-convert:hover {\n",
              "      background-color: #E2EBFA;\n",
              "      box-shadow: 0px 1px 2px rgba(60, 64, 67, 0.3), 0px 1px 3px 1px rgba(60, 64, 67, 0.15);\n",
              "      fill: #174EA6;\n",
              "    }\n",
              "\n",
              "    .colab-df-buttons div {\n",
              "      margin-bottom: 4px;\n",
              "    }\n",
              "\n",
              "    [theme=dark] .colab-df-convert {\n",
              "      background-color: #3B4455;\n",
              "      fill: #D2E3FC;\n",
              "    }\n",
              "\n",
              "    [theme=dark] .colab-df-convert:hover {\n",
              "      background-color: #434B5C;\n",
              "      box-shadow: 0px 1px 3px 1px rgba(0, 0, 0, 0.15);\n",
              "      filter: drop-shadow(0px 1px 2px rgba(0, 0, 0, 0.3));\n",
              "      fill: #FFFFFF;\n",
              "    }\n",
              "  </style>\n",
              "\n",
              "    <script>\n",
              "      const buttonEl =\n",
              "        document.querySelector('#df-f23cef55-06d9-4564-8227-8736f9dcf8b8 button.colab-df-convert');\n",
              "      buttonEl.style.display =\n",
              "        google.colab.kernel.accessAllowed ? 'block' : 'none';\n",
              "\n",
              "      async function convertToInteractive(key) {\n",
              "        const element = document.querySelector('#df-f23cef55-06d9-4564-8227-8736f9dcf8b8');\n",
              "        const dataTable =\n",
              "          await google.colab.kernel.invokeFunction('convertToInteractive',\n",
              "                                                    [key], {});\n",
              "        if (!dataTable) return;\n",
              "\n",
              "        const docLinkHtml = 'Like what you see? Visit the ' +\n",
              "          '<a target=\"_blank\" href=https://colab.research.google.com/notebooks/data_table.ipynb>data table notebook</a>'\n",
              "          + ' to learn more about interactive tables.';\n",
              "        element.innerHTML = '';\n",
              "        dataTable['output_type'] = 'display_data';\n",
              "        await google.colab.output.renderOutput(dataTable, element);\n",
              "        const docLink = document.createElement('div');\n",
              "        docLink.innerHTML = docLinkHtml;\n",
              "        element.appendChild(docLink);\n",
              "      }\n",
              "    </script>\n",
              "  </div>\n",
              "\n",
              "\n",
              "    <div id=\"df-5116c12c-9b23-4ec8-87ad-e60dfa79268d\">\n",
              "      <button class=\"colab-df-quickchart\" onclick=\"quickchart('df-5116c12c-9b23-4ec8-87ad-e60dfa79268d')\"\n",
              "                title=\"Suggest charts\"\n",
              "                style=\"display:none;\">\n",
              "\n",
              "<svg xmlns=\"http://www.w3.org/2000/svg\" height=\"24px\"viewBox=\"0 0 24 24\"\n",
              "     width=\"24px\">\n",
              "    <g>\n",
              "        <path d=\"M19 3H5c-1.1 0-2 .9-2 2v14c0 1.1.9 2 2 2h14c1.1 0 2-.9 2-2V5c0-1.1-.9-2-2-2zM9 17H7v-7h2v7zm4 0h-2V7h2v10zm4 0h-2v-4h2v4z\"/>\n",
              "    </g>\n",
              "</svg>\n",
              "      </button>\n",
              "\n",
              "<style>\n",
              "  .colab-df-quickchart {\n",
              "      --bg-color: #E8F0FE;\n",
              "      --fill-color: #1967D2;\n",
              "      --hover-bg-color: #E2EBFA;\n",
              "      --hover-fill-color: #174EA6;\n",
              "      --disabled-fill-color: #AAA;\n",
              "      --disabled-bg-color: #DDD;\n",
              "  }\n",
              "\n",
              "  [theme=dark] .colab-df-quickchart {\n",
              "      --bg-color: #3B4455;\n",
              "      --fill-color: #D2E3FC;\n",
              "      --hover-bg-color: #434B5C;\n",
              "      --hover-fill-color: #FFFFFF;\n",
              "      --disabled-bg-color: #3B4455;\n",
              "      --disabled-fill-color: #666;\n",
              "  }\n",
              "\n",
              "  .colab-df-quickchart {\n",
              "    background-color: var(--bg-color);\n",
              "    border: none;\n",
              "    border-radius: 50%;\n",
              "    cursor: pointer;\n",
              "    display: none;\n",
              "    fill: var(--fill-color);\n",
              "    height: 32px;\n",
              "    padding: 0;\n",
              "    width: 32px;\n",
              "  }\n",
              "\n",
              "  .colab-df-quickchart:hover {\n",
              "    background-color: var(--hover-bg-color);\n",
              "    box-shadow: 0 1px 2px rgba(60, 64, 67, 0.3), 0 1px 3px 1px rgba(60, 64, 67, 0.15);\n",
              "    fill: var(--button-hover-fill-color);\n",
              "  }\n",
              "\n",
              "  .colab-df-quickchart-complete:disabled,\n",
              "  .colab-df-quickchart-complete:disabled:hover {\n",
              "    background-color: var(--disabled-bg-color);\n",
              "    fill: var(--disabled-fill-color);\n",
              "    box-shadow: none;\n",
              "  }\n",
              "\n",
              "  .colab-df-spinner {\n",
              "    border: 2px solid var(--fill-color);\n",
              "    border-color: transparent;\n",
              "    border-bottom-color: var(--fill-color);\n",
              "    animation:\n",
              "      spin 1s steps(1) infinite;\n",
              "  }\n",
              "\n",
              "  @keyframes spin {\n",
              "    0% {\n",
              "      border-color: transparent;\n",
              "      border-bottom-color: var(--fill-color);\n",
              "      border-left-color: var(--fill-color);\n",
              "    }\n",
              "    20% {\n",
              "      border-color: transparent;\n",
              "      border-left-color: var(--fill-color);\n",
              "      border-top-color: var(--fill-color);\n",
              "    }\n",
              "    30% {\n",
              "      border-color: transparent;\n",
              "      border-left-color: var(--fill-color);\n",
              "      border-top-color: var(--fill-color);\n",
              "      border-right-color: var(--fill-color);\n",
              "    }\n",
              "    40% {\n",
              "      border-color: transparent;\n",
              "      border-right-color: var(--fill-color);\n",
              "      border-top-color: var(--fill-color);\n",
              "    }\n",
              "    60% {\n",
              "      border-color: transparent;\n",
              "      border-right-color: var(--fill-color);\n",
              "    }\n",
              "    80% {\n",
              "      border-color: transparent;\n",
              "      border-right-color: var(--fill-color);\n",
              "      border-bottom-color: var(--fill-color);\n",
              "    }\n",
              "    90% {\n",
              "      border-color: transparent;\n",
              "      border-bottom-color: var(--fill-color);\n",
              "    }\n",
              "  }\n",
              "</style>\n",
              "\n",
              "      <script>\n",
              "        async function quickchart(key) {\n",
              "          const quickchartButtonEl =\n",
              "            document.querySelector('#' + key + ' button');\n",
              "          quickchartButtonEl.disabled = true;  // To prevent multiple clicks.\n",
              "          quickchartButtonEl.classList.add('colab-df-spinner');\n",
              "          try {\n",
              "            const charts = await google.colab.kernel.invokeFunction(\n",
              "                'suggestCharts', [key], {});\n",
              "          } catch (error) {\n",
              "            console.error('Error during call to suggestCharts:', error);\n",
              "          }\n",
              "          quickchartButtonEl.classList.remove('colab-df-spinner');\n",
              "          quickchartButtonEl.classList.add('colab-df-quickchart-complete');\n",
              "        }\n",
              "        (() => {\n",
              "          let quickchartButtonEl =\n",
              "            document.querySelector('#df-5116c12c-9b23-4ec8-87ad-e60dfa79268d button');\n",
              "          quickchartButtonEl.style.display =\n",
              "            google.colab.kernel.accessAllowed ? 'block' : 'none';\n",
              "        })();\n",
              "      </script>\n",
              "    </div>\n",
              "\n",
              "    </div>\n",
              "  </div>\n"
            ],
            "application/vnd.google.colaboratory.intrinsic+json": {
              "type": "dataframe",
              "summary": "{\n  \"name\": \"df[df['tempo_cliente'] > 70]\",\n  \"rows\": 205,\n  \"fields\": [\n    {\n      \"column\": \"customerID\",\n      \"properties\": {\n        \"dtype\": \"string\",\n        \"num_unique_values\": 205,\n        \"samples\": [\n          \"9680-NIAUV\",\n          \"2848-YXSMW\",\n          \"8089-UZWLX\"\n        ],\n        \"semantic_type\": \"\",\n        \"description\": \"\"\n      }\n    },\n    {\n      \"column\": \"genero\",\n      \"properties\": {\n        \"dtype\": \"category\",\n        \"num_unique_values\": 4,\n        \"samples\": [\n          \"M\",\n          \"f\",\n          \"Male\"\n        ],\n        \"semantic_type\": \"\",\n        \"description\": \"\"\n      }\n    },\n    {\n      \"column\": \"Idoso\",\n      \"properties\": {\n        \"dtype\": \"number\",\n        \"std\": 0,\n        \"min\": 0,\n        \"max\": 1,\n        \"num_unique_values\": 2,\n        \"samples\": [\n          1,\n          0\n        ],\n        \"semantic_type\": \"\",\n        \"description\": \"\"\n      }\n    },\n    {\n      \"column\": \"Casado\",\n      \"properties\": {\n        \"dtype\": \"category\",\n        \"num_unique_values\": 2,\n        \"samples\": [\n          \"Yes\",\n          \"No\"\n        ],\n        \"semantic_type\": \"\",\n        \"description\": \"\"\n      }\n    },\n    {\n      \"column\": \"Dependents\",\n      \"properties\": {\n        \"dtype\": \"category\",\n        \"num_unique_values\": 2,\n        \"samples\": [\n          \"No\",\n          \"Yes\"\n        ],\n        \"semantic_type\": \"\",\n        \"description\": \"\"\n      }\n    },\n    {\n      \"column\": \"tempo_cliente\",\n      \"properties\": {\n        \"dtype\": \"number\",\n        \"std\": 0,\n        \"min\": 71,\n        \"max\": 72,\n        \"num_unique_values\": 2,\n        \"samples\": [\n          72,\n          71\n        ],\n        \"semantic_type\": \"\",\n        \"description\": \"\"\n      }\n    },\n    {\n      \"column\": \"PhoneService\",\n      \"properties\": {\n        \"dtype\": \"number\",\n        \"std\": 0,\n        \"min\": 0,\n        \"max\": 1,\n        \"num_unique_values\": 2,\n        \"samples\": [\n          0,\n          1\n        ],\n        \"semantic_type\": \"\",\n        \"description\": \"\"\n      }\n    },\n    {\n      \"column\": \"Servico_Internet\",\n      \"properties\": {\n        \"dtype\": \"category\",\n        \"num_unique_values\": 4,\n        \"samples\": [\n          \"DSL\",\n          \"No\"\n        ],\n        \"semantic_type\": \"\",\n        \"description\": \"\"\n      }\n    },\n    {\n      \"column\": \"Servico_Seguranca\",\n      \"properties\": {\n        \"dtype\": \"category\",\n        \"num_unique_values\": 3,\n        \"samples\": [\n          \"Yes\",\n          \"No\"\n        ],\n        \"semantic_type\": \"\",\n        \"description\": \"\"\n      }\n    },\n    {\n      \"column\": \"Suporte_Tecnico\",\n      \"properties\": {\n        \"dtype\": \"category\",\n        \"num_unique_values\": 3,\n        \"samples\": [\n          \"No\",\n          \"Yes\"\n        ],\n        \"semantic_type\": \"\",\n        \"description\": \"\"\n      }\n    },\n    {\n      \"column\": \"StreamingTV\",\n      \"properties\": {\n        \"dtype\": \"category\",\n        \"num_unique_values\": 3,\n        \"samples\": [\n          \"Yes\",\n          \"No\"\n        ],\n        \"semantic_type\": \"\",\n        \"description\": \"\"\n      }\n    },\n    {\n      \"column\": \"Tipo_Contrato\",\n      \"properties\": {\n        \"dtype\": \"category\",\n        \"num_unique_values\": 3,\n        \"samples\": [\n          \"Two year\",\n          \"One year\"\n        ],\n        \"semantic_type\": \"\",\n        \"description\": \"\"\n      }\n    },\n    {\n      \"column\": \"PaymentMethod\",\n      \"properties\": {\n        \"dtype\": \"category\",\n        \"num_unique_values\": 4,\n        \"samples\": [\n          \"Credit card (automatic)\",\n          \"Mailed check\"\n        ],\n        \"semantic_type\": \"\",\n        \"description\": \"\"\n      }\n    },\n    {\n      \"column\": \"pagamento_mensal\",\n      \"properties\": {\n        \"dtype\": \"number\",\n        \"std\": 29.044944032027622,\n        \"min\": 19.3,\n        \"max\": 118.65,\n        \"num_unique_values\": 158,\n        \"samples\": [\n          102.65,\n          92.0\n        ],\n        \"semantic_type\": \"\",\n        \"description\": \"\"\n      }\n    },\n    {\n      \"column\": \"total_pago\",\n      \"properties\": {\n        \"dtype\": \"number\",\n        \"std\": 2246.8557103033218,\n        \"min\": 1304.8,\n        \"max\": 8564.75,\n        \"num_unique_values\": 205,\n        \"samples\": [\n          8129.3,\n          1363.25\n        ],\n        \"semantic_type\": \"\",\n        \"description\": \"\"\n      }\n    },\n    {\n      \"column\": \"churn\",\n      \"properties\": {\n        \"dtype\": \"number\",\n        \"std\": 0,\n        \"min\": 0,\n        \"max\": 1,\n        \"num_unique_values\": 2,\n        \"samples\": [\n          1,\n          0\n        ],\n        \"semantic_type\": \"\",\n        \"description\": \"\"\n      }\n    }\n  ]\n}"
            }
          },
          "metadata": {},
          "execution_count": 42
        }
      ]
    },
    {
      "cell_type": "code",
      "source": [
        "print(\"Porcentagem de registros onde 'tempo_cliente' > 70:\",\n",
        "      (len(df[df['tempo_cliente'] > 70]) / len(df)) * 100)\n"
      ],
      "metadata": {
        "colab": {
          "base_uri": "https://localhost:8080/"
        },
        "id": "ucix3lIP39Vz",
        "outputId": "d79a76bf-3b0c-4063-d941-b72715c8b5d5"
      },
      "execution_count": 43,
      "outputs": [
        {
          "output_type": "stream",
          "name": "stdout",
          "text": [
            "Porcentagem de registros onde 'tempo_cliente' > 70: 8.239549839228296\n"
          ]
        }
      ]
    },
    {
      "cell_type": "markdown",
      "source": [
        "Melhor opção é manter os dados, pois o upper fence equivale a 72 e a media de 29, levando em consideração que é o tempo que o cliente tem, esses numeros acima não é comprometedor e sim necessario para a analise, esses numeros equivalem a 8% dos nossos dados."
      ],
      "metadata": {
        "id": "9OesJ2GN40nV"
      }
    },
    {
      "cell_type": "markdown",
      "source": [
        "# 4) Realize a etapa da análise bivariada:\n",
        "A) Questione pelo menos 5 informações e traga as respostas utilizando visuais gráficos e insights.\n",
        "\n",
        "\n",
        "B) Quais variáveis você acredita serem as mais importantes para esse projetos relacionadas a variável Churn?"
      ],
      "metadata": {
        "id": "l7XwsuFpIWKB"
      }
    },
    {
      "cell_type": "code",
      "source": [
        "df.head()"
      ],
      "metadata": {
        "id": "7APnjGTNGHYb",
        "colab": {
          "base_uri": "https://localhost:8080/",
          "height": 313
        },
        "outputId": "068ab1d7-5aa8-4770-f46f-589840bc719c"
      },
      "execution_count": 44,
      "outputs": [
        {
          "output_type": "execute_result",
          "data": {
            "text/plain": [
              "   customerID  genero  Idoso Casado Dependents  tempo_cliente  PhoneService  \\\n",
              "0  7590-VHVEG  Female      0    Yes         No              1             0   \n",
              "1  5575-GNVDE    Male      0     No         No             34             1   \n",
              "2  3668-QPYBK    Male      0     No         No              2             1   \n",
              "3  7795-CFOCW    Male      0     No         No             45             0   \n",
              "4  8191-XWSZG       F      0     No         No             52             1   \n",
              "\n",
              "  Servico_Internet    Servico_Seguranca      Suporte_Tecnico  \\\n",
              "0              DSL                   No                   No   \n",
              "1              DSL                  Yes                   No   \n",
              "2              DSL                  Yes                   No   \n",
              "3              DSL                  Yes                  Yes   \n",
              "4               No  No internet service  No internet service   \n",
              "\n",
              "           StreamingTV   Tipo_Contrato              PaymentMethod  \\\n",
              "0                   No  Month-to-month           Electronic check   \n",
              "1                   No        One year               Mailed check   \n",
              "2                   No  Month-to-month               Mailed check   \n",
              "3                   No        One year  Bank transfer (automatic)   \n",
              "4  No internet service        One year               Mailed check   \n",
              "\n",
              "   pagamento_mensal  total_pago  churn  \n",
              "0         29.850000       29.85      0  \n",
              "1         56.950000     1889.50      0  \n",
              "2         53.850000      108.15      1  \n",
              "3         65.607563     1840.75      0  \n",
              "4         65.607563     1022.95      0  "
            ],
            "text/html": [
              "\n",
              "  <div id=\"df-a9efd7d6-920f-4f9c-8f4b-601e7ee28e1a\" class=\"colab-df-container\">\n",
              "    <div>\n",
              "<style scoped>\n",
              "    .dataframe tbody tr th:only-of-type {\n",
              "        vertical-align: middle;\n",
              "    }\n",
              "\n",
              "    .dataframe tbody tr th {\n",
              "        vertical-align: top;\n",
              "    }\n",
              "\n",
              "    .dataframe thead th {\n",
              "        text-align: right;\n",
              "    }\n",
              "</style>\n",
              "<table border=\"1\" class=\"dataframe\">\n",
              "  <thead>\n",
              "    <tr style=\"text-align: right;\">\n",
              "      <th></th>\n",
              "      <th>customerID</th>\n",
              "      <th>genero</th>\n",
              "      <th>Idoso</th>\n",
              "      <th>Casado</th>\n",
              "      <th>Dependents</th>\n",
              "      <th>tempo_cliente</th>\n",
              "      <th>PhoneService</th>\n",
              "      <th>Servico_Internet</th>\n",
              "      <th>Servico_Seguranca</th>\n",
              "      <th>Suporte_Tecnico</th>\n",
              "      <th>StreamingTV</th>\n",
              "      <th>Tipo_Contrato</th>\n",
              "      <th>PaymentMethod</th>\n",
              "      <th>pagamento_mensal</th>\n",
              "      <th>total_pago</th>\n",
              "      <th>churn</th>\n",
              "    </tr>\n",
              "  </thead>\n",
              "  <tbody>\n",
              "    <tr>\n",
              "      <th>0</th>\n",
              "      <td>7590-VHVEG</td>\n",
              "      <td>Female</td>\n",
              "      <td>0</td>\n",
              "      <td>Yes</td>\n",
              "      <td>No</td>\n",
              "      <td>1</td>\n",
              "      <td>0</td>\n",
              "      <td>DSL</td>\n",
              "      <td>No</td>\n",
              "      <td>No</td>\n",
              "      <td>No</td>\n",
              "      <td>Month-to-month</td>\n",
              "      <td>Electronic check</td>\n",
              "      <td>29.850000</td>\n",
              "      <td>29.85</td>\n",
              "      <td>0</td>\n",
              "    </tr>\n",
              "    <tr>\n",
              "      <th>1</th>\n",
              "      <td>5575-GNVDE</td>\n",
              "      <td>Male</td>\n",
              "      <td>0</td>\n",
              "      <td>No</td>\n",
              "      <td>No</td>\n",
              "      <td>34</td>\n",
              "      <td>1</td>\n",
              "      <td>DSL</td>\n",
              "      <td>Yes</td>\n",
              "      <td>No</td>\n",
              "      <td>No</td>\n",
              "      <td>One year</td>\n",
              "      <td>Mailed check</td>\n",
              "      <td>56.950000</td>\n",
              "      <td>1889.50</td>\n",
              "      <td>0</td>\n",
              "    </tr>\n",
              "    <tr>\n",
              "      <th>2</th>\n",
              "      <td>3668-QPYBK</td>\n",
              "      <td>Male</td>\n",
              "      <td>0</td>\n",
              "      <td>No</td>\n",
              "      <td>No</td>\n",
              "      <td>2</td>\n",
              "      <td>1</td>\n",
              "      <td>DSL</td>\n",
              "      <td>Yes</td>\n",
              "      <td>No</td>\n",
              "      <td>No</td>\n",
              "      <td>Month-to-month</td>\n",
              "      <td>Mailed check</td>\n",
              "      <td>53.850000</td>\n",
              "      <td>108.15</td>\n",
              "      <td>1</td>\n",
              "    </tr>\n",
              "    <tr>\n",
              "      <th>3</th>\n",
              "      <td>7795-CFOCW</td>\n",
              "      <td>Male</td>\n",
              "      <td>0</td>\n",
              "      <td>No</td>\n",
              "      <td>No</td>\n",
              "      <td>45</td>\n",
              "      <td>0</td>\n",
              "      <td>DSL</td>\n",
              "      <td>Yes</td>\n",
              "      <td>Yes</td>\n",
              "      <td>No</td>\n",
              "      <td>One year</td>\n",
              "      <td>Bank transfer (automatic)</td>\n",
              "      <td>65.607563</td>\n",
              "      <td>1840.75</td>\n",
              "      <td>0</td>\n",
              "    </tr>\n",
              "    <tr>\n",
              "      <th>4</th>\n",
              "      <td>8191-XWSZG</td>\n",
              "      <td>F</td>\n",
              "      <td>0</td>\n",
              "      <td>No</td>\n",
              "      <td>No</td>\n",
              "      <td>52</td>\n",
              "      <td>1</td>\n",
              "      <td>No</td>\n",
              "      <td>No internet service</td>\n",
              "      <td>No internet service</td>\n",
              "      <td>No internet service</td>\n",
              "      <td>One year</td>\n",
              "      <td>Mailed check</td>\n",
              "      <td>65.607563</td>\n",
              "      <td>1022.95</td>\n",
              "      <td>0</td>\n",
              "    </tr>\n",
              "  </tbody>\n",
              "</table>\n",
              "</div>\n",
              "    <div class=\"colab-df-buttons\">\n",
              "\n",
              "  <div class=\"colab-df-container\">\n",
              "    <button class=\"colab-df-convert\" onclick=\"convertToInteractive('df-a9efd7d6-920f-4f9c-8f4b-601e7ee28e1a')\"\n",
              "            title=\"Convert this dataframe to an interactive table.\"\n",
              "            style=\"display:none;\">\n",
              "\n",
              "  <svg xmlns=\"http://www.w3.org/2000/svg\" height=\"24px\" viewBox=\"0 -960 960 960\">\n",
              "    <path d=\"M120-120v-720h720v720H120Zm60-500h600v-160H180v160Zm220 220h160v-160H400v160Zm0 220h160v-160H400v160ZM180-400h160v-160H180v160Zm440 0h160v-160H620v160ZM180-180h160v-160H180v160Zm440 0h160v-160H620v160Z\"/>\n",
              "  </svg>\n",
              "    </button>\n",
              "\n",
              "  <style>\n",
              "    .colab-df-container {\n",
              "      display:flex;\n",
              "      gap: 12px;\n",
              "    }\n",
              "\n",
              "    .colab-df-convert {\n",
              "      background-color: #E8F0FE;\n",
              "      border: none;\n",
              "      border-radius: 50%;\n",
              "      cursor: pointer;\n",
              "      display: none;\n",
              "      fill: #1967D2;\n",
              "      height: 32px;\n",
              "      padding: 0 0 0 0;\n",
              "      width: 32px;\n",
              "    }\n",
              "\n",
              "    .colab-df-convert:hover {\n",
              "      background-color: #E2EBFA;\n",
              "      box-shadow: 0px 1px 2px rgba(60, 64, 67, 0.3), 0px 1px 3px 1px rgba(60, 64, 67, 0.15);\n",
              "      fill: #174EA6;\n",
              "    }\n",
              "\n",
              "    .colab-df-buttons div {\n",
              "      margin-bottom: 4px;\n",
              "    }\n",
              "\n",
              "    [theme=dark] .colab-df-convert {\n",
              "      background-color: #3B4455;\n",
              "      fill: #D2E3FC;\n",
              "    }\n",
              "\n",
              "    [theme=dark] .colab-df-convert:hover {\n",
              "      background-color: #434B5C;\n",
              "      box-shadow: 0px 1px 3px 1px rgba(0, 0, 0, 0.15);\n",
              "      filter: drop-shadow(0px 1px 2px rgba(0, 0, 0, 0.3));\n",
              "      fill: #FFFFFF;\n",
              "    }\n",
              "  </style>\n",
              "\n",
              "    <script>\n",
              "      const buttonEl =\n",
              "        document.querySelector('#df-a9efd7d6-920f-4f9c-8f4b-601e7ee28e1a button.colab-df-convert');\n",
              "      buttonEl.style.display =\n",
              "        google.colab.kernel.accessAllowed ? 'block' : 'none';\n",
              "\n",
              "      async function convertToInteractive(key) {\n",
              "        const element = document.querySelector('#df-a9efd7d6-920f-4f9c-8f4b-601e7ee28e1a');\n",
              "        const dataTable =\n",
              "          await google.colab.kernel.invokeFunction('convertToInteractive',\n",
              "                                                    [key], {});\n",
              "        if (!dataTable) return;\n",
              "\n",
              "        const docLinkHtml = 'Like what you see? Visit the ' +\n",
              "          '<a target=\"_blank\" href=https://colab.research.google.com/notebooks/data_table.ipynb>data table notebook</a>'\n",
              "          + ' to learn more about interactive tables.';\n",
              "        element.innerHTML = '';\n",
              "        dataTable['output_type'] = 'display_data';\n",
              "        await google.colab.output.renderOutput(dataTable, element);\n",
              "        const docLink = document.createElement('div');\n",
              "        docLink.innerHTML = docLinkHtml;\n",
              "        element.appendChild(docLink);\n",
              "      }\n",
              "    </script>\n",
              "  </div>\n",
              "\n",
              "\n",
              "    <div id=\"df-e88a6c7e-d847-4dfd-8f3a-a673a820437e\">\n",
              "      <button class=\"colab-df-quickchart\" onclick=\"quickchart('df-e88a6c7e-d847-4dfd-8f3a-a673a820437e')\"\n",
              "                title=\"Suggest charts\"\n",
              "                style=\"display:none;\">\n",
              "\n",
              "<svg xmlns=\"http://www.w3.org/2000/svg\" height=\"24px\"viewBox=\"0 0 24 24\"\n",
              "     width=\"24px\">\n",
              "    <g>\n",
              "        <path d=\"M19 3H5c-1.1 0-2 .9-2 2v14c0 1.1.9 2 2 2h14c1.1 0 2-.9 2-2V5c0-1.1-.9-2-2-2zM9 17H7v-7h2v7zm4 0h-2V7h2v10zm4 0h-2v-4h2v4z\"/>\n",
              "    </g>\n",
              "</svg>\n",
              "      </button>\n",
              "\n",
              "<style>\n",
              "  .colab-df-quickchart {\n",
              "      --bg-color: #E8F0FE;\n",
              "      --fill-color: #1967D2;\n",
              "      --hover-bg-color: #E2EBFA;\n",
              "      --hover-fill-color: #174EA6;\n",
              "      --disabled-fill-color: #AAA;\n",
              "      --disabled-bg-color: #DDD;\n",
              "  }\n",
              "\n",
              "  [theme=dark] .colab-df-quickchart {\n",
              "      --bg-color: #3B4455;\n",
              "      --fill-color: #D2E3FC;\n",
              "      --hover-bg-color: #434B5C;\n",
              "      --hover-fill-color: #FFFFFF;\n",
              "      --disabled-bg-color: #3B4455;\n",
              "      --disabled-fill-color: #666;\n",
              "  }\n",
              "\n",
              "  .colab-df-quickchart {\n",
              "    background-color: var(--bg-color);\n",
              "    border: none;\n",
              "    border-radius: 50%;\n",
              "    cursor: pointer;\n",
              "    display: none;\n",
              "    fill: var(--fill-color);\n",
              "    height: 32px;\n",
              "    padding: 0;\n",
              "    width: 32px;\n",
              "  }\n",
              "\n",
              "  .colab-df-quickchart:hover {\n",
              "    background-color: var(--hover-bg-color);\n",
              "    box-shadow: 0 1px 2px rgba(60, 64, 67, 0.3), 0 1px 3px 1px rgba(60, 64, 67, 0.15);\n",
              "    fill: var(--button-hover-fill-color);\n",
              "  }\n",
              "\n",
              "  .colab-df-quickchart-complete:disabled,\n",
              "  .colab-df-quickchart-complete:disabled:hover {\n",
              "    background-color: var(--disabled-bg-color);\n",
              "    fill: var(--disabled-fill-color);\n",
              "    box-shadow: none;\n",
              "  }\n",
              "\n",
              "  .colab-df-spinner {\n",
              "    border: 2px solid var(--fill-color);\n",
              "    border-color: transparent;\n",
              "    border-bottom-color: var(--fill-color);\n",
              "    animation:\n",
              "      spin 1s steps(1) infinite;\n",
              "  }\n",
              "\n",
              "  @keyframes spin {\n",
              "    0% {\n",
              "      border-color: transparent;\n",
              "      border-bottom-color: var(--fill-color);\n",
              "      border-left-color: var(--fill-color);\n",
              "    }\n",
              "    20% {\n",
              "      border-color: transparent;\n",
              "      border-left-color: var(--fill-color);\n",
              "      border-top-color: var(--fill-color);\n",
              "    }\n",
              "    30% {\n",
              "      border-color: transparent;\n",
              "      border-left-color: var(--fill-color);\n",
              "      border-top-color: var(--fill-color);\n",
              "      border-right-color: var(--fill-color);\n",
              "    }\n",
              "    40% {\n",
              "      border-color: transparent;\n",
              "      border-right-color: var(--fill-color);\n",
              "      border-top-color: var(--fill-color);\n",
              "    }\n",
              "    60% {\n",
              "      border-color: transparent;\n",
              "      border-right-color: var(--fill-color);\n",
              "    }\n",
              "    80% {\n",
              "      border-color: transparent;\n",
              "      border-right-color: var(--fill-color);\n",
              "      border-bottom-color: var(--fill-color);\n",
              "    }\n",
              "    90% {\n",
              "      border-color: transparent;\n",
              "      border-bottom-color: var(--fill-color);\n",
              "    }\n",
              "  }\n",
              "</style>\n",
              "\n",
              "      <script>\n",
              "        async function quickchart(key) {\n",
              "          const quickchartButtonEl =\n",
              "            document.querySelector('#' + key + ' button');\n",
              "          quickchartButtonEl.disabled = true;  // To prevent multiple clicks.\n",
              "          quickchartButtonEl.classList.add('colab-df-spinner');\n",
              "          try {\n",
              "            const charts = await google.colab.kernel.invokeFunction(\n",
              "                'suggestCharts', [key], {});\n",
              "          } catch (error) {\n",
              "            console.error('Error during call to suggestCharts:', error);\n",
              "          }\n",
              "          quickchartButtonEl.classList.remove('colab-df-spinner');\n",
              "          quickchartButtonEl.classList.add('colab-df-quickchart-complete');\n",
              "        }\n",
              "        (() => {\n",
              "          let quickchartButtonEl =\n",
              "            document.querySelector('#df-e88a6c7e-d847-4dfd-8f3a-a673a820437e button');\n",
              "          quickchartButtonEl.style.display =\n",
              "            google.colab.kernel.accessAllowed ? 'block' : 'none';\n",
              "        })();\n",
              "      </script>\n",
              "    </div>\n",
              "\n",
              "    </div>\n",
              "  </div>\n"
            ],
            "application/vnd.google.colaboratory.intrinsic+json": {
              "type": "dataframe",
              "variable_name": "df",
              "summary": "{\n  \"name\": \"df\",\n  \"rows\": 2488,\n  \"fields\": [\n    {\n      \"column\": \"customerID\",\n      \"properties\": {\n        \"dtype\": \"string\",\n        \"num_unique_values\": 2488,\n        \"samples\": [\n          \"9948-YPTDG\",\n          \"7206-GZCDC\",\n          \"0925-VYDLG\"\n        ],\n        \"semantic_type\": \"\",\n        \"description\": \"\"\n      }\n    },\n    {\n      \"column\": \"genero\",\n      \"properties\": {\n        \"dtype\": \"category\",\n        \"num_unique_values\": 5,\n        \"samples\": [\n          \"Male\",\n          \"f\",\n          \"F\"\n        ],\n        \"semantic_type\": \"\",\n        \"description\": \"\"\n      }\n    },\n    {\n      \"column\": \"Idoso\",\n      \"properties\": {\n        \"dtype\": \"number\",\n        \"std\": 0,\n        \"min\": 0,\n        \"max\": 1,\n        \"num_unique_values\": 2,\n        \"samples\": [\n          1,\n          0\n        ],\n        \"semantic_type\": \"\",\n        \"description\": \"\"\n      }\n    },\n    {\n      \"column\": \"Casado\",\n      \"properties\": {\n        \"dtype\": \"category\",\n        \"num_unique_values\": 2,\n        \"samples\": [\n          \"No\",\n          \"Yes\"\n        ],\n        \"semantic_type\": \"\",\n        \"description\": \"\"\n      }\n    },\n    {\n      \"column\": \"Dependents\",\n      \"properties\": {\n        \"dtype\": \"category\",\n        \"num_unique_values\": 2,\n        \"samples\": [\n          \"Yes\",\n          \"No\"\n        ],\n        \"semantic_type\": \"\",\n        \"description\": \"\"\n      }\n    },\n    {\n      \"column\": \"tempo_cliente\",\n      \"properties\": {\n        \"dtype\": \"number\",\n        \"std\": 24,\n        \"min\": 0,\n        \"max\": 72,\n        \"num_unique_values\": 73,\n        \"samples\": [\n          52,\n          59\n        ],\n        \"semantic_type\": \"\",\n        \"description\": \"\"\n      }\n    },\n    {\n      \"column\": \"PhoneService\",\n      \"properties\": {\n        \"dtype\": \"number\",\n        \"std\": 0,\n        \"min\": 0,\n        \"max\": 1,\n        \"num_unique_values\": 2,\n        \"samples\": [\n          1,\n          0\n        ],\n        \"semantic_type\": \"\",\n        \"description\": \"\"\n      }\n    },\n    {\n      \"column\": \"Servico_Internet\",\n      \"properties\": {\n        \"dtype\": \"category\",\n        \"num_unique_values\": 4,\n        \"samples\": [\n          \"No\",\n          \"dsl\"\n        ],\n        \"semantic_type\": \"\",\n        \"description\": \"\"\n      }\n    },\n    {\n      \"column\": \"Servico_Seguranca\",\n      \"properties\": {\n        \"dtype\": \"category\",\n        \"num_unique_values\": 3,\n        \"samples\": [\n          \"No\",\n          \"Yes\"\n        ],\n        \"semantic_type\": \"\",\n        \"description\": \"\"\n      }\n    },\n    {\n      \"column\": \"Suporte_Tecnico\",\n      \"properties\": {\n        \"dtype\": \"category\",\n        \"num_unique_values\": 3,\n        \"samples\": [\n          \"No\",\n          \"Yes\"\n        ],\n        \"semantic_type\": \"\",\n        \"description\": \"\"\n      }\n    },\n    {\n      \"column\": \"StreamingTV\",\n      \"properties\": {\n        \"dtype\": \"category\",\n        \"num_unique_values\": 3,\n        \"samples\": [\n          \"No\",\n          \"No internet service\"\n        ],\n        \"semantic_type\": \"\",\n        \"description\": \"\"\n      }\n    },\n    {\n      \"column\": \"Tipo_Contrato\",\n      \"properties\": {\n        \"dtype\": \"category\",\n        \"num_unique_values\": 3,\n        \"samples\": [\n          \"Month-to-month\",\n          \"One year\"\n        ],\n        \"semantic_type\": \"\",\n        \"description\": \"\"\n      }\n    },\n    {\n      \"column\": \"PaymentMethod\",\n      \"properties\": {\n        \"dtype\": \"category\",\n        \"num_unique_values\": 4,\n        \"samples\": [\n          \"Mailed check\",\n          \"Credit card (automatic)\"\n        ],\n        \"semantic_type\": \"\",\n        \"description\": \"\"\n      }\n    },\n    {\n      \"column\": \"pagamento_mensal\",\n      \"properties\": {\n        \"dtype\": \"number\",\n        \"std\": 27.984699694698094,\n        \"min\": 18.4,\n        \"max\": 118.65,\n        \"num_unique_values\": 1022,\n        \"samples\": [\n          72.75,\n          81.75\n        ],\n        \"semantic_type\": \"\",\n        \"description\": \"\"\n      }\n    },\n    {\n      \"column\": \"total_pago\",\n      \"properties\": {\n        \"dtype\": \"number\",\n        \"std\": 2264.5856430075405,\n        \"min\": 18.8,\n        \"max\": 8564.75,\n        \"num_unique_values\": 2416,\n        \"samples\": [\n          2838.55,\n          1124.2\n        ],\n        \"semantic_type\": \"\",\n        \"description\": \"\"\n      }\n    },\n    {\n      \"column\": \"churn\",\n      \"properties\": {\n        \"dtype\": \"number\",\n        \"std\": 0,\n        \"min\": 0,\n        \"max\": 1,\n        \"num_unique_values\": 2,\n        \"samples\": [\n          1,\n          0\n        ],\n        \"semantic_type\": \"\",\n        \"description\": \"\"\n      }\n    }\n  ]\n}"
            }
          },
          "metadata": {},
          "execution_count": 44
        }
      ]
    },
    {
      "cell_type": "markdown",
      "metadata": {
        "id": "384b7c2e"
      },
      "source": [
        "**Insights from tempo_cliente plot:**\n",
        "[Add your insights here]"
      ]
    },
    {
      "cell_type": "markdown",
      "metadata": {
        "id": "bdeb14cd"
      },
      "source": [
        "**Insights from pagamento_mensal plot:**\n",
        "[Add your insights here]"
      ]
    },
    {
      "cell_type": "code",
      "source": [
        "# Calcular a porcentagem de cada categoria\n",
        "df_grouped = df.groupby(['churn', 'genero']).size().reset_index(name='count')\n",
        "total_por_churn = df_grouped.groupby('churn')['count'].transform('sum')\n",
        "df_grouped['percent'] = (df_grouped['count'] / total_por_churn) * 100\n",
        "\n",
        "# Cria gráfico de barras empilhadas\n",
        "fig = px.bar(df_grouped, x='churn', y='percent', color='genero', barmode='stack',\n",
        "             labels={'Churn': 'Churn', 'percent': 'Porcentagem', 'Genero': 'Gênero'})\n",
        "\n",
        "fig.update_layout(title='Relação entre Churn e Gênero',\n",
        "                  yaxis_title='Porcentagem',\n",
        "                  legend_title='Gênero')\n",
        "fig.show()"
      ],
      "metadata": {
        "colab": {
          "base_uri": "https://localhost:8080/",
          "height": 542
        },
        "id": "mE0_uDktMktB",
        "outputId": "d081ff31-e3cf-46b7-8f60-bbc06b6a7b54"
      },
      "execution_count": 45,
      "outputs": [
        {
          "output_type": "display_data",
          "data": {
            "text/html": [
              "<html>\n",
              "<head><meta charset=\"utf-8\" /></head>\n",
              "<body>\n",
              "    <div>            <script src=\"https://cdnjs.cloudflare.com/ajax/libs/mathjax/2.7.5/MathJax.js?config=TeX-AMS-MML_SVG\"></script><script type=\"text/javascript\">if (window.MathJax && window.MathJax.Hub && window.MathJax.Hub.Config) {window.MathJax.Hub.Config({SVG: {font: \"STIX-Web\"}});}</script>                <script type=\"text/javascript\">window.PlotlyConfig = {MathJaxConfig: 'local'};</script>\n",
              "        <script charset=\"utf-8\" src=\"https://cdn.plot.ly/plotly-2.35.2.min.js\"></script>                <div id=\"a8a8e273-a47e-4103-9baf-ba2af0cd2c1c\" class=\"plotly-graph-div\" style=\"height:525px; width:100%;\"></div>            <script type=\"text/javascript\">                                    window.PLOTLYENV=window.PLOTLYENV || {};                                    if (document.getElementById(\"a8a8e273-a47e-4103-9baf-ba2af0cd2c1c\")) {                    Plotly.newPlot(                        \"a8a8e273-a47e-4103-9baf-ba2af0cd2c1c\",                        [{\"alignmentgroup\":\"True\",\"hovertemplate\":\"genero=F\\u003cbr\\u003echurn=%{x}\\u003cbr\\u003ePorcentagem=%{y}\\u003cextra\\u003e\\u003c\\u002fextra\\u003e\",\"legendgroup\":\"F\",\"marker\":{\"color\":\"#636efa\",\"pattern\":{\"shape\":\"\"}},\"name\":\"F\",\"offsetgroup\":\"F\",\"orientation\":\"v\",\"showlegend\":true,\"textposition\":\"auto\",\"x\":[0,1],\"xaxis\":\"x\",\"y\":[0.10863661053775121,0.1545595054095827],\"yaxis\":\"y\",\"type\":\"bar\"},{\"alignmentgroup\":\"True\",\"hovertemplate\":\"genero=Female\\u003cbr\\u003echurn=%{x}\\u003cbr\\u003ePorcentagem=%{y}\\u003cextra\\u003e\\u003c\\u002fextra\\u003e\",\"legendgroup\":\"Female\",\"marker\":{\"color\":\"#EF553B\",\"pattern\":{\"shape\":\"\"}},\"name\":\"Female\",\"offsetgroup\":\"Female\",\"orientation\":\"v\",\"showlegend\":true,\"textposition\":\"auto\",\"x\":[0,1],\"xaxis\":\"x\",\"y\":[47.96306355241716,50.8500772797527],\"yaxis\":\"y\",\"type\":\"bar\"},{\"alignmentgroup\":\"True\",\"hovertemplate\":\"genero=M\\u003cbr\\u003echurn=%{x}\\u003cbr\\u003ePorcentagem=%{y}\\u003cextra\\u003e\\u003c\\u002fextra\\u003e\",\"legendgroup\":\"M\",\"marker\":{\"color\":\"#00cc96\",\"pattern\":{\"shape\":\"\"}},\"name\":\"M\",\"offsetgroup\":\"M\",\"orientation\":\"v\",\"showlegend\":true,\"textposition\":\"auto\",\"x\":[0,1],\"xaxis\":\"x\",\"y\":[0.10863661053775121,0.3091190108191654],\"yaxis\":\"y\",\"type\":\"bar\"},{\"alignmentgroup\":\"True\",\"hovertemplate\":\"genero=Male\\u003cbr\\u003echurn=%{x}\\u003cbr\\u003ePorcentagem=%{y}\\u003cextra\\u003e\\u003c\\u002fextra\\u003e\",\"legendgroup\":\"Male\",\"marker\":{\"color\":\"#ab63fa\",\"pattern\":{\"shape\":\"\"}},\"name\":\"Male\",\"offsetgroup\":\"Male\",\"orientation\":\"v\",\"showlegend\":true,\"textposition\":\"auto\",\"x\":[0,1],\"xaxis\":\"x\",\"y\":[51.71102661596958,48.37712519319938],\"yaxis\":\"y\",\"type\":\"bar\"},{\"alignmentgroup\":\"True\",\"hovertemplate\":\"genero=f\\u003cbr\\u003echurn=%{x}\\u003cbr\\u003ePorcentagem=%{y}\\u003cextra\\u003e\\u003c\\u002fextra\\u003e\",\"legendgroup\":\"f\",\"marker\":{\"color\":\"#FFA15A\",\"pattern\":{\"shape\":\"\"}},\"name\":\"f\",\"offsetgroup\":\"f\",\"orientation\":\"v\",\"showlegend\":true,\"textposition\":\"auto\",\"x\":[0,1],\"xaxis\":\"x\",\"y\":[0.10863661053775121,0.3091190108191654],\"yaxis\":\"y\",\"type\":\"bar\"}],                        {\"template\":{\"data\":{\"histogram2dcontour\":[{\"type\":\"histogram2dcontour\",\"colorbar\":{\"outlinewidth\":0,\"ticks\":\"\"},\"colorscale\":[[0.0,\"#0d0887\"],[0.1111111111111111,\"#46039f\"],[0.2222222222222222,\"#7201a8\"],[0.3333333333333333,\"#9c179e\"],[0.4444444444444444,\"#bd3786\"],[0.5555555555555556,\"#d8576b\"],[0.6666666666666666,\"#ed7953\"],[0.7777777777777778,\"#fb9f3a\"],[0.8888888888888888,\"#fdca26\"],[1.0,\"#f0f921\"]]}],\"choropleth\":[{\"type\":\"choropleth\",\"colorbar\":{\"outlinewidth\":0,\"ticks\":\"\"}}],\"histogram2d\":[{\"type\":\"histogram2d\",\"colorbar\":{\"outlinewidth\":0,\"ticks\":\"\"},\"colorscale\":[[0.0,\"#0d0887\"],[0.1111111111111111,\"#46039f\"],[0.2222222222222222,\"#7201a8\"],[0.3333333333333333,\"#9c179e\"],[0.4444444444444444,\"#bd3786\"],[0.5555555555555556,\"#d8576b\"],[0.6666666666666666,\"#ed7953\"],[0.7777777777777778,\"#fb9f3a\"],[0.8888888888888888,\"#fdca26\"],[1.0,\"#f0f921\"]]}],\"heatmap\":[{\"type\":\"heatmap\",\"colorbar\":{\"outlinewidth\":0,\"ticks\":\"\"},\"colorscale\":[[0.0,\"#0d0887\"],[0.1111111111111111,\"#46039f\"],[0.2222222222222222,\"#7201a8\"],[0.3333333333333333,\"#9c179e\"],[0.4444444444444444,\"#bd3786\"],[0.5555555555555556,\"#d8576b\"],[0.6666666666666666,\"#ed7953\"],[0.7777777777777778,\"#fb9f3a\"],[0.8888888888888888,\"#fdca26\"],[1.0,\"#f0f921\"]]}],\"heatmapgl\":[{\"type\":\"heatmapgl\",\"colorbar\":{\"outlinewidth\":0,\"ticks\":\"\"},\"colorscale\":[[0.0,\"#0d0887\"],[0.1111111111111111,\"#46039f\"],[0.2222222222222222,\"#7201a8\"],[0.3333333333333333,\"#9c179e\"],[0.4444444444444444,\"#bd3786\"],[0.5555555555555556,\"#d8576b\"],[0.6666666666666666,\"#ed7953\"],[0.7777777777777778,\"#fb9f3a\"],[0.8888888888888888,\"#fdca26\"],[1.0,\"#f0f921\"]]}],\"contourcarpet\":[{\"type\":\"contourcarpet\",\"colorbar\":{\"outlinewidth\":0,\"ticks\":\"\"}}],\"contour\":[{\"type\":\"contour\",\"colorbar\":{\"outlinewidth\":0,\"ticks\":\"\"},\"colorscale\":[[0.0,\"#0d0887\"],[0.1111111111111111,\"#46039f\"],[0.2222222222222222,\"#7201a8\"],[0.3333333333333333,\"#9c179e\"],[0.4444444444444444,\"#bd3786\"],[0.5555555555555556,\"#d8576b\"],[0.6666666666666666,\"#ed7953\"],[0.7777777777777778,\"#fb9f3a\"],[0.8888888888888888,\"#fdca26\"],[1.0,\"#f0f921\"]]}],\"surface\":[{\"type\":\"surface\",\"colorbar\":{\"outlinewidth\":0,\"ticks\":\"\"},\"colorscale\":[[0.0,\"#0d0887\"],[0.1111111111111111,\"#46039f\"],[0.2222222222222222,\"#7201a8\"],[0.3333333333333333,\"#9c179e\"],[0.4444444444444444,\"#bd3786\"],[0.5555555555555556,\"#d8576b\"],[0.6666666666666666,\"#ed7953\"],[0.7777777777777778,\"#fb9f3a\"],[0.8888888888888888,\"#fdca26\"],[1.0,\"#f0f921\"]]}],\"mesh3d\":[{\"type\":\"mesh3d\",\"colorbar\":{\"outlinewidth\":0,\"ticks\":\"\"}}],\"scatter\":[{\"fillpattern\":{\"fillmode\":\"overlay\",\"size\":10,\"solidity\":0.2},\"type\":\"scatter\"}],\"parcoords\":[{\"type\":\"parcoords\",\"line\":{\"colorbar\":{\"outlinewidth\":0,\"ticks\":\"\"}}}],\"scatterpolargl\":[{\"type\":\"scatterpolargl\",\"marker\":{\"colorbar\":{\"outlinewidth\":0,\"ticks\":\"\"}}}],\"bar\":[{\"error_x\":{\"color\":\"#2a3f5f\"},\"error_y\":{\"color\":\"#2a3f5f\"},\"marker\":{\"line\":{\"color\":\"#E5ECF6\",\"width\":0.5},\"pattern\":{\"fillmode\":\"overlay\",\"size\":10,\"solidity\":0.2}},\"type\":\"bar\"}],\"scattergeo\":[{\"type\":\"scattergeo\",\"marker\":{\"colorbar\":{\"outlinewidth\":0,\"ticks\":\"\"}}}],\"scatterpolar\":[{\"type\":\"scatterpolar\",\"marker\":{\"colorbar\":{\"outlinewidth\":0,\"ticks\":\"\"}}}],\"histogram\":[{\"marker\":{\"pattern\":{\"fillmode\":\"overlay\",\"size\":10,\"solidity\":0.2}},\"type\":\"histogram\"}],\"scattergl\":[{\"type\":\"scattergl\",\"marker\":{\"colorbar\":{\"outlinewidth\":0,\"ticks\":\"\"}}}],\"scatter3d\":[{\"type\":\"scatter3d\",\"line\":{\"colorbar\":{\"outlinewidth\":0,\"ticks\":\"\"}},\"marker\":{\"colorbar\":{\"outlinewidth\":0,\"ticks\":\"\"}}}],\"scattermapbox\":[{\"type\":\"scattermapbox\",\"marker\":{\"colorbar\":{\"outlinewidth\":0,\"ticks\":\"\"}}}],\"scatterternary\":[{\"type\":\"scatterternary\",\"marker\":{\"colorbar\":{\"outlinewidth\":0,\"ticks\":\"\"}}}],\"scattercarpet\":[{\"type\":\"scattercarpet\",\"marker\":{\"colorbar\":{\"outlinewidth\":0,\"ticks\":\"\"}}}],\"carpet\":[{\"aaxis\":{\"endlinecolor\":\"#2a3f5f\",\"gridcolor\":\"white\",\"linecolor\":\"white\",\"minorgridcolor\":\"white\",\"startlinecolor\":\"#2a3f5f\"},\"baxis\":{\"endlinecolor\":\"#2a3f5f\",\"gridcolor\":\"white\",\"linecolor\":\"white\",\"minorgridcolor\":\"white\",\"startlinecolor\":\"#2a3f5f\"},\"type\":\"carpet\"}],\"table\":[{\"cells\":{\"fill\":{\"color\":\"#EBF0F8\"},\"line\":{\"color\":\"white\"}},\"header\":{\"fill\":{\"color\":\"#C8D4E3\"},\"line\":{\"color\":\"white\"}},\"type\":\"table\"}],\"barpolar\":[{\"marker\":{\"line\":{\"color\":\"#E5ECF6\",\"width\":0.5},\"pattern\":{\"fillmode\":\"overlay\",\"size\":10,\"solidity\":0.2}},\"type\":\"barpolar\"}],\"pie\":[{\"automargin\":true,\"type\":\"pie\"}]},\"layout\":{\"autotypenumbers\":\"strict\",\"colorway\":[\"#636efa\",\"#EF553B\",\"#00cc96\",\"#ab63fa\",\"#FFA15A\",\"#19d3f3\",\"#FF6692\",\"#B6E880\",\"#FF97FF\",\"#FECB52\"],\"font\":{\"color\":\"#2a3f5f\"},\"hovermode\":\"closest\",\"hoverlabel\":{\"align\":\"left\"},\"paper_bgcolor\":\"white\",\"plot_bgcolor\":\"#E5ECF6\",\"polar\":{\"bgcolor\":\"#E5ECF6\",\"angularaxis\":{\"gridcolor\":\"white\",\"linecolor\":\"white\",\"ticks\":\"\"},\"radialaxis\":{\"gridcolor\":\"white\",\"linecolor\":\"white\",\"ticks\":\"\"}},\"ternary\":{\"bgcolor\":\"#E5ECF6\",\"aaxis\":{\"gridcolor\":\"white\",\"linecolor\":\"white\",\"ticks\":\"\"},\"baxis\":{\"gridcolor\":\"white\",\"linecolor\":\"white\",\"ticks\":\"\"},\"caxis\":{\"gridcolor\":\"white\",\"linecolor\":\"white\",\"ticks\":\"\"}},\"coloraxis\":{\"colorbar\":{\"outlinewidth\":0,\"ticks\":\"\"}},\"colorscale\":{\"sequential\":[[0.0,\"#0d0887\"],[0.1111111111111111,\"#46039f\"],[0.2222222222222222,\"#7201a8\"],[0.3333333333333333,\"#9c179e\"],[0.4444444444444444,\"#bd3786\"],[0.5555555555555556,\"#d8576b\"],[0.6666666666666666,\"#ed7953\"],[0.7777777777777778,\"#fb9f3a\"],[0.8888888888888888,\"#fdca26\"],[1.0,\"#f0f921\"]],\"sequentialminus\":[[0.0,\"#0d0887\"],[0.1111111111111111,\"#46039f\"],[0.2222222222222222,\"#7201a8\"],[0.3333333333333333,\"#9c179e\"],[0.4444444444444444,\"#bd3786\"],[0.5555555555555556,\"#d8576b\"],[0.6666666666666666,\"#ed7953\"],[0.7777777777777778,\"#fb9f3a\"],[0.8888888888888888,\"#fdca26\"],[1.0,\"#f0f921\"]],\"diverging\":[[0,\"#8e0152\"],[0.1,\"#c51b7d\"],[0.2,\"#de77ae\"],[0.3,\"#f1b6da\"],[0.4,\"#fde0ef\"],[0.5,\"#f7f7f7\"],[0.6,\"#e6f5d0\"],[0.7,\"#b8e186\"],[0.8,\"#7fbc41\"],[0.9,\"#4d9221\"],[1,\"#276419\"]]},\"xaxis\":{\"gridcolor\":\"white\",\"linecolor\":\"white\",\"ticks\":\"\",\"title\":{\"standoff\":15},\"zerolinecolor\":\"white\",\"automargin\":true,\"zerolinewidth\":2},\"yaxis\":{\"gridcolor\":\"white\",\"linecolor\":\"white\",\"ticks\":\"\",\"title\":{\"standoff\":15},\"zerolinecolor\":\"white\",\"automargin\":true,\"zerolinewidth\":2},\"scene\":{\"xaxis\":{\"backgroundcolor\":\"#E5ECF6\",\"gridcolor\":\"white\",\"linecolor\":\"white\",\"showbackground\":true,\"ticks\":\"\",\"zerolinecolor\":\"white\",\"gridwidth\":2},\"yaxis\":{\"backgroundcolor\":\"#E5ECF6\",\"gridcolor\":\"white\",\"linecolor\":\"white\",\"showbackground\":true,\"ticks\":\"\",\"zerolinecolor\":\"white\",\"gridwidth\":2},\"zaxis\":{\"backgroundcolor\":\"#E5ECF6\",\"gridcolor\":\"white\",\"linecolor\":\"white\",\"showbackground\":true,\"ticks\":\"\",\"zerolinecolor\":\"white\",\"gridwidth\":2}},\"shapedefaults\":{\"line\":{\"color\":\"#2a3f5f\"}},\"annotationdefaults\":{\"arrowcolor\":\"#2a3f5f\",\"arrowhead\":0,\"arrowwidth\":1},\"geo\":{\"bgcolor\":\"white\",\"landcolor\":\"#E5ECF6\",\"subunitcolor\":\"white\",\"showland\":true,\"showlakes\":true,\"lakecolor\":\"white\"},\"title\":{\"x\":0.05},\"mapbox\":{\"style\":\"light\"}}},\"xaxis\":{\"anchor\":\"y\",\"domain\":[0.0,1.0],\"title\":{\"text\":\"churn\"}},\"yaxis\":{\"anchor\":\"x\",\"domain\":[0.0,1.0],\"title\":{\"text\":\"Porcentagem\"}},\"legend\":{\"title\":{\"text\":\"Gênero\"},\"tracegroupgap\":0},\"margin\":{\"t\":60},\"barmode\":\"stack\",\"title\":{\"text\":\"Relação entre Churn e Gênero\"}},                        {\"responsive\": true}                    ).then(function(){\n",
              "                            \n",
              "var gd = document.getElementById('a8a8e273-a47e-4103-9baf-ba2af0cd2c1c');\n",
              "var x = new MutationObserver(function (mutations, observer) {{\n",
              "        var display = window.getComputedStyle(gd).display;\n",
              "        if (!display || display === 'none') {{\n",
              "            console.log([gd, 'removed!']);\n",
              "            Plotly.purge(gd);\n",
              "            observer.disconnect();\n",
              "        }}\n",
              "}});\n",
              "\n",
              "// Listen for the removal of the full notebook cells\n",
              "var notebookContainer = gd.closest('#notebook-container');\n",
              "if (notebookContainer) {{\n",
              "    x.observe(notebookContainer, {childList: true});\n",
              "}}\n",
              "\n",
              "// Listen for the clearing of the current output cell\n",
              "var outputEl = gd.closest('.output');\n",
              "if (outputEl) {{\n",
              "    x.observe(outputEl, {childList: true});\n",
              "}}\n",
              "\n",
              "                        })                };                            </script>        </div>\n",
              "</body>\n",
              "</html>"
            ]
          },
          "metadata": {}
        }
      ]
    },
    {
      "cell_type": "markdown",
      "source": [
        "Os homens tem uma proporção um pouco maior com 51% de não churn e as mulheres com 47% de não churn."
      ],
      "metadata": {
        "id": "9j3gkDS8Nxdo"
      }
    },
    {
      "cell_type": "code",
      "source": [
        "# Calcular a porcentagem de cada categoria\n",
        "df_grouped = df.groupby(['churn', 'Casado']).size().reset_index(name='count')\n",
        "total_por_churn = df_grouped.groupby('churn')['count'].transform('sum')\n",
        "df_grouped['percent'] = (df_grouped['count'] / total_por_churn) * 100\n",
        "\n",
        "# Cria gráfico de barras empilhadas\n",
        "fig = px.bar(df_grouped, x='churn', y='percent', color='Casado', barmode='stack',\n",
        "             labels={'Churn': 'Churn', 'percent': 'Porcentagem', 'Casado': 'Casado'})\n",
        "\n",
        "fig.update_layout(title='Relação entre Churn e Casado',\n",
        "                  yaxis_title='Porcentagem',\n",
        "                  legend_title='Casado')\n",
        "fig.show()"
      ],
      "metadata": {
        "colab": {
          "base_uri": "https://localhost:8080/",
          "height": 542
        },
        "id": "9Y3SuIahNwv1",
        "outputId": "93502890-7aa3-4ea9-e222-0cac54393e98"
      },
      "execution_count": 46,
      "outputs": [
        {
          "output_type": "display_data",
          "data": {
            "text/html": [
              "<html>\n",
              "<head><meta charset=\"utf-8\" /></head>\n",
              "<body>\n",
              "    <div>            <script src=\"https://cdnjs.cloudflare.com/ajax/libs/mathjax/2.7.5/MathJax.js?config=TeX-AMS-MML_SVG\"></script><script type=\"text/javascript\">if (window.MathJax && window.MathJax.Hub && window.MathJax.Hub.Config) {window.MathJax.Hub.Config({SVG: {font: \"STIX-Web\"}});}</script>                <script type=\"text/javascript\">window.PlotlyConfig = {MathJaxConfig: 'local'};</script>\n",
              "        <script charset=\"utf-8\" src=\"https://cdn.plot.ly/plotly-2.35.2.min.js\"></script>                <div id=\"e2d946f5-2f44-4f5c-a652-7e3bf0ce53c1\" class=\"plotly-graph-div\" style=\"height:525px; width:100%;\"></div>            <script type=\"text/javascript\">                                    window.PLOTLYENV=window.PLOTLYENV || {};                                    if (document.getElementById(\"e2d946f5-2f44-4f5c-a652-7e3bf0ce53c1\")) {                    Plotly.newPlot(                        \"e2d946f5-2f44-4f5c-a652-7e3bf0ce53c1\",                        [{\"alignmentgroup\":\"True\",\"hovertemplate\":\"Casado=No\\u003cbr\\u003echurn=%{x}\\u003cbr\\u003ePorcentagem=%{y}\\u003cextra\\u003e\\u003c\\u002fextra\\u003e\",\"legendgroup\":\"No\",\"marker\":{\"color\":\"#636efa\",\"pattern\":{\"shape\":\"\"}},\"name\":\"No\",\"offsetgroup\":\"No\",\"orientation\":\"v\",\"showlegend\":true,\"textposition\":\"auto\",\"x\":[0,1],\"xaxis\":\"x\",\"y\":[46.38783269961977,63.06027820710973],\"yaxis\":\"y\",\"type\":\"bar\"},{\"alignmentgroup\":\"True\",\"hovertemplate\":\"Casado=Yes\\u003cbr\\u003echurn=%{x}\\u003cbr\\u003ePorcentagem=%{y}\\u003cextra\\u003e\\u003c\\u002fextra\\u003e\",\"legendgroup\":\"Yes\",\"marker\":{\"color\":\"#EF553B\",\"pattern\":{\"shape\":\"\"}},\"name\":\"Yes\",\"offsetgroup\":\"Yes\",\"orientation\":\"v\",\"showlegend\":true,\"textposition\":\"auto\",\"x\":[0,1],\"xaxis\":\"x\",\"y\":[53.61216730038023,36.93972179289026],\"yaxis\":\"y\",\"type\":\"bar\"}],                        {\"template\":{\"data\":{\"histogram2dcontour\":[{\"type\":\"histogram2dcontour\",\"colorbar\":{\"outlinewidth\":0,\"ticks\":\"\"},\"colorscale\":[[0.0,\"#0d0887\"],[0.1111111111111111,\"#46039f\"],[0.2222222222222222,\"#7201a8\"],[0.3333333333333333,\"#9c179e\"],[0.4444444444444444,\"#bd3786\"],[0.5555555555555556,\"#d8576b\"],[0.6666666666666666,\"#ed7953\"],[0.7777777777777778,\"#fb9f3a\"],[0.8888888888888888,\"#fdca26\"],[1.0,\"#f0f921\"]]}],\"choropleth\":[{\"type\":\"choropleth\",\"colorbar\":{\"outlinewidth\":0,\"ticks\":\"\"}}],\"histogram2d\":[{\"type\":\"histogram2d\",\"colorbar\":{\"outlinewidth\":0,\"ticks\":\"\"},\"colorscale\":[[0.0,\"#0d0887\"],[0.1111111111111111,\"#46039f\"],[0.2222222222222222,\"#7201a8\"],[0.3333333333333333,\"#9c179e\"],[0.4444444444444444,\"#bd3786\"],[0.5555555555555556,\"#d8576b\"],[0.6666666666666666,\"#ed7953\"],[0.7777777777777778,\"#fb9f3a\"],[0.8888888888888888,\"#fdca26\"],[1.0,\"#f0f921\"]]}],\"heatmap\":[{\"type\":\"heatmap\",\"colorbar\":{\"outlinewidth\":0,\"ticks\":\"\"},\"colorscale\":[[0.0,\"#0d0887\"],[0.1111111111111111,\"#46039f\"],[0.2222222222222222,\"#7201a8\"],[0.3333333333333333,\"#9c179e\"],[0.4444444444444444,\"#bd3786\"],[0.5555555555555556,\"#d8576b\"],[0.6666666666666666,\"#ed7953\"],[0.7777777777777778,\"#fb9f3a\"],[0.8888888888888888,\"#fdca26\"],[1.0,\"#f0f921\"]]}],\"heatmapgl\":[{\"type\":\"heatmapgl\",\"colorbar\":{\"outlinewidth\":0,\"ticks\":\"\"},\"colorscale\":[[0.0,\"#0d0887\"],[0.1111111111111111,\"#46039f\"],[0.2222222222222222,\"#7201a8\"],[0.3333333333333333,\"#9c179e\"],[0.4444444444444444,\"#bd3786\"],[0.5555555555555556,\"#d8576b\"],[0.6666666666666666,\"#ed7953\"],[0.7777777777777778,\"#fb9f3a\"],[0.8888888888888888,\"#fdca26\"],[1.0,\"#f0f921\"]]}],\"contourcarpet\":[{\"type\":\"contourcarpet\",\"colorbar\":{\"outlinewidth\":0,\"ticks\":\"\"}}],\"contour\":[{\"type\":\"contour\",\"colorbar\":{\"outlinewidth\":0,\"ticks\":\"\"},\"colorscale\":[[0.0,\"#0d0887\"],[0.1111111111111111,\"#46039f\"],[0.2222222222222222,\"#7201a8\"],[0.3333333333333333,\"#9c179e\"],[0.4444444444444444,\"#bd3786\"],[0.5555555555555556,\"#d8576b\"],[0.6666666666666666,\"#ed7953\"],[0.7777777777777778,\"#fb9f3a\"],[0.8888888888888888,\"#fdca26\"],[1.0,\"#f0f921\"]]}],\"surface\":[{\"type\":\"surface\",\"colorbar\":{\"outlinewidth\":0,\"ticks\":\"\"},\"colorscale\":[[0.0,\"#0d0887\"],[0.1111111111111111,\"#46039f\"],[0.2222222222222222,\"#7201a8\"],[0.3333333333333333,\"#9c179e\"],[0.4444444444444444,\"#bd3786\"],[0.5555555555555556,\"#d8576b\"],[0.6666666666666666,\"#ed7953\"],[0.7777777777777778,\"#fb9f3a\"],[0.8888888888888888,\"#fdca26\"],[1.0,\"#f0f921\"]]}],\"mesh3d\":[{\"type\":\"mesh3d\",\"colorbar\":{\"outlinewidth\":0,\"ticks\":\"\"}}],\"scatter\":[{\"fillpattern\":{\"fillmode\":\"overlay\",\"size\":10,\"solidity\":0.2},\"type\":\"scatter\"}],\"parcoords\":[{\"type\":\"parcoords\",\"line\":{\"colorbar\":{\"outlinewidth\":0,\"ticks\":\"\"}}}],\"scatterpolargl\":[{\"type\":\"scatterpolargl\",\"marker\":{\"colorbar\":{\"outlinewidth\":0,\"ticks\":\"\"}}}],\"bar\":[{\"error_x\":{\"color\":\"#2a3f5f\"},\"error_y\":{\"color\":\"#2a3f5f\"},\"marker\":{\"line\":{\"color\":\"#E5ECF6\",\"width\":0.5},\"pattern\":{\"fillmode\":\"overlay\",\"size\":10,\"solidity\":0.2}},\"type\":\"bar\"}],\"scattergeo\":[{\"type\":\"scattergeo\",\"marker\":{\"colorbar\":{\"outlinewidth\":0,\"ticks\":\"\"}}}],\"scatterpolar\":[{\"type\":\"scatterpolar\",\"marker\":{\"colorbar\":{\"outlinewidth\":0,\"ticks\":\"\"}}}],\"histogram\":[{\"marker\":{\"pattern\":{\"fillmode\":\"overlay\",\"size\":10,\"solidity\":0.2}},\"type\":\"histogram\"}],\"scattergl\":[{\"type\":\"scattergl\",\"marker\":{\"colorbar\":{\"outlinewidth\":0,\"ticks\":\"\"}}}],\"scatter3d\":[{\"type\":\"scatter3d\",\"line\":{\"colorbar\":{\"outlinewidth\":0,\"ticks\":\"\"}},\"marker\":{\"colorbar\":{\"outlinewidth\":0,\"ticks\":\"\"}}}],\"scattermapbox\":[{\"type\":\"scattermapbox\",\"marker\":{\"colorbar\":{\"outlinewidth\":0,\"ticks\":\"\"}}}],\"scatterternary\":[{\"type\":\"scatterternary\",\"marker\":{\"colorbar\":{\"outlinewidth\":0,\"ticks\":\"\"}}}],\"scattercarpet\":[{\"type\":\"scattercarpet\",\"marker\":{\"colorbar\":{\"outlinewidth\":0,\"ticks\":\"\"}}}],\"carpet\":[{\"aaxis\":{\"endlinecolor\":\"#2a3f5f\",\"gridcolor\":\"white\",\"linecolor\":\"white\",\"minorgridcolor\":\"white\",\"startlinecolor\":\"#2a3f5f\"},\"baxis\":{\"endlinecolor\":\"#2a3f5f\",\"gridcolor\":\"white\",\"linecolor\":\"white\",\"minorgridcolor\":\"white\",\"startlinecolor\":\"#2a3f5f\"},\"type\":\"carpet\"}],\"table\":[{\"cells\":{\"fill\":{\"color\":\"#EBF0F8\"},\"line\":{\"color\":\"white\"}},\"header\":{\"fill\":{\"color\":\"#C8D4E3\"},\"line\":{\"color\":\"white\"}},\"type\":\"table\"}],\"barpolar\":[{\"marker\":{\"line\":{\"color\":\"#E5ECF6\",\"width\":0.5},\"pattern\":{\"fillmode\":\"overlay\",\"size\":10,\"solidity\":0.2}},\"type\":\"barpolar\"}],\"pie\":[{\"automargin\":true,\"type\":\"pie\"}]},\"layout\":{\"autotypenumbers\":\"strict\",\"colorway\":[\"#636efa\",\"#EF553B\",\"#00cc96\",\"#ab63fa\",\"#FFA15A\",\"#19d3f3\",\"#FF6692\",\"#B6E880\",\"#FF97FF\",\"#FECB52\"],\"font\":{\"color\":\"#2a3f5f\"},\"hovermode\":\"closest\",\"hoverlabel\":{\"align\":\"left\"},\"paper_bgcolor\":\"white\",\"plot_bgcolor\":\"#E5ECF6\",\"polar\":{\"bgcolor\":\"#E5ECF6\",\"angularaxis\":{\"gridcolor\":\"white\",\"linecolor\":\"white\",\"ticks\":\"\"},\"radialaxis\":{\"gridcolor\":\"white\",\"linecolor\":\"white\",\"ticks\":\"\"}},\"ternary\":{\"bgcolor\":\"#E5ECF6\",\"aaxis\":{\"gridcolor\":\"white\",\"linecolor\":\"white\",\"ticks\":\"\"},\"baxis\":{\"gridcolor\":\"white\",\"linecolor\":\"white\",\"ticks\":\"\"},\"caxis\":{\"gridcolor\":\"white\",\"linecolor\":\"white\",\"ticks\":\"\"}},\"coloraxis\":{\"colorbar\":{\"outlinewidth\":0,\"ticks\":\"\"}},\"colorscale\":{\"sequential\":[[0.0,\"#0d0887\"],[0.1111111111111111,\"#46039f\"],[0.2222222222222222,\"#7201a8\"],[0.3333333333333333,\"#9c179e\"],[0.4444444444444444,\"#bd3786\"],[0.5555555555555556,\"#d8576b\"],[0.6666666666666666,\"#ed7953\"],[0.7777777777777778,\"#fb9f3a\"],[0.8888888888888888,\"#fdca26\"],[1.0,\"#f0f921\"]],\"sequentialminus\":[[0.0,\"#0d0887\"],[0.1111111111111111,\"#46039f\"],[0.2222222222222222,\"#7201a8\"],[0.3333333333333333,\"#9c179e\"],[0.4444444444444444,\"#bd3786\"],[0.5555555555555556,\"#d8576b\"],[0.6666666666666666,\"#ed7953\"],[0.7777777777777778,\"#fb9f3a\"],[0.8888888888888888,\"#fdca26\"],[1.0,\"#f0f921\"]],\"diverging\":[[0,\"#8e0152\"],[0.1,\"#c51b7d\"],[0.2,\"#de77ae\"],[0.3,\"#f1b6da\"],[0.4,\"#fde0ef\"],[0.5,\"#f7f7f7\"],[0.6,\"#e6f5d0\"],[0.7,\"#b8e186\"],[0.8,\"#7fbc41\"],[0.9,\"#4d9221\"],[1,\"#276419\"]]},\"xaxis\":{\"gridcolor\":\"white\",\"linecolor\":\"white\",\"ticks\":\"\",\"title\":{\"standoff\":15},\"zerolinecolor\":\"white\",\"automargin\":true,\"zerolinewidth\":2},\"yaxis\":{\"gridcolor\":\"white\",\"linecolor\":\"white\",\"ticks\":\"\",\"title\":{\"standoff\":15},\"zerolinecolor\":\"white\",\"automargin\":true,\"zerolinewidth\":2},\"scene\":{\"xaxis\":{\"backgroundcolor\":\"#E5ECF6\",\"gridcolor\":\"white\",\"linecolor\":\"white\",\"showbackground\":true,\"ticks\":\"\",\"zerolinecolor\":\"white\",\"gridwidth\":2},\"yaxis\":{\"backgroundcolor\":\"#E5ECF6\",\"gridcolor\":\"white\",\"linecolor\":\"white\",\"showbackground\":true,\"ticks\":\"\",\"zerolinecolor\":\"white\",\"gridwidth\":2},\"zaxis\":{\"backgroundcolor\":\"#E5ECF6\",\"gridcolor\":\"white\",\"linecolor\":\"white\",\"showbackground\":true,\"ticks\":\"\",\"zerolinecolor\":\"white\",\"gridwidth\":2}},\"shapedefaults\":{\"line\":{\"color\":\"#2a3f5f\"}},\"annotationdefaults\":{\"arrowcolor\":\"#2a3f5f\",\"arrowhead\":0,\"arrowwidth\":1},\"geo\":{\"bgcolor\":\"white\",\"landcolor\":\"#E5ECF6\",\"subunitcolor\":\"white\",\"showland\":true,\"showlakes\":true,\"lakecolor\":\"white\"},\"title\":{\"x\":0.05},\"mapbox\":{\"style\":\"light\"}}},\"xaxis\":{\"anchor\":\"y\",\"domain\":[0.0,1.0],\"title\":{\"text\":\"churn\"}},\"yaxis\":{\"anchor\":\"x\",\"domain\":[0.0,1.0],\"title\":{\"text\":\"Porcentagem\"}},\"legend\":{\"title\":{\"text\":\"Casado\"},\"tracegroupgap\":0},\"margin\":{\"t\":60},\"barmode\":\"stack\",\"title\":{\"text\":\"Relação entre Churn e Casado\"}},                        {\"responsive\": true}                    ).then(function(){\n",
              "                            \n",
              "var gd = document.getElementById('e2d946f5-2f44-4f5c-a652-7e3bf0ce53c1');\n",
              "var x = new MutationObserver(function (mutations, observer) {{\n",
              "        var display = window.getComputedStyle(gd).display;\n",
              "        if (!display || display === 'none') {{\n",
              "            console.log([gd, 'removed!']);\n",
              "            Plotly.purge(gd);\n",
              "            observer.disconnect();\n",
              "        }}\n",
              "}});\n",
              "\n",
              "// Listen for the removal of the full notebook cells\n",
              "var notebookContainer = gd.closest('#notebook-container');\n",
              "if (notebookContainer) {{\n",
              "    x.observe(notebookContainer, {childList: true});\n",
              "}}\n",
              "\n",
              "// Listen for the clearing of the current output cell\n",
              "var outputEl = gd.closest('.output');\n",
              "if (outputEl) {{\n",
              "    x.observe(outputEl, {childList: true});\n",
              "}}\n",
              "\n",
              "                        })                };                            </script>        </div>\n",
              "</body>\n",
              "</html>"
            ]
          },
          "metadata": {}
        }
      ]
    },
    {
      "cell_type": "markdown",
      "source": [
        "Clientes Casados são menos propicios a dar churn. Com média de 63% para não casados e 36% para os casados."
      ],
      "metadata": {
        "id": "qUeUaD0jO0XK"
      }
    },
    {
      "cell_type": "code",
      "source": [
        "# Calcular a porcentagem de cada categoria\n",
        "df_grouped = df.groupby(['churn', 'tempo_cliente']).size().reset_index(name='count')\n",
        "total_por_churn = df_grouped.groupby('churn')['count'].transform('sum')\n",
        "df_grouped['percent'] = (df_grouped['count'] / total_por_churn) * 100\n",
        "\n",
        "# Cria gráfico de barras empilhadas\n",
        "fig = px.bar(df_grouped, x='churn', y='percent', color='tempo_cliente', barmode='stack',\n",
        "             labels={'Churn': 'Churn', 'percent': 'Porcentagem', 'tempo_cliente': 'tempo_cliente'})\n",
        "\n",
        "fig.update_layout(title='Relação entre Churn e Tempo_Cliente',\n",
        "                  yaxis_title='Porcentagem',\n",
        "                  legend_title='Tempo_Cliente')\n",
        "fig.show()"
      ],
      "metadata": {
        "colab": {
          "base_uri": "https://localhost:8080/",
          "height": 542
        },
        "id": "EcfTh-j_QKst",
        "outputId": "dc31ce03-cb53-451a-a0e4-2cf1ba3be033"
      },
      "execution_count": 47,
      "outputs": [
        {
          "output_type": "display_data",
          "data": {
            "text/html": [
              "<html>\n",
              "<head><meta charset=\"utf-8\" /></head>\n",
              "<body>\n",
              "    <div>            <script src=\"https://cdnjs.cloudflare.com/ajax/libs/mathjax/2.7.5/MathJax.js?config=TeX-AMS-MML_SVG\"></script><script type=\"text/javascript\">if (window.MathJax && window.MathJax.Hub && window.MathJax.Hub.Config) {window.MathJax.Hub.Config({SVG: {font: \"STIX-Web\"}});}</script>                <script type=\"text/javascript\">window.PlotlyConfig = {MathJaxConfig: 'local'};</script>\n",
              "        <script charset=\"utf-8\" src=\"https://cdn.plot.ly/plotly-2.35.2.min.js\"></script>                <div id=\"9f4949f6-2046-41f6-8151-fcf1e1f1edef\" class=\"plotly-graph-div\" style=\"height:525px; width:100%;\"></div>            <script type=\"text/javascript\">                                    window.PLOTLYENV=window.PLOTLYENV || {};                                    if (document.getElementById(\"9f4949f6-2046-41f6-8151-fcf1e1f1edef\")) {                    Plotly.newPlot(                        \"9f4949f6-2046-41f6-8151-fcf1e1f1edef\",                        [{\"alignmentgroup\":\"True\",\"hovertemplate\":\"churn=%{x}\\u003cbr\\u003ePorcentagem=%{y}\\u003cbr\\u003etempo_cliente=%{marker.color}\\u003cextra\\u003e\\u003c\\u002fextra\\u003e\",\"legendgroup\":\"\",\"marker\":{\"color\":[0,1,2,3,4,5,6,7,8,9,10,11,12,13,14,15,16,17,18,19,20,21,22,23,24,25,26,27,28,29,30,31,32,33,34,35,36,37,38,39,40,41,42,43,44,45,46,47,48,49,50,51,52,53,54,55,56,57,58,59,60,61,62,63,64,65,66,67,68,69,70,71,72,1,2,3,4,5,6,7,8,9,10,11,12,13,14,15,16,17,18,19,20,21,22,23,24,25,26,27,28,29,30,31,32,33,34,35,37,38,39,40,41,42,43,44,45,46,47,48,49,50,51,52,53,54,55,56,57,58,59,60,61,62,63,64,65,66,67,68,69,70,71],\"coloraxis\":\"coloraxis\",\"pattern\":{\"shape\":\"\"}},\"name\":\"\",\"offsetgroup\":\"\",\"orientation\":\"v\",\"showlegend\":false,\"textposition\":\"auto\",\"x\":[0,0,0,0,0,0,0,0,0,0,0,0,0,0,0,0,0,0,0,0,0,0,0,0,0,0,0,0,0,0,0,0,0,0,0,0,0,0,0,0,0,0,0,0,0,0,0,0,0,0,0,0,0,0,0,0,0,0,0,0,0,0,0,0,0,0,0,0,0,0,0,0,0,1,1,1,1,1,1,1,1,1,1,1,1,1,1,1,1,1,1,1,1,1,1,1,1,1,1,1,1,1,1,1,1,1,1,1,1,1,1,1,1,1,1,1,1,1,1,1,1,1,1,1,1,1,1,1,1,1,1,1,1,1,1,1,1,1,1,1,1,1,1],\"xaxis\":\"x\",\"y\":[0.27159152634437805,4.725692558392178,2.009777294948398,2.6072786529060292,1.5752308527973928,1.7381857686040194,0.9777294948397609,1.7381857686040194,1.9011406844106464,1.0863661053775122,1.1406844106463878,1.6838674633351438,1.4665942422596416,0.9777294948397609,1.3036393264530146,1.1406844106463878,1.0863661053775122,1.1950027159152634,1.0320478001086366,0.48886474741988045,1.3579576317218904,0.7061379684953829,1.249321021184139,1.8468223791417708,1.249321021184139,0.7604562737642585,0.8147745790331342,1.520912547528517,0.8690928843020097,1.249321021184139,1.4122759369907658,0.9777294948397609,1.1950027159152634,0.8690928843020097,0.9234111895708854,1.4122759369907658,0.8690928843020097,0.7061379684953829,0.8147745790331342,0.6518196632265073,0.9777294948397609,1.0320478001086366,1.0863661053775122,1.0320478001086366,0.7061379684953829,1.3579576317218904,1.4122759369907658,1.3579576317218904,1.1950027159152634,1.0320478001086366,1.0863661053775122,1.1950027159152634,1.4665942422596416,0.8147745790331342,0.9777294948397609,0.7061379684953829,1.520912547528517,0.8690928843020097,0.8147745790331342,0.7604562737642585,1.4665942422596416,1.1950027159152634,1.1406844106463878,1.4122759369907658,1.3036393264530146,1.3036393264530146,1.5752308527973928,1.4665942422596416,1.5752308527973928,1.6838674633351438,1.7925040738728952,3.5850081477457905,7.495926127104835,19.629057187017,8.346213292117465,4.01854714064915,4.1731066460587325,3.554868624420402,1.2364760432766615,3.2457496136012365,2.472952086553323,1.545595054095827,2.7820710973724885,1.545595054095827,2.472952086553323,2.1638330757341575,1.3910355486862442,2.627511591962906,1.545595054095827,1.7001545595054095,1.3910355486862442,1.0819165378670788,0.7727975270479135,0.9273570324574961,1.2364760432766615,1.0819165378670788,1.3910355486862442,0.9273570324574961,0.46367851622874806,0.6182380216383307,0.46367851622874806,0.6182380216383307,0.7727975270479135,0.6182380216383307,1.2364760432766615,0.7727975270479135,1.3910355486862442,1.0819165378670788,0.6182380216383307,0.7727975270479135,0.46367851622874806,0.7727975270479135,0.7727975270479135,0.46367851622874806,0.6182380216383307,0.3091190108191654,0.1545595054095827,0.6182380216383307,0.7727975270479135,0.46367851622874806,0.7727975270479135,0.46367851622874806,0.3091190108191654,0.46367851622874806,0.7727975270479135,0.3091190108191654,0.46367851622874806,0.7727975270479135,0.6182380216383307,0.6182380216383307,0.9273570324574961,0.6182380216383307,0.3091190108191654,0.46367851622874806,0.46367851622874806,0.1545595054095827,0.7727975270479135,0.6182380216383307,0.6182380216383307,0.46367851622874806,0.46367851622874806,0.3091190108191654,0.1545595054095827],\"yaxis\":\"y\",\"type\":\"bar\"}],                        {\"template\":{\"data\":{\"histogram2dcontour\":[{\"type\":\"histogram2dcontour\",\"colorbar\":{\"outlinewidth\":0,\"ticks\":\"\"},\"colorscale\":[[0.0,\"#0d0887\"],[0.1111111111111111,\"#46039f\"],[0.2222222222222222,\"#7201a8\"],[0.3333333333333333,\"#9c179e\"],[0.4444444444444444,\"#bd3786\"],[0.5555555555555556,\"#d8576b\"],[0.6666666666666666,\"#ed7953\"],[0.7777777777777778,\"#fb9f3a\"],[0.8888888888888888,\"#fdca26\"],[1.0,\"#f0f921\"]]}],\"choropleth\":[{\"type\":\"choropleth\",\"colorbar\":{\"outlinewidth\":0,\"ticks\":\"\"}}],\"histogram2d\":[{\"type\":\"histogram2d\",\"colorbar\":{\"outlinewidth\":0,\"ticks\":\"\"},\"colorscale\":[[0.0,\"#0d0887\"],[0.1111111111111111,\"#46039f\"],[0.2222222222222222,\"#7201a8\"],[0.3333333333333333,\"#9c179e\"],[0.4444444444444444,\"#bd3786\"],[0.5555555555555556,\"#d8576b\"],[0.6666666666666666,\"#ed7953\"],[0.7777777777777778,\"#fb9f3a\"],[0.8888888888888888,\"#fdca26\"],[1.0,\"#f0f921\"]]}],\"heatmap\":[{\"type\":\"heatmap\",\"colorbar\":{\"outlinewidth\":0,\"ticks\":\"\"},\"colorscale\":[[0.0,\"#0d0887\"],[0.1111111111111111,\"#46039f\"],[0.2222222222222222,\"#7201a8\"],[0.3333333333333333,\"#9c179e\"],[0.4444444444444444,\"#bd3786\"],[0.5555555555555556,\"#d8576b\"],[0.6666666666666666,\"#ed7953\"],[0.7777777777777778,\"#fb9f3a\"],[0.8888888888888888,\"#fdca26\"],[1.0,\"#f0f921\"]]}],\"heatmapgl\":[{\"type\":\"heatmapgl\",\"colorbar\":{\"outlinewidth\":0,\"ticks\":\"\"},\"colorscale\":[[0.0,\"#0d0887\"],[0.1111111111111111,\"#46039f\"],[0.2222222222222222,\"#7201a8\"],[0.3333333333333333,\"#9c179e\"],[0.4444444444444444,\"#bd3786\"],[0.5555555555555556,\"#d8576b\"],[0.6666666666666666,\"#ed7953\"],[0.7777777777777778,\"#fb9f3a\"],[0.8888888888888888,\"#fdca26\"],[1.0,\"#f0f921\"]]}],\"contourcarpet\":[{\"type\":\"contourcarpet\",\"colorbar\":{\"outlinewidth\":0,\"ticks\":\"\"}}],\"contour\":[{\"type\":\"contour\",\"colorbar\":{\"outlinewidth\":0,\"ticks\":\"\"},\"colorscale\":[[0.0,\"#0d0887\"],[0.1111111111111111,\"#46039f\"],[0.2222222222222222,\"#7201a8\"],[0.3333333333333333,\"#9c179e\"],[0.4444444444444444,\"#bd3786\"],[0.5555555555555556,\"#d8576b\"],[0.6666666666666666,\"#ed7953\"],[0.7777777777777778,\"#fb9f3a\"],[0.8888888888888888,\"#fdca26\"],[1.0,\"#f0f921\"]]}],\"surface\":[{\"type\":\"surface\",\"colorbar\":{\"outlinewidth\":0,\"ticks\":\"\"},\"colorscale\":[[0.0,\"#0d0887\"],[0.1111111111111111,\"#46039f\"],[0.2222222222222222,\"#7201a8\"],[0.3333333333333333,\"#9c179e\"],[0.4444444444444444,\"#bd3786\"],[0.5555555555555556,\"#d8576b\"],[0.6666666666666666,\"#ed7953\"],[0.7777777777777778,\"#fb9f3a\"],[0.8888888888888888,\"#fdca26\"],[1.0,\"#f0f921\"]]}],\"mesh3d\":[{\"type\":\"mesh3d\",\"colorbar\":{\"outlinewidth\":0,\"ticks\":\"\"}}],\"scatter\":[{\"fillpattern\":{\"fillmode\":\"overlay\",\"size\":10,\"solidity\":0.2},\"type\":\"scatter\"}],\"parcoords\":[{\"type\":\"parcoords\",\"line\":{\"colorbar\":{\"outlinewidth\":0,\"ticks\":\"\"}}}],\"scatterpolargl\":[{\"type\":\"scatterpolargl\",\"marker\":{\"colorbar\":{\"outlinewidth\":0,\"ticks\":\"\"}}}],\"bar\":[{\"error_x\":{\"color\":\"#2a3f5f\"},\"error_y\":{\"color\":\"#2a3f5f\"},\"marker\":{\"line\":{\"color\":\"#E5ECF6\",\"width\":0.5},\"pattern\":{\"fillmode\":\"overlay\",\"size\":10,\"solidity\":0.2}},\"type\":\"bar\"}],\"scattergeo\":[{\"type\":\"scattergeo\",\"marker\":{\"colorbar\":{\"outlinewidth\":0,\"ticks\":\"\"}}}],\"scatterpolar\":[{\"type\":\"scatterpolar\",\"marker\":{\"colorbar\":{\"outlinewidth\":0,\"ticks\":\"\"}}}],\"histogram\":[{\"marker\":{\"pattern\":{\"fillmode\":\"overlay\",\"size\":10,\"solidity\":0.2}},\"type\":\"histogram\"}],\"scattergl\":[{\"type\":\"scattergl\",\"marker\":{\"colorbar\":{\"outlinewidth\":0,\"ticks\":\"\"}}}],\"scatter3d\":[{\"type\":\"scatter3d\",\"line\":{\"colorbar\":{\"outlinewidth\":0,\"ticks\":\"\"}},\"marker\":{\"colorbar\":{\"outlinewidth\":0,\"ticks\":\"\"}}}],\"scattermapbox\":[{\"type\":\"scattermapbox\",\"marker\":{\"colorbar\":{\"outlinewidth\":0,\"ticks\":\"\"}}}],\"scatterternary\":[{\"type\":\"scatterternary\",\"marker\":{\"colorbar\":{\"outlinewidth\":0,\"ticks\":\"\"}}}],\"scattercarpet\":[{\"type\":\"scattercarpet\",\"marker\":{\"colorbar\":{\"outlinewidth\":0,\"ticks\":\"\"}}}],\"carpet\":[{\"aaxis\":{\"endlinecolor\":\"#2a3f5f\",\"gridcolor\":\"white\",\"linecolor\":\"white\",\"minorgridcolor\":\"white\",\"startlinecolor\":\"#2a3f5f\"},\"baxis\":{\"endlinecolor\":\"#2a3f5f\",\"gridcolor\":\"white\",\"linecolor\":\"white\",\"minorgridcolor\":\"white\",\"startlinecolor\":\"#2a3f5f\"},\"type\":\"carpet\"}],\"table\":[{\"cells\":{\"fill\":{\"color\":\"#EBF0F8\"},\"line\":{\"color\":\"white\"}},\"header\":{\"fill\":{\"color\":\"#C8D4E3\"},\"line\":{\"color\":\"white\"}},\"type\":\"table\"}],\"barpolar\":[{\"marker\":{\"line\":{\"color\":\"#E5ECF6\",\"width\":0.5},\"pattern\":{\"fillmode\":\"overlay\",\"size\":10,\"solidity\":0.2}},\"type\":\"barpolar\"}],\"pie\":[{\"automargin\":true,\"type\":\"pie\"}]},\"layout\":{\"autotypenumbers\":\"strict\",\"colorway\":[\"#636efa\",\"#EF553B\",\"#00cc96\",\"#ab63fa\",\"#FFA15A\",\"#19d3f3\",\"#FF6692\",\"#B6E880\",\"#FF97FF\",\"#FECB52\"],\"font\":{\"color\":\"#2a3f5f\"},\"hovermode\":\"closest\",\"hoverlabel\":{\"align\":\"left\"},\"paper_bgcolor\":\"white\",\"plot_bgcolor\":\"#E5ECF6\",\"polar\":{\"bgcolor\":\"#E5ECF6\",\"angularaxis\":{\"gridcolor\":\"white\",\"linecolor\":\"white\",\"ticks\":\"\"},\"radialaxis\":{\"gridcolor\":\"white\",\"linecolor\":\"white\",\"ticks\":\"\"}},\"ternary\":{\"bgcolor\":\"#E5ECF6\",\"aaxis\":{\"gridcolor\":\"white\",\"linecolor\":\"white\",\"ticks\":\"\"},\"baxis\":{\"gridcolor\":\"white\",\"linecolor\":\"white\",\"ticks\":\"\"},\"caxis\":{\"gridcolor\":\"white\",\"linecolor\":\"white\",\"ticks\":\"\"}},\"coloraxis\":{\"colorbar\":{\"outlinewidth\":0,\"ticks\":\"\"}},\"colorscale\":{\"sequential\":[[0.0,\"#0d0887\"],[0.1111111111111111,\"#46039f\"],[0.2222222222222222,\"#7201a8\"],[0.3333333333333333,\"#9c179e\"],[0.4444444444444444,\"#bd3786\"],[0.5555555555555556,\"#d8576b\"],[0.6666666666666666,\"#ed7953\"],[0.7777777777777778,\"#fb9f3a\"],[0.8888888888888888,\"#fdca26\"],[1.0,\"#f0f921\"]],\"sequentialminus\":[[0.0,\"#0d0887\"],[0.1111111111111111,\"#46039f\"],[0.2222222222222222,\"#7201a8\"],[0.3333333333333333,\"#9c179e\"],[0.4444444444444444,\"#bd3786\"],[0.5555555555555556,\"#d8576b\"],[0.6666666666666666,\"#ed7953\"],[0.7777777777777778,\"#fb9f3a\"],[0.8888888888888888,\"#fdca26\"],[1.0,\"#f0f921\"]],\"diverging\":[[0,\"#8e0152\"],[0.1,\"#c51b7d\"],[0.2,\"#de77ae\"],[0.3,\"#f1b6da\"],[0.4,\"#fde0ef\"],[0.5,\"#f7f7f7\"],[0.6,\"#e6f5d0\"],[0.7,\"#b8e186\"],[0.8,\"#7fbc41\"],[0.9,\"#4d9221\"],[1,\"#276419\"]]},\"xaxis\":{\"gridcolor\":\"white\",\"linecolor\":\"white\",\"ticks\":\"\",\"title\":{\"standoff\":15},\"zerolinecolor\":\"white\",\"automargin\":true,\"zerolinewidth\":2},\"yaxis\":{\"gridcolor\":\"white\",\"linecolor\":\"white\",\"ticks\":\"\",\"title\":{\"standoff\":15},\"zerolinecolor\":\"white\",\"automargin\":true,\"zerolinewidth\":2},\"scene\":{\"xaxis\":{\"backgroundcolor\":\"#E5ECF6\",\"gridcolor\":\"white\",\"linecolor\":\"white\",\"showbackground\":true,\"ticks\":\"\",\"zerolinecolor\":\"white\",\"gridwidth\":2},\"yaxis\":{\"backgroundcolor\":\"#E5ECF6\",\"gridcolor\":\"white\",\"linecolor\":\"white\",\"showbackground\":true,\"ticks\":\"\",\"zerolinecolor\":\"white\",\"gridwidth\":2},\"zaxis\":{\"backgroundcolor\":\"#E5ECF6\",\"gridcolor\":\"white\",\"linecolor\":\"white\",\"showbackground\":true,\"ticks\":\"\",\"zerolinecolor\":\"white\",\"gridwidth\":2}},\"shapedefaults\":{\"line\":{\"color\":\"#2a3f5f\"}},\"annotationdefaults\":{\"arrowcolor\":\"#2a3f5f\",\"arrowhead\":0,\"arrowwidth\":1},\"geo\":{\"bgcolor\":\"white\",\"landcolor\":\"#E5ECF6\",\"subunitcolor\":\"white\",\"showland\":true,\"showlakes\":true,\"lakecolor\":\"white\"},\"title\":{\"x\":0.05},\"mapbox\":{\"style\":\"light\"}}},\"xaxis\":{\"anchor\":\"y\",\"domain\":[0.0,1.0],\"title\":{\"text\":\"churn\"}},\"yaxis\":{\"anchor\":\"x\",\"domain\":[0.0,1.0],\"title\":{\"text\":\"Porcentagem\"}},\"coloraxis\":{\"colorbar\":{\"title\":{\"text\":\"tempo_cliente\"}},\"colorscale\":[[0.0,\"#0d0887\"],[0.1111111111111111,\"#46039f\"],[0.2222222222222222,\"#7201a8\"],[0.3333333333333333,\"#9c179e\"],[0.4444444444444444,\"#bd3786\"],[0.5555555555555556,\"#d8576b\"],[0.6666666666666666,\"#ed7953\"],[0.7777777777777778,\"#fb9f3a\"],[0.8888888888888888,\"#fdca26\"],[1.0,\"#f0f921\"]]},\"legend\":{\"tracegroupgap\":0,\"title\":{\"text\":\"Tempo_Cliente\"}},\"margin\":{\"t\":60},\"barmode\":\"stack\",\"title\":{\"text\":\"Relação entre Churn e Tempo_Cliente\"}},                        {\"responsive\": true}                    ).then(function(){\n",
              "                            \n",
              "var gd = document.getElementById('9f4949f6-2046-41f6-8151-fcf1e1f1edef');\n",
              "var x = new MutationObserver(function (mutations, observer) {{\n",
              "        var display = window.getComputedStyle(gd).display;\n",
              "        if (!display || display === 'none') {{\n",
              "            console.log([gd, 'removed!']);\n",
              "            Plotly.purge(gd);\n",
              "            observer.disconnect();\n",
              "        }}\n",
              "}});\n",
              "\n",
              "// Listen for the removal of the full notebook cells\n",
              "var notebookContainer = gd.closest('#notebook-container');\n",
              "if (notebookContainer) {{\n",
              "    x.observe(notebookContainer, {childList: true});\n",
              "}}\n",
              "\n",
              "// Listen for the clearing of the current output cell\n",
              "var outputEl = gd.closest('.output');\n",
              "if (outputEl) {{\n",
              "    x.observe(outputEl, {childList: true});\n",
              "}}\n",
              "\n",
              "                        })                };                            </script>        </div>\n",
              "</body>\n",
              "</html>"
            ]
          },
          "metadata": {}
        }
      ]
    },
    {
      "cell_type": "markdown",
      "source": [
        "Pode se analisar que clientes mais velhos não estão propicios a dar churn."
      ],
      "metadata": {
        "id": "DZovLcyPQqZ_"
      }
    },
    {
      "cell_type": "code",
      "source": [
        "# Calcular a porcentagem de cada categoria\n",
        "df_grouped = df.groupby(['churn', 'Tipo_Contrato']).size().reset_index(name='count')\n",
        "total_por_churn = df_grouped.groupby('churn')['count'].transform('sum')\n",
        "df_grouped['percent'] = (df_grouped['count'] / total_por_churn) * 100\n",
        "\n",
        "# Cria gráfico de barras empilhadas\n",
        "fig = px.bar(df_grouped, x='churn', y='percent', color='Tipo_Contrato', barmode='stack',\n",
        "             labels={'Churn': 'Churn', 'percent': 'Porcentagem', 'Tipo_Contrato': 'Tipo_Contrato'})\n",
        "\n",
        "fig.update_layout(title='Relação entre Churn e Tipo_Contrato',\n",
        "                  yaxis_title='Porcentagem',\n",
        "                  legend_title='Tipo_Contrato')\n",
        "fig.show()"
      ],
      "metadata": {
        "colab": {
          "base_uri": "https://localhost:8080/",
          "height": 542
        },
        "id": "miFI1M_QRTnT",
        "outputId": "9fc7bb46-d0e7-4997-b6b8-53f836021b34"
      },
      "execution_count": 63,
      "outputs": [
        {
          "output_type": "display_data",
          "data": {
            "text/html": [
              "<html>\n",
              "<head><meta charset=\"utf-8\" /></head>\n",
              "<body>\n",
              "    <div>            <script src=\"https://cdnjs.cloudflare.com/ajax/libs/mathjax/2.7.5/MathJax.js?config=TeX-AMS-MML_SVG\"></script><script type=\"text/javascript\">if (window.MathJax && window.MathJax.Hub && window.MathJax.Hub.Config) {window.MathJax.Hub.Config({SVG: {font: \"STIX-Web\"}});}</script>                <script type=\"text/javascript\">window.PlotlyConfig = {MathJaxConfig: 'local'};</script>\n",
              "        <script charset=\"utf-8\" src=\"https://cdn.plot.ly/plotly-2.35.2.min.js\"></script>                <div id=\"29f3c415-168b-4e4e-a445-90f5e7b6b848\" class=\"plotly-graph-div\" style=\"height:525px; width:100%;\"></div>            <script type=\"text/javascript\">                                    window.PLOTLYENV=window.PLOTLYENV || {};                                    if (document.getElementById(\"29f3c415-168b-4e4e-a445-90f5e7b6b848\")) {                    Plotly.newPlot(                        \"29f3c415-168b-4e4e-a445-90f5e7b6b848\",                        [{\"alignmentgroup\":\"True\",\"hovertemplate\":\"Tipo_Contrato=Month-to-month\\u003cbr\\u003echurn=%{x}\\u003cbr\\u003ePorcentagem=%{y}\\u003cextra\\u003e\\u003c\\u002fextra\\u003e\",\"legendgroup\":\"Month-to-month\",\"marker\":{\"color\":\"#636efa\",\"pattern\":{\"shape\":\"\"}},\"name\":\"Month-to-month\",\"offsetgroup\":\"Month-to-month\",\"orientation\":\"v\",\"showlegend\":true,\"textposition\":\"auto\",\"x\":[0,1],\"xaxis\":\"x\",\"y\":[42.857142857142854,89.64451313755795],\"yaxis\":\"y\",\"type\":\"bar\"},{\"alignmentgroup\":\"True\",\"hovertemplate\":\"Tipo_Contrato=One year\\u003cbr\\u003echurn=%{x}\\u003cbr\\u003ePorcentagem=%{y}\\u003cextra\\u003e\\u003c\\u002fextra\\u003e\",\"legendgroup\":\"One year\",\"marker\":{\"color\":\"#EF553B\",\"pattern\":{\"shape\":\"\"}},\"name\":\"One year\",\"offsetgroup\":\"One year\",\"orientation\":\"v\",\"showlegend\":true,\"textposition\":\"auto\",\"x\":[0,1],\"xaxis\":\"x\",\"y\":[24.932102118413905,8.964451313755797],\"yaxis\":\"y\",\"type\":\"bar\"},{\"alignmentgroup\":\"True\",\"hovertemplate\":\"Tipo_Contrato=Two year\\u003cbr\\u003echurn=%{x}\\u003cbr\\u003ePorcentagem=%{y}\\u003cextra\\u003e\\u003c\\u002fextra\\u003e\",\"legendgroup\":\"Two year\",\"marker\":{\"color\":\"#00cc96\",\"pattern\":{\"shape\":\"\"}},\"name\":\"Two year\",\"offsetgroup\":\"Two year\",\"orientation\":\"v\",\"showlegend\":true,\"textposition\":\"auto\",\"x\":[0,1],\"xaxis\":\"x\",\"y\":[32.21075502444324,1.3910355486862442],\"yaxis\":\"y\",\"type\":\"bar\"}],                        {\"template\":{\"data\":{\"histogram2dcontour\":[{\"type\":\"histogram2dcontour\",\"colorbar\":{\"outlinewidth\":0,\"ticks\":\"\"},\"colorscale\":[[0.0,\"#0d0887\"],[0.1111111111111111,\"#46039f\"],[0.2222222222222222,\"#7201a8\"],[0.3333333333333333,\"#9c179e\"],[0.4444444444444444,\"#bd3786\"],[0.5555555555555556,\"#d8576b\"],[0.6666666666666666,\"#ed7953\"],[0.7777777777777778,\"#fb9f3a\"],[0.8888888888888888,\"#fdca26\"],[1.0,\"#f0f921\"]]}],\"choropleth\":[{\"type\":\"choropleth\",\"colorbar\":{\"outlinewidth\":0,\"ticks\":\"\"}}],\"histogram2d\":[{\"type\":\"histogram2d\",\"colorbar\":{\"outlinewidth\":0,\"ticks\":\"\"},\"colorscale\":[[0.0,\"#0d0887\"],[0.1111111111111111,\"#46039f\"],[0.2222222222222222,\"#7201a8\"],[0.3333333333333333,\"#9c179e\"],[0.4444444444444444,\"#bd3786\"],[0.5555555555555556,\"#d8576b\"],[0.6666666666666666,\"#ed7953\"],[0.7777777777777778,\"#fb9f3a\"],[0.8888888888888888,\"#fdca26\"],[1.0,\"#f0f921\"]]}],\"heatmap\":[{\"type\":\"heatmap\",\"colorbar\":{\"outlinewidth\":0,\"ticks\":\"\"},\"colorscale\":[[0.0,\"#0d0887\"],[0.1111111111111111,\"#46039f\"],[0.2222222222222222,\"#7201a8\"],[0.3333333333333333,\"#9c179e\"],[0.4444444444444444,\"#bd3786\"],[0.5555555555555556,\"#d8576b\"],[0.6666666666666666,\"#ed7953\"],[0.7777777777777778,\"#fb9f3a\"],[0.8888888888888888,\"#fdca26\"],[1.0,\"#f0f921\"]]}],\"heatmapgl\":[{\"type\":\"heatmapgl\",\"colorbar\":{\"outlinewidth\":0,\"ticks\":\"\"},\"colorscale\":[[0.0,\"#0d0887\"],[0.1111111111111111,\"#46039f\"],[0.2222222222222222,\"#7201a8\"],[0.3333333333333333,\"#9c179e\"],[0.4444444444444444,\"#bd3786\"],[0.5555555555555556,\"#d8576b\"],[0.6666666666666666,\"#ed7953\"],[0.7777777777777778,\"#fb9f3a\"],[0.8888888888888888,\"#fdca26\"],[1.0,\"#f0f921\"]]}],\"contourcarpet\":[{\"type\":\"contourcarpet\",\"colorbar\":{\"outlinewidth\":0,\"ticks\":\"\"}}],\"contour\":[{\"type\":\"contour\",\"colorbar\":{\"outlinewidth\":0,\"ticks\":\"\"},\"colorscale\":[[0.0,\"#0d0887\"],[0.1111111111111111,\"#46039f\"],[0.2222222222222222,\"#7201a8\"],[0.3333333333333333,\"#9c179e\"],[0.4444444444444444,\"#bd3786\"],[0.5555555555555556,\"#d8576b\"],[0.6666666666666666,\"#ed7953\"],[0.7777777777777778,\"#fb9f3a\"],[0.8888888888888888,\"#fdca26\"],[1.0,\"#f0f921\"]]}],\"surface\":[{\"type\":\"surface\",\"colorbar\":{\"outlinewidth\":0,\"ticks\":\"\"},\"colorscale\":[[0.0,\"#0d0887\"],[0.1111111111111111,\"#46039f\"],[0.2222222222222222,\"#7201a8\"],[0.3333333333333333,\"#9c179e\"],[0.4444444444444444,\"#bd3786\"],[0.5555555555555556,\"#d8576b\"],[0.6666666666666666,\"#ed7953\"],[0.7777777777777778,\"#fb9f3a\"],[0.8888888888888888,\"#fdca26\"],[1.0,\"#f0f921\"]]}],\"mesh3d\":[{\"type\":\"mesh3d\",\"colorbar\":{\"outlinewidth\":0,\"ticks\":\"\"}}],\"scatter\":[{\"fillpattern\":{\"fillmode\":\"overlay\",\"size\":10,\"solidity\":0.2},\"type\":\"scatter\"}],\"parcoords\":[{\"type\":\"parcoords\",\"line\":{\"colorbar\":{\"outlinewidth\":0,\"ticks\":\"\"}}}],\"scatterpolargl\":[{\"type\":\"scatterpolargl\",\"marker\":{\"colorbar\":{\"outlinewidth\":0,\"ticks\":\"\"}}}],\"bar\":[{\"error_x\":{\"color\":\"#2a3f5f\"},\"error_y\":{\"color\":\"#2a3f5f\"},\"marker\":{\"line\":{\"color\":\"#E5ECF6\",\"width\":0.5},\"pattern\":{\"fillmode\":\"overlay\",\"size\":10,\"solidity\":0.2}},\"type\":\"bar\"}],\"scattergeo\":[{\"type\":\"scattergeo\",\"marker\":{\"colorbar\":{\"outlinewidth\":0,\"ticks\":\"\"}}}],\"scatterpolar\":[{\"type\":\"scatterpolar\",\"marker\":{\"colorbar\":{\"outlinewidth\":0,\"ticks\":\"\"}}}],\"histogram\":[{\"marker\":{\"pattern\":{\"fillmode\":\"overlay\",\"size\":10,\"solidity\":0.2}},\"type\":\"histogram\"}],\"scattergl\":[{\"type\":\"scattergl\",\"marker\":{\"colorbar\":{\"outlinewidth\":0,\"ticks\":\"\"}}}],\"scatter3d\":[{\"type\":\"scatter3d\",\"line\":{\"colorbar\":{\"outlinewidth\":0,\"ticks\":\"\"}},\"marker\":{\"colorbar\":{\"outlinewidth\":0,\"ticks\":\"\"}}}],\"scattermapbox\":[{\"type\":\"scattermapbox\",\"marker\":{\"colorbar\":{\"outlinewidth\":0,\"ticks\":\"\"}}}],\"scatterternary\":[{\"type\":\"scatterternary\",\"marker\":{\"colorbar\":{\"outlinewidth\":0,\"ticks\":\"\"}}}],\"scattercarpet\":[{\"type\":\"scattercarpet\",\"marker\":{\"colorbar\":{\"outlinewidth\":0,\"ticks\":\"\"}}}],\"carpet\":[{\"aaxis\":{\"endlinecolor\":\"#2a3f5f\",\"gridcolor\":\"white\",\"linecolor\":\"white\",\"minorgridcolor\":\"white\",\"startlinecolor\":\"#2a3f5f\"},\"baxis\":{\"endlinecolor\":\"#2a3f5f\",\"gridcolor\":\"white\",\"linecolor\":\"white\",\"minorgridcolor\":\"white\",\"startlinecolor\":\"#2a3f5f\"},\"type\":\"carpet\"}],\"table\":[{\"cells\":{\"fill\":{\"color\":\"#EBF0F8\"},\"line\":{\"color\":\"white\"}},\"header\":{\"fill\":{\"color\":\"#C8D4E3\"},\"line\":{\"color\":\"white\"}},\"type\":\"table\"}],\"barpolar\":[{\"marker\":{\"line\":{\"color\":\"#E5ECF6\",\"width\":0.5},\"pattern\":{\"fillmode\":\"overlay\",\"size\":10,\"solidity\":0.2}},\"type\":\"barpolar\"}],\"pie\":[{\"automargin\":true,\"type\":\"pie\"}]},\"layout\":{\"autotypenumbers\":\"strict\",\"colorway\":[\"#636efa\",\"#EF553B\",\"#00cc96\",\"#ab63fa\",\"#FFA15A\",\"#19d3f3\",\"#FF6692\",\"#B6E880\",\"#FF97FF\",\"#FECB52\"],\"font\":{\"color\":\"#2a3f5f\"},\"hovermode\":\"closest\",\"hoverlabel\":{\"align\":\"left\"},\"paper_bgcolor\":\"white\",\"plot_bgcolor\":\"#E5ECF6\",\"polar\":{\"bgcolor\":\"#E5ECF6\",\"angularaxis\":{\"gridcolor\":\"white\",\"linecolor\":\"white\",\"ticks\":\"\"},\"radialaxis\":{\"gridcolor\":\"white\",\"linecolor\":\"white\",\"ticks\":\"\"}},\"ternary\":{\"bgcolor\":\"#E5ECF6\",\"aaxis\":{\"gridcolor\":\"white\",\"linecolor\":\"white\",\"ticks\":\"\"},\"baxis\":{\"gridcolor\":\"white\",\"linecolor\":\"white\",\"ticks\":\"\"},\"caxis\":{\"gridcolor\":\"white\",\"linecolor\":\"white\",\"ticks\":\"\"}},\"coloraxis\":{\"colorbar\":{\"outlinewidth\":0,\"ticks\":\"\"}},\"colorscale\":{\"sequential\":[[0.0,\"#0d0887\"],[0.1111111111111111,\"#46039f\"],[0.2222222222222222,\"#7201a8\"],[0.3333333333333333,\"#9c179e\"],[0.4444444444444444,\"#bd3786\"],[0.5555555555555556,\"#d8576b\"],[0.6666666666666666,\"#ed7953\"],[0.7777777777777778,\"#fb9f3a\"],[0.8888888888888888,\"#fdca26\"],[1.0,\"#f0f921\"]],\"sequentialminus\":[[0.0,\"#0d0887\"],[0.1111111111111111,\"#46039f\"],[0.2222222222222222,\"#7201a8\"],[0.3333333333333333,\"#9c179e\"],[0.4444444444444444,\"#bd3786\"],[0.5555555555555556,\"#d8576b\"],[0.6666666666666666,\"#ed7953\"],[0.7777777777777778,\"#fb9f3a\"],[0.8888888888888888,\"#fdca26\"],[1.0,\"#f0f921\"]],\"diverging\":[[0,\"#8e0152\"],[0.1,\"#c51b7d\"],[0.2,\"#de77ae\"],[0.3,\"#f1b6da\"],[0.4,\"#fde0ef\"],[0.5,\"#f7f7f7\"],[0.6,\"#e6f5d0\"],[0.7,\"#b8e186\"],[0.8,\"#7fbc41\"],[0.9,\"#4d9221\"],[1,\"#276419\"]]},\"xaxis\":{\"gridcolor\":\"white\",\"linecolor\":\"white\",\"ticks\":\"\",\"title\":{\"standoff\":15},\"zerolinecolor\":\"white\",\"automargin\":true,\"zerolinewidth\":2},\"yaxis\":{\"gridcolor\":\"white\",\"linecolor\":\"white\",\"ticks\":\"\",\"title\":{\"standoff\":15},\"zerolinecolor\":\"white\",\"automargin\":true,\"zerolinewidth\":2},\"scene\":{\"xaxis\":{\"backgroundcolor\":\"#E5ECF6\",\"gridcolor\":\"white\",\"linecolor\":\"white\",\"showbackground\":true,\"ticks\":\"\",\"zerolinecolor\":\"white\",\"gridwidth\":2},\"yaxis\":{\"backgroundcolor\":\"#E5ECF6\",\"gridcolor\":\"white\",\"linecolor\":\"white\",\"showbackground\":true,\"ticks\":\"\",\"zerolinecolor\":\"white\",\"gridwidth\":2},\"zaxis\":{\"backgroundcolor\":\"#E5ECF6\",\"gridcolor\":\"white\",\"linecolor\":\"white\",\"showbackground\":true,\"ticks\":\"\",\"zerolinecolor\":\"white\",\"gridwidth\":2}},\"shapedefaults\":{\"line\":{\"color\":\"#2a3f5f\"}},\"annotationdefaults\":{\"arrowcolor\":\"#2a3f5f\",\"arrowhead\":0,\"arrowwidth\":1},\"geo\":{\"bgcolor\":\"white\",\"landcolor\":\"#E5ECF6\",\"subunitcolor\":\"white\",\"showland\":true,\"showlakes\":true,\"lakecolor\":\"white\"},\"title\":{\"x\":0.05},\"mapbox\":{\"style\":\"light\"}}},\"xaxis\":{\"anchor\":\"y\",\"domain\":[0.0,1.0],\"title\":{\"text\":\"churn\"}},\"yaxis\":{\"anchor\":\"x\",\"domain\":[0.0,1.0],\"title\":{\"text\":\"Porcentagem\"}},\"legend\":{\"title\":{\"text\":\"Tipo_Contrato\"},\"tracegroupgap\":0},\"margin\":{\"t\":60},\"barmode\":\"stack\",\"title\":{\"text\":\"Relação entre Churn e Tipo_Contrato\"}},                        {\"responsive\": true}                    ).then(function(){\n",
              "                            \n",
              "var gd = document.getElementById('29f3c415-168b-4e4e-a445-90f5e7b6b848');\n",
              "var x = new MutationObserver(function (mutations, observer) {{\n",
              "        var display = window.getComputedStyle(gd).display;\n",
              "        if (!display || display === 'none') {{\n",
              "            console.log([gd, 'removed!']);\n",
              "            Plotly.purge(gd);\n",
              "            observer.disconnect();\n",
              "        }}\n",
              "}});\n",
              "\n",
              "// Listen for the removal of the full notebook cells\n",
              "var notebookContainer = gd.closest('#notebook-container');\n",
              "if (notebookContainer) {{\n",
              "    x.observe(notebookContainer, {childList: true});\n",
              "}}\n",
              "\n",
              "// Listen for the clearing of the current output cell\n",
              "var outputEl = gd.closest('.output');\n",
              "if (outputEl) {{\n",
              "    x.observe(outputEl, {childList: true});\n",
              "}}\n",
              "\n",
              "                        })                };                            </script>        </div>\n",
              "</body>\n",
              "</html>"
            ]
          },
          "metadata": {}
        }
      ]
    },
    {
      "cell_type": "markdown",
      "source": [
        "Clientes que possuem o plano mensal são os mais propicios a dar churn, com média de 90%."
      ],
      "metadata": {
        "id": "isMCwC5_S00J"
      }
    },
    {
      "cell_type": "code",
      "source": [
        "# Calcular a porcentagem de cada categoria\n",
        "df_grouped = df.groupby(['churn', 'total_pago']).size().reset_index(name='count')\n",
        "total_por_churn = df_grouped.groupby('churn')['count'].transform('sum')\n",
        "df_grouped['percent'] = (df_grouped['count'] / total_por_churn) * 100\n",
        "\n",
        "# Cria gráfico de barras empilhadas\n",
        "fig = px.bar(df_grouped, x='churn', y='percent', color='total_pago', barmode='stack',\n",
        "             labels={'Churn': 'Churn', 'percent': 'Porcentagem', 'Tipo_Contrato': 'total_pago'})\n",
        "\n",
        "fig.update_layout(title='Relação entre Churn e total_pago',\n",
        "                  yaxis_title='Porcentagem',\n",
        "                  legend_title='total_pago')\n",
        "fig.show()"
      ],
      "metadata": {
        "colab": {
          "base_uri": "https://localhost:8080/",
          "height": 542
        },
        "id": "fVCJXzB1bVmc",
        "outputId": "dd7c9f82-d6a6-4e46-dc66-b6a83709eee0"
      },
      "execution_count": 71,
      "outputs": [
        {
          "output_type": "display_data",
          "data": {
            "text/html": [
              "<html>\n",
              "<head><meta charset=\"utf-8\" /></head>\n",
              "<body>\n",
              "    <div>            <script src=\"https://cdnjs.cloudflare.com/ajax/libs/mathjax/2.7.5/MathJax.js?config=TeX-AMS-MML_SVG\"></script><script type=\"text/javascript\">if (window.MathJax && window.MathJax.Hub && window.MathJax.Hub.Config) {window.MathJax.Hub.Config({SVG: {font: \"STIX-Web\"}});}</script>                <script type=\"text/javascript\">window.PlotlyConfig = {MathJaxConfig: 'local'};</script>\n",
              "        <script charset=\"utf-8\" src=\"https://cdn.plot.ly/plotly-2.35.2.min.js\"></script>                <div id=\"bafeba25-ec55-40c0-9106-5d33e74d834e\" class=\"plotly-graph-div\" style=\"height:525px; width:100%;\"></div>            <script type=\"text/javascript\">                                    window.PLOTLYENV=window.PLOTLYENV || {};                                    if (document.getElementById(\"bafeba25-ec55-40c0-9106-5d33e74d834e\")) {                    Plotly.newPlot(                        \"bafeba25-ec55-40c0-9106-5d33e74d834e\",                        [{\"alignmentgroup\":\"True\",\"hovertemplate\":\"churn=%{x}\\u003cbr\\u003ePorcentagem=%{y}\\u003cbr\\u003etotal_pago=%{marker.color}\\u003cextra\\u003e\\u003c\\u002fextra\\u003e\",\"legendgroup\":\"\",\"marker\":{\"color\":[18.8,18.85,19.0,19.05,19.15,19.2,19.25,19.45,19.55,19.65,19.75,19.85,19.9,20.0,20.05,20.15,20.2,20.25,20.35,20.4,20.45,20.65,20.75,20.8,20.9,21.05,21.1,24.7,25.15,25.25,25.35,25.4,25.7,25.75,27.55,29.85,33.6,34.75,36.8,38.0,38.8,40.5,43.8,43.85,43.95,44.0,44.05,44.45,44.75,44.8,45.0,45.2,45.25,45.3,45.55,45.6,47.7,47.95,48.35,48.75,49.05,49.3,49.5,49.8,49.85,49.9,50.05,50.1,50.6,51.2,51.25,52.55,55.05,55.25,55.45,56.05,57.2,58.3,60.65,61.35,61.45,61.7,62.0,62.8,62.9,63.75,65.95,67.1,70.05,70.45,70.6,71.1,72.1,73.05,74.1,74.3,74.6,74.7,75.1,75.5,76.65,76.95,77.6,80.55,80.85,80.95,81.05,82.15,82.9,83.75,84.2,85.1,85.5,86.05,86.35,89.05,89.3,89.75,90.05,92.5,92.75,93.45,94.15,95.85,96.1,97.0,98.35,99.6,100.2,100.35,100.9,104.3,106.8,109.25,111.4,111.65,112.75,113.5,113.95,116.95,117.95,119.3,119.5,120.25,121.25,125.5,128.6,129.2,130.15,132.25,132.4,134.05,134.6,135.2,137.1,141.6,143.65,146.6,147.5,147.75,150.0,152.3,152.6,153.3,153.95,154.55,156.1,156.85,157.55,158.95,160.05,160.85,161.15,161.65,161.95,162.3,162.45,162.55,163.55,163.7,165.35,167.2,168.5,168.6,168.9,170.5,170.9,171.0,174.2,174.45,174.65,174.75,176.3,177.4,178.85,181.65,186.3,187.75,189.1,190.1,190.5,193.05,194.2,194.55,195.65,196.4,197.4,199.85,200.2,202.15,202.25,202.3,202.9,203.95,204.55,206.15,207.35,208.45,217.1,219.35,220.35,220.45,220.75,223.9,225.55,225.75,225.85,226.8,228.65,233.9,234.85,237.2,237.3,237.7,238.1,243.65,244.1,244.75,244.8,244.85,245.15,246.6,248.4,250.8,251.6,253.8,255.35,255.5,256.75,258.35,259.4,260.7,261.65,265.3,265.45,266.8,267.0,268.4,268.45,270.2,270.6,273.2,273.25,273.4,274.35,274.7,275.7,279.2,279.5,280.0,283.75,283.95,284.35,284.9,293.15,294.2,294.45,294.5,295.95,298.7,299.05,300.4,302.45,302.6,303.7,305.55,308.05,308.1,311.6,313.0,313.45,313.6,314.95,318.1,318.6,319.6,319.85,320.45,321.4,321.7,322.9,323.15,323.45,324.15,329.75,330.6,331.6,335.4,340.35,340.85,341.35,341.6,343.45,344.2,348.8,350.35,352.65,356.1,356.65,360.35,362.6,363.15,365.8,367.55,369.1,370.4,371.6,372.45,373.5,382.2,383.65,385.55,388.6,389.8,390.4,391.7,392.5,394.1,394.85,401.85,402.5,406.95,407.05,413.0,415.1,415.4,415.9,417.0,417.65,417.7,417.75,418.25,419.4,419.7,419.9,420.45,422.3,422.5,422.6,424.75,425.1,426.65,428.7,433.75,435.45,436.6,436.9,438.05,438.9,444.75,445.95,447.75,449.3,456.85,457.1,457.3,458.1,463.6,465.7,467.15,467.85,470.2,471.55,473.9,475.0,475.25,475.7,478.75,482.25,485.2,490.55,490.65,493.4,493.65,495.15,498.1,498.25,504.2,505.9,507.4,507.9,510.8,511.25,512.25,514.75,515.45,515.75,516.15,518.3,520.55,521.35,522.95,529.8,531.55,535.55,536.35,537.35,538.2,540.05,540.95,546.45,547.8,548.9,550.6,551.95,552.7,553.4,554.05,555.4,563.05,564.35,564.4,565.35,565.75,566.5,567.8,571.05,571.15,571.45,572.2,572.45,573.05,574.35,576.65,578.5,579.0,580.1,581.7,583.3,587.4,589.25,592.75,593.05,593.3,593.85,597.9,599.3,601.25,601.6,605.9,608.5,609.1,609.65,611.45,611.65,612.1,612.95,614.45,615.35,617.15,620.55,620.75,624.15,624.6,629.35,631.4,633.85,637.4,639.45,646.05,649.4,651.55,653.15,654.5,654.55,654.85,655.3,659.45,663.55,666.75,668.85,672.2,674.55,675.6,678.8,679.8,681.4,683.25,686.95,690.25,692.35,696.8,697.25,697.65,702.0,711.9,712.25,716.4,720.05,723.35,726.1,729.95,731.3,733.55,735.5,739.35,739.9,740.55,741.4,743.5,743.75,745.3,750.1,754.5,755.5,759.35,759.55,760.05,764.55,765.45,769.1,771.95,772.85,773.2,775.3,779.2,780.15,780.2,784.25,795.15,795.65,797.1,804.25,804.85,808.95,811.65,813.45,814.75,818.45,824.85,827.3,827.45,829.3,830.25,830.8,832.3,834.7,835.15,839.4,844.45,845.6,851.8,854.45,854.8,855.1,857.8,858.6,862.4,865.0,865.05,865.1,865.75,866.4,868.1,869.9,870.25,880.05,882.55,883.35,886.4,887.35,888.65,889.0,892.15,894.3,899.45,901.25,903.8,905.55,908.15,908.55,914.4,916.15,918.75,923.1,926.2,927.1,927.15,927.65,929.2,930.9,930.95,936.7,936.85,937.1,938.65,943.0,945.7,947.75,949.85,954.9,955.15,957.1,958.1,962.25,963.95,967.85,970.85,973.1,973.35,973.65,980.35,981.45,996.85,996.95,1005.7,1008.7,1009.25,1010.0,1012.4,1013.05,1013.6,1020.2,1021.55,1021.75,1022.95,1023.85,1024.0,1024.65,1024.7,1029.35,1033.95,1039.45,1043.3,1045.25,1046.2,1046.5,1055.9,1057.0,1057.85,1058.1,1066.15,1070.7,1071.4,1072.6,1074.65,1082.75,1083.0,1083.7,1088.25,1090.6,1090.65,1093.4,1102.4,1103.25,1107.2,1108.2,1108.8,1110.05,1110.35,1110.5,1111.2,1112.3,1114.55,1119.9,1124.2,1126.35,1128.1,1129.35,1133.7,1134.25,1138.8,1139.2,1140.05,1152.8,1153.25,1156.55,1160.45,1161.75,1164.05,1165.9,1166.7,1167.6,1170.5,1170.55,1174.8,1175.6,1177.05,1181.75,1183.05,1183.8,1184.0,1185.0,1185.95,1188.2,1188.25,1189.4,1191.2,1192.7,1195.25,1195.75,1199.4,1203.9,1203.95,1205.05,1209.25,1210.3,1211.65,1212.1,1212.85,1215.1,1215.65,1216.6,1218.65,1221.55,1228.65,1229.1,1231.85,1235.55,1238.65,1240.15,1245.05,1246.4,1247.75,1252.0,1253.15,1253.8,1258.35,1259.35,1261.7,1263.85,1263.9,1266.4,1269.1,1269.6,1270.25,1277.5,1277.75,1282.85,1284.2,1288.3,1288.75,1291.3,1291.35,1292.2,1292.6,1292.65,1295.4,1303.5,1304.8,1304.85,1305.95,1306.3,1309.0,1309.15,1315.35,1322.85,1326.25,1327.85,1328.15,1329.15,1336.1,1336.65,1336.8,1339.8,1340.1,1341.5,1345.85,1346.2,1348.5,1348.95,1355.1,1357.1,1359.5,1360.25,1363.25,1363.45,1367.75,1372.9,1373.05,1375.4,1378.45,1381.8,1382.9,1386.9,1389.85,1391.15,1395.05,1396.25,1396.9,1397.65,1398.6,1399.35,1401.15,1404.65,1406.0,1406.65,1410.25,1412.65,1414.2,1414.45,1415.0,1415.85,1416.75,1417.9,1421.75,1421.9,1423.05,1423.85,1424.6,1424.9,1426.45,1430.05,1431.65,1434.1,1436.95,1439.35,1440.75,1441.95,1442.0,1442.6,1446.8,1453.1,1468.75,1468.9,1470.05,1474.9,1477.65,1478.85,1490.4,1492.1,1493.55,1493.75,1496.45,1497.05,1497.9,1498.85,1500.5,1500.95,1501.75,1502.25,1505.05,1505.15,1505.9,1509.8,1510.3,1513.6,1514.85,1519.0,1520.1,1530.6,1533.8,1545.4,1546.3,1551.6,1559.25,1563.95,1566.9,1574.5,1579.7,1583.5,1588.25,1588.7,1596.6,1597.4,1600.25,1601.2,1608.15,1611.0,1611.65,1612.2,1614.05,1614.2,1620.2,1621.35,1623.4,1638.7,1641.8,1642.75,1643.25,1643.55,1646.45,1648.45,1652.4,1652.95,1653.45,1653.85,1655.35,1662.05,1665.2,1667.25,1671.6,1673.8,1677.85,1678.05,1679.25,1682.05,1683.6,1683.7,1685.9,1697.7,1702.9,1706.45,1710.15,1710.9,1713.1,1718.2,1719.15,1723.95,1725.4,1732.6,1732.95,1733.15,1734.65,1737.45,1739.6,1743.9,1748.9,1752.65,1756.2,1756.6,1769.6,1778.5,1781.35,1782.0,1783.6,1785.65,1789.9,1790.6,1790.65,1797.75,1798.9,1802.15,1802.55,1803.7,1813.35,1815.3,1818.3,1820.9,1821.95,1830.05,1830.1,1832.4,1834.15,1835.3,1836.9,1838.15,1840.75,1849.2,1859.1,1862.9,1867.6,1868.4,1874.45,1882.55,1886.25,1886.4,1888.45,1889.5,1901.05,1901.25,1901.65,1916.0,1916.2,1929.95,1932.75,1938.05,1940.8,1941.5,1943.9,1952.8,1955.4,1957.1,1961.6,1968.1,1971.15,1972.35,1975.85,1983.15,2001.0,2003.6,2007.25,2007.85,2021.2,2023.55,2028.8,2031.95,2032.3,2033.05,2033.85,2048.8,2049.05,2054.4,2058.5,2065.15,2066.0,2067.0,2070.05,2088.05,2093.9,2094.65,2111.3,2117.2,2117.25,2130.55,2149.05,2151.6,2162.6,2168.15,2168.9,2169.4,2172.05,2181.75,2192.9,2193.0,2196.3,2199.05,2200.7,2204.35,2210.2,2211.8,2215.45,2234.55,2234.95,2236.2,2239.4,2243.9,2263.4,2265.0,2278.75,2292.75,2309.55,2324.7,2326.05,2333.85,2337.45,2339.3,2344.5,2348.45,2356.75,2369.3,2379.1,2395.7,2401.05,2404.15,2421.6,2423.4,2424.5,2429.1,2438.6,2440.25,2443.3,2447.45,2453.3,2459.8,2460.55,2471.6,2473.95,2490.15,2492.25,2494.65,2497.2,2509.25,2511.3,2516.2,2531.8,2538.05,2545.7,2545.75,2548.65,2552.9,2553.35,2555.05,2566.3,2570.2,2583.75,2588.95,2595.25,2614.1,2619.25,2627.2,2627.35,2633.3,2633.95,2647.1,2647.2,2651.1,2654.05,2657.55,2661.1,2664.3,2673.45,2679.7,2680.15,2681.15,2683.2,2684.35,2684.85,2688.85,2708.2,2722.2,2723.15,2723.75,2737.05,2747.2,2754.0,2766.4,2768.35,2796.35,2799.75,2820.65,2823.0,2830.45,2835.5,2838.55,2839.95,2845.15,2848.45,2852.4,2854.95,2857.6,2861.45,2877.05,2878.55,2879.2,2879.9,2888.7,2894.55,2896.55,2896.6,2908.2,2928.5,2937.65,2948.6,2958.95,2962.0,2964.0,2970.3,2979.2,3003.55,3009.5,3011.65,3015.75,3019.7,3021.45,3023.55,3027.25,3027.65,3042.25,3058.15,3058.3,3077.0,3082.1,3084.9,3089.1,3092.0,3107.3,3109.9,3112.05,3121.45,3122.4,3126.85,3131.55,3139.8,3141.7,3145.15,3145.9,3157.0,3161.2,3161.6,3166.9,3169.55,3173.35,3187.65,3196.0,3204.4,3208.65,3211.2,3211.9,3217.65,3231.05,3236.35,3237.05,3242.5,3244.4,3247.55,3251.85,3252.0,3260.1,3268.05,3273.8,3306.85,3327.05,3339.05,3340.55,3342.45,3343.15,3344.1,3355.65,3365.4,3370.2,3375.9,3377.8,3398.9,3410.0,3410.6,3415.25,3418.2,3419.3,3423.5,3437.45,3437.5,3442.15,3450.15,3452.55,3465.7,3478.75,3503.5,3505.1,3510.3,3512.15,3517.9,3521.7,3532.0,3533.6,3539.25,3545.05,3548.3,3557.7,3562.5,3565.65,3566.6,3574.5,3582.4,3590.2,3591.25,3593.8,3597.5,3600.65,3605.6,3608.0,3618.7,3629.2,3646.8,3650.35,3662.25,3673.6,3682.45,3687.75,3687.85,3694.7,3707.6,3739.8,3741.85,3770.0,3775.85,3778.0,3789.2,3794.5,3801.3,3808.0,3810.8,3834.4,3838.2,3838.75,3848.8,3857.1,3858.05,3861.45,3865.45,3865.6,3871.85,3877.65,3883.3,3887.25,3894.4,3895.35,3899.05,3902.6,3906.7,3921.3,3923.8,3928.3,3944.5,3953.15,3953.7,3954.1,3956.7,3958.2,3958.25,3959.15,3966.3,3970.4,3975.7,3975.9,3983.6,3985.35,4009.2,4016.75,4017.45,4018.05,4018.55,4039.0,4039.3,4039.5,4048.95,4054.2,4063.0,4085.75,4103.9,4107.25,4109.0,4111.35,4144.8,4145.25,4145.9,4149.45,4159.45,4162.05,4164.4,4176.7,4179.1,4179.2,4188.4,4189.7,4194.85,4209.95,4217.8,4245.55,4254.1,4261.2,4264.0,4264.6,4287.2,4298.45,4300.45,4304.5,4312.5,4322.85,4326.8,4327.5,4362.05,4368.85,4370.75,4391.45,4421.95,4422.95,4447.75,4451.85,4453.3,4456.35,4456.65,4459.15,4461.85,4464.8,4473.0,4473.45,4484.05,4487.3,4492.9,4495.65,4507.15,4508.65,4509.5,4513.65,4523.25,4528.0,4539.35,4542.35,4543.15,4549.05,4557.5,4563.0,4564.9,4576.3,4577.75,4586.15,4590.35,4599.15,4613.95,4614.55,4615.25,4616.05,4616.1,4619.55,4627.65,4634.35,4669.2,4674.4,4676.7,4677.1,4688.65,4698.05,4707.1,4707.85,4713.4,4719.75,4720.0,4729.3,4730.9,4732.35,4733.1,4735.35,4738.3,4738.85,4741.45,4744.35,4747.5,4747.65,4748.7,4754.3,4758.8,4784.45,4786.15,4805.3,4805.65,4807.45,4811.6,4818.8,4824.45,4845.4,4847.05,4847.35,4849.1,4859.1,4859.25,4859.95,4860.35,4861.45,4872.2,4872.35,4884.85,4888.2,4889.3,4895.1,4896.35,4903.15,4903.2,4904.25,4904.85,4908.25,4911.35,4914.9,4917.9,4919.7,4921.2,4925.35,4931.8,4946.05,4946.7,4964.7,4965.0,4965.1,4973.4,4984.85,4985.9,4991.5,4993.4,4997.5,5011.15,5016.25,5016.65,5023.0,5029.05,5032.25,5044.8,5064.45,5067.45,5068.05,5070.4,5099.15,5125.5,5129.45,5138.1,5154.5,5163.3,5193.2,5199.8,5200.8,5215.25,5222.3,5229.45,5229.8,5232.9,5233.25,5244.45,5253.95,5264.25,5264.3,5265.5,5289.05,5308.7,5315.1,5324.5,5333.35,5347.95,5357.75,5360.75,5376.4,5388.15,5398.6,5411.4,5420.65,5424.25,5430.35,5435.0,5436.45,5450.7,5458.8,5459.2,5460.2,5468.45,5468.95,5475.9,5480.25,5481.25,5483.9,5498.8,5502.55,5514.95,5515.45,5526.75,5538.35,5550.1,5552.5,5553.25,5580.8,5585.4,5589.3,5594.0,5597.65,5598.0,5600.15,5608.4,5632.55,5637.85,5645.8,5656.75,5676.0,5680.9,5682.25,5686.4,5692.65,5706.3,5714.25,5717.85,5720.35,5727.15,5728.55,5730.15,5730.7,5731.45,5731.85,5744.35,5746.75,5753.25,5755.8,5760.65,5774.55,5791.1,5809.75,5810.9,5812.0,5815.15,5817.0,5822.3,5826.65,5831.2,5832.0,5861.75,5869.4,5873.75,5878.9,5882.75,5893.95,5898.6,5899.85,5914.4,5916.95,5924.4,5931.0,5931.75,5936.55,5941.05,5956.85,5958.85,5965.95,5969.3,5969.95,5971.25,5981.65,5985.0,5985.75,5986.45,5999.85,6033.3,6038.55,6046.1,6049.5,6066.55,6068.65,6078.75,6081.4,6083.1,6094.25,6096.9,6110.75,6126.15,6130.85,6130.95,6132.7,6139.5,6145.2,6148.45,6151.9,6152.3,6152.4,6153.85,6201.95,6223.3,6223.8,6224.8,6230.1,6253.0,6254.45,6287.3,6293.45,6293.75,6300.15,6300.85,6302.8,6309.65,6311.2,6316.2,6325.25,6339.45,6350.5,6352.4,6362.35,6369.45,6373.1,6385.95,6392.85,6398.05,6404.0,6416.7,6425.65,6430.9,6441.85,6448.85,6468.6,6474.4,6510.45,6511.25,6519.75,6526.65,6536.5,6538.45,6549.45,6562.9,6563.4,6565.85,6585.2,6588.95,6589.6,6603.8,6638.35,6654.1,6668.05,6668.35,6669.05,6669.45,6671.7,6688.95,6690.75,6697.35,6707.15,6717.9,6721.6,6733.15,6735.05,6743.55,6744.2,6744.25,6751.35,6766.95,6770.85,6782.15,6792.45,6819.45,6823.4,6825.65,6827.5,6840.95,6841.45,6849.4,6858.9,6885.75,6929.4,6962.85,6976.75,6989.45,6994.8,6998.95,7002.95,7008.15,7015.9,7028.5,7030.65,7031.3,7035.6,7039.45,7076.35,7082.45,7085.5,7099.0,7107.0,7108.2,7111.3,7118.9,7133.45,7159.05,7159.7,7168.25,7213.75,7227.45,7240.65,7246.15,7251.7,7261.25,7288.4,7303.05,7349.35,7379.8,7382.25,7382.85,7405.5,7412.25,7413.55,7422.1,7447.7,7455.45,7459.05,7508.55,7511.65,7530.8,7537.5,7544.0,7550.3,7554.05,7576.7,7589.8,7611.55,7616.0,7657.4,7711.25,7789.6,7806.5,7843.55,7848.5,7849.85,7853.7,7869.05,7878.3,7882.25,7887.25,7904.25,7930.55,7943.45,7962.2,7966.9,7984.15,8003.8,8013.55,8041.65,8046.85,8058.85,8065.65,8071.05,8078.1,8086.4,8093.15,8100.55,8124.2,8126.65,8129.3,8196.4,8220.4,8248.5,8306.05,8310.55,8317.95,8333.95,8375.05,8399.15,8404.9,8468.2,8476.5,8477.6,8477.7,8529.5,8564.75,19.3,19.45,19.5,19.55,19.6,19.65,19.85,19.9,20.05,20.15,20.2,20.25,20.55,21.0,24.6,24.8,25.15,25.2,25.8,29.95,30.2,31.35,34.7,35.25,35.45,35.55,35.9,39.65,40.2,43.3,44.4,44.7,45.05,45.1,45.15,45.3,45.65,45.7,45.85,45.95,46.2,47.5,48.55,49.95,50.15,50.45,50.65,50.8,50.9,52.2,54.35,55.0,55.2,56.05,59.05,59.85,60.15,62.25,68.75,69.25,69.55,69.6,69.75,69.9,69.95,70.0,70.05,70.15,70.45,70.55,70.6,70.9,71.35,71.55,71.65,72.4,73.55,73.6,74.5,74.6,74.7,74.9,74.95,75.05,75.3,75.35,75.45,75.8,76.0,76.35,77.15,77.5,79.1,79.2,79.35,79.5,79.9,79.95,80.0,80.25,80.55,81.25,84.5,84.6,85.0,85.15,85.55,85.7,85.8,86.6,88.35,88.8,89.5,89.55,89.9,90.55,90.85,91.1,91.3,91.7,92.45,93.55,95.6,96.05,96.45,97.1,99.75,100.4,100.8,102.45,102.75,106.55,108.15,112.3,113.85,114.1,119.75,127.1,131.05,132.2,134.5,137.6,137.85,139.05,141.45,141.5,143.35,143.65,144.15,144.55,145.0,145.15,146.05,147.15,155.8,159.45,160.75,161.5,164.3,165.4,165.45,167.5,168.15,168.2,169.45,170.85,171.15,174.8,178.7,179.25,179.35,181.1,181.5,183.75,184.1,184.65,185.55,190.05,191.05,193.6,196.9,201.0,205.05,208.85,210.75,214.75,215.2,215.8,217.55,220.95,222.3,223.15,224.05,228.4,229.55,229.6,233.55,233.7,237.95,242.0,242.8,246.5,247.25,248.95,250.05,264.8,264.85,268.35,270.7,270.95,273.0,273.75,281.0,289.3,292.8,299.7,307.4,309.1,316.9,319.15,321.65,324.6,330.05,330.15,332.45,334.8,340.25,341.45,346.2,347.4,349.65,357.75,360.1,371.65,371.9,378.4,381.3,385.9,387.2,390.85,396.1,401.1,402.6,412.5,415.55,415.95,418.8,424.15,424.45,434.5,435.4,442.85,453.4,454.15,461.7,467.55,483.7,489.45,492.55,496.9,497.55,502.85,503.6,511.25,512.45,518.9,523.15,526.95,527.9,528.35,531.0,544.55,546.95,553.0,563.65,567.45,576.65,587.1,593.45,597.0,606.55,627.4,632.95,633.3,633.4,639.65,644.35,655.5,655.9,658.95,660.9,662.65,663.05,669.45,673.25,676.7,680.05,688.65,696.35,706.85,713.0,713.75,729.95,732.5,734.35,740.0,740.8,770.6,777.3,805.1,810.2,813.85,819.4,819.55,825.7,830.85,832.05,832.35,834.1,840.1,846.0,847.3,855.3,857.2,857.25,868.5,889.9,893.55,896.75,898.35,903.6,918.6,923.5,927.35,940.35,941.0,947.3,950.2,952.3,973.25,987.95,990.85,994.55,994.8,1008.55,1025.95,1043.3,1043.35,1047.7,1052.4,1058.25,1064.65,1072.0,1074.3,1093.1,1099.6,1105.4,1111.65,1120.3,1120.95,1132.75,1133.65,1133.9,1145.7,1146.65,1149.65,1162.85,1169.35,1178.4,1180.95,1182.55,1194.3,1201.15,1210.4,1214.05,1233.4,1233.65,1236.15,1238.45,1253.9,1258.3,1258.6,1259.0,1266.1,1269.55,1281.0,1290.0,1308.4,1313.55,1338.15,1345.55,1350.15,1359.7,1364.3,1384.75,1390.6,1400.85,1424.5,1426.4,1430.25,1441.1,1444.65,1445.3,1463.45,1463.5,1502.65,1504.05,1511.2,1527.35,1527.5,1529.2,1531.4,1532.45,1534.75,1553.9,1553.95,1554.0,1555.65,1582.75,1592.35,1612.75,1616.15,1622.45,1625.65,1639.3,1676.95,1704.95,1710.45,1712.7,1715.65,1716.45,1730.35,1742.75,1752.55,1758.6,1761.05,1775.8,1779.95,1782.4,1842.8,1845.9,1861.5,1893.95,1899.65,1907.85,1929.35,1934.45,1943.2,1970.5,1973.75,2015.35,2030.3,2070.6,2082.95,2088.75,2104.55,2122.45,2135.5,2145.0,2165.05,2169.8,2178.6,2200.25,2227.1,2231.05,2250.65,2257.75,2282.55,2293.6,2303.35,2317.1,2331.3,2347.9,2361.8,2384.15,2407.3,2416.1,2416.55,2452.7,2499.3,2514.5,2524.45,2550.9,2555.9,2564.3,2566.5,2572.95,2596.15,2624.25,2625.55,2636.05,2642.05,2651.2,2656.5,2661.1,2697.4,2745.7,2755.35,2758.15,2839.65,2847.4,2868.15,2917.5,2931.0,2933.2,2934.3,3001.2,3004.15,3013.05,3027.4,3029.1,3036.75,3058.65,3105.55,3186.65,3204.65,3207.55,3217.55,3264.5,3266.0,3384.0,3395.8,3467.0,3474.45,3475.55,3480.0,3520.75,3527.6,3541.35,3549.25,3587.25,3640.45,3653.35,3706.95,3754.6,3777.15,3862.55,3941.7,4065.0,4113.1,4131.95,4284.8,4338.6,4346.4,4350.1,4399.5,4424.2,4527.45,4533.7,4541.2,4547.25,4594.95,4600.7,4687.9,4689.5,4749.15,4759.85,4812.75,4837.6,4853.75,4867.95,4872.45,4874.7,4874.8,4941.8,5000.2,5017.9,5029.2,5037.55,5082.8,5084.65,5118.95,5124.55,5124.6,5149.5,5238.9,5293.95,5341.8,5356.45,5427.05,5453.4,5464.65,5508.35,5509.3,5510.65,5574.75,5610.25,5610.7,5614.45,5624.85,5769.75,5794.65,5885.4,5893.15,5918.8,5940.85,5961.1,6017.65,6056.15,6125.4,6127.6,6215.35,6254.2,6287.25,6383.35,6396.45,6413.65,6448.05,6465.0,6547.7,6603.0,6615.15,6710.5,6786.4,6822.15,6873.75,6937.95,6941.2,6985.65,7007.6,7040.85,7133.25,7250.15,7318.2,7482.1,7532.15,7611.85,8127.6],\"coloraxis\":\"coloraxis\",\"pattern\":{\"shape\":\"\"}},\"name\":\"\",\"offsetgroup\":\"\",\"orientation\":\"v\",\"showlegend\":false,\"textposition\":\"auto\",\"x\":[0,0,0,0,0,0,0,0,0,0,0,0,0,0,0,0,0,0,0,0,0,0,0,0,0,0,0,0,0,0,0,0,0,0,0,0,0,0,0,0,0,0,0,0,0,0,0,0,0,0,0,0,0,0,0,0,0,0,0,0,0,0,0,0,0,0,0,0,0,0,0,0,0,0,0,0,0,0,0,0,0,0,0,0,0,0,0,0,0,0,0,0,0,0,0,0,0,0,0,0,0,0,0,0,0,0,0,0,0,0,0,0,0,0,0,0,0,0,0,0,0,0,0,0,0,0,0,0,0,0,0,0,0,0,0,0,0,0,0,0,0,0,0,0,0,0,0,0,0,0,0,0,0,0,0,0,0,0,0,0,0,0,0,0,0,0,0,0,0,0,0,0,0,0,0,0,0,0,0,0,0,0,0,0,0,0,0,0,0,0,0,0,0,0,0,0,0,0,0,0,0,0,0,0,0,0,0,0,0,0,0,0,0,0,0,0,0,0,0,0,0,0,0,0,0,0,0,0,0,0,0,0,0,0,0,0,0,0,0,0,0,0,0,0,0,0,0,0,0,0,0,0,0,0,0,0,0,0,0,0,0,0,0,0,0,0,0,0,0,0,0,0,0,0,0,0,0,0,0,0,0,0,0,0,0,0,0,0,0,0,0,0,0,0,0,0,0,0,0,0,0,0,0,0,0,0,0,0,0,0,0,0,0,0,0,0,0,0,0,0,0,0,0,0,0,0,0,0,0,0,0,0,0,0,0,0,0,0,0,0,0,0,0,0,0,0,0,0,0,0,0,0,0,0,0,0,0,0,0,0,0,0,0,0,0,0,0,0,0,0,0,0,0,0,0,0,0,0,0,0,0,0,0,0,0,0,0,0,0,0,0,0,0,0,0,0,0,0,0,0,0,0,0,0,0,0,0,0,0,0,0,0,0,0,0,0,0,0,0,0,0,0,0,0,0,0,0,0,0,0,0,0,0,0,0,0,0,0,0,0,0,0,0,0,0,0,0,0,0,0,0,0,0,0,0,0,0,0,0,0,0,0,0,0,0,0,0,0,0,0,0,0,0,0,0,0,0,0,0,0,0,0,0,0,0,0,0,0,0,0,0,0,0,0,0,0,0,0,0,0,0,0,0,0,0,0,0,0,0,0,0,0,0,0,0,0,0,0,0,0,0,0,0,0,0,0,0,0,0,0,0,0,0,0,0,0,0,0,0,0,0,0,0,0,0,0,0,0,0,0,0,0,0,0,0,0,0,0,0,0,0,0,0,0,0,0,0,0,0,0,0,0,0,0,0,0,0,0,0,0,0,0,0,0,0,0,0,0,0,0,0,0,0,0,0,0,0,0,0,0,0,0,0,0,0,0,0,0,0,0,0,0,0,0,0,0,0,0,0,0,0,0,0,0,0,0,0,0,0,0,0,0,0,0,0,0,0,0,0,0,0,0,0,0,0,0,0,0,0,0,0,0,0,0,0,0,0,0,0,0,0,0,0,0,0,0,0,0,0,0,0,0,0,0,0,0,0,0,0,0,0,0,0,0,0,0,0,0,0,0,0,0,0,0,0,0,0,0,0,0,0,0,0,0,0,0,0,0,0,0,0,0,0,0,0,0,0,0,0,0,0,0,0,0,0,0,0,0,0,0,0,0,0,0,0,0,0,0,0,0,0,0,0,0,0,0,0,0,0,0,0,0,0,0,0,0,0,0,0,0,0,0,0,0,0,0,0,0,0,0,0,0,0,0,0,0,0,0,0,0,0,0,0,0,0,0,0,0,0,0,0,0,0,0,0,0,0,0,0,0,0,0,0,0,0,0,0,0,0,0,0,0,0,0,0,0,0,0,0,0,0,0,0,0,0,0,0,0,0,0,0,0,0,0,0,0,0,0,0,0,0,0,0,0,0,0,0,0,0,0,0,0,0,0,0,0,0,0,0,0,0,0,0,0,0,0,0,0,0,0,0,0,0,0,0,0,0,0,0,0,0,0,0,0,0,0,0,0,0,0,0,0,0,0,0,0,0,0,0,0,0,0,0,0,0,0,0,0,0,0,0,0,0,0,0,0,0,0,0,0,0,0,0,0,0,0,0,0,0,0,0,0,0,0,0,0,0,0,0,0,0,0,0,0,0,0,0,0,0,0,0,0,0,0,0,0,0,0,0,0,0,0,0,0,0,0,0,0,0,0,0,0,0,0,0,0,0,0,0,0,0,0,0,0,0,0,0,0,0,0,0,0,0,0,0,0,0,0,0,0,0,0,0,0,0,0,0,0,0,0,0,0,0,0,0,0,0,0,0,0,0,0,0,0,0,0,0,0,0,0,0,0,0,0,0,0,0,0,0,0,0,0,0,0,0,0,0,0,0,0,0,0,0,0,0,0,0,0,0,0,0,0,0,0,0,0,0,0,0,0,0,0,0,0,0,0,0,0,0,0,0,0,0,0,0,0,0,0,0,0,0,0,0,0,0,0,0,0,0,0,0,0,0,0,0,0,0,0,0,0,0,0,0,0,0,0,0,0,0,0,0,0,0,0,0,0,0,0,0,0,0,0,0,0,0,0,0,0,0,0,0,0,0,0,0,0,0,0,0,0,0,0,0,0,0,0,0,0,0,0,0,0,0,0,0,0,0,0,0,0,0,0,0,0,0,0,0,0,0,0,0,0,0,0,0,0,0,0,0,0,0,0,0,0,0,0,0,0,0,0,0,0,0,0,0,0,0,0,0,0,0,0,0,0,0,0,0,0,0,0,0,0,0,0,0,0,0,0,0,0,0,0,0,0,0,0,0,0,0,0,0,0,0,0,0,0,0,0,0,0,0,0,0,0,0,0,0,0,0,0,0,0,0,0,0,0,0,0,0,0,0,0,0,0,0,0,0,0,0,0,0,0,0,0,0,0,0,0,0,0,0,0,0,0,0,0,0,0,0,0,0,0,0,0,0,0,0,0,0,0,0,0,0,0,0,0,0,0,0,0,0,0,0,0,0,0,0,0,0,0,0,0,0,0,0,0,0,0,0,0,0,0,0,0,0,0,0,0,0,0,0,0,0,0,0,0,0,0,0,0,0,0,0,0,0,0,0,0,0,0,0,0,0,0,0,0,0,0,0,0,0,0,0,0,0,0,0,0,0,0,0,0,0,0,0,0,0,0,0,0,0,0,0,0,0,0,0,0,0,0,0,0,0,0,0,0,0,0,0,0,0,0,0,0,0,0,0,0,0,0,0,0,0,0,0,0,0,0,0,0,0,0,0,0,0,0,0,0,0,0,0,0,0,0,0,0,0,0,0,0,0,0,0,0,0,0,0,0,0,0,0,0,0,0,0,0,0,0,0,0,0,0,0,0,0,0,0,0,0,0,0,0,0,0,0,0,0,0,0,0,0,0,0,0,0,0,0,0,0,0,0,0,0,0,0,0,0,0,0,0,0,0,0,0,0,0,0,0,0,0,0,0,0,0,0,0,0,0,0,0,0,0,0,0,0,0,0,0,0,0,0,0,0,0,0,0,0,0,0,0,0,0,0,0,0,0,0,0,0,0,0,0,0,0,0,0,0,0,0,0,0,0,0,0,0,0,0,0,0,0,0,0,0,0,0,0,0,0,0,0,0,0,0,0,0,0,0,0,0,0,0,0,0,0,0,0,0,0,0,0,0,0,0,0,0,0,0,0,0,0,0,0,0,0,0,0,0,0,0,0,0,0,0,0,0,0,0,0,0,0,0,0,0,0,0,0,0,0,0,0,0,0,0,0,0,0,0,0,0,0,0,0,0,0,0,0,0,0,0,0,0,0,0,0,0,0,0,0,0,0,0,0,0,0,0,0,0,0,0,0,0,0,0,0,0,0,0,0,0,0,0,0,0,0,0,0,0,0,0,0,0,0,0,0,0,0,0,0,0,0,0,0,0,0,0,0,0,0,0,0,0,0,0,0,0,0,0,0,0,0,0,0,0,0,0,0,0,0,0,0,0,0,0,0,0,0,0,0,0,0,0,0,0,0,0,0,0,0,0,0,0,0,0,0,0,0,0,0,0,0,0,0,0,0,0,0,0,0,0,0,0,0,0,0,0,0,0,0,0,0,0,0,1,1,1,1,1,1,1,1,1,1,1,1,1,1,1,1,1,1,1,1,1,1,1,1,1,1,1,1,1,1,1,1,1,1,1,1,1,1,1,1,1,1,1,1,1,1,1,1,1,1,1,1,1,1,1,1,1,1,1,1,1,1,1,1,1,1,1,1,1,1,1,1,1,1,1,1,1,1,1,1,1,1,1,1,1,1,1,1,1,1,1,1,1,1,1,1,1,1,1,1,1,1,1,1,1,1,1,1,1,1,1,1,1,1,1,1,1,1,1,1,1,1,1,1,1,1,1,1,1,1,1,1,1,1,1,1,1,1,1,1,1,1,1,1,1,1,1,1,1,1,1,1,1,1,1,1,1,1,1,1,1,1,1,1,1,1,1,1,1,1,1,1,1,1,1,1,1,1,1,1,1,1,1,1,1,1,1,1,1,1,1,1,1,1,1,1,1,1,1,1,1,1,1,1,1,1,1,1,1,1,1,1,1,1,1,1,1,1,1,1,1,1,1,1,1,1,1,1,1,1,1,1,1,1,1,1,1,1,1,1,1,1,1,1,1,1,1,1,1,1,1,1,1,1,1,1,1,1,1,1,1,1,1,1,1,1,1,1,1,1,1,1,1,1,1,1,1,1,1,1,1,1,1,1,1,1,1,1,1,1,1,1,1,1,1,1,1,1,1,1,1,1,1,1,1,1,1,1,1,1,1,1,1,1,1,1,1,1,1,1,1,1,1,1,1,1,1,1,1,1,1,1,1,1,1,1,1,1,1,1,1,1,1,1,1,1,1,1,1,1,1,1,1,1,1,1,1,1,1,1,1,1,1,1,1,1,1,1,1,1,1,1,1,1,1,1,1,1,1,1,1,1,1,1,1,1,1,1,1,1,1,1,1,1,1,1,1,1,1,1,1,1,1,1,1,1,1,1,1,1,1,1,1,1,1,1,1,1,1,1,1,1,1,1,1,1,1,1,1,1,1,1,1,1,1,1,1,1,1,1,1,1,1,1,1,1,1,1,1,1,1,1,1,1,1,1,1,1,1,1,1,1,1,1,1,1,1,1,1,1,1,1,1,1,1,1,1,1,1,1,1,1,1,1,1,1,1,1,1,1,1,1,1,1,1,1,1,1,1,1,1,1,1,1,1,1,1,1,1,1,1,1,1,1,1,1,1,1,1,1,1,1,1,1,1,1,1,1,1,1,1,1,1,1,1,1,1,1,1,1,1,1,1,1,1,1,1,1,1,1,1,1,1,1,1,1,1,1,1,1,1,1,1,1,1,1,1,1,1,1,1,1,1,1,1,1,1,1,1,1,1,1,1,1,1,1,1,1,1,1,1,1,1,1,1,1,1,1,1,1,1,1,1,1,1,1,1,1,1,1,1,1,1,1,1,1,1,1,1,1,1,1,1,1,1,1,1,1],\"xaxis\":\"x\",\"y\":[0.05431830526887561,0.05431830526887561,0.05431830526887561,0.05431830526887561,0.05431830526887561,0.05431830526887561,0.05431830526887561,0.10863661053775121,0.10863661053775121,0.05431830526887561,0.10863661053775121,0.10863661053775121,0.05431830526887561,0.05431830526887561,0.16295491580662683,0.05431830526887561,0.21727322107550243,0.05431830526887561,0.05431830526887561,0.05431830526887561,0.10863661053775121,0.05431830526887561,0.05431830526887561,0.05431830526887561,0.05431830526887561,0.05431830526887561,0.05431830526887561,0.05431830526887561,0.05431830526887561,0.05431830526887561,0.05431830526887561,0.05431830526887561,0.05431830526887561,0.10863661053775121,0.05431830526887561,0.05431830526887561,0.05431830526887561,0.05431830526887561,0.05431830526887561,0.05431830526887561,0.05431830526887561,0.05431830526887561,0.05431830526887561,0.05431830526887561,0.05431830526887561,0.05431830526887561,0.05431830526887561,0.05431830526887561,0.10863661053775121,0.05431830526887561,0.05431830526887561,0.05431830526887561,0.05431830526887561,0.10863661053775121,0.05431830526887561,0.05431830526887561,0.05431830526887561,0.05431830526887561,0.05431830526887561,0.05431830526887561,0.05431830526887561,0.05431830526887561,0.05431830526887561,0.05431830526887561,0.05431830526887561,0.05431830526887561,0.05431830526887561,0.05431830526887561,0.05431830526887561,0.05431830526887561,0.05431830526887561,0.05431830526887561,0.05431830526887561,0.05431830526887561,0.05431830526887561,0.05431830526887561,0.05431830526887561,0.05431830526887561,0.10863661053775121,0.05431830526887561,0.05431830526887561,0.05431830526887561,0.05431830526887561,0.05431830526887561,0.05431830526887561,0.05431830526887561,0.05431830526887561,0.05431830526887561,0.05431830526887561,0.05431830526887561,0.05431830526887561,0.05431830526887561,0.05431830526887561,0.05431830526887561,0.05431830526887561,0.05431830526887561,0.05431830526887561,0.05431830526887561,0.05431830526887561,0.05431830526887561,0.05431830526887561,0.05431830526887561,0.05431830526887561,0.05431830526887561,0.10863661053775121,0.05431830526887561,0.05431830526887561,0.05431830526887561,0.05431830526887561,0.05431830526887561,0.05431830526887561,0.05431830526887561,0.05431830526887561,0.05431830526887561,0.05431830526887561,0.05431830526887561,0.05431830526887561,0.05431830526887561,0.05431830526887561,0.05431830526887561,0.10863661053775121,0.05431830526887561,0.05431830526887561,0.05431830526887561,0.05431830526887561,0.05431830526887561,0.05431830526887561,0.05431830526887561,0.05431830526887561,0.05431830526887561,0.05431830526887561,0.05431830526887561,0.05431830526887561,0.05431830526887561,0.05431830526887561,0.05431830526887561,0.05431830526887561,0.05431830526887561,0.05431830526887561,0.05431830526887561,0.05431830526887561,0.05431830526887561,0.05431830526887561,0.05431830526887561,0.05431830526887561,0.05431830526887561,0.10863661053775121,0.05431830526887561,0.05431830526887561,0.05431830526887561,0.05431830526887561,0.05431830526887561,0.05431830526887561,0.05431830526887561,0.05431830526887561,0.05431830526887561,0.05431830526887561,0.05431830526887561,0.05431830526887561,0.05431830526887561,0.05431830526887561,0.05431830526887561,0.05431830526887561,0.05431830526887561,0.05431830526887561,0.05431830526887561,0.05431830526887561,0.05431830526887561,0.05431830526887561,0.05431830526887561,0.05431830526887561,0.05431830526887561,0.05431830526887561,0.05431830526887561,0.05431830526887561,0.05431830526887561,0.05431830526887561,0.05431830526887561,0.05431830526887561,0.05431830526887561,0.05431830526887561,0.05431830526887561,0.05431830526887561,0.05431830526887561,0.05431830526887561,0.05431830526887561,0.05431830526887561,0.05431830526887561,0.05431830526887561,0.05431830526887561,0.05431830526887561,0.05431830526887561,0.05431830526887561,0.05431830526887561,0.05431830526887561,0.05431830526887561,0.05431830526887561,0.05431830526887561,0.05431830526887561,0.05431830526887561,0.05431830526887561,0.05431830526887561,0.05431830526887561,0.05431830526887561,0.05431830526887561,0.05431830526887561,0.05431830526887561,0.05431830526887561,0.05431830526887561,0.05431830526887561,0.05431830526887561,0.05431830526887561,0.05431830526887561,0.05431830526887561,0.05431830526887561,0.05431830526887561,0.05431830526887561,0.05431830526887561,0.05431830526887561,0.05431830526887561,0.05431830526887561,0.16295491580662683,0.05431830526887561,0.05431830526887561,0.05431830526887561,0.05431830526887561,0.05431830526887561,0.05431830526887561,0.05431830526887561,0.05431830526887561,0.05431830526887561,0.05431830526887561,0.05431830526887561,0.05431830526887561,0.05431830526887561,0.05431830526887561,0.05431830526887561,0.05431830526887561,0.05431830526887561,0.05431830526887561,0.05431830526887561,0.05431830526887561,0.05431830526887561,0.05431830526887561,0.05431830526887561,0.05431830526887561,0.05431830526887561,0.05431830526887561,0.05431830526887561,0.05431830526887561,0.05431830526887561,0.05431830526887561,0.05431830526887561,0.05431830526887561,0.05431830526887561,0.05431830526887561,0.05431830526887561,0.05431830526887561,0.05431830526887561,0.05431830526887561,0.05431830526887561,0.05431830526887561,0.10863661053775121,0.05431830526887561,0.05431830526887561,0.05431830526887561,0.05431830526887561,0.05431830526887561,0.05431830526887561,0.05431830526887561,0.05431830526887561,0.05431830526887561,0.05431830526887561,0.05431830526887561,0.05431830526887561,0.05431830526887561,0.05431830526887561,0.05431830526887561,0.05431830526887561,0.05431830526887561,0.05431830526887561,0.05431830526887561,0.05431830526887561,0.05431830526887561,0.05431830526887561,0.05431830526887561,0.05431830526887561,0.05431830526887561,0.05431830526887561,0.05431830526887561,0.05431830526887561,0.05431830526887561,0.05431830526887561,0.05431830526887561,0.05431830526887561,0.05431830526887561,0.05431830526887561,0.05431830526887561,0.05431830526887561,0.05431830526887561,0.05431830526887561,0.05431830526887561,0.05431830526887561,0.05431830526887561,0.05431830526887561,0.05431830526887561,0.05431830526887561,0.05431830526887561,0.05431830526887561,0.05431830526887561,0.05431830526887561,0.05431830526887561,0.05431830526887561,0.05431830526887561,0.05431830526887561,0.05431830526887561,0.05431830526887561,0.05431830526887561,0.05431830526887561,0.05431830526887561,0.05431830526887561,0.05431830526887561,0.05431830526887561,0.05431830526887561,0.05431830526887561,0.05431830526887561,0.05431830526887561,0.05431830526887561,0.05431830526887561,0.10863661053775121,0.05431830526887561,0.05431830526887561,0.05431830526887561,0.05431830526887561,0.05431830526887561,0.05431830526887561,0.05431830526887561,0.05431830526887561,0.05431830526887561,0.05431830526887561,0.05431830526887561,0.05431830526887561,0.05431830526887561,0.05431830526887561,0.05431830526887561,0.05431830526887561,0.05431830526887561,0.05431830526887561,0.05431830526887561,0.05431830526887561,0.05431830526887561,0.05431830526887561,0.05431830526887561,0.05431830526887561,0.05431830526887561,0.05431830526887561,0.05431830526887561,0.05431830526887561,0.05431830526887561,0.05431830526887561,0.05431830526887561,0.05431830526887561,0.05431830526887561,0.05431830526887561,0.05431830526887561,0.05431830526887561,0.05431830526887561,0.05431830526887561,0.05431830526887561,0.05431830526887561,0.05431830526887561,0.05431830526887561,0.05431830526887561,0.05431830526887561,0.05431830526887561,0.05431830526887561,0.05431830526887561,0.05431830526887561,0.05431830526887561,0.05431830526887561,0.05431830526887561,0.05431830526887561,0.05431830526887561,0.05431830526887561,0.05431830526887561,0.05431830526887561,0.05431830526887561,0.05431830526887561,0.05431830526887561,0.05431830526887561,0.05431830526887561,0.05431830526887561,0.05431830526887561,0.05431830526887561,0.05431830526887561,0.05431830526887561,0.05431830526887561,0.05431830526887561,0.05431830526887561,0.05431830526887561,0.05431830526887561,0.05431830526887561,0.05431830526887561,0.05431830526887561,0.05431830526887561,0.05431830526887561,0.10863661053775121,0.05431830526887561,0.05431830526887561,0.05431830526887561,0.05431830526887561,0.05431830526887561,0.05431830526887561,0.05431830526887561,0.05431830526887561,0.05431830526887561,0.05431830526887561,0.05431830526887561,0.05431830526887561,0.05431830526887561,0.05431830526887561,0.05431830526887561,0.05431830526887561,0.05431830526887561,0.05431830526887561,0.05431830526887561,0.05431830526887561,0.05431830526887561,0.05431830526887561,0.05431830526887561,0.05431830526887561,0.05431830526887561,0.05431830526887561,0.05431830526887561,0.05431830526887561,0.05431830526887561,0.05431830526887561,0.05431830526887561,0.05431830526887561,0.05431830526887561,0.05431830526887561,0.05431830526887561,0.05431830526887561,0.05431830526887561,0.05431830526887561,0.05431830526887561,0.05431830526887561,0.05431830526887561,0.05431830526887561,0.05431830526887561,0.05431830526887561,0.05431830526887561,0.05431830526887561,0.05431830526887561,0.05431830526887561,0.05431830526887561,0.05431830526887561,0.05431830526887561,0.05431830526887561,0.05431830526887561,0.05431830526887561,0.05431830526887561,0.05431830526887561,0.05431830526887561,0.05431830526887561,0.05431830526887561,0.05431830526887561,0.05431830526887561,0.05431830526887561,0.05431830526887561,0.05431830526887561,0.05431830526887561,0.05431830526887561,0.05431830526887561,0.05431830526887561,0.05431830526887561,0.05431830526887561,0.05431830526887561,0.05431830526887561,0.05431830526887561,0.05431830526887561,0.05431830526887561,0.05431830526887561,0.05431830526887561,0.05431830526887561,0.05431830526887561,0.05431830526887561,0.05431830526887561,0.05431830526887561,0.05431830526887561,0.05431830526887561,0.05431830526887561,0.05431830526887561,0.05431830526887561,0.05431830526887561,0.05431830526887561,0.05431830526887561,0.05431830526887561,0.05431830526887561,0.05431830526887561,0.05431830526887561,0.05431830526887561,0.05431830526887561,0.05431830526887561,0.05431830526887561,0.05431830526887561,0.05431830526887561,0.05431830526887561,0.05431830526887561,0.05431830526887561,0.05431830526887561,0.05431830526887561,0.05431830526887561,0.05431830526887561,0.05431830526887561,0.05431830526887561,0.05431830526887561,0.05431830526887561,0.05431830526887561,0.05431830526887561,0.05431830526887561,0.05431830526887561,0.05431830526887561,0.05431830526887561,0.05431830526887561,0.05431830526887561,0.05431830526887561,0.05431830526887561,0.05431830526887561,0.05431830526887561,0.05431830526887561,0.05431830526887561,0.05431830526887561,0.05431830526887561,0.05431830526887561,0.05431830526887561,0.05431830526887561,0.05431830526887561,0.05431830526887561,0.05431830526887561,0.05431830526887561,0.05431830526887561,0.05431830526887561,0.05431830526887561,0.05431830526887561,0.05431830526887561,0.05431830526887561,0.05431830526887561,0.05431830526887561,0.05431830526887561,0.05431830526887561,0.05431830526887561,0.05431830526887561,0.05431830526887561,0.05431830526887561,0.05431830526887561,0.05431830526887561,0.05431830526887561,0.05431830526887561,0.05431830526887561,0.05431830526887561,0.05431830526887561,0.05431830526887561,0.05431830526887561,0.05431830526887561,0.05431830526887561,0.05431830526887561,0.05431830526887561,0.05431830526887561,0.05431830526887561,0.05431830526887561,0.05431830526887561,0.05431830526887561,0.05431830526887561,0.05431830526887561,0.05431830526887561,0.05431830526887561,0.05431830526887561,0.05431830526887561,0.05431830526887561,0.05431830526887561,0.05431830526887561,0.05431830526887561,0.05431830526887561,0.05431830526887561,0.05431830526887561,0.05431830526887561,0.05431830526887561,0.05431830526887561,0.05431830526887561,0.05431830526887561,0.05431830526887561,0.05431830526887561,0.05431830526887561,0.05431830526887561,0.05431830526887561,0.05431830526887561,0.05431830526887561,0.05431830526887561,0.05431830526887561,0.05431830526887561,0.05431830526887561,0.05431830526887561,0.05431830526887561,0.05431830526887561,0.05431830526887561,0.05431830526887561,0.05431830526887561,0.05431830526887561,0.05431830526887561,0.05431830526887561,0.05431830526887561,0.05431830526887561,0.05431830526887561,0.05431830526887561,0.05431830526887561,0.05431830526887561,0.05431830526887561,0.05431830526887561,0.05431830526887561,0.05431830526887561,0.05431830526887561,0.05431830526887561,0.05431830526887561,0.05431830526887561,0.05431830526887561,0.05431830526887561,0.05431830526887561,0.05431830526887561,0.05431830526887561,0.05431830526887561,0.05431830526887561,0.05431830526887561,0.05431830526887561,0.05431830526887561,0.05431830526887561,0.05431830526887561,0.05431830526887561,0.05431830526887561,0.05431830526887561,0.05431830526887561,0.05431830526887561,0.05431830526887561,0.05431830526887561,0.05431830526887561,0.05431830526887561,0.05431830526887561,0.05431830526887561,0.05431830526887561,0.05431830526887561,0.05431830526887561,0.05431830526887561,0.05431830526887561,0.05431830526887561,0.05431830526887561,0.05431830526887561,0.05431830526887561,0.05431830526887561,0.05431830526887561,0.05431830526887561,0.05431830526887561,0.05431830526887561,0.05431830526887561,0.05431830526887561,0.05431830526887561,0.05431830526887561,0.05431830526887561,0.05431830526887561,0.05431830526887561,0.05431830526887561,0.05431830526887561,0.05431830526887561,0.05431830526887561,0.05431830526887561,0.05431830526887561,0.05431830526887561,0.05431830526887561,0.05431830526887561,0.05431830526887561,0.05431830526887561,0.05431830526887561,0.05431830526887561,0.05431830526887561,0.05431830526887561,0.05431830526887561,0.05431830526887561,0.05431830526887561,0.05431830526887561,0.10863661053775121,0.05431830526887561,0.05431830526887561,0.05431830526887561,0.05431830526887561,0.05431830526887561,0.05431830526887561,0.05431830526887561,0.05431830526887561,0.05431830526887561,0.05431830526887561,0.05431830526887561,0.05431830526887561,0.05431830526887561,0.05431830526887561,0.05431830526887561,0.05431830526887561,0.05431830526887561,0.05431830526887561,0.05431830526887561,0.05431830526887561,0.05431830526887561,0.05431830526887561,0.05431830526887561,0.05431830526887561,0.05431830526887561,0.05431830526887561,0.05431830526887561,0.05431830526887561,0.05431830526887561,0.05431830526887561,0.05431830526887561,0.05431830526887561,0.05431830526887561,0.05431830526887561,0.05431830526887561,0.05431830526887561,0.05431830526887561,0.05431830526887561,0.05431830526887561,0.05431830526887561,0.05431830526887561,0.05431830526887561,0.05431830526887561,0.05431830526887561,0.05431830526887561,0.05431830526887561,0.05431830526887561,0.05431830526887561,0.05431830526887561,0.05431830526887561,0.05431830526887561,0.05431830526887561,0.05431830526887561,0.05431830526887561,0.05431830526887561,0.05431830526887561,0.05431830526887561,0.05431830526887561,0.05431830526887561,0.05431830526887561,0.05431830526887561,0.05431830526887561,0.05431830526887561,0.05431830526887561,0.05431830526887561,0.05431830526887561,0.05431830526887561,0.05431830526887561,0.05431830526887561,0.05431830526887561,0.05431830526887561,0.05431830526887561,0.10863661053775121,0.05431830526887561,0.05431830526887561,0.05431830526887561,0.05431830526887561,0.05431830526887561,0.05431830526887561,0.05431830526887561,0.05431830526887561,0.05431830526887561,0.05431830526887561,0.05431830526887561,0.05431830526887561,0.05431830526887561,0.05431830526887561,0.05431830526887561,0.05431830526887561,0.05431830526887561,0.05431830526887561,0.05431830526887561,0.05431830526887561,0.05431830526887561,0.05431830526887561,0.05431830526887561,0.05431830526887561,0.05431830526887561,0.05431830526887561,0.05431830526887561,0.05431830526887561,0.05431830526887561,0.05431830526887561,0.05431830526887561,0.05431830526887561,0.05431830526887561,0.05431830526887561,0.05431830526887561,0.05431830526887561,0.05431830526887561,0.05431830526887561,0.05431830526887561,0.05431830526887561,0.05431830526887561,0.05431830526887561,0.05431830526887561,0.05431830526887561,0.05431830526887561,0.10863661053775121,0.05431830526887561,0.05431830526887561,0.05431830526887561,0.05431830526887561,0.05431830526887561,0.05431830526887561,0.05431830526887561,0.05431830526887561,0.05431830526887561,0.05431830526887561,0.05431830526887561,0.05431830526887561,0.05431830526887561,0.05431830526887561,0.05431830526887561,0.05431830526887561,0.05431830526887561,0.05431830526887561,0.05431830526887561,0.05431830526887561,0.05431830526887561,0.05431830526887561,0.05431830526887561,0.05431830526887561,0.05431830526887561,0.05431830526887561,0.05431830526887561,0.05431830526887561,0.05431830526887561,0.05431830526887561,0.05431830526887561,0.05431830526887561,0.05431830526887561,0.05431830526887561,0.05431830526887561,0.05431830526887561,0.05431830526887561,0.05431830526887561,0.05431830526887561,0.05431830526887561,0.05431830526887561,0.05431830526887561,0.05431830526887561,0.05431830526887561,0.05431830526887561,0.05431830526887561,0.05431830526887561,0.05431830526887561,0.05431830526887561,0.05431830526887561,0.05431830526887561,0.05431830526887561,0.05431830526887561,0.05431830526887561,0.05431830526887561,0.05431830526887561,0.05431830526887561,0.05431830526887561,0.05431830526887561,0.05431830526887561,0.05431830526887561,0.05431830526887561,0.05431830526887561,0.05431830526887561,0.05431830526887561,0.05431830526887561,0.05431830526887561,0.05431830526887561,0.05431830526887561,0.05431830526887561,0.05431830526887561,0.05431830526887561,0.05431830526887561,0.05431830526887561,0.05431830526887561,0.10863661053775121,0.05431830526887561,0.05431830526887561,0.05431830526887561,0.05431830526887561,0.10863661053775121,0.05431830526887561,0.05431830526887561,0.05431830526887561,0.05431830526887561,0.05431830526887561,0.05431830526887561,0.05431830526887561,0.05431830526887561,0.05431830526887561,0.05431830526887561,0.05431830526887561,0.05431830526887561,0.05431830526887561,0.05431830526887561,0.05431830526887561,0.05431830526887561,0.05431830526887561,0.05431830526887561,0.05431830526887561,0.05431830526887561,0.05431830526887561,0.05431830526887561,0.05431830526887561,0.05431830526887561,0.05431830526887561,0.05431830526887561,0.05431830526887561,0.05431830526887561,0.05431830526887561,0.05431830526887561,0.05431830526887561,0.05431830526887561,0.05431830526887561,0.05431830526887561,0.05431830526887561,0.05431830526887561,0.05431830526887561,0.05431830526887561,0.05431830526887561,0.05431830526887561,0.05431830526887561,0.05431830526887561,0.05431830526887561,0.05431830526887561,0.05431830526887561,0.05431830526887561,0.05431830526887561,0.05431830526887561,0.05431830526887561,0.05431830526887561,0.05431830526887561,0.05431830526887561,0.05431830526887561,0.05431830526887561,0.05431830526887561,0.05431830526887561,0.05431830526887561,0.05431830526887561,0.05431830526887561,0.05431830526887561,0.05431830526887561,0.05431830526887561,0.05431830526887561,0.05431830526887561,0.05431830526887561,0.05431830526887561,0.05431830526887561,0.05431830526887561,0.05431830526887561,0.05431830526887561,0.05431830526887561,0.05431830526887561,0.05431830526887561,0.05431830526887561,0.05431830526887561,0.05431830526887561,0.05431830526887561,0.05431830526887561,0.05431830526887561,0.05431830526887561,0.05431830526887561,0.05431830526887561,0.05431830526887561,0.05431830526887561,0.05431830526887561,0.05431830526887561,0.05431830526887561,0.05431830526887561,0.05431830526887561,0.05431830526887561,0.05431830526887561,0.05431830526887561,0.05431830526887561,0.05431830526887561,0.05431830526887561,0.05431830526887561,0.05431830526887561,0.05431830526887561,0.05431830526887561,0.05431830526887561,0.05431830526887561,0.05431830526887561,0.05431830526887561,0.05431830526887561,0.05431830526887561,0.05431830526887561,0.05431830526887561,0.05431830526887561,0.05431830526887561,0.05431830526887561,0.05431830526887561,0.05431830526887561,0.05431830526887561,0.05431830526887561,0.05431830526887561,0.05431830526887561,0.05431830526887561,0.05431830526887561,0.05431830526887561,0.05431830526887561,0.05431830526887561,0.05431830526887561,0.05431830526887561,0.05431830526887561,0.05431830526887561,0.05431830526887561,0.05431830526887561,0.10863661053775121,0.05431830526887561,0.05431830526887561,0.05431830526887561,0.05431830526887561,0.05431830526887561,0.05431830526887561,0.05431830526887561,0.05431830526887561,0.05431830526887561,0.05431830526887561,0.05431830526887561,0.05431830526887561,0.05431830526887561,0.05431830526887561,0.05431830526887561,0.05431830526887561,0.05431830526887561,0.05431830526887561,0.05431830526887561,0.05431830526887561,0.05431830526887561,0.05431830526887561,0.05431830526887561,0.05431830526887561,0.05431830526887561,0.05431830526887561,0.05431830526887561,0.05431830526887561,0.05431830526887561,0.05431830526887561,0.05431830526887561,0.05431830526887561,0.05431830526887561,0.05431830526887561,0.05431830526887561,0.05431830526887561,0.05431830526887561,0.05431830526887561,0.05431830526887561,0.05431830526887561,0.05431830526887561,0.05431830526887561,0.05431830526887561,0.05431830526887561,0.05431830526887561,0.05431830526887561,0.05431830526887561,0.05431830526887561,0.05431830526887561,0.05431830526887561,0.05431830526887561,0.05431830526887561,0.05431830526887561,0.05431830526887561,0.05431830526887561,0.05431830526887561,0.05431830526887561,0.05431830526887561,0.05431830526887561,0.05431830526887561,0.05431830526887561,0.05431830526887561,0.05431830526887561,0.05431830526887561,0.05431830526887561,0.05431830526887561,0.05431830526887561,0.05431830526887561,0.05431830526887561,0.05431830526887561,0.05431830526887561,0.05431830526887561,0.05431830526887561,0.05431830526887561,0.05431830526887561,0.05431830526887561,0.05431830526887561,0.05431830526887561,0.05431830526887561,0.05431830526887561,0.05431830526887561,0.05431830526887561,0.05431830526887561,0.05431830526887561,0.05431830526887561,0.05431830526887561,0.05431830526887561,0.05431830526887561,0.05431830526887561,0.05431830526887561,0.05431830526887561,0.05431830526887561,0.05431830526887561,0.05431830526887561,0.05431830526887561,0.05431830526887561,0.05431830526887561,0.05431830526887561,0.05431830526887561,0.05431830526887561,0.05431830526887561,0.05431830526887561,0.05431830526887561,0.05431830526887561,0.05431830526887561,0.05431830526887561,0.05431830526887561,0.05431830526887561,0.05431830526887561,0.05431830526887561,0.05431830526887561,0.05431830526887561,0.05431830526887561,0.05431830526887561,0.05431830526887561,0.05431830526887561,0.05431830526887561,0.05431830526887561,0.05431830526887561,0.05431830526887561,0.05431830526887561,0.05431830526887561,0.05431830526887561,0.05431830526887561,0.05431830526887561,0.05431830526887561,0.05431830526887561,0.05431830526887561,0.05431830526887561,0.05431830526887561,0.05431830526887561,0.05431830526887561,0.05431830526887561,0.05431830526887561,0.05431830526887561,0.05431830526887561,0.05431830526887561,0.05431830526887561,0.05431830526887561,0.05431830526887561,0.05431830526887561,0.05431830526887561,0.05431830526887561,0.05431830526887561,0.05431830526887561,0.05431830526887561,0.05431830526887561,0.05431830526887561,0.05431830526887561,0.05431830526887561,0.05431830526887561,0.05431830526887561,0.05431830526887561,0.05431830526887561,0.05431830526887561,0.05431830526887561,0.05431830526887561,0.05431830526887561,0.05431830526887561,0.05431830526887561,0.05431830526887561,0.05431830526887561,0.05431830526887561,0.05431830526887561,0.05431830526887561,0.05431830526887561,0.05431830526887561,0.05431830526887561,0.05431830526887561,0.05431830526887561,0.05431830526887561,0.05431830526887561,0.05431830526887561,0.05431830526887561,0.05431830526887561,0.05431830526887561,0.05431830526887561,0.05431830526887561,0.05431830526887561,0.05431830526887561,0.05431830526887561,0.05431830526887561,0.05431830526887561,0.05431830526887561,0.05431830526887561,0.05431830526887561,0.05431830526887561,0.05431830526887561,0.05431830526887561,0.05431830526887561,0.05431830526887561,0.05431830526887561,0.05431830526887561,0.05431830526887561,0.05431830526887561,0.05431830526887561,0.05431830526887561,0.05431830526887561,0.05431830526887561,0.05431830526887561,0.10863661053775121,0.05431830526887561,0.05431830526887561,0.05431830526887561,0.05431830526887561,0.05431830526887561,0.05431830526887561,0.05431830526887561,0.05431830526887561,0.05431830526887561,0.05431830526887561,0.05431830526887561,0.05431830526887561,0.05431830526887561,0.05431830526887561,0.05431830526887561,0.05431830526887561,0.05431830526887561,0.05431830526887561,0.05431830526887561,0.05431830526887561,0.05431830526887561,0.05431830526887561,0.05431830526887561,0.05431830526887561,0.05431830526887561,0.05431830526887561,0.05431830526887561,0.05431830526887561,0.05431830526887561,0.05431830526887561,0.05431830526887561,0.05431830526887561,0.05431830526887561,0.05431830526887561,0.05431830526887561,0.05431830526887561,0.05431830526887561,0.05431830526887561,0.05431830526887561,0.05431830526887561,0.05431830526887561,0.05431830526887561,0.05431830526887561,0.05431830526887561,0.05431830526887561,0.05431830526887561,0.05431830526887561,0.05431830526887561,0.05431830526887561,0.05431830526887561,0.05431830526887561,0.05431830526887561,0.05431830526887561,0.05431830526887561,0.05431830526887561,0.05431830526887561,0.05431830526887561,0.05431830526887561,0.05431830526887561,0.05431830526887561,0.05431830526887561,0.05431830526887561,0.05431830526887561,0.05431830526887561,0.05431830526887561,0.05431830526887561,0.05431830526887561,0.05431830526887561,0.05431830526887561,0.05431830526887561,0.05431830526887561,0.05431830526887561,0.05431830526887561,0.05431830526887561,0.05431830526887561,0.05431830526887561,0.05431830526887561,0.05431830526887561,0.05431830526887561,0.05431830526887561,0.05431830526887561,0.05431830526887561,0.05431830526887561,0.05431830526887561,0.05431830526887561,0.05431830526887561,0.05431830526887561,0.05431830526887561,0.05431830526887561,0.05431830526887561,0.05431830526887561,0.05431830526887561,0.05431830526887561,0.05431830526887561,0.05431830526887561,0.05431830526887561,0.05431830526887561,0.05431830526887561,0.05431830526887561,0.05431830526887561,0.05431830526887561,0.05431830526887561,0.05431830526887561,0.05431830526887561,0.05431830526887561,0.05431830526887561,0.05431830526887561,0.05431830526887561,0.05431830526887561,0.05431830526887561,0.05431830526887561,0.05431830526887561,0.05431830526887561,0.05431830526887561,0.05431830526887561,0.05431830526887561,0.05431830526887561,0.05431830526887561,0.05431830526887561,0.05431830526887561,0.05431830526887561,0.05431830526887561,0.05431830526887561,0.05431830526887561,0.05431830526887561,0.05431830526887561,0.05431830526887561,0.05431830526887561,0.05431830526887561,0.05431830526887561,0.05431830526887561,0.05431830526887561,0.05431830526887561,0.05431830526887561,0.05431830526887561,0.05431830526887561,0.05431830526887561,0.05431830526887561,0.05431830526887561,0.05431830526887561,0.05431830526887561,0.05431830526887561,0.05431830526887561,0.05431830526887561,0.05431830526887561,0.05431830526887561,0.05431830526887561,0.05431830526887561,0.05431830526887561,0.05431830526887561,0.05431830526887561,0.05431830526887561,0.05431830526887561,0.05431830526887561,0.05431830526887561,0.05431830526887561,0.05431830526887561,0.05431830526887561,0.05431830526887561,0.05431830526887561,0.05431830526887561,0.05431830526887561,0.05431830526887561,0.05431830526887561,0.05431830526887561,0.05431830526887561,0.05431830526887561,0.05431830526887561,0.05431830526887561,0.05431830526887561,0.05431830526887561,0.05431830526887561,0.05431830526887561,0.05431830526887561,0.05431830526887561,0.05431830526887561,0.05431830526887561,0.05431830526887561,0.05431830526887561,0.05431830526887561,0.05431830526887561,0.05431830526887561,0.05431830526887561,0.05431830526887561,0.05431830526887561,0.05431830526887561,0.05431830526887561,0.05431830526887561,0.05431830526887561,0.05431830526887561,0.05431830526887561,0.05431830526887561,0.05431830526887561,0.05431830526887561,0.05431830526887561,0.05431830526887561,0.05431830526887561,0.05431830526887561,0.05431830526887561,0.05431830526887561,0.05431830526887561,0.05431830526887561,0.05431830526887561,0.05431830526887561,0.05431830526887561,0.05431830526887561,0.05431830526887561,0.05431830526887561,0.05431830526887561,0.05431830526887561,0.05431830526887561,0.05431830526887561,0.05431830526887561,0.05431830526887561,0.05431830526887561,0.05431830526887561,0.05431830526887561,0.05431830526887561,0.05431830526887561,0.05431830526887561,0.05431830526887561,0.05431830526887561,0.05431830526887561,0.05431830526887561,0.05431830526887561,0.05431830526887561,0.05431830526887561,0.05431830526887561,0.05431830526887561,0.05431830526887561,0.05431830526887561,0.05431830526887561,0.05431830526887561,0.05431830526887561,0.05431830526887561,0.05431830526887561,0.05431830526887561,0.05431830526887561,0.05431830526887561,0.05431830526887561,0.05431830526887561,0.05431830526887561,0.05431830526887561,0.05431830526887561,0.05431830526887561,0.05431830526887561,0.05431830526887561,0.05431830526887561,0.05431830526887561,0.05431830526887561,0.05431830526887561,0.05431830526887561,0.05431830526887561,0.05431830526887561,0.05431830526887561,0.05431830526887561,0.05431830526887561,0.05431830526887561,0.05431830526887561,0.05431830526887561,0.05431830526887561,0.05431830526887561,0.05431830526887561,0.05431830526887561,0.05431830526887561,0.05431830526887561,0.05431830526887561,0.05431830526887561,0.05431830526887561,0.05431830526887561,0.05431830526887561,0.05431830526887561,0.05431830526887561,0.05431830526887561,0.05431830526887561,0.05431830526887561,0.05431830526887561,0.05431830526887561,0.05431830526887561,0.05431830526887561,0.05431830526887561,0.05431830526887561,0.05431830526887561,0.05431830526887561,0.05431830526887561,0.05431830526887561,0.05431830526887561,0.05431830526887561,0.05431830526887561,0.05431830526887561,0.05431830526887561,0.05431830526887561,0.05431830526887561,0.05431830526887561,0.05431830526887561,0.05431830526887561,0.05431830526887561,0.05431830526887561,0.05431830526887561,0.05431830526887561,0.05431830526887561,0.05431830526887561,0.05431830526887561,0.05431830526887561,0.05431830526887561,0.05431830526887561,0.05431830526887561,0.05431830526887561,0.05431830526887561,0.05431830526887561,0.05431830526887561,0.05431830526887561,0.05431830526887561,0.05431830526887561,0.05431830526887561,0.05431830526887561,0.05431830526887561,0.05431830526887561,0.05431830526887561,0.05431830526887561,0.05431830526887561,0.05431830526887561,0.05431830526887561,0.05431830526887561,0.05431830526887561,0.05431830526887561,0.05431830526887561,0.05431830526887561,0.05431830526887561,0.05431830526887561,0.05431830526887561,0.05431830526887561,0.05431830526887561,0.05431830526887561,0.05431830526887561,0.05431830526887561,0.05431830526887561,0.05431830526887561,0.05431830526887561,0.05431830526887561,0.05431830526887561,0.05431830526887561,0.05431830526887561,0.05431830526887561,0.05431830526887561,0.05431830526887561,0.05431830526887561,0.05431830526887561,0.05431830526887561,0.05431830526887561,0.05431830526887561,0.05431830526887561,0.05431830526887561,0.05431830526887561,0.05431830526887561,0.05431830526887561,0.05431830526887561,0.05431830526887561,0.05431830526887561,0.05431830526887561,0.05431830526887561,0.05431830526887561,0.05431830526887561,0.05431830526887561,0.05431830526887561,0.05431830526887561,0.05431830526887561,0.05431830526887561,0.05431830526887561,0.05431830526887561,0.05431830526887561,0.05431830526887561,0.05431830526887561,0.05431830526887561,0.05431830526887561,0.05431830526887561,0.05431830526887561,0.05431830526887561,0.05431830526887561,0.05431830526887561,0.05431830526887561,0.05431830526887561,0.05431830526887561,0.05431830526887561,0.05431830526887561,0.05431830526887561,0.05431830526887561,0.05431830526887561,0.05431830526887561,0.05431830526887561,0.05431830526887561,0.05431830526887561,0.05431830526887561,0.05431830526887561,0.05431830526887561,0.05431830526887561,0.05431830526887561,0.05431830526887561,0.05431830526887561,0.05431830526887561,0.05431830526887561,0.05431830526887561,0.05431830526887561,0.05431830526887561,0.05431830526887561,0.05431830526887561,0.05431830526887561,0.05431830526887561,0.05431830526887561,0.05431830526887561,0.05431830526887561,0.05431830526887561,0.05431830526887561,0.05431830526887561,0.05431830526887561,0.05431830526887561,0.05431830526887561,0.05431830526887561,0.05431830526887561,0.05431830526887561,0.05431830526887561,0.05431830526887561,0.05431830526887561,0.05431830526887561,0.05431830526887561,0.05431830526887561,0.05431830526887561,0.05431830526887561,0.05431830526887561,0.05431830526887561,0.05431830526887561,0.05431830526887561,0.05431830526887561,0.05431830526887561,0.05431830526887561,0.05431830526887561,0.05431830526887561,0.05431830526887561,0.05431830526887561,0.05431830526887561,0.05431830526887561,0.05431830526887561,0.05431830526887561,0.05431830526887561,0.05431830526887561,0.05431830526887561,0.05431830526887561,0.05431830526887561,0.05431830526887561,0.05431830526887561,0.05431830526887561,0.05431830526887561,0.05431830526887561,0.05431830526887561,0.05431830526887561,0.05431830526887561,0.05431830526887561,0.05431830526887561,0.05431830526887561,0.05431830526887561,0.05431830526887561,0.05431830526887561,0.05431830526887561,0.05431830526887561,0.05431830526887561,0.05431830526887561,0.05431830526887561,0.05431830526887561,0.05431830526887561,0.05431830526887561,0.05431830526887561,0.05431830526887561,0.05431830526887561,0.05431830526887561,0.05431830526887561,0.05431830526887561,0.05431830526887561,0.05431830526887561,0.05431830526887561,0.05431830526887561,0.05431830526887561,0.05431830526887561,0.05431830526887561,0.05431830526887561,0.05431830526887561,0.05431830526887561,0.05431830526887561,0.05431830526887561,0.05431830526887561,0.05431830526887561,0.05431830526887561,0.05431830526887561,0.05431830526887561,0.05431830526887561,0.05431830526887561,0.05431830526887561,0.05431830526887561,0.05431830526887561,0.05431830526887561,0.05431830526887561,0.05431830526887561,0.05431830526887561,0.05431830526887561,0.05431830526887561,0.05431830526887561,0.05431830526887561,0.05431830526887561,0.05431830526887561,0.05431830526887561,0.05431830526887561,0.05431830526887561,0.05431830526887561,0.05431830526887561,0.05431830526887561,0.05431830526887561,0.05431830526887561,0.05431830526887561,0.05431830526887561,0.05431830526887561,0.05431830526887561,0.05431830526887561,0.05431830526887561,0.05431830526887561,0.05431830526887561,0.05431830526887561,0.05431830526887561,0.05431830526887561,0.05431830526887561,0.05431830526887561,0.05431830526887561,0.05431830526887561,0.05431830526887561,0.05431830526887561,0.05431830526887561,0.05431830526887561,0.05431830526887561,0.05431830526887561,0.05431830526887561,0.05431830526887561,0.05431830526887561,0.05431830526887561,0.05431830526887561,0.05431830526887561,0.05431830526887561,0.05431830526887561,0.05431830526887561,0.05431830526887561,0.05431830526887561,0.05431830526887561,0.05431830526887561,0.05431830526887561,0.05431830526887561,0.05431830526887561,0.05431830526887561,0.05431830526887561,0.05431830526887561,0.05431830526887561,0.05431830526887561,0.05431830526887561,0.05431830526887561,0.05431830526887561,0.05431830526887561,0.05431830526887561,0.05431830526887561,0.05431830526887561,0.05431830526887561,0.05431830526887561,0.05431830526887561,0.05431830526887561,0.05431830526887561,0.05431830526887561,0.05431830526887561,0.05431830526887561,0.05431830526887561,0.05431830526887561,0.05431830526887561,0.05431830526887561,0.05431830526887561,0.05431830526887561,0.05431830526887561,0.05431830526887561,0.05431830526887561,0.05431830526887561,0.05431830526887561,0.05431830526887561,0.05431830526887561,0.05431830526887561,0.05431830526887561,0.05431830526887561,0.05431830526887561,0.05431830526887561,0.05431830526887561,0.05431830526887561,0.05431830526887561,0.1545595054095827,0.1545595054095827,0.1545595054095827,0.1545595054095827,0.1545595054095827,0.1545595054095827,0.1545595054095827,0.3091190108191654,0.1545595054095827,0.46367851622874806,0.1545595054095827,0.1545595054095827,0.1545595054095827,0.1545595054095827,0.1545595054095827,0.3091190108191654,0.1545595054095827,0.1545595054095827,0.1545595054095827,0.1545595054095827,0.1545595054095827,0.1545595054095827,0.1545595054095827,0.1545595054095827,0.1545595054095827,0.1545595054095827,0.3091190108191654,0.1545595054095827,0.1545595054095827,0.1545595054095827,0.1545595054095827,0.1545595054095827,0.1545595054095827,0.3091190108191654,0.1545595054095827,0.3091190108191654,0.1545595054095827,0.46367851622874806,0.3091190108191654,0.3091190108191654,0.1545595054095827,0.1545595054095827,0.1545595054095827,0.1545595054095827,0.1545595054095827,0.1545595054095827,0.1545595054095827,0.1545595054095827,0.1545595054095827,0.1545595054095827,0.1545595054095827,0.1545595054095827,0.1545595054095827,0.1545595054095827,0.1545595054095827,0.1545595054095827,0.1545595054095827,0.1545595054095827,0.1545595054095827,0.1545595054095827,0.3091190108191654,0.1545595054095827,0.1545595054095827,0.3091190108191654,0.1545595054095827,0.1545595054095827,0.1545595054095827,0.1545595054095827,0.1545595054095827,0.1545595054095827,0.1545595054095827,0.1545595054095827,0.1545595054095827,0.1545595054095827,0.1545595054095827,0.1545595054095827,0.1545595054095827,0.1545595054095827,0.1545595054095827,0.1545595054095827,0.3091190108191654,0.1545595054095827,0.1545595054095827,0.1545595054095827,0.46367851622874806,0.1545595054095827,0.1545595054095827,0.1545595054095827,0.1545595054095827,0.3091190108191654,0.1545595054095827,0.1545595054095827,0.1545595054095827,0.1545595054095827,0.1545595054095827,0.1545595054095827,0.1545595054095827,0.1545595054095827,0.1545595054095827,0.1545595054095827,0.1545595054095827,0.1545595054095827,0.1545595054095827,0.1545595054095827,0.1545595054095827,0.1545595054095827,0.1545595054095827,0.1545595054095827,0.1545595054095827,0.1545595054095827,0.1545595054095827,0.1545595054095827,0.1545595054095827,0.1545595054095827,0.1545595054095827,0.1545595054095827,0.1545595054095827,0.3091190108191654,0.1545595054095827,0.1545595054095827,0.1545595054095827,0.1545595054095827,0.1545595054095827,0.1545595054095827,0.1545595054095827,0.1545595054095827,0.1545595054095827,0.1545595054095827,0.1545595054095827,0.1545595054095827,0.1545595054095827,0.1545595054095827,0.1545595054095827,0.1545595054095827,0.1545595054095827,0.1545595054095827,0.1545595054095827,0.1545595054095827,0.1545595054095827,0.1545595054095827,0.1545595054095827,0.1545595054095827,0.1545595054095827,0.1545595054095827,0.1545595054095827,0.1545595054095827,0.1545595054095827,0.1545595054095827,0.1545595054095827,0.1545595054095827,0.1545595054095827,0.1545595054095827,0.1545595054095827,0.1545595054095827,0.1545595054095827,0.1545595054095827,0.1545595054095827,0.1545595054095827,0.1545595054095827,0.1545595054095827,0.1545595054095827,0.1545595054095827,0.3091190108191654,0.1545595054095827,0.1545595054095827,0.1545595054095827,0.1545595054095827,0.1545595054095827,0.1545595054095827,0.1545595054095827,0.1545595054095827,0.1545595054095827,0.1545595054095827,0.1545595054095827,0.1545595054095827,0.1545595054095827,0.1545595054095827,0.1545595054095827,0.1545595054095827,0.1545595054095827,0.1545595054095827,0.1545595054095827,0.1545595054095827,0.1545595054095827,0.1545595054095827,0.1545595054095827,0.1545595054095827,0.1545595054095827,0.1545595054095827,0.1545595054095827,0.1545595054095827,0.1545595054095827,0.1545595054095827,0.1545595054095827,0.1545595054095827,0.1545595054095827,0.1545595054095827,0.1545595054095827,0.1545595054095827,0.1545595054095827,0.1545595054095827,0.1545595054095827,0.1545595054095827,0.1545595054095827,0.1545595054095827,0.1545595054095827,0.1545595054095827,0.1545595054095827,0.1545595054095827,0.1545595054095827,0.1545595054095827,0.1545595054095827,0.1545595054095827,0.1545595054095827,0.1545595054095827,0.1545595054095827,0.1545595054095827,0.1545595054095827,0.1545595054095827,0.1545595054095827,0.1545595054095827,0.1545595054095827,0.1545595054095827,0.1545595054095827,0.1545595054095827,0.1545595054095827,0.1545595054095827,0.1545595054095827,0.1545595054095827,0.1545595054095827,0.1545595054095827,0.1545595054095827,0.1545595054095827,0.1545595054095827,0.1545595054095827,0.1545595054095827,0.1545595054095827,0.1545595054095827,0.1545595054095827,0.1545595054095827,0.1545595054095827,0.1545595054095827,0.1545595054095827,0.1545595054095827,0.1545595054095827,0.1545595054095827,0.1545595054095827,0.1545595054095827,0.1545595054095827,0.1545595054095827,0.1545595054095827,0.1545595054095827,0.1545595054095827,0.1545595054095827,0.1545595054095827,0.1545595054095827,0.1545595054095827,0.1545595054095827,0.1545595054095827,0.1545595054095827,0.1545595054095827,0.1545595054095827,0.1545595054095827,0.1545595054095827,0.1545595054095827,0.1545595054095827,0.1545595054095827,0.1545595054095827,0.1545595054095827,0.1545595054095827,0.1545595054095827,0.1545595054095827,0.1545595054095827,0.1545595054095827,0.1545595054095827,0.1545595054095827,0.1545595054095827,0.1545595054095827,0.1545595054095827,0.1545595054095827,0.1545595054095827,0.1545595054095827,0.1545595054095827,0.1545595054095827,0.1545595054095827,0.1545595054095827,0.1545595054095827,0.1545595054095827,0.1545595054095827,0.1545595054095827,0.1545595054095827,0.1545595054095827,0.1545595054095827,0.1545595054095827,0.1545595054095827,0.1545595054095827,0.1545595054095827,0.1545595054095827,0.1545595054095827,0.1545595054095827,0.1545595054095827,0.1545595054095827,0.1545595054095827,0.1545595054095827,0.1545595054095827,0.1545595054095827,0.1545595054095827,0.1545595054095827,0.1545595054095827,0.1545595054095827,0.1545595054095827,0.1545595054095827,0.1545595054095827,0.1545595054095827,0.1545595054095827,0.1545595054095827,0.1545595054095827,0.1545595054095827,0.1545595054095827,0.1545595054095827,0.1545595054095827,0.1545595054095827,0.1545595054095827,0.1545595054095827,0.1545595054095827,0.1545595054095827,0.1545595054095827,0.1545595054095827,0.1545595054095827,0.1545595054095827,0.1545595054095827,0.1545595054095827,0.1545595054095827,0.1545595054095827,0.1545595054095827,0.1545595054095827,0.1545595054095827,0.1545595054095827,0.1545595054095827,0.1545595054095827,0.1545595054095827,0.1545595054095827,0.1545595054095827,0.1545595054095827,0.1545595054095827,0.1545595054095827,0.1545595054095827,0.1545595054095827,0.1545595054095827,0.1545595054095827,0.1545595054095827,0.1545595054095827,0.1545595054095827,0.1545595054095827,0.1545595054095827,0.1545595054095827,0.1545595054095827,0.1545595054095827,0.1545595054095827,0.1545595054095827,0.1545595054095827,0.1545595054095827,0.1545595054095827,0.1545595054095827,0.1545595054095827,0.1545595054095827,0.1545595054095827,0.1545595054095827,0.1545595054095827,0.1545595054095827,0.1545595054095827,0.1545595054095827,0.1545595054095827,0.1545595054095827,0.1545595054095827,0.1545595054095827,0.1545595054095827,0.1545595054095827,0.1545595054095827,0.1545595054095827,0.1545595054095827,0.1545595054095827,0.1545595054095827,0.1545595054095827,0.1545595054095827,0.1545595054095827,0.1545595054095827,0.1545595054095827,0.1545595054095827,0.1545595054095827,0.1545595054095827,0.1545595054095827,0.1545595054095827,0.1545595054095827,0.1545595054095827,0.1545595054095827,0.1545595054095827,0.1545595054095827,0.1545595054095827,0.1545595054095827,0.1545595054095827,0.1545595054095827,0.1545595054095827,0.1545595054095827,0.1545595054095827,0.1545595054095827,0.1545595054095827,0.1545595054095827,0.1545595054095827,0.1545595054095827,0.1545595054095827,0.1545595054095827,0.1545595054095827,0.1545595054095827,0.1545595054095827,0.1545595054095827,0.1545595054095827,0.1545595054095827,0.1545595054095827,0.1545595054095827,0.1545595054095827,0.1545595054095827,0.1545595054095827,0.1545595054095827,0.1545595054095827,0.1545595054095827,0.1545595054095827,0.1545595054095827,0.1545595054095827,0.1545595054095827,0.1545595054095827,0.1545595054095827,0.1545595054095827,0.1545595054095827,0.1545595054095827,0.1545595054095827,0.1545595054095827,0.1545595054095827,0.1545595054095827,0.1545595054095827,0.1545595054095827,0.1545595054095827,0.1545595054095827,0.1545595054095827,0.1545595054095827,0.1545595054095827,0.1545595054095827,0.1545595054095827,0.1545595054095827,0.1545595054095827,0.1545595054095827,0.1545595054095827,0.1545595054095827,0.1545595054095827,0.1545595054095827,0.1545595054095827,0.1545595054095827,0.1545595054095827,0.1545595054095827,0.1545595054095827,0.1545595054095827,0.1545595054095827,0.1545595054095827,0.1545595054095827,0.1545595054095827,0.1545595054095827,0.1545595054095827,0.1545595054095827,0.1545595054095827,0.1545595054095827,0.1545595054095827,0.1545595054095827,0.1545595054095827,0.1545595054095827,0.1545595054095827,0.1545595054095827,0.1545595054095827,0.1545595054095827,0.1545595054095827,0.1545595054095827,0.1545595054095827,0.1545595054095827,0.1545595054095827,0.1545595054095827,0.1545595054095827,0.1545595054095827,0.1545595054095827,0.1545595054095827,0.1545595054095827,0.1545595054095827,0.1545595054095827,0.1545595054095827,0.1545595054095827,0.1545595054095827,0.1545595054095827,0.1545595054095827,0.1545595054095827,0.1545595054095827,0.1545595054095827,0.1545595054095827,0.1545595054095827,0.1545595054095827,0.1545595054095827,0.1545595054095827,0.1545595054095827,0.1545595054095827,0.1545595054095827,0.1545595054095827,0.1545595054095827,0.1545595054095827,0.1545595054095827,0.1545595054095827,0.1545595054095827,0.1545595054095827,0.1545595054095827,0.1545595054095827,0.1545595054095827,0.1545595054095827,0.1545595054095827,0.1545595054095827,0.1545595054095827,0.1545595054095827,0.1545595054095827,0.1545595054095827,0.1545595054095827,0.1545595054095827,0.1545595054095827,0.1545595054095827,0.1545595054095827,0.1545595054095827,0.1545595054095827,0.1545595054095827,0.1545595054095827,0.1545595054095827,0.1545595054095827,0.1545595054095827,0.1545595054095827,0.1545595054095827,0.1545595054095827,0.1545595054095827,0.1545595054095827,0.1545595054095827,0.1545595054095827,0.1545595054095827,0.1545595054095827,0.1545595054095827,0.1545595054095827,0.1545595054095827,0.1545595054095827,0.1545595054095827,0.1545595054095827,0.1545595054095827,0.1545595054095827,0.1545595054095827,0.1545595054095827,0.1545595054095827,0.1545595054095827,0.1545595054095827,0.1545595054095827,0.1545595054095827,0.1545595054095827,0.1545595054095827,0.1545595054095827,0.1545595054095827,0.1545595054095827,0.1545595054095827,0.1545595054095827,0.1545595054095827,0.1545595054095827,0.1545595054095827,0.1545595054095827,0.1545595054095827,0.1545595054095827,0.1545595054095827,0.1545595054095827,0.1545595054095827,0.1545595054095827,0.1545595054095827,0.1545595054095827,0.1545595054095827,0.1545595054095827,0.1545595054095827,0.1545595054095827,0.1545595054095827,0.1545595054095827,0.1545595054095827,0.1545595054095827,0.1545595054095827,0.1545595054095827,0.1545595054095827,0.1545595054095827,0.1545595054095827,0.1545595054095827,0.1545595054095827,0.1545595054095827,0.1545595054095827,0.1545595054095827,0.1545595054095827,0.1545595054095827,0.1545595054095827,0.1545595054095827,0.1545595054095827,0.1545595054095827,0.1545595054095827,0.1545595054095827,0.1545595054095827,0.1545595054095827,0.1545595054095827,0.1545595054095827,0.1545595054095827,0.1545595054095827,0.1545595054095827,0.1545595054095827,0.1545595054095827,0.1545595054095827,0.1545595054095827,0.1545595054095827,0.1545595054095827,0.1545595054095827,0.1545595054095827,0.1545595054095827,0.1545595054095827,0.1545595054095827,0.1545595054095827,0.1545595054095827,0.1545595054095827,0.1545595054095827,0.1545595054095827],\"yaxis\":\"y\",\"type\":\"bar\"}],                        {\"template\":{\"data\":{\"histogram2dcontour\":[{\"type\":\"histogram2dcontour\",\"colorbar\":{\"outlinewidth\":0,\"ticks\":\"\"},\"colorscale\":[[0.0,\"#0d0887\"],[0.1111111111111111,\"#46039f\"],[0.2222222222222222,\"#7201a8\"],[0.3333333333333333,\"#9c179e\"],[0.4444444444444444,\"#bd3786\"],[0.5555555555555556,\"#d8576b\"],[0.6666666666666666,\"#ed7953\"],[0.7777777777777778,\"#fb9f3a\"],[0.8888888888888888,\"#fdca26\"],[1.0,\"#f0f921\"]]}],\"choropleth\":[{\"type\":\"choropleth\",\"colorbar\":{\"outlinewidth\":0,\"ticks\":\"\"}}],\"histogram2d\":[{\"type\":\"histogram2d\",\"colorbar\":{\"outlinewidth\":0,\"ticks\":\"\"},\"colorscale\":[[0.0,\"#0d0887\"],[0.1111111111111111,\"#46039f\"],[0.2222222222222222,\"#7201a8\"],[0.3333333333333333,\"#9c179e\"],[0.4444444444444444,\"#bd3786\"],[0.5555555555555556,\"#d8576b\"],[0.6666666666666666,\"#ed7953\"],[0.7777777777777778,\"#fb9f3a\"],[0.8888888888888888,\"#fdca26\"],[1.0,\"#f0f921\"]]}],\"heatmap\":[{\"type\":\"heatmap\",\"colorbar\":{\"outlinewidth\":0,\"ticks\":\"\"},\"colorscale\":[[0.0,\"#0d0887\"],[0.1111111111111111,\"#46039f\"],[0.2222222222222222,\"#7201a8\"],[0.3333333333333333,\"#9c179e\"],[0.4444444444444444,\"#bd3786\"],[0.5555555555555556,\"#d8576b\"],[0.6666666666666666,\"#ed7953\"],[0.7777777777777778,\"#fb9f3a\"],[0.8888888888888888,\"#fdca26\"],[1.0,\"#f0f921\"]]}],\"heatmapgl\":[{\"type\":\"heatmapgl\",\"colorbar\":{\"outlinewidth\":0,\"ticks\":\"\"},\"colorscale\":[[0.0,\"#0d0887\"],[0.1111111111111111,\"#46039f\"],[0.2222222222222222,\"#7201a8\"],[0.3333333333333333,\"#9c179e\"],[0.4444444444444444,\"#bd3786\"],[0.5555555555555556,\"#d8576b\"],[0.6666666666666666,\"#ed7953\"],[0.7777777777777778,\"#fb9f3a\"],[0.8888888888888888,\"#fdca26\"],[1.0,\"#f0f921\"]]}],\"contourcarpet\":[{\"type\":\"contourcarpet\",\"colorbar\":{\"outlinewidth\":0,\"ticks\":\"\"}}],\"contour\":[{\"type\":\"contour\",\"colorbar\":{\"outlinewidth\":0,\"ticks\":\"\"},\"colorscale\":[[0.0,\"#0d0887\"],[0.1111111111111111,\"#46039f\"],[0.2222222222222222,\"#7201a8\"],[0.3333333333333333,\"#9c179e\"],[0.4444444444444444,\"#bd3786\"],[0.5555555555555556,\"#d8576b\"],[0.6666666666666666,\"#ed7953\"],[0.7777777777777778,\"#fb9f3a\"],[0.8888888888888888,\"#fdca26\"],[1.0,\"#f0f921\"]]}],\"surface\":[{\"type\":\"surface\",\"colorbar\":{\"outlinewidth\":0,\"ticks\":\"\"},\"colorscale\":[[0.0,\"#0d0887\"],[0.1111111111111111,\"#46039f\"],[0.2222222222222222,\"#7201a8\"],[0.3333333333333333,\"#9c179e\"],[0.4444444444444444,\"#bd3786\"],[0.5555555555555556,\"#d8576b\"],[0.6666666666666666,\"#ed7953\"],[0.7777777777777778,\"#fb9f3a\"],[0.8888888888888888,\"#fdca26\"],[1.0,\"#f0f921\"]]}],\"mesh3d\":[{\"type\":\"mesh3d\",\"colorbar\":{\"outlinewidth\":0,\"ticks\":\"\"}}],\"scatter\":[{\"fillpattern\":{\"fillmode\":\"overlay\",\"size\":10,\"solidity\":0.2},\"type\":\"scatter\"}],\"parcoords\":[{\"type\":\"parcoords\",\"line\":{\"colorbar\":{\"outlinewidth\":0,\"ticks\":\"\"}}}],\"scatterpolargl\":[{\"type\":\"scatterpolargl\",\"marker\":{\"colorbar\":{\"outlinewidth\":0,\"ticks\":\"\"}}}],\"bar\":[{\"error_x\":{\"color\":\"#2a3f5f\"},\"error_y\":{\"color\":\"#2a3f5f\"},\"marker\":{\"line\":{\"color\":\"#E5ECF6\",\"width\":0.5},\"pattern\":{\"fillmode\":\"overlay\",\"size\":10,\"solidity\":0.2}},\"type\":\"bar\"}],\"scattergeo\":[{\"type\":\"scattergeo\",\"marker\":{\"colorbar\":{\"outlinewidth\":0,\"ticks\":\"\"}}}],\"scatterpolar\":[{\"type\":\"scatterpolar\",\"marker\":{\"colorbar\":{\"outlinewidth\":0,\"ticks\":\"\"}}}],\"histogram\":[{\"marker\":{\"pattern\":{\"fillmode\":\"overlay\",\"size\":10,\"solidity\":0.2}},\"type\":\"histogram\"}],\"scattergl\":[{\"type\":\"scattergl\",\"marker\":{\"colorbar\":{\"outlinewidth\":0,\"ticks\":\"\"}}}],\"scatter3d\":[{\"type\":\"scatter3d\",\"line\":{\"colorbar\":{\"outlinewidth\":0,\"ticks\":\"\"}},\"marker\":{\"colorbar\":{\"outlinewidth\":0,\"ticks\":\"\"}}}],\"scattermapbox\":[{\"type\":\"scattermapbox\",\"marker\":{\"colorbar\":{\"outlinewidth\":0,\"ticks\":\"\"}}}],\"scatterternary\":[{\"type\":\"scatterternary\",\"marker\":{\"colorbar\":{\"outlinewidth\":0,\"ticks\":\"\"}}}],\"scattercarpet\":[{\"type\":\"scattercarpet\",\"marker\":{\"colorbar\":{\"outlinewidth\":0,\"ticks\":\"\"}}}],\"carpet\":[{\"aaxis\":{\"endlinecolor\":\"#2a3f5f\",\"gridcolor\":\"white\",\"linecolor\":\"white\",\"minorgridcolor\":\"white\",\"startlinecolor\":\"#2a3f5f\"},\"baxis\":{\"endlinecolor\":\"#2a3f5f\",\"gridcolor\":\"white\",\"linecolor\":\"white\",\"minorgridcolor\":\"white\",\"startlinecolor\":\"#2a3f5f\"},\"type\":\"carpet\"}],\"table\":[{\"cells\":{\"fill\":{\"color\":\"#EBF0F8\"},\"line\":{\"color\":\"white\"}},\"header\":{\"fill\":{\"color\":\"#C8D4E3\"},\"line\":{\"color\":\"white\"}},\"type\":\"table\"}],\"barpolar\":[{\"marker\":{\"line\":{\"color\":\"#E5ECF6\",\"width\":0.5},\"pattern\":{\"fillmode\":\"overlay\",\"size\":10,\"solidity\":0.2}},\"type\":\"barpolar\"}],\"pie\":[{\"automargin\":true,\"type\":\"pie\"}]},\"layout\":{\"autotypenumbers\":\"strict\",\"colorway\":[\"#636efa\",\"#EF553B\",\"#00cc96\",\"#ab63fa\",\"#FFA15A\",\"#19d3f3\",\"#FF6692\",\"#B6E880\",\"#FF97FF\",\"#FECB52\"],\"font\":{\"color\":\"#2a3f5f\"},\"hovermode\":\"closest\",\"hoverlabel\":{\"align\":\"left\"},\"paper_bgcolor\":\"white\",\"plot_bgcolor\":\"#E5ECF6\",\"polar\":{\"bgcolor\":\"#E5ECF6\",\"angularaxis\":{\"gridcolor\":\"white\",\"linecolor\":\"white\",\"ticks\":\"\"},\"radialaxis\":{\"gridcolor\":\"white\",\"linecolor\":\"white\",\"ticks\":\"\"}},\"ternary\":{\"bgcolor\":\"#E5ECF6\",\"aaxis\":{\"gridcolor\":\"white\",\"linecolor\":\"white\",\"ticks\":\"\"},\"baxis\":{\"gridcolor\":\"white\",\"linecolor\":\"white\",\"ticks\":\"\"},\"caxis\":{\"gridcolor\":\"white\",\"linecolor\":\"white\",\"ticks\":\"\"}},\"coloraxis\":{\"colorbar\":{\"outlinewidth\":0,\"ticks\":\"\"}},\"colorscale\":{\"sequential\":[[0.0,\"#0d0887\"],[0.1111111111111111,\"#46039f\"],[0.2222222222222222,\"#7201a8\"],[0.3333333333333333,\"#9c179e\"],[0.4444444444444444,\"#bd3786\"],[0.5555555555555556,\"#d8576b\"],[0.6666666666666666,\"#ed7953\"],[0.7777777777777778,\"#fb9f3a\"],[0.8888888888888888,\"#fdca26\"],[1.0,\"#f0f921\"]],\"sequentialminus\":[[0.0,\"#0d0887\"],[0.1111111111111111,\"#46039f\"],[0.2222222222222222,\"#7201a8\"],[0.3333333333333333,\"#9c179e\"],[0.4444444444444444,\"#bd3786\"],[0.5555555555555556,\"#d8576b\"],[0.6666666666666666,\"#ed7953\"],[0.7777777777777778,\"#fb9f3a\"],[0.8888888888888888,\"#fdca26\"],[1.0,\"#f0f921\"]],\"diverging\":[[0,\"#8e0152\"],[0.1,\"#c51b7d\"],[0.2,\"#de77ae\"],[0.3,\"#f1b6da\"],[0.4,\"#fde0ef\"],[0.5,\"#f7f7f7\"],[0.6,\"#e6f5d0\"],[0.7,\"#b8e186\"],[0.8,\"#7fbc41\"],[0.9,\"#4d9221\"],[1,\"#276419\"]]},\"xaxis\":{\"gridcolor\":\"white\",\"linecolor\":\"white\",\"ticks\":\"\",\"title\":{\"standoff\":15},\"zerolinecolor\":\"white\",\"automargin\":true,\"zerolinewidth\":2},\"yaxis\":{\"gridcolor\":\"white\",\"linecolor\":\"white\",\"ticks\":\"\",\"title\":{\"standoff\":15},\"zerolinecolor\":\"white\",\"automargin\":true,\"zerolinewidth\":2},\"scene\":{\"xaxis\":{\"backgroundcolor\":\"#E5ECF6\",\"gridcolor\":\"white\",\"linecolor\":\"white\",\"showbackground\":true,\"ticks\":\"\",\"zerolinecolor\":\"white\",\"gridwidth\":2},\"yaxis\":{\"backgroundcolor\":\"#E5ECF6\",\"gridcolor\":\"white\",\"linecolor\":\"white\",\"showbackground\":true,\"ticks\":\"\",\"zerolinecolor\":\"white\",\"gridwidth\":2},\"zaxis\":{\"backgroundcolor\":\"#E5ECF6\",\"gridcolor\":\"white\",\"linecolor\":\"white\",\"showbackground\":true,\"ticks\":\"\",\"zerolinecolor\":\"white\",\"gridwidth\":2}},\"shapedefaults\":{\"line\":{\"color\":\"#2a3f5f\"}},\"annotationdefaults\":{\"arrowcolor\":\"#2a3f5f\",\"arrowhead\":0,\"arrowwidth\":1},\"geo\":{\"bgcolor\":\"white\",\"landcolor\":\"#E5ECF6\",\"subunitcolor\":\"white\",\"showland\":true,\"showlakes\":true,\"lakecolor\":\"white\"},\"title\":{\"x\":0.05},\"mapbox\":{\"style\":\"light\"}}},\"xaxis\":{\"anchor\":\"y\",\"domain\":[0.0,1.0],\"title\":{\"text\":\"churn\"}},\"yaxis\":{\"anchor\":\"x\",\"domain\":[0.0,1.0],\"title\":{\"text\":\"Porcentagem\"}},\"coloraxis\":{\"colorbar\":{\"title\":{\"text\":\"total_pago\"}},\"colorscale\":[[0.0,\"#0d0887\"],[0.1111111111111111,\"#46039f\"],[0.2222222222222222,\"#7201a8\"],[0.3333333333333333,\"#9c179e\"],[0.4444444444444444,\"#bd3786\"],[0.5555555555555556,\"#d8576b\"],[0.6666666666666666,\"#ed7953\"],[0.7777777777777778,\"#fb9f3a\"],[0.8888888888888888,\"#fdca26\"],[1.0,\"#f0f921\"]]},\"legend\":{\"tracegroupgap\":0,\"title\":{\"text\":\"total_pago\"}},\"margin\":{\"t\":60},\"barmode\":\"stack\",\"title\":{\"text\":\"Relação entre Churn e total_pago\"}},                        {\"responsive\": true}                    ).then(function(){\n",
              "                            \n",
              "var gd = document.getElementById('bafeba25-ec55-40c0-9106-5d33e74d834e');\n",
              "var x = new MutationObserver(function (mutations, observer) {{\n",
              "        var display = window.getComputedStyle(gd).display;\n",
              "        if (!display || display === 'none') {{\n",
              "            console.log([gd, 'removed!']);\n",
              "            Plotly.purge(gd);\n",
              "            observer.disconnect();\n",
              "        }}\n",
              "}});\n",
              "\n",
              "// Listen for the removal of the full notebook cells\n",
              "var notebookContainer = gd.closest('#notebook-container');\n",
              "if (notebookContainer) {{\n",
              "    x.observe(notebookContainer, {childList: true});\n",
              "}}\n",
              "\n",
              "// Listen for the clearing of the current output cell\n",
              "var outputEl = gd.closest('.output');\n",
              "if (outputEl) {{\n",
              "    x.observe(outputEl, {childList: true});\n",
              "}}\n",
              "\n",
              "                        })                };                            </script>        </div>\n",
              "</body>\n",
              "</html>"
            ]
          },
          "metadata": {}
        }
      ]
    },
    {
      "cell_type": "code",
      "source": [
        "# Calcular a porcentagem de cada categoria\n",
        "df_grouped = df.groupby(['churn', 'Idoso']).size().reset_index(name='count')\n",
        "total_por_churn = df_grouped.groupby('churn')['count'].transform('sum')\n",
        "df_grouped['percent'] = (df_grouped['count'] / total_por_churn) * 100\n",
        "\n",
        "# Cria gráfico de barras empilhadas\n",
        "fig = px.bar(df_grouped, x='churn', y='percent', color='Idoso', barmode='stack',\n",
        "             labels={'Churn': 'Churn', 'percent': 'Porcentagem', 'Idoso': 'Idoso'})\n",
        "\n",
        "fig.update_layout(title='Relação entre Churn e Idoso',\n",
        "                  yaxis_title='Porcentagem',\n",
        "                  legend_title='Idoso')\n",
        "fig.show()"
      ],
      "metadata": {
        "colab": {
          "base_uri": "https://localhost:8080/",
          "height": 542
        },
        "id": "767FqDM_TCaQ",
        "outputId": "29d7ebd9-dd04-4aaf-8843-0a1cf70e1b3d"
      },
      "execution_count": 64,
      "outputs": [
        {
          "output_type": "display_data",
          "data": {
            "text/html": [
              "<html>\n",
              "<head><meta charset=\"utf-8\" /></head>\n",
              "<body>\n",
              "    <div>            <script src=\"https://cdnjs.cloudflare.com/ajax/libs/mathjax/2.7.5/MathJax.js?config=TeX-AMS-MML_SVG\"></script><script type=\"text/javascript\">if (window.MathJax && window.MathJax.Hub && window.MathJax.Hub.Config) {window.MathJax.Hub.Config({SVG: {font: \"STIX-Web\"}});}</script>                <script type=\"text/javascript\">window.PlotlyConfig = {MathJaxConfig: 'local'};</script>\n",
              "        <script charset=\"utf-8\" src=\"https://cdn.plot.ly/plotly-2.35.2.min.js\"></script>                <div id=\"0b42c73b-721d-45e0-82f7-bc1e95b39c7a\" class=\"plotly-graph-div\" style=\"height:525px; width:100%;\"></div>            <script type=\"text/javascript\">                                    window.PLOTLYENV=window.PLOTLYENV || {};                                    if (document.getElementById(\"0b42c73b-721d-45e0-82f7-bc1e95b39c7a\")) {                    Plotly.newPlot(                        \"0b42c73b-721d-45e0-82f7-bc1e95b39c7a\",                        [{\"alignmentgroup\":\"True\",\"hovertemplate\":\"churn=%{x}\\u003cbr\\u003ePorcentagem=%{y}\\u003cbr\\u003eIdoso=%{marker.color}\\u003cextra\\u003e\\u003c\\u002fextra\\u003e\",\"legendgroup\":\"\",\"marker\":{\"color\":[0,1,0,1],\"coloraxis\":\"coloraxis\",\"pattern\":{\"shape\":\"\"}},\"name\":\"\",\"offsetgroup\":\"\",\"orientation\":\"v\",\"showlegend\":false,\"textposition\":\"auto\",\"x\":[0,0,1,1],\"xaxis\":\"x\",\"y\":[86.6376969038566,13.3623030961434,75.8887171561051,24.111282843894898],\"yaxis\":\"y\",\"type\":\"bar\"}],                        {\"template\":{\"data\":{\"histogram2dcontour\":[{\"type\":\"histogram2dcontour\",\"colorbar\":{\"outlinewidth\":0,\"ticks\":\"\"},\"colorscale\":[[0.0,\"#0d0887\"],[0.1111111111111111,\"#46039f\"],[0.2222222222222222,\"#7201a8\"],[0.3333333333333333,\"#9c179e\"],[0.4444444444444444,\"#bd3786\"],[0.5555555555555556,\"#d8576b\"],[0.6666666666666666,\"#ed7953\"],[0.7777777777777778,\"#fb9f3a\"],[0.8888888888888888,\"#fdca26\"],[1.0,\"#f0f921\"]]}],\"choropleth\":[{\"type\":\"choropleth\",\"colorbar\":{\"outlinewidth\":0,\"ticks\":\"\"}}],\"histogram2d\":[{\"type\":\"histogram2d\",\"colorbar\":{\"outlinewidth\":0,\"ticks\":\"\"},\"colorscale\":[[0.0,\"#0d0887\"],[0.1111111111111111,\"#46039f\"],[0.2222222222222222,\"#7201a8\"],[0.3333333333333333,\"#9c179e\"],[0.4444444444444444,\"#bd3786\"],[0.5555555555555556,\"#d8576b\"],[0.6666666666666666,\"#ed7953\"],[0.7777777777777778,\"#fb9f3a\"],[0.8888888888888888,\"#fdca26\"],[1.0,\"#f0f921\"]]}],\"heatmap\":[{\"type\":\"heatmap\",\"colorbar\":{\"outlinewidth\":0,\"ticks\":\"\"},\"colorscale\":[[0.0,\"#0d0887\"],[0.1111111111111111,\"#46039f\"],[0.2222222222222222,\"#7201a8\"],[0.3333333333333333,\"#9c179e\"],[0.4444444444444444,\"#bd3786\"],[0.5555555555555556,\"#d8576b\"],[0.6666666666666666,\"#ed7953\"],[0.7777777777777778,\"#fb9f3a\"],[0.8888888888888888,\"#fdca26\"],[1.0,\"#f0f921\"]]}],\"heatmapgl\":[{\"type\":\"heatmapgl\",\"colorbar\":{\"outlinewidth\":0,\"ticks\":\"\"},\"colorscale\":[[0.0,\"#0d0887\"],[0.1111111111111111,\"#46039f\"],[0.2222222222222222,\"#7201a8\"],[0.3333333333333333,\"#9c179e\"],[0.4444444444444444,\"#bd3786\"],[0.5555555555555556,\"#d8576b\"],[0.6666666666666666,\"#ed7953\"],[0.7777777777777778,\"#fb9f3a\"],[0.8888888888888888,\"#fdca26\"],[1.0,\"#f0f921\"]]}],\"contourcarpet\":[{\"type\":\"contourcarpet\",\"colorbar\":{\"outlinewidth\":0,\"ticks\":\"\"}}],\"contour\":[{\"type\":\"contour\",\"colorbar\":{\"outlinewidth\":0,\"ticks\":\"\"},\"colorscale\":[[0.0,\"#0d0887\"],[0.1111111111111111,\"#46039f\"],[0.2222222222222222,\"#7201a8\"],[0.3333333333333333,\"#9c179e\"],[0.4444444444444444,\"#bd3786\"],[0.5555555555555556,\"#d8576b\"],[0.6666666666666666,\"#ed7953\"],[0.7777777777777778,\"#fb9f3a\"],[0.8888888888888888,\"#fdca26\"],[1.0,\"#f0f921\"]]}],\"surface\":[{\"type\":\"surface\",\"colorbar\":{\"outlinewidth\":0,\"ticks\":\"\"},\"colorscale\":[[0.0,\"#0d0887\"],[0.1111111111111111,\"#46039f\"],[0.2222222222222222,\"#7201a8\"],[0.3333333333333333,\"#9c179e\"],[0.4444444444444444,\"#bd3786\"],[0.5555555555555556,\"#d8576b\"],[0.6666666666666666,\"#ed7953\"],[0.7777777777777778,\"#fb9f3a\"],[0.8888888888888888,\"#fdca26\"],[1.0,\"#f0f921\"]]}],\"mesh3d\":[{\"type\":\"mesh3d\",\"colorbar\":{\"outlinewidth\":0,\"ticks\":\"\"}}],\"scatter\":[{\"fillpattern\":{\"fillmode\":\"overlay\",\"size\":10,\"solidity\":0.2},\"type\":\"scatter\"}],\"parcoords\":[{\"type\":\"parcoords\",\"line\":{\"colorbar\":{\"outlinewidth\":0,\"ticks\":\"\"}}}],\"scatterpolargl\":[{\"type\":\"scatterpolargl\",\"marker\":{\"colorbar\":{\"outlinewidth\":0,\"ticks\":\"\"}}}],\"bar\":[{\"error_x\":{\"color\":\"#2a3f5f\"},\"error_y\":{\"color\":\"#2a3f5f\"},\"marker\":{\"line\":{\"color\":\"#E5ECF6\",\"width\":0.5},\"pattern\":{\"fillmode\":\"overlay\",\"size\":10,\"solidity\":0.2}},\"type\":\"bar\"}],\"scattergeo\":[{\"type\":\"scattergeo\",\"marker\":{\"colorbar\":{\"outlinewidth\":0,\"ticks\":\"\"}}}],\"scatterpolar\":[{\"type\":\"scatterpolar\",\"marker\":{\"colorbar\":{\"outlinewidth\":0,\"ticks\":\"\"}}}],\"histogram\":[{\"marker\":{\"pattern\":{\"fillmode\":\"overlay\",\"size\":10,\"solidity\":0.2}},\"type\":\"histogram\"}],\"scattergl\":[{\"type\":\"scattergl\",\"marker\":{\"colorbar\":{\"outlinewidth\":0,\"ticks\":\"\"}}}],\"scatter3d\":[{\"type\":\"scatter3d\",\"line\":{\"colorbar\":{\"outlinewidth\":0,\"ticks\":\"\"}},\"marker\":{\"colorbar\":{\"outlinewidth\":0,\"ticks\":\"\"}}}],\"scattermapbox\":[{\"type\":\"scattermapbox\",\"marker\":{\"colorbar\":{\"outlinewidth\":0,\"ticks\":\"\"}}}],\"scatterternary\":[{\"type\":\"scatterternary\",\"marker\":{\"colorbar\":{\"outlinewidth\":0,\"ticks\":\"\"}}}],\"scattercarpet\":[{\"type\":\"scattercarpet\",\"marker\":{\"colorbar\":{\"outlinewidth\":0,\"ticks\":\"\"}}}],\"carpet\":[{\"aaxis\":{\"endlinecolor\":\"#2a3f5f\",\"gridcolor\":\"white\",\"linecolor\":\"white\",\"minorgridcolor\":\"white\",\"startlinecolor\":\"#2a3f5f\"},\"baxis\":{\"endlinecolor\":\"#2a3f5f\",\"gridcolor\":\"white\",\"linecolor\":\"white\",\"minorgridcolor\":\"white\",\"startlinecolor\":\"#2a3f5f\"},\"type\":\"carpet\"}],\"table\":[{\"cells\":{\"fill\":{\"color\":\"#EBF0F8\"},\"line\":{\"color\":\"white\"}},\"header\":{\"fill\":{\"color\":\"#C8D4E3\"},\"line\":{\"color\":\"white\"}},\"type\":\"table\"}],\"barpolar\":[{\"marker\":{\"line\":{\"color\":\"#E5ECF6\",\"width\":0.5},\"pattern\":{\"fillmode\":\"overlay\",\"size\":10,\"solidity\":0.2}},\"type\":\"barpolar\"}],\"pie\":[{\"automargin\":true,\"type\":\"pie\"}]},\"layout\":{\"autotypenumbers\":\"strict\",\"colorway\":[\"#636efa\",\"#EF553B\",\"#00cc96\",\"#ab63fa\",\"#FFA15A\",\"#19d3f3\",\"#FF6692\",\"#B6E880\",\"#FF97FF\",\"#FECB52\"],\"font\":{\"color\":\"#2a3f5f\"},\"hovermode\":\"closest\",\"hoverlabel\":{\"align\":\"left\"},\"paper_bgcolor\":\"white\",\"plot_bgcolor\":\"#E5ECF6\",\"polar\":{\"bgcolor\":\"#E5ECF6\",\"angularaxis\":{\"gridcolor\":\"white\",\"linecolor\":\"white\",\"ticks\":\"\"},\"radialaxis\":{\"gridcolor\":\"white\",\"linecolor\":\"white\",\"ticks\":\"\"}},\"ternary\":{\"bgcolor\":\"#E5ECF6\",\"aaxis\":{\"gridcolor\":\"white\",\"linecolor\":\"white\",\"ticks\":\"\"},\"baxis\":{\"gridcolor\":\"white\",\"linecolor\":\"white\",\"ticks\":\"\"},\"caxis\":{\"gridcolor\":\"white\",\"linecolor\":\"white\",\"ticks\":\"\"}},\"coloraxis\":{\"colorbar\":{\"outlinewidth\":0,\"ticks\":\"\"}},\"colorscale\":{\"sequential\":[[0.0,\"#0d0887\"],[0.1111111111111111,\"#46039f\"],[0.2222222222222222,\"#7201a8\"],[0.3333333333333333,\"#9c179e\"],[0.4444444444444444,\"#bd3786\"],[0.5555555555555556,\"#d8576b\"],[0.6666666666666666,\"#ed7953\"],[0.7777777777777778,\"#fb9f3a\"],[0.8888888888888888,\"#fdca26\"],[1.0,\"#f0f921\"]],\"sequentialminus\":[[0.0,\"#0d0887\"],[0.1111111111111111,\"#46039f\"],[0.2222222222222222,\"#7201a8\"],[0.3333333333333333,\"#9c179e\"],[0.4444444444444444,\"#bd3786\"],[0.5555555555555556,\"#d8576b\"],[0.6666666666666666,\"#ed7953\"],[0.7777777777777778,\"#fb9f3a\"],[0.8888888888888888,\"#fdca26\"],[1.0,\"#f0f921\"]],\"diverging\":[[0,\"#8e0152\"],[0.1,\"#c51b7d\"],[0.2,\"#de77ae\"],[0.3,\"#f1b6da\"],[0.4,\"#fde0ef\"],[0.5,\"#f7f7f7\"],[0.6,\"#e6f5d0\"],[0.7,\"#b8e186\"],[0.8,\"#7fbc41\"],[0.9,\"#4d9221\"],[1,\"#276419\"]]},\"xaxis\":{\"gridcolor\":\"white\",\"linecolor\":\"white\",\"ticks\":\"\",\"title\":{\"standoff\":15},\"zerolinecolor\":\"white\",\"automargin\":true,\"zerolinewidth\":2},\"yaxis\":{\"gridcolor\":\"white\",\"linecolor\":\"white\",\"ticks\":\"\",\"title\":{\"standoff\":15},\"zerolinecolor\":\"white\",\"automargin\":true,\"zerolinewidth\":2},\"scene\":{\"xaxis\":{\"backgroundcolor\":\"#E5ECF6\",\"gridcolor\":\"white\",\"linecolor\":\"white\",\"showbackground\":true,\"ticks\":\"\",\"zerolinecolor\":\"white\",\"gridwidth\":2},\"yaxis\":{\"backgroundcolor\":\"#E5ECF6\",\"gridcolor\":\"white\",\"linecolor\":\"white\",\"showbackground\":true,\"ticks\":\"\",\"zerolinecolor\":\"white\",\"gridwidth\":2},\"zaxis\":{\"backgroundcolor\":\"#E5ECF6\",\"gridcolor\":\"white\",\"linecolor\":\"white\",\"showbackground\":true,\"ticks\":\"\",\"zerolinecolor\":\"white\",\"gridwidth\":2}},\"shapedefaults\":{\"line\":{\"color\":\"#2a3f5f\"}},\"annotationdefaults\":{\"arrowcolor\":\"#2a3f5f\",\"arrowhead\":0,\"arrowwidth\":1},\"geo\":{\"bgcolor\":\"white\",\"landcolor\":\"#E5ECF6\",\"subunitcolor\":\"white\",\"showland\":true,\"showlakes\":true,\"lakecolor\":\"white\"},\"title\":{\"x\":0.05},\"mapbox\":{\"style\":\"light\"}}},\"xaxis\":{\"anchor\":\"y\",\"domain\":[0.0,1.0],\"title\":{\"text\":\"churn\"}},\"yaxis\":{\"anchor\":\"x\",\"domain\":[0.0,1.0],\"title\":{\"text\":\"Porcentagem\"}},\"coloraxis\":{\"colorbar\":{\"title\":{\"text\":\"Idoso\"}},\"colorscale\":[[0.0,\"#0d0887\"],[0.1111111111111111,\"#46039f\"],[0.2222222222222222,\"#7201a8\"],[0.3333333333333333,\"#9c179e\"],[0.4444444444444444,\"#bd3786\"],[0.5555555555555556,\"#d8576b\"],[0.6666666666666666,\"#ed7953\"],[0.7777777777777778,\"#fb9f3a\"],[0.8888888888888888,\"#fdca26\"],[1.0,\"#f0f921\"]]},\"legend\":{\"tracegroupgap\":0,\"title\":{\"text\":\"Idoso\"}},\"margin\":{\"t\":60},\"barmode\":\"stack\",\"title\":{\"text\":\"Relação entre Churn e Idoso\"}},                        {\"responsive\": true}                    ).then(function(){\n",
              "                            \n",
              "var gd = document.getElementById('0b42c73b-721d-45e0-82f7-bc1e95b39c7a');\n",
              "var x = new MutationObserver(function (mutations, observer) {{\n",
              "        var display = window.getComputedStyle(gd).display;\n",
              "        if (!display || display === 'none') {{\n",
              "            console.log([gd, 'removed!']);\n",
              "            Plotly.purge(gd);\n",
              "            observer.disconnect();\n",
              "        }}\n",
              "}});\n",
              "\n",
              "// Listen for the removal of the full notebook cells\n",
              "var notebookContainer = gd.closest('#notebook-container');\n",
              "if (notebookContainer) {{\n",
              "    x.observe(notebookContainer, {childList: true});\n",
              "}}\n",
              "\n",
              "// Listen for the clearing of the current output cell\n",
              "var outputEl = gd.closest('.output');\n",
              "if (outputEl) {{\n",
              "    x.observe(outputEl, {childList: true});\n",
              "}}\n",
              "\n",
              "                        })                };                            </script>        </div>\n",
              "</body>\n",
              "</html>"
            ]
          },
          "metadata": {}
        }
      ]
    },
    {
      "cell_type": "markdown",
      "source": [
        "A maioria dos Idosos são não Churn, 75% dos clientes não idosos dão Churn."
      ],
      "metadata": {
        "id": "mtQxgxTCaXJ8"
      }
    },
    {
      "cell_type": "markdown",
      "source": [
        "**Quais variáveis você acredita serem as mais importantes para esse projetos relacionadas a variável Churn?**\n",
        "\n",
        "\n",
        "*   Tipo_Contrato: Com essa variavel foi possivel analisar que Clientes que possuem o plano mensal são os mais propicios a dar churn, com média de 90%.\n",
        "*   casado: Foi identificado que clientes casados são menos propicios a dar churn. Com média de 63% para não casados e 36% para os casados.\n",
        "*   Idosos: Na analise a maioria dos Idosos são não Churn, 75% dos clientes não idosos dão Churn.\n",
        "*   genero: por ultimo e não menos importante que as outras variaveis, foi possivel analisar que Os homens tem uma proporção um pouco maior com 51% de não churn e as mulheres com 47% de não churn.\n",
        "\n",
        "\n",
        "\n",
        "\n",
        "\n",
        "\n",
        "\n",
        "\n"
      ],
      "metadata": {
        "id": "BKqQGRYvdjvt"
      }
    }
  ]
}